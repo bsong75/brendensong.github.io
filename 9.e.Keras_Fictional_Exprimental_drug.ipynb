{
  "nbformat": 4,
  "nbformat_minor": 0,
  "metadata": {
    "colab": {
      "name": "9.b.Keras_Fictional_Exprimental drug.ipynb",
      "provenance": [],
      "collapsed_sections": [],
      "authorship_tag": "ABX9TyN2euV8yX/hZ8XC0H5VOPtQ",
      "include_colab_link": true
    },
    "kernelspec": {
      "name": "python3",
      "display_name": "Python 3"
    },
    "accelerator": "GPU"
  },
  "cells": [
    {
      "cell_type": "markdown",
      "metadata": {
        "id": "view-in-github",
        "colab_type": "text"
      },
      "source": [
        "<a href=\"https://colab.research.google.com/github/bsong75/brendensong.github.io/blob/main/9_b_Keras_Fictional_Exprimental_drug.ipynb\" target=\"_parent\"><img src=\"https://colab.research.google.com/assets/colab-badge.svg\" alt=\"Open In Colab\"/></a>"
      ]
    },
    {
      "cell_type": "code",
      "metadata": {
        "id": "AeuBOTc9L4dD"
      },
      "source": [
        "import numpy as np\r\n",
        "from random import randint\r\n",
        "from sklearn.utils import shuffle\r\n",
        "from sklearn.preprocessing import MinMaxScaler"
      ],
      "execution_count": 58,
      "outputs": []
    },
    {
      "cell_type": "code",
      "metadata": {
        "id": "kF88NL0eNSgP"
      },
      "source": [
        "train_labels=[]\r\n",
        "train_samples=[]\r\n"
      ],
      "execution_count": 59,
      "outputs": []
    },
    {
      "cell_type": "code",
      "metadata": {
        "id": "j5vl84DiNXte"
      },
      "source": [
        "# 1. Randomly generate observations and labels\r\n",
        "# with side-effect: 1,  without side-effect: 0\r\n",
        "\r\n",
        "for i in range(100):\r\n",
        "    # The younger individuals who did experience side effects\r\n",
        "    random_younger= randint(13,64)\r\n",
        "    train_samples.append(random_younger)\r\n",
        "    train_labels.append(1)\r\n",
        "\r\n",
        "    #Old who did not expereince side effects\r\n",
        "    random_older= randint(65,100)\r\n",
        "    train_samples.append(random_older)\r\n",
        "    train_labels.append(0)\r\n",
        "\r\n",
        "for i in range(20000):\r\n",
        "    #95% of younger did not have side effects\r\n",
        "    random_younger=randint(16,64)\r\n",
        "    train_samples.append(random_younger)\r\n",
        "    train_labels.append(0)\r\n",
        "\r\n",
        "    random_older=randint(65,100)\r\n",
        "    train_samples.append(random_older)\r\n",
        "    train_labels.append(1)\r\n"
      ],
      "execution_count": 60,
      "outputs": []
    },
    {
      "cell_type": "code",
      "metadata": {
        "colab": {
          "base_uri": "https://localhost:8080/"
        },
        "id": "ob5S2E4KPHBg",
        "outputId": "83de997c-bd11-49f5-e5c1-8e558343e1c1"
      },
      "source": [
        "print(len(train_labels), len(train_samples))\r\n"
      ],
      "execution_count": 61,
      "outputs": [
        {
          "output_type": "stream",
          "text": [
            "40200 40200\n"
          ],
          "name": "stdout"
        }
      ]
    },
    {
      "cell_type": "code",
      "metadata": {
        "id": "zx9cLLyxPWWP"
      },
      "source": [
        "# 2. Transform list to np.arrays and scale\r\n",
        "\r\n",
        "train_labels=np.array(train_labels)\r\n",
        "train_samples=np.array(train_samples)\r\n",
        "train_labels, train_samples = shuffle(train_labels, train_samples)\r\n",
        "scaler=MinMaxScaler(feature_range=(0,1))\r\n",
        "scaled_train_samples=scaler.fit_transform(train_samples.reshape(-1,1))\r\n"
      ],
      "execution_count": 62,
      "outputs": []
    },
    {
      "cell_type": "code",
      "metadata": {
        "id": "T14lIHkwuFCZ"
      },
      "source": [
        "\r\n",
        "\r\n"
      ],
      "execution_count": 13,
      "outputs": []
    },
    {
      "cell_type": "code",
      "metadata": {
        "colab": {
          "base_uri": "https://localhost:8080/"
        },
        "id": "rVz02kBOuE6t",
        "outputId": "45464b26-fc7c-41f5-edb2-6bbb40315bee"
      },
      "source": [
        "#check to make sure it is the right type\r\n",
        "type(scaled_train_samples)"
      ],
      "execution_count": 63,
      "outputs": [
        {
          "output_type": "execute_result",
          "data": {
            "text/plain": [
              "numpy.ndarray"
            ]
          },
          "metadata": {
            "tags": []
          },
          "execution_count": 63
        }
      ]
    },
    {
      "cell_type": "code",
      "metadata": {
        "colab": {
          "base_uri": "https://localhost:8080/"
        },
        "id": "08-BL924uEth",
        "outputId": "b4f5f102-3e4e-4bd2-d928-b068aaf19c86"
      },
      "source": [
        "#check to make sure it is in the right format\r\n",
        "scaled_train_samples"
      ],
      "execution_count": 64,
      "outputs": [
        {
          "output_type": "execute_result",
          "data": {
            "text/plain": [
              "array([[0.31034483],\n",
              "       [0.71264368],\n",
              "       [0.35632184],\n",
              "       ...,\n",
              "       [0.10344828],\n",
              "       [0.49425287],\n",
              "       [0.27586207]])"
            ]
          },
          "metadata": {
            "tags": []
          },
          "execution_count": 64
        }
      ]
    },
    {
      "cell_type": "code",
      "metadata": {
        "id": "9UaB6Pkyw0NS"
      },
      "source": [
        "#2. Build the model\r\n",
        "import tensorflow as tf\r\n",
        "from tensorflow import keras\r\n",
        "from tensorflow.keras.models import Sequential\r\n",
        "from tensorflow.keras.layers import Activation, Dense\r\n",
        "from tensorflow.keras.optimizers import Adam\r\n",
        "from tensorflow.keras.metrics import categorical_crossentropy"
      ],
      "execution_count": 65,
      "outputs": []
    },
    {
      "cell_type": "code",
      "metadata": {
        "colab": {
          "base_uri": "https://localhost:8080/"
        },
        "id": "bK7f-bISzJgu",
        "outputId": "f25d6963-4ef6-4142-b871-aba98c170386"
      },
      "source": [
        "physical_device = tf.config.experimental.list_physical_devices('GPU')\r\n",
        "print(\"Num GPUs Available: \", len(physical_device))\r\n",
        "tf.config.experimental.set_memory_growth(physical_device[0], True)\r\n"
      ],
      "execution_count": 66,
      "outputs": [
        {
          "output_type": "stream",
          "text": [
            "Num GPUs Available:  1\n"
          ],
          "name": "stdout"
        }
      ]
    },
    {
      "cell_type": "code",
      "metadata": {
        "id": "pFmW-nhYznZ_"
      },
      "source": [
        "model=Sequential([\r\n",
        "    Dense(16, input_shape=(1,), activation='relu'),\r\n",
        "    Dense(32, activation='relu'),\r\n",
        "    Dense(2, activation='softmax')                  \r\n",
        "])"
      ],
      "execution_count": 67,
      "outputs": []
    },
    {
      "cell_type": "code",
      "metadata": {
        "colab": {
          "base_uri": "https://localhost:8080/"
        },
        "id": "H0xWlmRb1Ild",
        "outputId": "867368da-5068-4e8a-f600-e42c346769ec"
      },
      "source": [
        "model.summary()"
      ],
      "execution_count": 68,
      "outputs": [
        {
          "output_type": "stream",
          "text": [
            "Model: \"sequential_1\"\n",
            "_________________________________________________________________\n",
            "Layer (type)                 Output Shape              Param #   \n",
            "=================================================================\n",
            "dense_3 (Dense)              (None, 16)                32        \n",
            "_________________________________________________________________\n",
            "dense_4 (Dense)              (None, 32)                544       \n",
            "_________________________________________________________________\n",
            "dense_5 (Dense)              (None, 2)                 66        \n",
            "=================================================================\n",
            "Total params: 642\n",
            "Trainable params: 642\n",
            "Non-trainable params: 0\n",
            "_________________________________________________________________\n"
          ],
          "name": "stdout"
        }
      ]
    },
    {
      "cell_type": "code",
      "metadata": {
        "id": "aQMPxLVd1Iza"
      },
      "source": [
        "model.compile(optimizer=Adam(learning_rate=0.0001), \r\n",
        "              loss='sparse_categorical_crossentropy', \r\n",
        "              metrics=['accuracy'])"
      ],
      "execution_count": 69,
      "outputs": []
    },
    {
      "cell_type": "code",
      "metadata": {
        "colab": {
          "base_uri": "https://localhost:8080/"
        },
        "id": "eQ3P2OgQ1I3n",
        "outputId": "7780d3b3-f4c8-4a0f-8d70-45d5cfa3682c"
      },
      "source": [
        "# 3. train the model--validation set 0.1  --shuffle=True\r\n",
        "model.fit(x=scaled_train_samples, y=train_labels, validation_split=0.1, batch_size=10, epochs=5, verbose=2)"
      ],
      "execution_count": 71,
      "outputs": [
        {
          "output_type": "stream",
          "text": [
            "Epoch 1/5\n",
            "3618/3618 - 6s - loss: 0.0486 - accuracy: 0.9950 - val_loss: 0.0533 - val_accuracy: 0.9950\n",
            "Epoch 2/5\n",
            "3618/3618 - 6s - loss: 0.0478 - accuracy: 0.9950 - val_loss: 0.0526 - val_accuracy: 0.9950\n",
            "Epoch 3/5\n",
            "3618/3618 - 6s - loss: 0.0470 - accuracy: 0.9949 - val_loss: 0.0513 - val_accuracy: 0.9950\n",
            "Epoch 4/5\n",
            "3618/3618 - 6s - loss: 0.0461 - accuracy: 0.9950 - val_loss: 0.0507 - val_accuracy: 0.9950\n",
            "Epoch 5/5\n",
            "3618/3618 - 6s - loss: 0.0454 - accuracy: 0.9950 - val_loss: 0.0494 - val_accuracy: 0.9950\n"
          ],
          "name": "stdout"
        },
        {
          "output_type": "execute_result",
          "data": {
            "text/plain": [
              "<tensorflow.python.keras.callbacks.History at 0x7fc8a9949748>"
            ]
          },
          "metadata": {
            "tags": []
          },
          "execution_count": 71
        }
      ]
    },
    {
      "cell_type": "markdown",
      "metadata": {
        "id": "X9VQLO6oE777"
      },
      "source": [
        "## PREDICTION: THE MODEL ON THE NEW TESTSET"
      ]
    },
    {
      "cell_type": "code",
      "metadata": {
        "id": "dpID3ek_4pKu"
      },
      "source": [
        "#test on the new dataset\r\n",
        "#1. create the test set.\r\n",
        "\r\n",
        "test_labels=[]\r\n",
        "test_samples=[]\r\n",
        "\r\n",
        "for i in range(1000):\r\n",
        "    # The younger individuals who did experience side effects\r\n",
        "    random_younger= randint(13,64)\r\n",
        "    test_samples.append(random_younger)\r\n",
        "    test_labels.append(1)\r\n",
        "\r\n",
        "    #Old who did not expereince side effects\r\n",
        "    random_older= randint(65,100)\r\n",
        "    test_samples.append(random_older)\r\n",
        "    test_labels.append(0)\r\n",
        "\r\n",
        "for i in range(20000):\r\n",
        "    #95% of younger did not have side effects\r\n",
        "    random_younger=randint(16,64)\r\n",
        "    test_samples.append(random_younger)\r\n",
        "    test_labels.append(0)\r\n",
        "\r\n",
        "    random_older=randint(65,100)\r\n",
        "    test_samples.append(random_older)\r\n",
        "    test_labels.append(1)\r\n"
      ],
      "execution_count": 72,
      "outputs": []
    },
    {
      "cell_type": "code",
      "metadata": {
        "id": "ZYgOwXea7IUQ"
      },
      "source": [
        "# 2. Transform list to np.arrays and scale\r\n",
        "\r\n",
        "test_labels=np.array(test_labels)\r\n",
        "test_samples=np.array(test_samples)\r\n",
        "test_labels, test_samples = shuffle(test_labels, test_samples)\r\n"
      ],
      "execution_count": 73,
      "outputs": []
    },
    {
      "cell_type": "code",
      "metadata": {
        "id": "zz_x9zZq8HF5"
      },
      "source": [
        "scaler=MinMaxScaler(feature_range=(0,1))\r\n",
        "scaled_test_samples=scaler.fit_transform(test_samples.reshape(-1,1))"
      ],
      "execution_count": 74,
      "outputs": []
    },
    {
      "cell_type": "code",
      "metadata": {
        "colab": {
          "base_uri": "https://localhost:8080/"
        },
        "id": "EJc-UqOS7IPm",
        "outputId": "081d350b-16ce-475f-d031-6eef4e10d33c"
      },
      "source": [
        "print(type(test_labels), type(test_samples))"
      ],
      "execution_count": 75,
      "outputs": [
        {
          "output_type": "stream",
          "text": [
            "<class 'numpy.ndarray'> <class 'numpy.ndarray'>\n"
          ],
          "name": "stdout"
        }
      ]
    },
    {
      "cell_type": "code",
      "metadata": {
        "colab": {
          "base_uri": "https://localhost:8080/"
        },
        "id": "Gsy_h_rq7H7N",
        "outputId": "e01cedd2-a45b-479c-e8be-8768282d17df"
      },
      "source": [
        "len(scaled_test_samples)"
      ],
      "execution_count": 77,
      "outputs": [
        {
          "output_type": "execute_result",
          "data": {
            "text/plain": [
              "42000"
            ]
          },
          "metadata": {
            "tags": []
          },
          "execution_count": 77
        }
      ]
    },
    {
      "cell_type": "code",
      "metadata": {
        "id": "PH60Czde7oKS"
      },
      "source": [
        "#Run the model on the predictions"
      ],
      "execution_count": 78,
      "outputs": []
    },
    {
      "cell_type": "code",
      "metadata": {
        "id": "lFOzUtZi8WtI"
      },
      "source": [
        "predictions=model.predict(x=scaled_test_samples, batch_size=10)"
      ],
      "execution_count": 79,
      "outputs": []
    },
    {
      "cell_type": "code",
      "metadata": {
        "id": "izXusnCm8Wjd"
      },
      "source": [
        "for i in predictions:\r\n",
        "    print(i)"
      ],
      "execution_count": null,
      "outputs": []
    },
    {
      "cell_type": "code",
      "metadata": {
        "id": "mQJl-X808WUk"
      },
      "source": [
        "rounded_predictions=np.argmax(predictions, axis=-1)"
      ],
      "execution_count": 81,
      "outputs": []
    },
    {
      "cell_type": "code",
      "metadata": {
        "colab": {
          "base_uri": "https://localhost:8080/"
        },
        "id": "Jp6vsWSN9eUN",
        "outputId": "d0e6f9f1-565e-40ff-8585-c1b58cd09a23"
      },
      "source": [
        "val_loss2, val_acc2=model.evaluate(scaled_test_samples, test_labels)\r\n",
        "print(val_loss2, val_acc2)"
      ],
      "execution_count": 82,
      "outputs": [
        {
          "output_type": "stream",
          "text": [
            "1313/1313 [==============================] - 3s 2ms/step - loss: 0.2944 - accuracy: 0.9524\n",
            "0.29440081119537354 0.9523809552192688\n"
          ],
          "name": "stdout"
        }
      ]
    },
    {
      "cell_type": "code",
      "metadata": {
        "id": "2msYuQcr96Mh"
      },
      "source": [
        "#Confusion Matrix\r\n",
        "%matplotlib inline\r\n",
        "from sklearn.metrics import confusion_matrix\r\n",
        "import itertools\r\n",
        "import matplotlib.pyplot as plt\r\n"
      ],
      "execution_count": 83,
      "outputs": []
    },
    {
      "cell_type": "code",
      "metadata": {
        "id": "AN20srnB-Wsd"
      },
      "source": [
        "cm=confusion_matrix(y_true=test_labels, y_pred=rounded_predictions)"
      ],
      "execution_count": 84,
      "outputs": []
    },
    {
      "cell_type": "code",
      "metadata": {
        "id": "WFwcwU_a-xBs"
      },
      "source": [
        "#copied from scikiLearn library for cofusion matrix\r\n",
        "\r\n",
        "def plot_confusion_matrix(cm, classes, \r\n",
        "                          normalize=False, \r\n",
        "                          title='Confusion Matrix',\r\n",
        "                          cmap=plt.cm.Blues):\r\n",
        "    plt.imshow(cm, interpolation='nearest', cmap=cmap)\r\n",
        "    plt.title(title)\r\n",
        "    plt.colorbar()\r\n",
        "    tick_marks=np.arange(len(classes))\r\n",
        "    plt.xticks(tick_marks, classes, rotation=45)\r\n",
        "    plt.yticks(tick_marks, classes)\r\n",
        "\r\n",
        "    if normalize:\r\n",
        "        cm = cm.astype('float')/cm.sum(axis=1)[:, npnewaxis]\r\n",
        "        print(\"Normalized confusion maxtrix\")\r\n",
        "    else:\r\n",
        "        print('Confusion Matrix, without normalization')\r\n",
        "    print(cm)\r\n",
        "\r\n",
        "    thresh=cm.max()/2\r\n",
        "    for i, j in itertools.product(range(cm.shape[0]), range(cm.shape[1])):\r\n",
        "        plt.text(j, i, cm[i,j], \r\n",
        "                   horizontalalignment='center',\r\n",
        "                   color='white' if cm[i,j] > thresh else \"black\")\r\n",
        "    plt.tight_layout()\r\n",
        "    plt.ylabel('True label')\r\n",
        "    plt.xlabel('Predicted label')\r\n",
        "    "
      ],
      "execution_count": 55,
      "outputs": []
    },
    {
      "cell_type": "code",
      "metadata": {
        "colab": {
          "base_uri": "https://localhost:8080/",
          "height": 362
        },
        "id": "JjlWE5-O-xS7",
        "outputId": "aadf1b32-1970-4b39-a6b7-c966ee3bdc4b"
      },
      "source": [
        "cm_plot_labels=['no_side_effects', 'had_side_effects']\r\n",
        "plot_confusion_matrix(cm=cm, classes=cm_plot_labels, title='Confusion Matrix')"
      ],
      "execution_count": 85,
      "outputs": [
        {
          "output_type": "stream",
          "text": [
            "Confusion Matrix, without normalization\n",
            "[[20000  1000]\n",
            " [ 1000 20000]]\n"
          ],
          "name": "stdout"
        },
        {
          "output_type": "display_data",
          "data": {
            "image/png": "[encoded data removed]",
            "text/plain": [
              "<Figure size 432x288 with 2 Axes>"
            ]
          },
          "metadata": {
            "tags": [],
            "needs_background": "light"
          }
        }
      ]
    },
    {
      "cell_type": "code",
      "metadata": {
        "id": "Kt7JA84T-xfE"
      },
      "source": [
        ""
      ],
      "execution_count": null,
      "outputs": []
    }
  ]
}
