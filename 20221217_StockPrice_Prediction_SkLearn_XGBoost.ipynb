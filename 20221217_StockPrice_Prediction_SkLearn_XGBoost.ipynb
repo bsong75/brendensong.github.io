{
  "cells": [
    {
      "cell_type": "markdown",
      "metadata": {
        "id": "MHrtvqC3WqoX"
      },
      "source": [
        "# Forex predictions using Machine Learning\n",
        "# Loading and preparing data"
      ]
    },
    {
      "cell_type": "code",
      "execution_count": 3,
      "metadata": {
        "scrolled": true,
        "colab": {
          "base_uri": "https://localhost:8080/",
          "height": 206
        },
        "id": "LML3tdl8Wqoa",
        "outputId": "21750e75-9419-44d7-8cd6-650cd4fc6d8d"
      },
      "outputs": [
        {
          "output_type": "execute_result",
          "data": {
            "text/plain": [
              "                      Gmt time     open     high      low    close    volume\n",
              "28855  15.10.2021 01:00:00.000  1.15940  1.16120  1.15938  1.16082   5738.63\n",
              "28856  15.10.2021 05:00:00.000  1.16082  1.16189  1.15995  1.16034  13149.66\n",
              "28857  15.10.2021 09:00:00.000  1.16033  1.16124  1.15892  1.15923  14914.33\n",
              "28858  15.10.2021 13:00:00.000  1.15923  1.16103  1.15893  1.15953  20002.53\n",
              "28859  15.10.2021 17:00:00.000  1.15952  1.16060  1.15933  1.16040   5620.05"
            ],
            "text/html": [
              "\n",
              "  <div id=\"df-1d1f9c74-4808-4a04-b61d-b7f08e6d35fc\">\n",
              "    <div class=\"colab-df-container\">\n",
              "      <div>\n",
              "<style scoped>\n",
              "    .dataframe tbody tr th:only-of-type {\n",
              "        vertical-align: middle;\n",
              "    }\n",
              "\n",
              "    .dataframe tbody tr th {\n",
              "        vertical-align: top;\n",
              "    }\n",
              "\n",
              "    .dataframe thead th {\n",
              "        text-align: right;\n",
              "    }\n",
              "</style>\n",
              "<table border=\"1\" class=\"dataframe\">\n",
              "  <thead>\n",
              "    <tr style=\"text-align: right;\">\n",
              "      <th></th>\n",
              "      <th>Gmt time</th>\n",
              "      <th>open</th>\n",
              "      <th>high</th>\n",
              "      <th>low</th>\n",
              "      <th>close</th>\n",
              "      <th>volume</th>\n",
              "    </tr>\n",
              "  </thead>\n",
              "  <tbody>\n",
              "    <tr>\n",
              "      <th>28855</th>\n",
              "      <td>15.10.2021 01:00:00.000</td>\n",
              "      <td>1.15940</td>\n",
              "      <td>1.16120</td>\n",
              "      <td>1.15938</td>\n",
              "      <td>1.16082</td>\n",
              "      <td>5738.63</td>\n",
              "    </tr>\n",
              "    <tr>\n",
              "      <th>28856</th>\n",
              "      <td>15.10.2021 05:00:00.000</td>\n",
              "      <td>1.16082</td>\n",
              "      <td>1.16189</td>\n",
              "      <td>1.15995</td>\n",
              "      <td>1.16034</td>\n",
              "      <td>13149.66</td>\n",
              "    </tr>\n",
              "    <tr>\n",
              "      <th>28857</th>\n",
              "      <td>15.10.2021 09:00:00.000</td>\n",
              "      <td>1.16033</td>\n",
              "      <td>1.16124</td>\n",
              "      <td>1.15892</td>\n",
              "      <td>1.15923</td>\n",
              "      <td>14914.33</td>\n",
              "    </tr>\n",
              "    <tr>\n",
              "      <th>28858</th>\n",
              "      <td>15.10.2021 13:00:00.000</td>\n",
              "      <td>1.15923</td>\n",
              "      <td>1.16103</td>\n",
              "      <td>1.15893</td>\n",
              "      <td>1.15953</td>\n",
              "      <td>20002.53</td>\n",
              "    </tr>\n",
              "    <tr>\n",
              "      <th>28859</th>\n",
              "      <td>15.10.2021 17:00:00.000</td>\n",
              "      <td>1.15952</td>\n",
              "      <td>1.16060</td>\n",
              "      <td>1.15933</td>\n",
              "      <td>1.16040</td>\n",
              "      <td>5620.05</td>\n",
              "    </tr>\n",
              "  </tbody>\n",
              "</table>\n",
              "</div>\n",
              "      <button class=\"colab-df-convert\" onclick=\"convertToInteractive('df-1d1f9c74-4808-4a04-b61d-b7f08e6d35fc')\"\n",
              "              title=\"Convert this dataframe to an interactive table.\"\n",
              "              style=\"display:none;\">\n",
              "        \n",
              "  <svg xmlns=\"http://www.w3.org/2000/svg\" height=\"24px\"viewBox=\"0 0 24 24\"\n",
              "       width=\"24px\">\n",
              "    <path d=\"M0 0h24v24H0V0z\" fill=\"none\"/>\n",
              "    <path d=\"M18.56 5.44l.94 2.06.94-2.06 2.06-.94-2.06-.94-.94-2.06-.94 2.06-2.06.94zm-11 1L8.5 8.5l.94-2.06 2.06-.94-2.06-.94L8.5 2.5l-.94 2.06-2.06.94zm10 10l.94 2.06.94-2.06 2.06-.94-2.06-.94-.94-2.06-.94 2.06-2.06.94z\"/><path d=\"M17.41 7.96l-1.37-1.37c-.4-.4-.92-.59-1.43-.59-.52 0-1.04.2-1.43.59L10.3 9.45l-7.72 7.72c-.78.78-.78 2.05 0 2.83L4 21.41c.39.39.9.59 1.41.59.51 0 1.02-.2 1.41-.59l7.78-7.78 2.81-2.81c.8-.78.8-2.07 0-2.86zM5.41 20L4 18.59l7.72-7.72 1.47 1.35L5.41 20z\"/>\n",
              "  </svg>\n",
              "      </button>\n",
              "      \n",
              "  <style>\n",
              "    .colab-df-container {\n",
              "      display:flex;\n",
              "      flex-wrap:wrap;\n",
              "      gap: 12px;\n",
              "    }\n",
              "\n",
              "    .colab-df-convert {\n",
              "      background-color: #E8F0FE;\n",
              "      border: none;\n",
              "      border-radius: 50%;\n",
              "      cursor: pointer;\n",
              "      display: none;\n",
              "      fill: #1967D2;\n",
              "      height: 32px;\n",
              "      padding: 0 0 0 0;\n",
              "      width: 32px;\n",
              "    }\n",
              "\n",
              "    .colab-df-convert:hover {\n",
              "      background-color: #E2EBFA;\n",
              "      box-shadow: 0px 1px 2px rgba(60, 64, 67, 0.3), 0px 1px 3px 1px rgba(60, 64, 67, 0.15);\n",
              "      fill: #174EA6;\n",
              "    }\n",
              "\n",
              "    [theme=dark] .colab-df-convert {\n",
              "      background-color: #3B4455;\n",
              "      fill: #D2E3FC;\n",
              "    }\n",
              "\n",
              "    [theme=dark] .colab-df-convert:hover {\n",
              "      background-color: #434B5C;\n",
              "      box-shadow: 0px 1px 3px 1px rgba(0, 0, 0, 0.15);\n",
              "      filter: drop-shadow(0px 1px 2px rgba(0, 0, 0, 0.3));\n",
              "      fill: #FFFFFF;\n",
              "    }\n",
              "  </style>\n",
              "\n",
              "      <script>\n",
              "        const buttonEl =\n",
              "          document.querySelector('#df-1d1f9c74-4808-4a04-b61d-b7f08e6d35fc button.colab-df-convert');\n",
              "        buttonEl.style.display =\n",
              "          google.colab.kernel.accessAllowed ? 'block' : 'none';\n",
              "\n",
              "        async function convertToInteractive(key) {\n",
              "          const element = document.querySelector('#df-1d1f9c74-4808-4a04-b61d-b7f08e6d35fc');\n",
              "          const dataTable =\n",
              "            await google.colab.kernel.invokeFunction('convertToInteractive',\n",
              "                                                     [key], {});\n",
              "          if (!dataTable) return;\n",
              "\n",
              "          const docLinkHtml = 'Like what you see? Visit the ' +\n",
              "            '<a target=\"_blank\" href=https://colab.research.google.com/notebooks/data_table.ipynb>data table notebook</a>'\n",
              "            + ' to learn more about interactive tables.';\n",
              "          element.innerHTML = '';\n",
              "          dataTable['output_type'] = 'display_data';\n",
              "          await google.colab.output.renderOutput(dataTable, element);\n",
              "          const docLink = document.createElement('div');\n",
              "          docLink.innerHTML = docLinkHtml;\n",
              "          element.appendChild(docLink);\n",
              "        }\n",
              "      </script>\n",
              "    </div>\n",
              "  </div>\n",
              "  "
            ]
          },
          "metadata": {},
          "execution_count": 3
        }
      ],
      "source": [
        "import pandas as pd\n",
        "df = pd.read_csv(\"/content/EURUSD_Candlestick_4_Hour_ASK_05.05.2003-16.10.2021.csv\")\n",
        "                 #\"USDCHF_Candlestick_4_Hour_ASK_05.05.2003-19.10.2019.csv\")\n",
        "df.tail()"
      ]
    },
    {
      "cell_type": "code",
      "execution_count": 5,
      "metadata": {
        "colab": {
          "base_uri": "https://localhost:8080/"
        },
        "id": "LXNaGTtYWqoc",
        "outputId": "d712105c-8e0e-46b1-ebc9-9e67c9ced66e"
      },
      "outputs": [
        {
          "output_type": "execute_result",
          "data": {
            "text/plain": [
              "Gmt time    0\n",
              "open        0\n",
              "high        0\n",
              "low         0\n",
              "close       0\n",
              "volume      0\n",
              "dtype: int64"
            ]
          },
          "metadata": {},
          "execution_count": 5
        }
      ],
      "source": [
        "#Check if any zero volumes are available\n",
        "indexZeros = df[ df['volume'] == 0 ].index\n",
        "\n",
        "df.drop(indexZeros , inplace=True)\n",
        "df.loc[(df[\"volume\"] == 0 )]\n",
        "df.isna().sum()"
      ]
    },
    {
      "cell_type": "code",
      "source": [
        "!pip install pandas_ta"
      ],
      "metadata": {
        "colab": {
          "base_uri": "https://localhost:8080/"
        },
        "id": "jBhzCIByXjO2",
        "outputId": "a124240c-fd21-4289-ee46-88dd0bea7b6b"
      },
      "execution_count": 8,
      "outputs": [
        {
          "output_type": "stream",
          "name": "stdout",
          "text": [
            "Looking in indexes: https://pypi.org/simple, https://us-python.pkg.dev/colab-wheels/public/simple/\n",
            "Collecting pandas_ta\n",
            "  Downloading pandas_ta-0.3.14b.tar.gz (115 kB)\n",
            "\u001b[K     |████████████████████████████████| 115 kB 5.2 MB/s \n",
            "\u001b[?25hRequirement already satisfied: pandas in /usr/local/lib/python3.8/dist-packages (from pandas_ta) (1.3.5)\n",
            "Requirement already satisfied: numpy>=1.17.3 in /usr/local/lib/python3.8/dist-packages (from pandas->pandas_ta) (1.21.6)\n",
            "Requirement already satisfied: pytz>=2017.3 in /usr/local/lib/python3.8/dist-packages (from pandas->pandas_ta) (2022.6)\n",
            "Requirement already satisfied: python-dateutil>=2.7.3 in /usr/local/lib/python3.8/dist-packages (from pandas->pandas_ta) (2.8.2)\n",
            "Requirement already satisfied: six>=1.5 in /usr/local/lib/python3.8/dist-packages (from python-dateutil>=2.7.3->pandas->pandas_ta) (1.15.0)\n",
            "Building wheels for collected packages: pandas-ta\n",
            "  Building wheel for pandas-ta (setup.py) ... \u001b[?25l\u001b[?25hdone\n",
            "  Created wheel for pandas-ta: filename=pandas_ta-0.3.14b0-py3-none-any.whl size=218923 sha256=ac30631fea2bca6a73ad0849e9befab58e63a2d3f9a7dea26e2349262a2a3a9c\n",
            "  Stored in directory: /root/.cache/pip/wheels/54/4a/75/06b8e63fce6f6d2c1baae5c208edb18eca128407b0c96e1153\n",
            "Successfully built pandas-ta\n",
            "Installing collected packages: pandas-ta\n",
            "Successfully installed pandas-ta-0.3.14b0\n"
          ]
        }
      ]
    },
    {
      "cell_type": "code",
      "execution_count": 9,
      "metadata": {
        "scrolled": false,
        "id": "phacrc6EWqoc"
      },
      "outputs": [],
      "source": [
        "import numpy as np\n",
        "import pandas_ta as ta\n",
        "#df.ta.indicators()\n",
        "#help(ta.atr)\n",
        "df['ATR'] = df.ta.atr(length=20)\n",
        "df['RSI'] = df.ta.rsi()\n",
        "df['Average'] = df.ta.midprice(length=1) #midprice\n",
        "df['MA40'] = df.ta.sma(length=40)\n",
        "df['MA80'] = df.ta.sma(length=80)\n",
        "df['MA160'] = df.ta.sma(length=160)\n",
        "\n",
        "from scipy.stats import linregress\n",
        "def get_slope(array):\n",
        "    y = np.array(array)\n",
        "    x = np.arange(len(y))\n",
        "    slope, intercept, r_value, p_value, std_err = linregress(x,y)\n",
        "    return slope\n",
        "\n",
        "#!!!!!!!!!!!!!!!!!!!!!!!!!!!!!\n",
        "backrollingN = 6\n",
        "#!!!!!!!!!!!!!!!!!!!!!!!!!!!!!\n",
        "df['slopeMA40'] = df['MA40'].rolling(window=backrollingN).apply(get_slope, raw=True)\n",
        "df['slopeMA80'] = df['MA80'].rolling(window=backrollingN).apply(get_slope, raw=True)\n",
        "df['slopeMA160'] = df['MA160'].rolling(window=backrollingN).apply(get_slope, raw=True)\n",
        "df['AverageSlope'] = df['Average'].rolling(window=backrollingN).apply(get_slope, raw=True)\n",
        "df['RSISlope'] = df['RSI'].rolling(window=backrollingN).apply(get_slope, raw=True)"
      ]
    },
    {
      "cell_type": "code",
      "execution_count": 10,
      "metadata": {
        "scrolled": true,
        "colab": {
          "base_uri": "https://localhost:8080/",
          "height": 357
        },
        "id": "Pv5wE95SWqod",
        "outputId": "3bb125bd-5050-4e9c-c56a-b7e2a531a106"
      },
      "outputs": [
        {
          "output_type": "execute_result",
          "data": {
            "text/plain": [
              "                      Gmt time     open     high      low    close    volume  \\\n",
              "28855  15.10.2021 01:00:00.000  1.15940  1.16120  1.15938  1.16082   5738.63   \n",
              "28856  15.10.2021 05:00:00.000  1.16082  1.16189  1.15995  1.16034  13149.66   \n",
              "28857  15.10.2021 09:00:00.000  1.16033  1.16124  1.15892  1.15923  14914.33   \n",
              "28858  15.10.2021 13:00:00.000  1.15923  1.16103  1.15893  1.15953  20002.53   \n",
              "28859  15.10.2021 17:00:00.000  1.15952  1.16060  1.15933  1.16040   5620.05   \n",
              "\n",
              "            ATR        RSI   Average      MA40      MA80     MA160  slopeMA40  \\\n",
              "28855  0.001947  59.946065  1.160290  1.156618  1.159121  1.167880   0.000054   \n",
              "28856  0.001947  58.038673  1.160920  1.156768  1.159014  1.167745   0.000090   \n",
              "28857  0.001965  53.777344  1.160080  1.156853  1.158880  1.167604   0.000115   \n",
              "28858  0.001972  54.744468  1.159980  1.156944  1.158774  1.167468   0.000122   \n",
              "28859  0.001937  57.520290  1.159965  1.157065  1.158678  1.167336   0.000117   \n",
              "\n",
              "       slopeMA80  slopeMA160  AverageSlope  RSISlope  \n",
              "28855  -0.000132   -0.000149     -0.000162 -1.237279  \n",
              "28856  -0.000125   -0.000145      0.000035 -0.095942  \n",
              "28857  -0.000123   -0.000140      0.000233  0.033494  \n",
              "28858  -0.000118   -0.000137      0.000164 -0.619952  \n",
              "28859  -0.000113   -0.000136      0.000028 -0.346306  "
            ],
            "text/html": [
              "\n",
              "  <div id=\"df-5a938e20-8dd9-4a0c-91f9-48323d8a2a41\">\n",
              "    <div class=\"colab-df-container\">\n",
              "      <div>\n",
              "<style scoped>\n",
              "    .dataframe tbody tr th:only-of-type {\n",
              "        vertical-align: middle;\n",
              "    }\n",
              "\n",
              "    .dataframe tbody tr th {\n",
              "        vertical-align: top;\n",
              "    }\n",
              "\n",
              "    .dataframe thead th {\n",
              "        text-align: right;\n",
              "    }\n",
              "</style>\n",
              "<table border=\"1\" class=\"dataframe\">\n",
              "  <thead>\n",
              "    <tr style=\"text-align: right;\">\n",
              "      <th></th>\n",
              "      <th>Gmt time</th>\n",
              "      <th>open</th>\n",
              "      <th>high</th>\n",
              "      <th>low</th>\n",
              "      <th>close</th>\n",
              "      <th>volume</th>\n",
              "      <th>ATR</th>\n",
              "      <th>RSI</th>\n",
              "      <th>Average</th>\n",
              "      <th>MA40</th>\n",
              "      <th>MA80</th>\n",
              "      <th>MA160</th>\n",
              "      <th>slopeMA40</th>\n",
              "      <th>slopeMA80</th>\n",
              "      <th>slopeMA160</th>\n",
              "      <th>AverageSlope</th>\n",
              "      <th>RSISlope</th>\n",
              "    </tr>\n",
              "  </thead>\n",
              "  <tbody>\n",
              "    <tr>\n",
              "      <th>28855</th>\n",
              "      <td>15.10.2021 01:00:00.000</td>\n",
              "      <td>1.15940</td>\n",
              "      <td>1.16120</td>\n",
              "      <td>1.15938</td>\n",
              "      <td>1.16082</td>\n",
              "      <td>5738.63</td>\n",
              "      <td>0.001947</td>\n",
              "      <td>59.946065</td>\n",
              "      <td>1.160290</td>\n",
              "      <td>1.156618</td>\n",
              "      <td>1.159121</td>\n",
              "      <td>1.167880</td>\n",
              "      <td>0.000054</td>\n",
              "      <td>-0.000132</td>\n",
              "      <td>-0.000149</td>\n",
              "      <td>-0.000162</td>\n",
              "      <td>-1.237279</td>\n",
              "    </tr>\n",
              "    <tr>\n",
              "      <th>28856</th>\n",
              "      <td>15.10.2021 05:00:00.000</td>\n",
              "      <td>1.16082</td>\n",
              "      <td>1.16189</td>\n",
              "      <td>1.15995</td>\n",
              "      <td>1.16034</td>\n",
              "      <td>13149.66</td>\n",
              "      <td>0.001947</td>\n",
              "      <td>58.038673</td>\n",
              "      <td>1.160920</td>\n",
              "      <td>1.156768</td>\n",
              "      <td>1.159014</td>\n",
              "      <td>1.167745</td>\n",
              "      <td>0.000090</td>\n",
              "      <td>-0.000125</td>\n",
              "      <td>-0.000145</td>\n",
              "      <td>0.000035</td>\n",
              "      <td>-0.095942</td>\n",
              "    </tr>\n",
              "    <tr>\n",
              "      <th>28857</th>\n",
              "      <td>15.10.2021 09:00:00.000</td>\n",
              "      <td>1.16033</td>\n",
              "      <td>1.16124</td>\n",
              "      <td>1.15892</td>\n",
              "      <td>1.15923</td>\n",
              "      <td>14914.33</td>\n",
              "      <td>0.001965</td>\n",
              "      <td>53.777344</td>\n",
              "      <td>1.160080</td>\n",
              "      <td>1.156853</td>\n",
              "      <td>1.158880</td>\n",
              "      <td>1.167604</td>\n",
              "      <td>0.000115</td>\n",
              "      <td>-0.000123</td>\n",
              "      <td>-0.000140</td>\n",
              "      <td>0.000233</td>\n",
              "      <td>0.033494</td>\n",
              "    </tr>\n",
              "    <tr>\n",
              "      <th>28858</th>\n",
              "      <td>15.10.2021 13:00:00.000</td>\n",
              "      <td>1.15923</td>\n",
              "      <td>1.16103</td>\n",
              "      <td>1.15893</td>\n",
              "      <td>1.15953</td>\n",
              "      <td>20002.53</td>\n",
              "      <td>0.001972</td>\n",
              "      <td>54.744468</td>\n",
              "      <td>1.159980</td>\n",
              "      <td>1.156944</td>\n",
              "      <td>1.158774</td>\n",
              "      <td>1.167468</td>\n",
              "      <td>0.000122</td>\n",
              "      <td>-0.000118</td>\n",
              "      <td>-0.000137</td>\n",
              "      <td>0.000164</td>\n",
              "      <td>-0.619952</td>\n",
              "    </tr>\n",
              "    <tr>\n",
              "      <th>28859</th>\n",
              "      <td>15.10.2021 17:00:00.000</td>\n",
              "      <td>1.15952</td>\n",
              "      <td>1.16060</td>\n",
              "      <td>1.15933</td>\n",
              "      <td>1.16040</td>\n",
              "      <td>5620.05</td>\n",
              "      <td>0.001937</td>\n",
              "      <td>57.520290</td>\n",
              "      <td>1.159965</td>\n",
              "      <td>1.157065</td>\n",
              "      <td>1.158678</td>\n",
              "      <td>1.167336</td>\n",
              "      <td>0.000117</td>\n",
              "      <td>-0.000113</td>\n",
              "      <td>-0.000136</td>\n",
              "      <td>0.000028</td>\n",
              "      <td>-0.346306</td>\n",
              "    </tr>\n",
              "  </tbody>\n",
              "</table>\n",
              "</div>\n",
              "      <button class=\"colab-df-convert\" onclick=\"convertToInteractive('df-5a938e20-8dd9-4a0c-91f9-48323d8a2a41')\"\n",
              "              title=\"Convert this dataframe to an interactive table.\"\n",
              "              style=\"display:none;\">\n",
              "        \n",
              "  <svg xmlns=\"http://www.w3.org/2000/svg\" height=\"24px\"viewBox=\"0 0 24 24\"\n",
              "       width=\"24px\">\n",
              "    <path d=\"M0 0h24v24H0V0z\" fill=\"none\"/>\n",
              "    <path d=\"M18.56 5.44l.94 2.06.94-2.06 2.06-.94-2.06-.94-.94-2.06-.94 2.06-2.06.94zm-11 1L8.5 8.5l.94-2.06 2.06-.94-2.06-.94L8.5 2.5l-.94 2.06-2.06.94zm10 10l.94 2.06.94-2.06 2.06-.94-2.06-.94-.94-2.06-.94 2.06-2.06.94z\"/><path d=\"M17.41 7.96l-1.37-1.37c-.4-.4-.92-.59-1.43-.59-.52 0-1.04.2-1.43.59L10.3 9.45l-7.72 7.72c-.78.78-.78 2.05 0 2.83L4 21.41c.39.39.9.59 1.41.59.51 0 1.02-.2 1.41-.59l7.78-7.78 2.81-2.81c.8-.78.8-2.07 0-2.86zM5.41 20L4 18.59l7.72-7.72 1.47 1.35L5.41 20z\"/>\n",
              "  </svg>\n",
              "      </button>\n",
              "      \n",
              "  <style>\n",
              "    .colab-df-container {\n",
              "      display:flex;\n",
              "      flex-wrap:wrap;\n",
              "      gap: 12px;\n",
              "    }\n",
              "\n",
              "    .colab-df-convert {\n",
              "      background-color: #E8F0FE;\n",
              "      border: none;\n",
              "      border-radius: 50%;\n",
              "      cursor: pointer;\n",
              "      display: none;\n",
              "      fill: #1967D2;\n",
              "      height: 32px;\n",
              "      padding: 0 0 0 0;\n",
              "      width: 32px;\n",
              "    }\n",
              "\n",
              "    .colab-df-convert:hover {\n",
              "      background-color: #E2EBFA;\n",
              "      box-shadow: 0px 1px 2px rgba(60, 64, 67, 0.3), 0px 1px 3px 1px rgba(60, 64, 67, 0.15);\n",
              "      fill: #174EA6;\n",
              "    }\n",
              "\n",
              "    [theme=dark] .colab-df-convert {\n",
              "      background-color: #3B4455;\n",
              "      fill: #D2E3FC;\n",
              "    }\n",
              "\n",
              "    [theme=dark] .colab-df-convert:hover {\n",
              "      background-color: #434B5C;\n",
              "      box-shadow: 0px 1px 3px 1px rgba(0, 0, 0, 0.15);\n",
              "      filter: drop-shadow(0px 1px 2px rgba(0, 0, 0, 0.3));\n",
              "      fill: #FFFFFF;\n",
              "    }\n",
              "  </style>\n",
              "\n",
              "      <script>\n",
              "        const buttonEl =\n",
              "          document.querySelector('#df-5a938e20-8dd9-4a0c-91f9-48323d8a2a41 button.colab-df-convert');\n",
              "        buttonEl.style.display =\n",
              "          google.colab.kernel.accessAllowed ? 'block' : 'none';\n",
              "\n",
              "        async function convertToInteractive(key) {\n",
              "          const element = document.querySelector('#df-5a938e20-8dd9-4a0c-91f9-48323d8a2a41');\n",
              "          const dataTable =\n",
              "            await google.colab.kernel.invokeFunction('convertToInteractive',\n",
              "                                                     [key], {});\n",
              "          if (!dataTable) return;\n",
              "\n",
              "          const docLinkHtml = 'Like what you see? Visit the ' +\n",
              "            '<a target=\"_blank\" href=https://colab.research.google.com/notebooks/data_table.ipynb>data table notebook</a>'\n",
              "            + ' to learn more about interactive tables.';\n",
              "          element.innerHTML = '';\n",
              "          dataTable['output_type'] = 'display_data';\n",
              "          await google.colab.output.renderOutput(dataTable, element);\n",
              "          const docLink = document.createElement('div');\n",
              "          docLink.innerHTML = docLinkHtml;\n",
              "          element.appendChild(docLink);\n",
              "        }\n",
              "      </script>\n",
              "    </div>\n",
              "  </div>\n",
              "  "
            ]
          },
          "metadata": {},
          "execution_count": 10
        }
      ],
      "source": [
        "df.tail()"
      ]
    },
    {
      "cell_type": "markdown",
      "metadata": {
        "id": "cwueOqm1Wqod"
      },
      "source": [
        "# Target categories"
      ]
    },
    {
      "cell_type": "code",
      "execution_count": 11,
      "metadata": {
        "id": "8oZVGSjuWqoe"
      },
      "outputs": [],
      "source": [
        "#Target flexible way\n",
        "pipdiff = 500*1e-5 #for TP\n",
        "SLTPRatio = 2 #pipdiff/Ratio gives SL\n",
        "\n",
        "def mytarget(barsupfront, df1):\n",
        "    length = len(df1)\n",
        "    high = list(df1['high'])\n",
        "    low = list(df1['low'])\n",
        "    close = list(df1['close'])\n",
        "    open = list(df1['open'])\n",
        "    trendcat = [None] * length\n",
        "    \n",
        "    for line in range (0,length-barsupfront-2):\n",
        "        valueOpenLow = 0\n",
        "        valueOpenHigh = 0\n",
        "        for i in range(1,barsupfront+2):\n",
        "            value1 = open[line+1]-low[line+i]\n",
        "            value2 = open[line+1]-high[line+i]\n",
        "            valueOpenLow = max(value1, valueOpenLow)\n",
        "            valueOpenHigh = min(value2, valueOpenHigh)\n",
        "\n",
        "            if ( (valueOpenLow >= pipdiff) and (-valueOpenHigh <= (pipdiff/SLTPRatio)) ):\n",
        "                trendcat[line] = 1 #-1 downtrend\n",
        "                break\n",
        "            elif ( (valueOpenLow <= (pipdiff/SLTPRatio)) and (-valueOpenHigh >= pipdiff) ):\n",
        "                trendcat[line] = 2 # uptrend\n",
        "                break\n",
        "            else:\n",
        "                trendcat[line] = 0 # no clear trend\n",
        "            \n",
        "    return trendcat"
      ]
    },
    {
      "cell_type": "code",
      "execution_count": 12,
      "metadata": {
        "scrolled": true,
        "colab": {
          "base_uri": "https://localhost:8080/",
          "height": 357
        },
        "id": "IqzwAf-SWqoe",
        "outputId": "e4fabcc9-d98f-4741-8bbb-121bb5f9aa1f"
      },
      "outputs": [
        {
          "output_type": "execute_result",
          "data": {
            "text/plain": [
              "                  Gmt time     open     high      low    close       volume  \\\n",
              "0  04.05.2003 21:00:00.000  1.12354  1.12354  1.12166  1.12274   95533.0976   \n",
              "1  05.05.2003 01:00:00.000  1.12242  1.12276  1.12067  1.12126   93778.5996   \n",
              "2  05.05.2003 05:00:00.000  1.12139  1.12255  1.12030  1.12113   90924.6992   \n",
              "3  05.05.2003 09:00:00.000  1.12092  1.12331  1.12049  1.12174   91254.6992   \n",
              "4  05.05.2003 13:00:00.000  1.12194  1.12900  1.12130  1.12712  308003.4083   \n",
              "\n",
              "   ATR  RSI   Average  MA40  MA80  MA160  slopeMA40  slopeMA80  slopeMA160  \\\n",
              "0  NaN  NaN  1.122600   NaN   NaN    NaN        NaN        NaN         NaN   \n",
              "1  NaN  NaN  1.121715   NaN   NaN    NaN        NaN        NaN         NaN   \n",
              "2  NaN  NaN  1.121425   NaN   NaN    NaN        NaN        NaN         NaN   \n",
              "3  NaN  NaN  1.121900   NaN   NaN    NaN        NaN        NaN         NaN   \n",
              "4  NaN  NaN  1.125150   NaN   NaN    NaN        NaN        NaN         NaN   \n",
              "\n",
              "   AverageSlope  RSISlope  mytarget  \n",
              "0           NaN       NaN       2.0  \n",
              "1           NaN       NaN       2.0  \n",
              "2           NaN       NaN       2.0  \n",
              "3           NaN       NaN       2.0  \n",
              "4           NaN       NaN       2.0  "
            ],
            "text/html": [
              "\n",
              "  <div id=\"df-3731ec1e-98e8-42bd-b325-264c7812e972\">\n",
              "    <div class=\"colab-df-container\">\n",
              "      <div>\n",
              "<style scoped>\n",
              "    .dataframe tbody tr th:only-of-type {\n",
              "        vertical-align: middle;\n",
              "    }\n",
              "\n",
              "    .dataframe tbody tr th {\n",
              "        vertical-align: top;\n",
              "    }\n",
              "\n",
              "    .dataframe thead th {\n",
              "        text-align: right;\n",
              "    }\n",
              "</style>\n",
              "<table border=\"1\" class=\"dataframe\">\n",
              "  <thead>\n",
              "    <tr style=\"text-align: right;\">\n",
              "      <th></th>\n",
              "      <th>Gmt time</th>\n",
              "      <th>open</th>\n",
              "      <th>high</th>\n",
              "      <th>low</th>\n",
              "      <th>close</th>\n",
              "      <th>volume</th>\n",
              "      <th>ATR</th>\n",
              "      <th>RSI</th>\n",
              "      <th>Average</th>\n",
              "      <th>MA40</th>\n",
              "      <th>MA80</th>\n",
              "      <th>MA160</th>\n",
              "      <th>slopeMA40</th>\n",
              "      <th>slopeMA80</th>\n",
              "      <th>slopeMA160</th>\n",
              "      <th>AverageSlope</th>\n",
              "      <th>RSISlope</th>\n",
              "      <th>mytarget</th>\n",
              "    </tr>\n",
              "  </thead>\n",
              "  <tbody>\n",
              "    <tr>\n",
              "      <th>0</th>\n",
              "      <td>04.05.2003 21:00:00.000</td>\n",
              "      <td>1.12354</td>\n",
              "      <td>1.12354</td>\n",
              "      <td>1.12166</td>\n",
              "      <td>1.12274</td>\n",
              "      <td>95533.0976</td>\n",
              "      <td>NaN</td>\n",
              "      <td>NaN</td>\n",
              "      <td>1.122600</td>\n",
              "      <td>NaN</td>\n",
              "      <td>NaN</td>\n",
              "      <td>NaN</td>\n",
              "      <td>NaN</td>\n",
              "      <td>NaN</td>\n",
              "      <td>NaN</td>\n",
              "      <td>NaN</td>\n",
              "      <td>NaN</td>\n",
              "      <td>2.0</td>\n",
              "    </tr>\n",
              "    <tr>\n",
              "      <th>1</th>\n",
              "      <td>05.05.2003 01:00:00.000</td>\n",
              "      <td>1.12242</td>\n",
              "      <td>1.12276</td>\n",
              "      <td>1.12067</td>\n",
              "      <td>1.12126</td>\n",
              "      <td>93778.5996</td>\n",
              "      <td>NaN</td>\n",
              "      <td>NaN</td>\n",
              "      <td>1.121715</td>\n",
              "      <td>NaN</td>\n",
              "      <td>NaN</td>\n",
              "      <td>NaN</td>\n",
              "      <td>NaN</td>\n",
              "      <td>NaN</td>\n",
              "      <td>NaN</td>\n",
              "      <td>NaN</td>\n",
              "      <td>NaN</td>\n",
              "      <td>2.0</td>\n",
              "    </tr>\n",
              "    <tr>\n",
              "      <th>2</th>\n",
              "      <td>05.05.2003 05:00:00.000</td>\n",
              "      <td>1.12139</td>\n",
              "      <td>1.12255</td>\n",
              "      <td>1.12030</td>\n",
              "      <td>1.12113</td>\n",
              "      <td>90924.6992</td>\n",
              "      <td>NaN</td>\n",
              "      <td>NaN</td>\n",
              "      <td>1.121425</td>\n",
              "      <td>NaN</td>\n",
              "      <td>NaN</td>\n",
              "      <td>NaN</td>\n",
              "      <td>NaN</td>\n",
              "      <td>NaN</td>\n",
              "      <td>NaN</td>\n",
              "      <td>NaN</td>\n",
              "      <td>NaN</td>\n",
              "      <td>2.0</td>\n",
              "    </tr>\n",
              "    <tr>\n",
              "      <th>3</th>\n",
              "      <td>05.05.2003 09:00:00.000</td>\n",
              "      <td>1.12092</td>\n",
              "      <td>1.12331</td>\n",
              "      <td>1.12049</td>\n",
              "      <td>1.12174</td>\n",
              "      <td>91254.6992</td>\n",
              "      <td>NaN</td>\n",
              "      <td>NaN</td>\n",
              "      <td>1.121900</td>\n",
              "      <td>NaN</td>\n",
              "      <td>NaN</td>\n",
              "      <td>NaN</td>\n",
              "      <td>NaN</td>\n",
              "      <td>NaN</td>\n",
              "      <td>NaN</td>\n",
              "      <td>NaN</td>\n",
              "      <td>NaN</td>\n",
              "      <td>2.0</td>\n",
              "    </tr>\n",
              "    <tr>\n",
              "      <th>4</th>\n",
              "      <td>05.05.2003 13:00:00.000</td>\n",
              "      <td>1.12194</td>\n",
              "      <td>1.12900</td>\n",
              "      <td>1.12130</td>\n",
              "      <td>1.12712</td>\n",
              "      <td>308003.4083</td>\n",
              "      <td>NaN</td>\n",
              "      <td>NaN</td>\n",
              "      <td>1.125150</td>\n",
              "      <td>NaN</td>\n",
              "      <td>NaN</td>\n",
              "      <td>NaN</td>\n",
              "      <td>NaN</td>\n",
              "      <td>NaN</td>\n",
              "      <td>NaN</td>\n",
              "      <td>NaN</td>\n",
              "      <td>NaN</td>\n",
              "      <td>2.0</td>\n",
              "    </tr>\n",
              "  </tbody>\n",
              "</table>\n",
              "</div>\n",
              "      <button class=\"colab-df-convert\" onclick=\"convertToInteractive('df-3731ec1e-98e8-42bd-b325-264c7812e972')\"\n",
              "              title=\"Convert this dataframe to an interactive table.\"\n",
              "              style=\"display:none;\">\n",
              "        \n",
              "  <svg xmlns=\"http://www.w3.org/2000/svg\" height=\"24px\"viewBox=\"0 0 24 24\"\n",
              "       width=\"24px\">\n",
              "    <path d=\"M0 0h24v24H0V0z\" fill=\"none\"/>\n",
              "    <path d=\"M18.56 5.44l.94 2.06.94-2.06 2.06-.94-2.06-.94-.94-2.06-.94 2.06-2.06.94zm-11 1L8.5 8.5l.94-2.06 2.06-.94-2.06-.94L8.5 2.5l-.94 2.06-2.06.94zm10 10l.94 2.06.94-2.06 2.06-.94-2.06-.94-.94-2.06-.94 2.06-2.06.94z\"/><path d=\"M17.41 7.96l-1.37-1.37c-.4-.4-.92-.59-1.43-.59-.52 0-1.04.2-1.43.59L10.3 9.45l-7.72 7.72c-.78.78-.78 2.05 0 2.83L4 21.41c.39.39.9.59 1.41.59.51 0 1.02-.2 1.41-.59l7.78-7.78 2.81-2.81c.8-.78.8-2.07 0-2.86zM5.41 20L4 18.59l7.72-7.72 1.47 1.35L5.41 20z\"/>\n",
              "  </svg>\n",
              "      </button>\n",
              "      \n",
              "  <style>\n",
              "    .colab-df-container {\n",
              "      display:flex;\n",
              "      flex-wrap:wrap;\n",
              "      gap: 12px;\n",
              "    }\n",
              "\n",
              "    .colab-df-convert {\n",
              "      background-color: #E8F0FE;\n",
              "      border: none;\n",
              "      border-radius: 50%;\n",
              "      cursor: pointer;\n",
              "      display: none;\n",
              "      fill: #1967D2;\n",
              "      height: 32px;\n",
              "      padding: 0 0 0 0;\n",
              "      width: 32px;\n",
              "    }\n",
              "\n",
              "    .colab-df-convert:hover {\n",
              "      background-color: #E2EBFA;\n",
              "      box-shadow: 0px 1px 2px rgba(60, 64, 67, 0.3), 0px 1px 3px 1px rgba(60, 64, 67, 0.15);\n",
              "      fill: #174EA6;\n",
              "    }\n",
              "\n",
              "    [theme=dark] .colab-df-convert {\n",
              "      background-color: #3B4455;\n",
              "      fill: #D2E3FC;\n",
              "    }\n",
              "\n",
              "    [theme=dark] .colab-df-convert:hover {\n",
              "      background-color: #434B5C;\n",
              "      box-shadow: 0px 1px 3px 1px rgba(0, 0, 0, 0.15);\n",
              "      filter: drop-shadow(0px 1px 2px rgba(0, 0, 0, 0.3));\n",
              "      fill: #FFFFFF;\n",
              "    }\n",
              "  </style>\n",
              "\n",
              "      <script>\n",
              "        const buttonEl =\n",
              "          document.querySelector('#df-3731ec1e-98e8-42bd-b325-264c7812e972 button.colab-df-convert');\n",
              "        buttonEl.style.display =\n",
              "          google.colab.kernel.accessAllowed ? 'block' : 'none';\n",
              "\n",
              "        async function convertToInteractive(key) {\n",
              "          const element = document.querySelector('#df-3731ec1e-98e8-42bd-b325-264c7812e972');\n",
              "          const dataTable =\n",
              "            await google.colab.kernel.invokeFunction('convertToInteractive',\n",
              "                                                     [key], {});\n",
              "          if (!dataTable) return;\n",
              "\n",
              "          const docLinkHtml = 'Like what you see? Visit the ' +\n",
              "            '<a target=\"_blank\" href=https://colab.research.google.com/notebooks/data_table.ipynb>data table notebook</a>'\n",
              "            + ' to learn more about interactive tables.';\n",
              "          element.innerHTML = '';\n",
              "          dataTable['output_type'] = 'display_data';\n",
              "          await google.colab.output.renderOutput(dataTable, element);\n",
              "          const docLink = document.createElement('div');\n",
              "          docLink.innerHTML = docLinkHtml;\n",
              "          element.appendChild(docLink);\n",
              "        }\n",
              "      </script>\n",
              "    </div>\n",
              "  </div>\n",
              "  "
            ]
          },
          "metadata": {},
          "execution_count": 12
        }
      ],
      "source": [
        "# mytarget(barsfront to take into account, dataframe)\n",
        "df['mytarget'] = mytarget(16, df)\n",
        "df.head()"
      ]
    },
    {
      "cell_type": "markdown",
      "metadata": {
        "id": "7umKolV7Wqof"
      },
      "source": [
        "# Quick analysis example"
      ]
    },
    {
      "cell_type": "code",
      "execution_count": 13,
      "metadata": {
        "colab": {
          "base_uri": "https://localhost:8080/",
          "height": 1000
        },
        "id": "2IrjgP6cWqof",
        "outputId": "a23acdc9-1937-4c53-c43f-8577072950d9"
      },
      "outputs": [
        {
          "output_type": "stream",
          "name": "stderr",
          "text": [
            "<ipython-input-13-ca9c51166e22>:5: UserWarning: To output multiple subplots, the figure containing the passed axes is being cleared\n",
            "  df_model.hist(ax = ax)\n"
          ]
        },
        {
          "output_type": "display_data",
          "data": {
            "text/plain": [
              "<Figure size 1080x1440 with 16 Axes>"
            ],
            "image/png": "[encoded data removed]"
          },
          "metadata": {
            "needs_background": "light"
          }
        }
      ],
      "source": [
        "import matplotlib.pyplot as plt\n",
        "fig = plt.figure(figsize = (15,20))\n",
        "ax = fig.gca()\n",
        "df_model= df[['volume', 'ATR', 'RSI', 'Average', 'MA40', 'MA80', 'MA160', 'slopeMA40', 'slopeMA80', 'slopeMA160', 'AverageSlope', 'RSISlope', 'mytarget']] \n",
        "df_model.hist(ax = ax)\n",
        "plt.show()"
      ]
    },
    {
      "cell_type": "markdown",
      "metadata": {
        "id": "jvUVTqgJWqog"
      },
      "source": [
        "## Can we use the RSI alone as a trend indicator?"
      ]
    },
    {
      "cell_type": "code",
      "execution_count": 14,
      "metadata": {
        "colab": {
          "base_uri": "https://localhost:8080/",
          "height": 265
        },
        "id": "uSaSY1Q5Wqog",
        "outputId": "aac3a61b-1dc9-45f1-d2cb-2777b209959f"
      },
      "outputs": [
        {
          "output_type": "display_data",
          "data": {
            "text/plain": [
              "<Figure size 432x288 with 1 Axes>"
            ],
            "image/png": "[encoded data removed]"
          },
          "metadata": {
            "needs_background": "light"
          }
        }
      ],
      "source": [
        "from matplotlib import pyplot\n",
        "df_up=df.RSI[ df['mytarget'] == 2 ]\n",
        "df_down=df.RSI[ df['mytarget'] == 1 ]\n",
        "df_unclear=df.RSI[ df['mytarget'] == 0 ]\n",
        "pyplot.hist(df_unclear, bins=100, alpha=0.5, label='unclear')\n",
        "pyplot.hist(df_down, bins=100, alpha=0.5, label='down')\n",
        "pyplot.hist(df_up, bins=100, alpha=0.5, label='up')\n",
        "\n",
        "pyplot.legend(loc='upper right')\n",
        "pyplot.show()"
      ]
    },
    {
      "cell_type": "markdown",
      "metadata": {
        "id": "7NqHavdqWqog"
      },
      "source": [
        "# Machine learning for trend prediction"
      ]
    },
    {
      "cell_type": "markdown",
      "metadata": {
        "id": "MEsnhoIhWqog"
      },
      "source": [
        "## 1 - the perfect model with precise prediction"
      ]
    },
    {
      "cell_type": "markdown",
      "metadata": {
        "id": "NhkPOInsWqoh"
      },
      "source": [
        "## 2 - less perfect model still with > 40% precision"
      ]
    },
    {
      "cell_type": "markdown",
      "metadata": {
        "id": "wY994rO0Wqoh"
      },
      "source": [
        "## 3 - much less perfect model with precision >35% taking into account our strategy, and our TP/SL ratio "
      ]
    },
    {
      "cell_type": "markdown",
      "metadata": {
        "id": "Z5YrOQ7VWqoh"
      },
      "source": [
        "### can't let an automated program run your trades\n",
        "### it can be your version of a smart indicator (based on machine learning)\n",
        "\n",
        "## 4 - Our target has categorical values so we need a classificator, KNN?"
      ]
    },
    {
      "cell_type": "markdown",
      "metadata": {
        "id": "AoheG_xJWqoh"
      },
      "source": [
        "## Splitting features and target"
      ]
    },
    {
      "cell_type": "code",
      "execution_count": 15,
      "metadata": {
        "colab": {
          "base_uri": "https://localhost:8080/"
        },
        "id": "IGq_bltBWqoh",
        "outputId": "6c3ac14c-10cc-4954-b6b1-f29a76677d24"
      },
      "outputs": [
        {
          "output_type": "stream",
          "name": "stdout",
          "text": [
            "            ATR        RSI   Average      MA40      MA80     MA160  slopeMA40  \\\n",
            "165    0.004686  47.386257  1.170530  1.172736  1.176061  1.164331  -0.000036   \n",
            "166    0.004764  55.656867  1.173140  1.172751  1.176156  1.164627  -0.000027   \n",
            "167    0.004734  57.204154  1.176115  1.172805  1.176219  1.164922  -0.000018   \n",
            "168    0.004633  53.170749  1.175325  1.172773  1.176158  1.165207  -0.000010   \n",
            "169    0.004554  55.081423  1.174810  1.172729  1.176124  1.165467  -0.000010   \n",
            "...         ...        ...       ...       ...       ...       ...        ...   \n",
            "28837  0.001848  42.935233  1.155445  1.157715  1.162374  1.171109  -0.000059   \n",
            "28838  0.001830  46.375154  1.156295  1.157628  1.162216  1.170905  -0.000075   \n",
            "28839  0.001907  37.631843  1.155025  1.157479  1.162006  1.170692  -0.000098   \n",
            "28840  0.001937  33.174435  1.153790  1.157292  1.161765  1.170473  -0.000121   \n",
            "28841  0.001894  34.656247  1.152975  1.157129  1.161517  1.170262  -0.000141   \n",
            "\n",
            "       slopeMA80  slopeMA160  AverageSlope  RSISlope  \n",
            "165    -0.000015    0.000285     -0.000281  0.051122  \n",
            "166    -0.000001    0.000284      0.000709  2.391941  \n",
            "167     0.000028    0.000286      0.001648  3.651682  \n",
            "168     0.000033    0.000287      0.001967  3.305324  \n",
            "169     0.000023    0.000284      0.001582  2.428928  \n",
            "...          ...         ...           ...       ...  \n",
            "28837  -0.000211   -0.000202     -0.000431 -1.216677  \n",
            "28838  -0.000201   -0.000204     -0.000170  0.217771  \n",
            "28839  -0.000193   -0.000206     -0.000265 -0.328802  \n",
            "28840  -0.000194   -0.000209     -0.000277 -0.951448  \n",
            "28841  -0.000204   -0.000212     -0.000519 -1.615831  \n",
            "\n",
            "[28644 rows x 11 columns]\n"
          ]
        }
      ],
      "source": [
        "df_model=df_model.dropna()\n",
        "\n",
        "attributes=['ATR', 'RSI', 'Average', 'MA40', 'MA80', 'MA160', 'slopeMA40', 'slopeMA80', 'slopeMA160', 'AverageSlope', 'RSISlope']\n",
        "X = df_model[attributes]\n",
        "y = df_model[\"mytarget\"]\n",
        "\n",
        "print(X)"
      ]
    },
    {
      "cell_type": "code",
      "execution_count": 16,
      "metadata": {
        "id": "Ml89Hw6IWqoi"
      },
      "outputs": [],
      "source": [
        "from sklearn.model_selection import train_test_split\n",
        "X_train, X_test, y_train, y_test = train_test_split(X, y, test_size=0.2, random_state=1)"
      ]
    },
    {
      "cell_type": "markdown",
      "metadata": {
        "id": "jtKQpE7aWqoi"
      },
      "source": [
        "## Fitting the KNN model"
      ]
    },
    {
      "cell_type": "code",
      "execution_count": 17,
      "metadata": {
        "id": "WnD9KhjzWqoi"
      },
      "outputs": [],
      "source": [
        "from sklearn.neighbors import KNeighborsClassifier\n",
        "\n",
        "model = KNeighborsClassifier(n_neighbors=200, weights='uniform', algorithm='kd_tree', leaf_size=30, p=1, metric='minkowski', metric_params=None, n_jobs=1)\n",
        "model.fit(X_train, y_train)\n",
        "\n",
        "y_pred_train = model.predict(X_train)\n",
        "y_pred_test = model.predict(X_test)"
      ]
    },
    {
      "cell_type": "markdown",
      "metadata": {
        "id": "H10MV7NeWqoi"
      },
      "source": [
        "## Quick evaluation of our fitting"
      ]
    },
    {
      "cell_type": "code",
      "execution_count": 18,
      "metadata": {
        "colab": {
          "base_uri": "https://localhost:8080/"
        },
        "id": "CFCLYbu9Wqoi",
        "outputId": "1ba940ad-49c9-4cb7-cfad-f4003e1f7fb3"
      },
      "outputs": [
        {
          "output_type": "stream",
          "name": "stdout",
          "text": [
            "Accuracy train: 38.66%\n",
            "Accuracy test: 37.46%\n",
            "0.0    36.545175\n",
            "2.0    32.034632\n",
            "1.0    31.420193\n",
            "Name: mytarget, dtype: float64\n",
            "Accuracy Gambler: 33.16%\n"
          ]
        }
      ],
      "source": [
        "from sklearn.metrics import accuracy_score\n",
        "accuracy_train = accuracy_score(y_train, y_pred_train)\n",
        "accuracy_test = accuracy_score(y_test, y_pred_test)\n",
        "print(\"Accuracy train: %.2f%%\" % (accuracy_train * 100.0))\n",
        "print(\"Accuracy test: %.2f%%\" % (accuracy_test * 100.0))\n",
        "\n",
        "#------------------------------------------------------------------\n",
        "#--- How should I compare my accuracy ?\n",
        "print(df_model['mytarget'].value_counts()*100/df_model['mytarget'].count())\n",
        "\n",
        "# Random Model, gambler?\n",
        "pred_test = np.random.choice([0, 1, 2], len(y_pred_test))\n",
        "accuracy_test = accuracy_score(y_test, pred_test)\n",
        "print(\"Accuracy Gambler: %.2f%%\" % (accuracy_test * 100.0))"
      ]
    },
    {
      "cell_type": "markdown",
      "metadata": {
        "id": "hVEX-v2XWqoj"
      },
      "source": [
        "## More powerful model XGBoost"
      ]
    },
    {
      "cell_type": "code",
      "execution_count": 19,
      "metadata": {
        "colab": {
          "base_uri": "https://localhost:8080/"
        },
        "id": "DOTXafIcWqoj",
        "outputId": "c3bed708-963d-4642-a0c2-bf0cd9d0f84c"
      },
      "outputs": [
        {
          "output_type": "stream",
          "name": "stdout",
          "text": [
            "****Train Results****\n",
            "Accuracy: 44.2418%\n",
            "****Test Results****\n",
            "Accuracy: 41.0368%\n"
          ]
        }
      ],
      "source": [
        "from xgboost import XGBClassifier\n",
        "model = XGBClassifier()\n",
        "model.fit(X_train, y_train)\n",
        "pred_train = model.predict(X_train)\n",
        "pred_test = model.predict(X_test)\n",
        "acc_train = accuracy_score(y_train, pred_train)\n",
        "acc_test = accuracy_score(y_test, pred_test)\n",
        "print('****Train Results****')\n",
        "print(\"Accuracy: {:.4%}\".format(acc_train))\n",
        "print('****Test Results****')\n",
        "print(\"Accuracy: {:.4%}\".format(acc_test))"
      ]
    },
    {
      "cell_type": "markdown",
      "metadata": {
        "id": "5M3XrI3nWqoj"
      },
      "source": [
        "## !!Data sampling shouldn't be random"
      ]
    },
    {
      "cell_type": "code",
      "execution_count": 20,
      "metadata": {
        "colab": {
          "base_uri": "https://localhost:8080/"
        },
        "id": "XPaTzLP0Wqoj",
        "outputId": "0c0fbcfc-8e8d-4c18-b9a1-13543446ecf9"
      },
      "outputs": [
        {
          "output_type": "stream",
          "name": "stdout",
          "text": [
            "****Train Results****\n",
            "Accuracy: 44.7305%\n",
            "****Test Results****\n",
            "Accuracy: 32.7457%\n"
          ]
        }
      ],
      "source": [
        "#random sampling\n",
        "#X_train, X_test, y_train, y_test = train_test_split(X, y, test_size=0.2, random_state=10)\n",
        "\n",
        "#sequential sampling\n",
        "train_index = int(0.8 * len(X))\n",
        "X_train, X_test = X[:train_index], X[train_index:]\n",
        "y_train, y_test = y[:train_index], y[train_index:]\n",
        "\n",
        "model = XGBClassifier()\n",
        "model.fit(X_train, y_train)\n",
        "pred_train = model.predict(X_train)\n",
        "pred_test = model.predict(X_test)\n",
        "acc_train = accuracy_score(y_train, pred_train)\n",
        "acc_test = accuracy_score(y_test, pred_test)\n",
        "print('****Train Results****')\n",
        "print(\"Accuracy: {:.4%}\".format(acc_train))\n",
        "print('****Test Results****')\n",
        "print(\"Accuracy: {:.4%}\".format(acc_test))"
      ]
    },
    {
      "cell_type": "markdown",
      "metadata": {
        "id": "8Py0y5bhWqoj"
      },
      "source": [
        "## Which features are most important for our model?"
      ]
    },
    {
      "cell_type": "code",
      "execution_count": 21,
      "metadata": {
        "colab": {
          "base_uri": "https://localhost:8080/",
          "height": 295
        },
        "id": "GmlMpb1uWqoj",
        "outputId": "b7b28b8d-229c-4edf-e1df-97553433e094"
      },
      "outputs": [
        {
          "output_type": "display_data",
          "data": {
            "text/plain": [
              "<Figure size 432x288 with 1 Axes>"
            ],
            "image/png": "[encoded data removed]"
          },
          "metadata": {
            "needs_background": "light"
          }
        }
      ],
      "source": [
        "from matplotlib import pyplot\n",
        "from xgboost import plot_importance\n",
        "#plot feature importance\n",
        "plot_importance(model)\n",
        "pyplot.show()"
      ]
    },
    {
      "cell_type": "markdown",
      "metadata": {
        "id": "Y01MqwwbWqok"
      },
      "source": [
        "# Automated orders using python and Machine Learning\n",
        "## Previous videos\n",
        "### 1 - Install Anaconda, Jupyter NB, Pandas_TA (Technical Analysis)\n",
        "### 2 - Download price data from online resources, and add our technical indicators to our exchange price dataframe\n",
        "### 3 - Fit a Machine learning model and predict future price trends using KNN and XGBOOST classifiers\n",
        "### 4 - Save and Load a ML model,\n",
        "### - according to the model's advice\n",
        "### - passing orders (sell/buy) automatically\n",
        "### - send an email notification about newly applied trading operations"
      ]
    },
    {
      "cell_type": "markdown",
      "metadata": {
        "id": "IVXLTBCsWqok"
      },
      "source": [
        "## Load Machine Learning Model from Disk and Test it"
      ]
    },
    {
      "cell_type": "code",
      "execution_count": 22,
      "metadata": {
        "id": "iCNlrfv8Wqok"
      },
      "outputs": [],
      "source": [
        "import joblib\n",
        "\n",
        "# save your ML model to disk\n",
        "filename = 'mymodel1.sav'\n",
        "joblib.dump(model, filename)\n",
        "\n",
        "#load the model from disk\n",
        "loaded_model = joblib.load('mymodel1.sav')"
      ]
    },
    {
      "cell_type": "code",
      "execution_count": null,
      "metadata": {
        "id": "yNxZmN0cWqol"
      },
      "outputs": [],
      "source": []
    }
  ],
  "metadata": {
    "kernelspec": {
      "display_name": "Python 3",
      "language": "python",
      "name": "python3"
    },
    "language_info": {
      "codemirror_mode": {
        "name": "ipython",
        "version": 3
      },
      "file_extension": ".py",
      "mimetype": "text/x-python",
      "name": "python",
      "nbconvert_exporter": "python",
      "pygments_lexer": "ipython3",
      "version": "3.7.3"
    },
    "colab": {
      "provenance": []
    }
  },
  "nbformat": 4,
  "nbformat_minor": 0
}