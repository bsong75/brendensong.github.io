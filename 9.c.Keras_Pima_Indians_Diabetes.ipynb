{
  "nbformat": 4,
  "nbformat_minor": 0,
  "metadata": {
    "colab": {
      "name": "9.c.Keras_Pima Indians Diabetes.ipynb",
      "provenance": [],
      "mount_file_id": "1EGEyG9Q3TFvCpgNOXJcZNr5ogGCQt3LR",
      "authorship_tag": "ABX9TyNwFOj9qwFd+lvfTh8p4iKI",
      "include_colab_link": true
    },
    "kernelspec": {
      "name": "python3",
      "display_name": "Python 3"
    },
    "accelerator": "GPU"
  },
  "cells": [
    {
      "cell_type": "markdown",
      "metadata": {
        "id": "view-in-github",
        "colab_type": "text"
      },
      "source": [
        "<a href=\"https://colab.research.google.com/github/bsong75/brendensong.github.io/blob/main/9_c_Keras_Pima_Indians_Diabetes.ipynb\" target=\"_parent\"><img src=\"https://colab.research.google.com/assets/colab-badge.svg\" alt=\"Open In Colab\"/></a>"
      ]
    },
    {
      "cell_type": "code",
      "metadata": {
        "id": "LqwrPcLYSUo3"
      },
      "source": [
        "# first neural network with keras make predictions\r\n",
        "import pandas as pd\r\n",
        "from numpy import loadtxt\r\n",
        "from keras.models import Sequential\r\n",
        "from keras.layers import Dense"
      ],
      "execution_count": 4,
      "outputs": []
    },
    {
      "cell_type": "code",
      "metadata": {
        "id": "GQ4g60FuS4xw"
      },
      "source": [
        "# load the dataset\r\n",
        "dataset = loadtxt('/content/drive/MyDrive/csv/pima-indians-diabetes.csv', delimiter=',')\r\n",
        "\r\n"
      ],
      "execution_count": 2,
      "outputs": []
    },
    {
      "cell_type": "code",
      "metadata": {
        "colab": {
          "base_uri": "https://localhost:8080/"
        },
        "id": "r5BMTAlpTVZd",
        "outputId": "f4f284c3-783b-46b4-8d76-65902238236e"
      },
      "source": [
        "type(dataset)"
      ],
      "execution_count": 6,
      "outputs": [
        {
          "output_type": "execute_result",
          "data": {
            "text/plain": [
              "numpy.ndarray"
            ]
          },
          "metadata": {
            "tags": []
          },
          "execution_count": 6
        }
      ]
    },
    {
      "cell_type": "code",
      "metadata": {
        "colab": {
          "base_uri": "https://localhost:8080/"
        },
        "id": "LaHg3BfwTlMI",
        "outputId": "da0c6f8c-236f-4cde-a46e-195d28651ce3"
      },
      "source": [
        "len(dataset)"
      ],
      "execution_count": 7,
      "outputs": [
        {
          "output_type": "execute_result",
          "data": {
            "text/plain": [
              "768"
            ]
          },
          "metadata": {
            "tags": []
          },
          "execution_count": 7
        }
      ]
    },
    {
      "cell_type": "code",
      "metadata": {
        "colab": {
          "base_uri": "https://localhost:8080/"
        },
        "id": "oXNmw4mOTpNT",
        "outputId": "f28dd90e-5fcb-4d96-cf81-a0b39cb5c4c1"
      },
      "source": [
        "dataset"
      ],
      "execution_count": 8,
      "outputs": [
        {
          "output_type": "execute_result",
          "data": {
            "text/plain": [
              "array([[  6.   , 148.   ,  72.   , ...,   0.627,  50.   ,   1.   ],\n",
              "       [  1.   ,  85.   ,  66.   , ...,   0.351,  31.   ,   0.   ],\n",
              "       [  8.   , 183.   ,  64.   , ...,   0.672,  32.   ,   1.   ],\n",
              "       ...,\n",
              "       [  5.   , 121.   ,  72.   , ...,   0.245,  30.   ,   0.   ],\n",
              "       [  1.   , 126.   ,  60.   , ...,   0.349,  47.   ,   1.   ],\n",
              "       [  1.   ,  93.   ,  70.   , ...,   0.315,  23.   ,   0.   ]])"
            ]
          },
          "metadata": {
            "tags": []
          },
          "execution_count": 8
        }
      ]
    },
    {
      "cell_type": "code",
      "metadata": {
        "id": "61aBnpLOTSUF"
      },
      "source": [
        "# split into input (X) and output (y) variables\r\n",
        "X = dataset[:,0:8]\r\n",
        "y = dataset[:,-1]"
      ],
      "execution_count": 12,
      "outputs": []
    },
    {
      "cell_type": "code",
      "metadata": {
        "colab": {
          "base_uri": "https://localhost:8080/"
        },
        "id": "WyN7kcOfUWwC",
        "outputId": "38a3c74f-05c1-4d28-8e28-0c8cd4814dd7"
      },
      "source": [
        "len(y)"
      ],
      "execution_count": 14,
      "outputs": [
        {
          "output_type": "execute_result",
          "data": {
            "text/plain": [
              "768"
            ]
          },
          "metadata": {
            "tags": []
          },
          "execution_count": 14
        }
      ]
    },
    {
      "cell_type": "code",
      "metadata": {
        "id": "WGUYIfqaS2Im"
      },
      "source": [
        "# define the keras model\r\n",
        "model = Sequential()\r\n",
        "model.add(Dense(12, input_dim=8, activation='relu'))\r\n",
        "model.add(Dense(8, activation='relu'))\r\n",
        "model.add(Dense(1, activation='sigmoid'))\r\n"
      ],
      "execution_count": 15,
      "outputs": []
    },
    {
      "cell_type": "code",
      "metadata": {
        "id": "dqSEhw71VFZ4"
      },
      "source": [
        "# compile the keras model\r\n",
        "model.compile(loss='binary_crossentropy', optimizer='adam', metrics=['accuracy'])"
      ],
      "execution_count": 30,
      "outputs": []
    },
    {
      "cell_type": "code",
      "metadata": {
        "colab": {
          "base_uri": "https://localhost:8080/"
        },
        "id": "UhgeuYNeXoSW",
        "outputId": "fb855cae-566c-411d-f6db-98984000fe5c"
      },
      "source": [
        "print(model.summary())"
      ],
      "execution_count": 31,
      "outputs": [
        {
          "output_type": "stream",
          "text": [
            "Model: \"sequential\"\n",
            "_________________________________________________________________\n",
            "Layer (type)                 Output Shape              Param #   \n",
            "=================================================================\n",
            "dense (Dense)                (None, 12)                108       \n",
            "_________________________________________________________________\n",
            "dense_1 (Dense)              (None, 8)                 104       \n",
            "_________________________________________________________________\n",
            "dense_2 (Dense)              (None, 1)                 9         \n",
            "=================================================================\n",
            "Total params: 221\n",
            "Trainable params: 221\n",
            "Non-trainable params: 0\n",
            "_________________________________________________________________\n",
            "None\n"
          ],
          "name": "stdout"
        }
      ]
    },
    {
      "cell_type": "code",
      "metadata": {
        "colab": {
          "base_uri": "https://localhost:8080/"
        },
        "id": "mQG412InVF9z",
        "outputId": "39d5d60e-3f87-4ede-b75d-27574d402161"
      },
      "source": [
        "# fit the keras model on the dataset\r\n",
        "model.fit(X, y, epochs=30, batch_size=10, validation_split=0.1, verbose=2)"
      ],
      "execution_count": 32,
      "outputs": [
        {
          "output_type": "stream",
          "text": [
            "Epoch 1/30\n",
            "70/70 - 0s - loss: 0.4892 - accuracy: 0.7685 - val_loss: 0.5020 - val_accuracy: 0.8052\n",
            "Epoch 2/30\n",
            "70/70 - 0s - loss: 0.4686 - accuracy: 0.7699 - val_loss: 0.5990 - val_accuracy: 0.6753\n",
            "Epoch 3/30\n",
            "70/70 - 0s - loss: 0.4808 - accuracy: 0.7728 - val_loss: 0.5112 - val_accuracy: 0.7662\n",
            "Epoch 4/30\n",
            "70/70 - 0s - loss: 0.4645 - accuracy: 0.7829 - val_loss: 0.5400 - val_accuracy: 0.7403\n",
            "Epoch 5/30\n",
            "70/70 - 0s - loss: 0.4729 - accuracy: 0.7612 - val_loss: 0.4889 - val_accuracy: 0.7792\n",
            "Epoch 6/30\n",
            "70/70 - 0s - loss: 0.4761 - accuracy: 0.7554 - val_loss: 0.4952 - val_accuracy: 0.7922\n",
            "Epoch 7/30\n",
            "70/70 - 0s - loss: 0.4570 - accuracy: 0.7728 - val_loss: 0.5070 - val_accuracy: 0.7662\n",
            "Epoch 8/30\n",
            "70/70 - 0s - loss: 0.4772 - accuracy: 0.7598 - val_loss: 0.4816 - val_accuracy: 0.7922\n",
            "Epoch 9/30\n",
            "70/70 - 0s - loss: 0.4616 - accuracy: 0.7742 - val_loss: 0.5254 - val_accuracy: 0.7273\n",
            "Epoch 10/30\n",
            "70/70 - 0s - loss: 0.4903 - accuracy: 0.7670 - val_loss: 0.5116 - val_accuracy: 0.7922\n",
            "Epoch 11/30\n",
            "70/70 - 0s - loss: 0.4755 - accuracy: 0.7598 - val_loss: 0.5974 - val_accuracy: 0.7013\n",
            "Epoch 12/30\n",
            "70/70 - 0s - loss: 0.4873 - accuracy: 0.7742 - val_loss: 0.5510 - val_accuracy: 0.7403\n",
            "Epoch 13/30\n",
            "70/70 - 0s - loss: 0.4715 - accuracy: 0.7627 - val_loss: 0.5455 - val_accuracy: 0.7273\n",
            "Epoch 14/30\n",
            "70/70 - 0s - loss: 0.5047 - accuracy: 0.7713 - val_loss: 0.5255 - val_accuracy: 0.7922\n",
            "Epoch 15/30\n",
            "70/70 - 0s - loss: 0.4734 - accuracy: 0.7685 - val_loss: 0.5143 - val_accuracy: 0.7532\n",
            "Epoch 16/30\n",
            "70/70 - 0s - loss: 0.4711 - accuracy: 0.7670 - val_loss: 0.4802 - val_accuracy: 0.7792\n",
            "Epoch 17/30\n",
            "70/70 - 0s - loss: 0.4589 - accuracy: 0.7916 - val_loss: 0.5774 - val_accuracy: 0.7013\n",
            "Epoch 18/30\n",
            "70/70 - 0s - loss: 0.4767 - accuracy: 0.7742 - val_loss: 0.4785 - val_accuracy: 0.8182\n",
            "Epoch 19/30\n",
            "70/70 - 0s - loss: 0.4699 - accuracy: 0.7771 - val_loss: 0.5223 - val_accuracy: 0.7532\n",
            "Epoch 20/30\n",
            "70/70 - 0s - loss: 0.4865 - accuracy: 0.7685 - val_loss: 0.4964 - val_accuracy: 0.7532\n",
            "Epoch 21/30\n",
            "70/70 - 0s - loss: 0.4646 - accuracy: 0.7771 - val_loss: 0.4949 - val_accuracy: 0.7922\n",
            "Epoch 22/30\n",
            "70/70 - 0s - loss: 0.4733 - accuracy: 0.7786 - val_loss: 0.4849 - val_accuracy: 0.8312\n",
            "Epoch 23/30\n",
            "70/70 - 0s - loss: 0.4629 - accuracy: 0.7786 - val_loss: 0.5679 - val_accuracy: 0.7143\n",
            "Epoch 24/30\n",
            "70/70 - 0s - loss: 0.4809 - accuracy: 0.7656 - val_loss: 0.4953 - val_accuracy: 0.7922\n",
            "Epoch 25/30\n",
            "70/70 - 0s - loss: 0.4723 - accuracy: 0.7670 - val_loss: 0.5905 - val_accuracy: 0.7143\n",
            "Epoch 26/30\n",
            "70/70 - 0s - loss: 0.4958 - accuracy: 0.7583 - val_loss: 0.4992 - val_accuracy: 0.7792\n",
            "Epoch 27/30\n",
            "70/70 - 0s - loss: 0.4757 - accuracy: 0.7656 - val_loss: 0.4893 - val_accuracy: 0.8052\n",
            "Epoch 28/30\n",
            "70/70 - 0s - loss: 0.4782 - accuracy: 0.7540 - val_loss: 0.5497 - val_accuracy: 0.7013\n",
            "Epoch 29/30\n",
            "70/70 - 0s - loss: 0.4630 - accuracy: 0.7786 - val_loss: 0.5180 - val_accuracy: 0.7662\n",
            "Epoch 30/30\n",
            "70/70 - 0s - loss: 0.4706 - accuracy: 0.7815 - val_loss: 0.5706 - val_accuracy: 0.7013\n"
          ],
          "name": "stdout"
        },
        {
          "output_type": "execute_result",
          "data": {
            "text/plain": [
              "<tensorflow.python.keras.callbacks.History at 0x7f517c778080>"
            ]
          },
          "metadata": {
            "tags": []
          },
          "execution_count": 32
        }
      ]
    },
    {
      "cell_type": "code",
      "metadata": {
        "colab": {
          "base_uri": "https://localhost:8080/"
        },
        "id": "xIR7a_l5WYeY",
        "outputId": "cfaab431-b46c-47da-e20f-4749927846c5"
      },
      "source": [
        "# evaluate the keras model\r\n",
        "#loss, accuracy = model.evaluate(X, y, verbose=0)\r\n",
        "#print(loss, accuracy)"
      ],
      "execution_count": 33,
      "outputs": [
        {
          "output_type": "stream",
          "text": [
            "0.4827054440975189 0.7643229365348816\n"
          ],
          "name": "stdout"
        }
      ]
    },
    {
      "cell_type": "code",
      "metadata": {
        "id": "q_HmUQIaSwNw"
      },
      "source": [
        "# make class predictions with the model\r\n",
        "import numpy as np\r\n",
        "predictions = np.argmax(model.predict(X), axis=-1)"
      ],
      "execution_count": 35,
      "outputs": []
    },
    {
      "cell_type": "code",
      "metadata": {
        "colab": {
          "base_uri": "https://localhost:8080/"
        },
        "id": "lzqmdV2hSxQU",
        "outputId": "8e6f2039-bcdf-44c8-afd3-5473909baed7"
      },
      "source": [
        "# summarize the first 5 cases\r\n",
        "for i in range(5):\r\n",
        "\tprint('%s => %d (expected %d)' % (X[i].tolist(), predictions[i], y[i]))"
      ],
      "execution_count": 36,
      "outputs": [
        {
          "output_type": "stream",
          "text": [
            "[6.0, 148.0, 72.0, 35.0, 0.0, 33.6, 0.627, 50.0] => 0 (expected 1)\n",
            "[1.0, 85.0, 66.0, 29.0, 0.0, 26.6, 0.351, 31.0] => 0 (expected 0)\n",
            "[8.0, 183.0, 64.0, 0.0, 0.0, 23.3, 0.672, 32.0] => 0 (expected 1)\n",
            "[1.0, 89.0, 66.0, 23.0, 94.0, 28.1, 0.167, 21.0] => 0 (expected 0)\n",
            "[0.0, 137.0, 40.0, 35.0, 168.0, 43.1, 2.288, 33.0] => 0 (expected 1)\n"
          ],
          "name": "stdout"
        }
      ]
    },
    {
      "cell_type": "code",
      "metadata": {
        "colab": {
          "base_uri": "https://localhost:8080/"
        },
        "id": "sTXqMe5iWvCc",
        "outputId": "32b8ed31-70be-4276-e147-1e88c033ae2a"
      },
      "source": [
        "model.save('pima_diabetes')\r\n"
      ],
      "execution_count": 37,
      "outputs": [
        {
          "output_type": "stream",
          "text": [
            "WARNING:tensorflow:From /usr/local/lib/python3.6/dist-packages/tensorflow/python/training/tracking/tracking.py:111: Model.state_updates (from tensorflow.python.keras.engine.training) is deprecated and will be removed in a future version.\n",
            "Instructions for updating:\n",
            "This property should not be used in TensorFlow 2.0, as updates are applied automatically.\n",
            "WARNING:tensorflow:From /usr/local/lib/python3.6/dist-packages/tensorflow/python/training/tracking/tracking.py:111: Layer.updates (from tensorflow.python.keras.engine.base_layer) is deprecated and will be removed in a future version.\n",
            "Instructions for updating:\n",
            "This property should not be used in TensorFlow 2.0, as updates are applied automatically.\n",
            "INFO:tensorflow:Assets written to: pima_diabetes/assets\n"
          ],
          "name": "stdout"
        }
      ]
    },
    {
      "cell_type": "code",
      "metadata": {
        "id": "QCWVRTTnaFim"
      },
      "source": [
        ""
      ],
      "execution_count": null,
      "outputs": []
    }
  ]
}
