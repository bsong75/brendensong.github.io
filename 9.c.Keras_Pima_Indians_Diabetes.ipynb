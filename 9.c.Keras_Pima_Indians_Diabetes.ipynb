{
  "nbformat": 4,
  "nbformat_minor": 0,
  "metadata": {
    "colab": {
      "name": "9.c.Keras_Pima Indians Diabetes.ipynb",
      "provenance": [],
      "mount_file_id": "1EGEyG9Q3TFvCpgNOXJcZNr5ogGCQt3LR",
      "authorship_tag": "ABX9TyOLsgDiPL5u3Z8cKpsA00lA",
      "include_colab_link": true
    },
    "kernelspec": {
      "name": "python3",
      "display_name": "Python 3"
    },
    "accelerator": "GPU"
  },
  "cells": [
    {
      "cell_type": "markdown",
      "metadata": {
        "id": "view-in-github",
        "colab_type": "text"
      },
      "source": [
        "<a href=\"https://colab.research.google.com/github/bsong75/brendensong.github.io/blob/main/9.c.Keras_Pima_Indians_Diabetes.ipynb\" target=\"_parent\"><img src=\"https://colab.research.google.com/assets/colab-badge.svg\" alt=\"Open In Colab\"/></a>"
      ]
    },
    {
      "cell_type": "code",
      "metadata": {
        "id": "LqwrPcLYSUo3"
      },
      "source": [
        "# first neural network with keras make predictions\r\n",
        "import pandas as pd\r\n",
        "from numpy import loadtxt\r\n",
        "from keras.models import Sequential\r\n",
        "from keras.layers import Dense"
      ],
      "execution_count": 4,
      "outputs": []
    },
    {
      "cell_type": "code",
      "metadata": {
        "id": "GQ4g60FuS4xw"
      },
      "source": [
        "# load the dataset\r\n",
        "dataset = loadtxt('/content/drive/MyDrive/csv/pima-indians-diabetes.csv', delimiter=',')\r\n",
        "\r\n"
      ],
      "execution_count": 2,
      "outputs": []
    },
    {
      "cell_type": "code",
      "metadata": {
        "colab": {
          "base_uri": "https://localhost:8080/"
        },
        "id": "r5BMTAlpTVZd",
        "outputId": "f4f284c3-783b-46b4-8d76-65902238236e"
      },
      "source": [
        "type(dataset)"
      ],
      "execution_count": 6,
      "outputs": [
        {
          "output_type": "execute_result",
          "data": {
            "text/plain": [
              "numpy.ndarray"
            ]
          },
          "metadata": {
            "tags": []
          },
          "execution_count": 6
        }
      ]
    },
    {
      "cell_type": "code",
      "metadata": {
        "colab": {
          "base_uri": "https://localhost:8080/"
        },
        "id": "LaHg3BfwTlMI",
        "outputId": "da0c6f8c-236f-4cde-a46e-195d28651ce3"
      },
      "source": [
        "len(dataset)"
      ],
      "execution_count": 7,
      "outputs": [
        {
          "output_type": "execute_result",
          "data": {
            "text/plain": [
              "768"
            ]
          },
          "metadata": {
            "tags": []
          },
          "execution_count": 7
        }
      ]
    },
    {
      "cell_type": "code",
      "metadata": {
        "colab": {
          "base_uri": "https://localhost:8080/"
        },
        "id": "oXNmw4mOTpNT",
        "outputId": "f28dd90e-5fcb-4d96-cf81-a0b39cb5c4c1"
      },
      "source": [
        "dataset"
      ],
      "execution_count": 8,
      "outputs": [
        {
          "output_type": "execute_result",
          "data": {
            "text/plain": [
              "array([[  6.   , 148.   ,  72.   , ...,   0.627,  50.   ,   1.   ],\n",
              "       [  1.   ,  85.   ,  66.   , ...,   0.351,  31.   ,   0.   ],\n",
              "       [  8.   , 183.   ,  64.   , ...,   0.672,  32.   ,   1.   ],\n",
              "       ...,\n",
              "       [  5.   , 121.   ,  72.   , ...,   0.245,  30.   ,   0.   ],\n",
              "       [  1.   , 126.   ,  60.   , ...,   0.349,  47.   ,   1.   ],\n",
              "       [  1.   ,  93.   ,  70.   , ...,   0.315,  23.   ,   0.   ]])"
            ]
          },
          "metadata": {
            "tags": []
          },
          "execution_count": 8
        }
      ]
    },
    {
      "cell_type": "code",
      "metadata": {
        "id": "61aBnpLOTSUF"
      },
      "source": [
        "# split into input (X) and output (y) variables\r\n",
        "X = dataset[:,0:8]\r\n",
        "y = dataset[:,-1]"
      ],
      "execution_count": 12,
      "outputs": []
    },
    {
      "cell_type": "code",
      "metadata": {
        "colab": {
          "base_uri": "https://localhost:8080/"
        },
        "id": "WyN7kcOfUWwC",
        "outputId": "38a3c74f-05c1-4d28-8e28-0c8cd4814dd7"
      },
      "source": [
        "len(y)"
      ],
      "execution_count": 14,
      "outputs": [
        {
          "output_type": "execute_result",
          "data": {
            "text/plain": [
              "768"
            ]
          },
          "metadata": {
            "tags": []
          },
          "execution_count": 14
        }
      ]
    },
    {
      "cell_type": "code",
      "metadata": {
        "id": "WGUYIfqaS2Im"
      },
      "source": [
        "# define the keras model\r\n",
        "model = Sequential()\r\n",
        "model.add(Dense(12, input_dim=8, activation='relu'))\r\n",
        "model.add(Dense(8, activation='relu'))\r\n",
        "model.add(Dense(1, activation='sigmoid'))\r\n"
      ],
      "execution_count": 15,
      "outputs": []
    },
    {
      "cell_type": "code",
      "metadata": {
        "id": "dqSEhw71VFZ4"
      },
      "source": [
        "# compile the keras model\r\n",
        "model.compile(loss='binary_crossentropy', optimizer='adam', metrics=['accuracy'])"
      ],
      "execution_count": 16,
      "outputs": []
    },
    {
      "cell_type": "code",
      "metadata": {
        "colab": {
          "base_uri": "https://localhost:8080/"
        },
        "id": "mQG412InVF9z",
        "outputId": "d88322e4-04ce-4ae6-c052-037ac54e314a"
      },
      "source": [
        "# fit the keras model on the dataset\r\n",
        "model.fit(X, y, epochs=30, batch_size=10, verbose=2)"
      ],
      "execution_count": 21,
      "outputs": [
        {
          "output_type": "stream",
          "text": [
            "Epoch 1/30\n",
            "77/77 - 0s - loss: 0.5088 - accuracy: 0.7539\n",
            "Epoch 2/30\n",
            "77/77 - 0s - loss: 0.5111 - accuracy: 0.7565\n",
            "Epoch 3/30\n",
            "77/77 - 0s - loss: 0.4903 - accuracy: 0.7669\n",
            "Epoch 4/30\n",
            "77/77 - 0s - loss: 0.5039 - accuracy: 0.7565\n",
            "Epoch 5/30\n",
            "77/77 - 0s - loss: 0.4905 - accuracy: 0.7708\n",
            "Epoch 6/30\n",
            "77/77 - 0s - loss: 0.4942 - accuracy: 0.7513\n",
            "Epoch 7/30\n",
            "77/77 - 0s - loss: 0.4881 - accuracy: 0.7786\n",
            "Epoch 8/30\n",
            "77/77 - 0s - loss: 0.4972 - accuracy: 0.7643\n",
            "Epoch 9/30\n",
            "77/77 - 0s - loss: 0.4913 - accuracy: 0.7656\n",
            "Epoch 10/30\n",
            "77/77 - 0s - loss: 0.4869 - accuracy: 0.7604\n",
            "Epoch 11/30\n",
            "77/77 - 0s - loss: 0.4838 - accuracy: 0.7734\n",
            "Epoch 12/30\n",
            "77/77 - 0s - loss: 0.4819 - accuracy: 0.7708\n",
            "Epoch 13/30\n",
            "77/77 - 0s - loss: 0.4890 - accuracy: 0.7565\n",
            "Epoch 14/30\n",
            "77/77 - 0s - loss: 0.4915 - accuracy: 0.7578\n",
            "Epoch 15/30\n",
            "77/77 - 0s - loss: 0.4914 - accuracy: 0.7578\n",
            "Epoch 16/30\n",
            "77/77 - 0s - loss: 0.5136 - accuracy: 0.7604\n",
            "Epoch 17/30\n",
            "77/77 - 0s - loss: 0.4927 - accuracy: 0.7643\n",
            "Epoch 18/30\n",
            "77/77 - 0s - loss: 0.4829 - accuracy: 0.7604\n",
            "Epoch 19/30\n",
            "77/77 - 0s - loss: 0.4741 - accuracy: 0.7891\n",
            "Epoch 20/30\n",
            "77/77 - 0s - loss: 0.4799 - accuracy: 0.7669\n",
            "Epoch 21/30\n",
            "77/77 - 0s - loss: 0.4732 - accuracy: 0.7734\n",
            "Epoch 22/30\n",
            "77/77 - 0s - loss: 0.4816 - accuracy: 0.7695\n",
            "Epoch 23/30\n",
            "77/77 - 0s - loss: 0.4834 - accuracy: 0.7786\n",
            "Epoch 24/30\n",
            "77/77 - 0s - loss: 0.4951 - accuracy: 0.7617\n",
            "Epoch 25/30\n",
            "77/77 - 0s - loss: 0.4833 - accuracy: 0.7682\n",
            "Epoch 26/30\n",
            "77/77 - 0s - loss: 0.4888 - accuracy: 0.7695\n",
            "Epoch 27/30\n",
            "77/77 - 0s - loss: 0.4820 - accuracy: 0.7734\n",
            "Epoch 28/30\n",
            "77/77 - 0s - loss: 0.4810 - accuracy: 0.7734\n",
            "Epoch 29/30\n",
            "77/77 - 0s - loss: 0.4802 - accuracy: 0.7656\n",
            "Epoch 30/30\n",
            "77/77 - 0s - loss: 0.4746 - accuracy: 0.7786\n"
          ],
          "name": "stdout"
        },
        {
          "output_type": "execute_result",
          "data": {
            "text/plain": [
              "<tensorflow.python.keras.callbacks.History at 0x7f518e071fd0>"
            ]
          },
          "metadata": {
            "tags": []
          },
          "execution_count": 21
        }
      ]
    },
    {
      "cell_type": "code",
      "metadata": {
        "colab": {
          "base_uri": "https://localhost:8080/"
        },
        "id": "xIR7a_l5WYeY",
        "outputId": "5b7a9679-fb5e-493c-f9dd-5e5081a149c6"
      },
      "source": [
        "# evaluate the keras model\r\n",
        "loss, accuracy = model.evaluate(X, y, verbose=0)\r\n",
        "print(loss, accuracy)"
      ],
      "execution_count": 22,
      "outputs": [
        {
          "output_type": "stream",
          "text": [
            "0.4937690496444702 0.7630208134651184\n"
          ],
          "name": "stdout"
        }
      ]
    },
    {
      "cell_type": "code",
      "metadata": {
        "id": "q_HmUQIaSwNw"
      },
      "source": [
        "# make class predictions with the model\r\n",
        "import numpy as np\r\n",
        "predictions = np.argmax(model.predict(X), axis=-1)"
      ],
      "execution_count": 25,
      "outputs": []
    },
    {
      "cell_type": "code",
      "metadata": {
        "colab": {
          "base_uri": "https://localhost:8080/"
        },
        "id": "lzqmdV2hSxQU",
        "outputId": "7e99ad93-e7d2-4777-b83e-d826b8271fae"
      },
      "source": [
        "# summarize the first 5 cases\r\n",
        "for i in range(5):\r\n",
        "\tprint('%s => %d (expected %d)' % (X[i].tolist(), predictions[i], y[i]))"
      ],
      "execution_count": 26,
      "outputs": [
        {
          "output_type": "stream",
          "text": [
            "[6.0, 148.0, 72.0, 35.0, 0.0, 33.6, 0.627, 50.0] => 0 (expected 1)\n",
            "[1.0, 85.0, 66.0, 29.0, 0.0, 26.6, 0.351, 31.0] => 0 (expected 0)\n",
            "[8.0, 183.0, 64.0, 0.0, 0.0, 23.3, 0.672, 32.0] => 0 (expected 1)\n",
            "[1.0, 89.0, 66.0, 23.0, 94.0, 28.1, 0.167, 21.0] => 0 (expected 0)\n",
            "[0.0, 137.0, 40.0, 35.0, 168.0, 43.1, 2.288, 33.0] => 0 (expected 1)\n"
          ],
          "name": "stdout"
        }
      ]
    },
    {
      "cell_type": "code",
      "metadata": {
        "id": "sTXqMe5iWvCc"
      },
      "source": [
        ""
      ],
      "execution_count": null,
      "outputs": []
    }
  ]
}