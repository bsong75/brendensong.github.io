{
  "nbformat": 4,
  "nbformat_minor": 0,
  "metadata": {
    "colab": {
      "name": "3.b.Unsupervised_K-Means_Iris.ipynb",
      "provenance": [],
      "mount_file_id": "1S_JCxIqmnM7nG8HhDU0dcnI3qWDoUXvh",
      "authorship_tag": "ABX9TyNzQjUe/nxuTiQGB3pdYvGN",
      "include_colab_link": true
    },
    "kernelspec": {
      "name": "python3",
      "display_name": "Python 3"
    }
  },
  "cells": [
    {
      "cell_type": "markdown",
      "metadata": {
        "id": "view-in-github",
        "colab_type": "text"
      },
      "source": [
        "<a href=\"https://colab.research.google.com/github/bsong75/brendensong.github.io/blob/main/3.b.Unsupervised_K_Means_Iris.ipynb\" target=\"_parent\"><img src=\"https://colab.research.google.com/assets/colab-badge.svg\" alt=\"Open In Colab\"/></a>"
      ]
    },
    {
      "cell_type": "code",
      "metadata": {
        "id": "2JAQv1Mh_lYH"
      },
      "source": [
        "\r\n",
        "from sklearn.cluster import KMeans\r\n",
        "import pandas as pd\r\n",
        "from sklearn.preprocessing import MinMaxScaler\r\n",
        "from matplotlib import pyplot as plt\r\n",
        "%matplotlib inline"
      ],
      "execution_count": 6,
      "outputs": []
    },
    {
      "cell_type": "code",
      "metadata": {
        "colab": {
          "base_uri": "https://localhost:8080/",
          "height": 193
        },
        "id": "5LcsVMPh_w3D",
        "outputId": "5772fa19-48af-4c6a-c4e5-70d54a9b0c05"
      },
      "source": [
        "colnames=['sl', 'sw', 'pl', 'pw', 'cat']\r\n",
        "df = pd.read_csv(\"/content/drive/MyDrive/csv/iris.csv\", names=colnames, header=None)\r\n",
        "df.head()"
      ],
      "execution_count": 10,
      "outputs": [
        {
          "output_type": "execute_result",
          "data": {
            "text/html": [
              "<div>\n",
              "<style scoped>\n",
              "    .dataframe tbody tr th:only-of-type {\n",
              "        vertical-align: middle;\n",
              "    }\n",
              "\n",
              "    .dataframe tbody tr th {\n",
              "        vertical-align: top;\n",
              "    }\n",
              "\n",
              "    .dataframe thead th {\n",
              "        text-align: right;\n",
              "    }\n",
              "</style>\n",
              "<table border=\"1\" class=\"dataframe\">\n",
              "  <thead>\n",
              "    <tr style=\"text-align: right;\">\n",
              "      <th></th>\n",
              "      <th>sl</th>\n",
              "      <th>sw</th>\n",
              "      <th>pl</th>\n",
              "      <th>pw</th>\n",
              "      <th>cat</th>\n",
              "    </tr>\n",
              "  </thead>\n",
              "  <tbody>\n",
              "    <tr>\n",
              "      <th>0</th>\n",
              "      <td>5.1</td>\n",
              "      <td>3.5</td>\n",
              "      <td>1.4</td>\n",
              "      <td>0.2</td>\n",
              "      <td>Iris-setosa</td>\n",
              "    </tr>\n",
              "    <tr>\n",
              "      <th>1</th>\n",
              "      <td>4.9</td>\n",
              "      <td>3.0</td>\n",
              "      <td>1.4</td>\n",
              "      <td>0.2</td>\n",
              "      <td>Iris-setosa</td>\n",
              "    </tr>\n",
              "    <tr>\n",
              "      <th>2</th>\n",
              "      <td>4.7</td>\n",
              "      <td>3.2</td>\n",
              "      <td>1.3</td>\n",
              "      <td>0.2</td>\n",
              "      <td>Iris-setosa</td>\n",
              "    </tr>\n",
              "    <tr>\n",
              "      <th>3</th>\n",
              "      <td>4.6</td>\n",
              "      <td>3.1</td>\n",
              "      <td>1.5</td>\n",
              "      <td>0.2</td>\n",
              "      <td>Iris-setosa</td>\n",
              "    </tr>\n",
              "    <tr>\n",
              "      <th>4</th>\n",
              "      <td>5.0</td>\n",
              "      <td>3.6</td>\n",
              "      <td>1.4</td>\n",
              "      <td>0.2</td>\n",
              "      <td>Iris-setosa</td>\n",
              "    </tr>\n",
              "  </tbody>\n",
              "</table>\n",
              "</div>"
            ],
            "text/plain": [
              "    sl   sw   pl   pw          cat\n",
              "0  5.1  3.5  1.4  0.2  Iris-setosa\n",
              "1  4.9  3.0  1.4  0.2  Iris-setosa\n",
              "2  4.7  3.2  1.3  0.2  Iris-setosa\n",
              "3  4.6  3.1  1.5  0.2  Iris-setosa\n",
              "4  5.0  3.6  1.4  0.2  Iris-setosa"
            ]
          },
          "metadata": {
            "tags": []
          },
          "execution_count": 10
        }
      ]
    },
    {
      "cell_type": "code",
      "metadata": {
        "colab": {
          "base_uri": "https://localhost:8080/",
          "height": 295
        },
        "id": "TkJ-xxfr_w_g",
        "outputId": "64c6dcd5-6b56-408a-b0f6-03859965be53"
      },
      "source": [
        "type(df.sl)\r\n",
        "\r\n",
        "plt.scatter(df.sl,df.pl)\r\n",
        "plt.xlabel('Sepal Length')\r\n",
        "plt.ylabel('Pedal Length')"
      ],
      "execution_count": 17,
      "outputs": [
        {
          "output_type": "execute_result",
          "data": {
            "text/plain": [
              "Text(0, 0.5, 'Pedal Length')"
            ]
          },
          "metadata": {
            "tags": []
          },
          "execution_count": 17
        },
        {
          "output_type": "display_data",
          "data": {
            "image/png": "[encoded data removed]",
            "text/plain": [
              "<Figure size 432x288 with 1 Axes>"
            ]
          },
          "metadata": {
            "tags": [],
            "needs_background": "light"
          }
        }
      ]
    },
    {
      "cell_type": "code",
      "metadata": {
        "id": "D20uLAFt_xJB"
      },
      "source": [
        "km=KMeans(n_clusters=3)\r\n",
        "y_predicted=km.fit_predict(df[['sl', 'pl']])\r\n",
        "y_predicted\r\n",
        "df['cluster']=y_predicted"
      ],
      "execution_count": 29,
      "outputs": []
    },
    {
      "cell_type": "code",
      "metadata": {
        "colab": {
          "base_uri": "https://localhost:8080/",
          "height": 193
        },
        "id": "Qg1lIJOwgvrl",
        "outputId": "51f06a02-4c8a-4875-b76f-d96d4ed4dc3e"
      },
      "source": [
        "df.head()"
      ],
      "execution_count": 30,
      "outputs": [
        {
          "output_type": "execute_result",
          "data": {
            "text/html": [
              "<div>\n",
              "<style scoped>\n",
              "    .dataframe tbody tr th:only-of-type {\n",
              "        vertical-align: middle;\n",
              "    }\n",
              "\n",
              "    .dataframe tbody tr th {\n",
              "        vertical-align: top;\n",
              "    }\n",
              "\n",
              "    .dataframe thead th {\n",
              "        text-align: right;\n",
              "    }\n",
              "</style>\n",
              "<table border=\"1\" class=\"dataframe\">\n",
              "  <thead>\n",
              "    <tr style=\"text-align: right;\">\n",
              "      <th></th>\n",
              "      <th>sl</th>\n",
              "      <th>sw</th>\n",
              "      <th>pl</th>\n",
              "      <th>pw</th>\n",
              "      <th>cat</th>\n",
              "      <th>pred</th>\n",
              "      <th>cluster</th>\n",
              "    </tr>\n",
              "  </thead>\n",
              "  <tbody>\n",
              "    <tr>\n",
              "      <th>0</th>\n",
              "      <td>5.1</td>\n",
              "      <td>3.5</td>\n",
              "      <td>1.4</td>\n",
              "      <td>0.2</td>\n",
              "      <td>Iris-setosa</td>\n",
              "      <td>0</td>\n",
              "      <td>1</td>\n",
              "    </tr>\n",
              "    <tr>\n",
              "      <th>1</th>\n",
              "      <td>4.9</td>\n",
              "      <td>3.0</td>\n",
              "      <td>1.4</td>\n",
              "      <td>0.2</td>\n",
              "      <td>Iris-setosa</td>\n",
              "      <td>0</td>\n",
              "      <td>1</td>\n",
              "    </tr>\n",
              "    <tr>\n",
              "      <th>2</th>\n",
              "      <td>4.7</td>\n",
              "      <td>3.2</td>\n",
              "      <td>1.3</td>\n",
              "      <td>0.2</td>\n",
              "      <td>Iris-setosa</td>\n",
              "      <td>0</td>\n",
              "      <td>1</td>\n",
              "    </tr>\n",
              "    <tr>\n",
              "      <th>3</th>\n",
              "      <td>4.6</td>\n",
              "      <td>3.1</td>\n",
              "      <td>1.5</td>\n",
              "      <td>0.2</td>\n",
              "      <td>Iris-setosa</td>\n",
              "      <td>0</td>\n",
              "      <td>1</td>\n",
              "    </tr>\n",
              "    <tr>\n",
              "      <th>4</th>\n",
              "      <td>5.0</td>\n",
              "      <td>3.6</td>\n",
              "      <td>1.4</td>\n",
              "      <td>0.2</td>\n",
              "      <td>Iris-setosa</td>\n",
              "      <td>0</td>\n",
              "      <td>1</td>\n",
              "    </tr>\n",
              "  </tbody>\n",
              "</table>\n",
              "</div>"
            ],
            "text/plain": [
              "    sl   sw   pl   pw          cat  pred  cluster\n",
              "0  5.1  3.5  1.4  0.2  Iris-setosa     0        1\n",
              "1  4.9  3.0  1.4  0.2  Iris-setosa     0        1\n",
              "2  4.7  3.2  1.3  0.2  Iris-setosa     0        1\n",
              "3  4.6  3.1  1.5  0.2  Iris-setosa     0        1\n",
              "4  5.0  3.6  1.4  0.2  Iris-setosa     0        1"
            ]
          },
          "metadata": {
            "tags": []
          },
          "execution_count": 30
        }
      ]
    },
    {
      "cell_type": "code",
      "metadata": {
        "colab": {
          "base_uri": "https://localhost:8080/"
        },
        "id": "bYUM6HYu_xNq",
        "outputId": "71186b97-174b-4485-ba86-58d82a7d1dcd"
      },
      "source": [
        "\r\n",
        "km.cluster_centers_"
      ],
      "execution_count": 31,
      "outputs": [
        {
          "output_type": "execute_result",
          "data": {
            "text/plain": [
              "array([[6.83902439, 5.67804878],\n",
              "       [5.00784314, 1.49411765],\n",
              "       [5.87413793, 4.39310345]])"
            ]
          },
          "metadata": {
            "tags": []
          },
          "execution_count": 31
        }
      ]
    },
    {
      "cell_type": "code",
      "metadata": {
        "colab": {
          "base_uri": "https://localhost:8080/",
          "height": 281
        },
        "id": "MgT0GNEh_xR3",
        "outputId": "26df3852-39c7-4351-c29b-848af1ea4df2"
      },
      "source": [
        "df1 = df[df.cluster==0]\r\n",
        "df2 = df[df.cluster==1]\r\n",
        "df3 = df[df.cluster==2]\r\n",
        "plt.scatter(df1.sl,df1.pl,color='green')\r\n",
        "plt.scatter(df2.sl,df2.pl,color='red')\r\n",
        "plt.scatter(df3.sl,df3.pl, color='black')\r\n",
        "plt.scatter(km.cluster_centers_[:,0],km.cluster_centers_[:,1],color='purple',marker='*',label='centroid')\r\n",
        "plt.legend()"
      ],
      "execution_count": 33,
      "outputs": [
        {
          "output_type": "execute_result",
          "data": {
            "text/plain": [
              "<matplotlib.legend.Legend at 0x7fe187ee69b0>"
            ]
          },
          "metadata": {
            "tags": []
          },
          "execution_count": 33
        },
        {
          "output_type": "display_data",
          "data": {
            "image/png": "[encoded data removed]",
            "text/plain": [
              "<Figure size 432x288 with 1 Axes>"
            ]
          },
          "metadata": {
            "tags": [],
            "needs_background": "light"
          }
        }
      ]
    },
    {
      "cell_type": "code",
      "metadata": {
        "id": "LqvMPNBo_xhn"
      },
      "source": [
        "sse = []\r\n",
        "k_rng = range(1,10)\r\n",
        "for k in k_rng:\r\n",
        "    km = KMeans(n_clusters=k)\r\n",
        "    km.fit(df[['sl','pl']])\r\n",
        "    sse.append(km.inertia_)"
      ],
      "execution_count": 34,
      "outputs": []
    },
    {
      "cell_type": "code",
      "metadata": {
        "colab": {
          "base_uri": "https://localhost:8080/",
          "height": 295
        },
        "id": "K_jgbfcJ_xli",
        "outputId": "3d81dce8-5125-455d-bbd6-18373e4c93e1"
      },
      "source": [
        "\r\n",
        "plt.xlabel('K')\r\n",
        "plt.ylabel('Sum of squared error')\r\n",
        "plt.plot(k_rng,sse)"
      ],
      "execution_count": 35,
      "outputs": [
        {
          "output_type": "execute_result",
          "data": {
            "text/plain": [
              "[<matplotlib.lines.Line2D at 0x7fe187e89e10>]"
            ]
          },
          "metadata": {
            "tags": []
          },
          "execution_count": 35
        },
        {
          "output_type": "display_data",
          "data": {
            "image/png": "[encoded data removed]",
            "text/plain": [
              "<Figure size 432x288 with 1 Axes>"
            ]
          },
          "metadata": {
            "tags": [],
            "needs_background": "light"
          }
        }
      ]
    },
    {
      "cell_type": "code",
      "metadata": {
        "colab": {
          "base_uri": "https://localhost:8080/"
        },
        "id": "O2OqjgU3_xp1",
        "outputId": "c1230e11-54e6-4788-9a11-648104bb1370"
      },
      "source": [
        "sse"
      ],
      "execution_count": 36,
      "outputs": [
        {
          "output_type": "execute_result",
          "data": {
            "text/plain": [
              "[566.0320666666667,\n",
              " 112.96262731481481,\n",
              " 53.801351193126536,\n",
              " 34.31442077922078,\n",
              " 25.63146450956451,\n",
              " 21.928506994572214,\n",
              " 18.525046815985952,\n",
              " 15.055941323169584,\n",
              " 13.470050486476403]"
            ]
          },
          "metadata": {
            "tags": []
          },
          "execution_count": 36
        }
      ]
    },
    {
      "cell_type": "markdown",
      "metadata": {
        "id": "0ZqMbiThiOU1"
      },
      "source": [
        "## The best way to cluster these data points seemed to be k=3.  since we knew from the beginning that there are three kinds of iris. this fits well with the initial assumption"
      ]
    },
    {
      "cell_type": "code",
      "metadata": {
        "id": "B3oD261D_xt_"
      },
      "source": [
        ""
      ],
      "execution_count": null,
      "outputs": []
    }
  ]
}