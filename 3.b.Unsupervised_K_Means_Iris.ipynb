{
  "nbformat": 4,
  "nbformat_minor": 0,
  "metadata": {
    "colab": {
      "name": "3.b.Unsupervised_K-Means_Iris.ipynb",
      "provenance": [],
      "toc_visible": true,
      "mount_file_id": "https://github.com/bsong75/brendensong.github.io/blob/main/3.b.Unsupervised_K_Means_Iris.ipynb",
      "authorship_tag": "ABX9TyM8ooujeI8c5469qsUHHtUl",
      "include_colab_link": true
    },
    "kernelspec": {
      "name": "python3",
      "display_name": "Python 3"
    }
  },
  "cells": [
    {
      "cell_type": "markdown",
      "metadata": {
        "id": "view-in-github",
        "colab_type": "text"
      },
      "source": [
        "<a href=\"https://colab.research.google.com/github/bsong75/brendensong.github.io/blob/main/3.b.Unsupervised_K_Means_Iris.ipynb\" target=\"_parent\"><img src=\"https://colab.research.google.com/assets/colab-badge.svg\" alt=\"Open In Colab\"/></a>"
      ]
    },
    {
      "cell_type": "code",
      "metadata": {
        "id": "2JAQv1Mh_lYH"
      },
      "source": [
        "\r\n",
        "from sklearn.cluster import KMeans\r\n",
        "import pandas as pd\r\n",
        "from sklearn.preprocessing import MinMaxScaler\r\n",
        "from matplotlib import pyplot as plt\r\n",
        "%matplotlib inline"
      ],
      "execution_count": 1,
      "outputs": []
    },
    {
      "cell_type": "code",
      "metadata": {
        "colab": {
          "base_uri": "https://localhost:8080/",
          "height": 193
        },
        "id": "5LcsVMPh_w3D",
        "outputId": "8bc73d7a-7983-401d-e4e7-eda7a6c0bdfa"
      },
      "source": [
        "colnames=['sl', 'sw', 'pl', 'pw', 'cat']\r\n",
        "df = pd.read_csv(\"/content/drive/MyDrive/csv/iris.csv\", names=colnames, header=None)\r\n",
        "df.head()"
      ],
      "execution_count": 2,
      "outputs": [
        {
          "output_type": "execute_result",
          "data": {
            "text/html": [
              "<div>\n",
              "<style scoped>\n",
              "    .dataframe tbody tr th:only-of-type {\n",
              "        vertical-align: middle;\n",
              "    }\n",
              "\n",
              "    .dataframe tbody tr th {\n",
              "        vertical-align: top;\n",
              "    }\n",
              "\n",
              "    .dataframe thead th {\n",
              "        text-align: right;\n",
              "    }\n",
              "</style>\n",
              "<table border=\"1\" class=\"dataframe\">\n",
              "  <thead>\n",
              "    <tr style=\"text-align: right;\">\n",
              "      <th></th>\n",
              "      <th>sl</th>\n",
              "      <th>sw</th>\n",
              "      <th>pl</th>\n",
              "      <th>pw</th>\n",
              "      <th>cat</th>\n",
              "    </tr>\n",
              "  </thead>\n",
              "  <tbody>\n",
              "    <tr>\n",
              "      <th>0</th>\n",
              "      <td>5.1</td>\n",
              "      <td>3.5</td>\n",
              "      <td>1.4</td>\n",
              "      <td>0.2</td>\n",
              "      <td>Iris-setosa</td>\n",
              "    </tr>\n",
              "    <tr>\n",
              "      <th>1</th>\n",
              "      <td>4.9</td>\n",
              "      <td>3.0</td>\n",
              "      <td>1.4</td>\n",
              "      <td>0.2</td>\n",
              "      <td>Iris-setosa</td>\n",
              "    </tr>\n",
              "    <tr>\n",
              "      <th>2</th>\n",
              "      <td>4.7</td>\n",
              "      <td>3.2</td>\n",
              "      <td>1.3</td>\n",
              "      <td>0.2</td>\n",
              "      <td>Iris-setosa</td>\n",
              "    </tr>\n",
              "    <tr>\n",
              "      <th>3</th>\n",
              "      <td>4.6</td>\n",
              "      <td>3.1</td>\n",
              "      <td>1.5</td>\n",
              "      <td>0.2</td>\n",
              "      <td>Iris-setosa</td>\n",
              "    </tr>\n",
              "    <tr>\n",
              "      <th>4</th>\n",
              "      <td>5.0</td>\n",
              "      <td>3.6</td>\n",
              "      <td>1.4</td>\n",
              "      <td>0.2</td>\n",
              "      <td>Iris-setosa</td>\n",
              "    </tr>\n",
              "  </tbody>\n",
              "</table>\n",
              "</div>"
            ],
            "text/plain": [
              "    sl   sw   pl   pw          cat\n",
              "0  5.1  3.5  1.4  0.2  Iris-setosa\n",
              "1  4.9  3.0  1.4  0.2  Iris-setosa\n",
              "2  4.7  3.2  1.3  0.2  Iris-setosa\n",
              "3  4.6  3.1  1.5  0.2  Iris-setosa\n",
              "4  5.0  3.6  1.4  0.2  Iris-setosa"
            ]
          },
          "metadata": {
            "tags": []
          },
          "execution_count": 2
        }
      ]
    },
    {
      "cell_type": "code",
      "metadata": {
        "colab": {
          "base_uri": "https://localhost:8080/",
          "height": 295
        },
        "id": "TkJ-xxfr_w_g",
        "outputId": "994bd045-1efb-4b5d-8168-6cf4c70e6abd"
      },
      "source": [
        "type(df.sl)\r\n",
        "\r\n",
        "plt.scatter(df.sl,df.pl)\r\n",
        "plt.xlabel('Sepal Length')\r\n",
        "plt.ylabel('Pedal Length')"
      ],
      "execution_count": 3,
      "outputs": [
        {
          "output_type": "execute_result",
          "data": {
            "text/plain": [
              "Text(0, 0.5, 'Pedal Length')"
            ]
          },
          "metadata": {
            "tags": []
          },
          "execution_count": 3
        },
        {
          "output_type": "display_data",
          "data": {
            "image/png": "[encoded data removed]",
            "text/plain": [
              "<Figure size 432x288 with 1 Axes>"
            ]
          },
          "metadata": {
            "tags": [],
            "needs_background": "light"
          }
        }
      ]
    },
    {
      "cell_type": "code",
      "metadata": {
        "id": "D20uLAFt_xJB"
      },
      "source": [
        "km=KMeans(n_clusters=3)\r\n",
        "y_predicted=km.fit_predict(df[['sl', 'pl']])\r\n",
        "y_predicted\r\n",
        "df['cluster']=y_predicted"
      ],
      "execution_count": 4,
      "outputs": []
    },
    {
      "cell_type": "code",
      "metadata": {
        "colab": {
          "base_uri": "https://localhost:8080/",
          "height": 193
        },
        "id": "Qg1lIJOwgvrl",
        "outputId": "51f06a02-4c8a-4875-b76f-d96d4ed4dc3e"
      },
      "source": [
        "df.head()"
      ],
      "execution_count": null,
      "outputs": [
        {
          "output_type": "execute_result",
          "data": {
            "text/html": [
              "<div>\n",
              "<style scoped>\n",
              "    .dataframe tbody tr th:only-of-type {\n",
              "        vertical-align: middle;\n",
              "    }\n",
              "\n",
              "    .dataframe tbody tr th {\n",
              "        vertical-align: top;\n",
              "    }\n",
              "\n",
              "    .dataframe thead th {\n",
              "        text-align: right;\n",
              "    }\n",
              "</style>\n",
              "<table border=\"1\" class=\"dataframe\">\n",
              "  <thead>\n",
              "    <tr style=\"text-align: right;\">\n",
              "      <th></th>\n",
              "      <th>sl</th>\n",
              "      <th>sw</th>\n",
              "      <th>pl</th>\n",
              "      <th>pw</th>\n",
              "      <th>cat</th>\n",
              "      <th>pred</th>\n",
              "      <th>cluster</th>\n",
              "    </tr>\n",
              "  </thead>\n",
              "  <tbody>\n",
              "    <tr>\n",
              "      <th>0</th>\n",
              "      <td>5.1</td>\n",
              "      <td>3.5</td>\n",
              "      <td>1.4</td>\n",
              "      <td>0.2</td>\n",
              "      <td>Iris-setosa</td>\n",
              "      <td>0</td>\n",
              "      <td>1</td>\n",
              "    </tr>\n",
              "    <tr>\n",
              "      <th>1</th>\n",
              "      <td>4.9</td>\n",
              "      <td>3.0</td>\n",
              "      <td>1.4</td>\n",
              "      <td>0.2</td>\n",
              "      <td>Iris-setosa</td>\n",
              "      <td>0</td>\n",
              "      <td>1</td>\n",
              "    </tr>\n",
              "    <tr>\n",
              "      <th>2</th>\n",
              "      <td>4.7</td>\n",
              "      <td>3.2</td>\n",
              "      <td>1.3</td>\n",
              "      <td>0.2</td>\n",
              "      <td>Iris-setosa</td>\n",
              "      <td>0</td>\n",
              "      <td>1</td>\n",
              "    </tr>\n",
              "    <tr>\n",
              "      <th>3</th>\n",
              "      <td>4.6</td>\n",
              "      <td>3.1</td>\n",
              "      <td>1.5</td>\n",
              "      <td>0.2</td>\n",
              "      <td>Iris-setosa</td>\n",
              "      <td>0</td>\n",
              "      <td>1</td>\n",
              "    </tr>\n",
              "    <tr>\n",
              "      <th>4</th>\n",
              "      <td>5.0</td>\n",
              "      <td>3.6</td>\n",
              "      <td>1.4</td>\n",
              "      <td>0.2</td>\n",
              "      <td>Iris-setosa</td>\n",
              "      <td>0</td>\n",
              "      <td>1</td>\n",
              "    </tr>\n",
              "  </tbody>\n",
              "</table>\n",
              "</div>"
            ],
            "text/plain": [
              "    sl   sw   pl   pw          cat  pred  cluster\n",
              "0  5.1  3.5  1.4  0.2  Iris-setosa     0        1\n",
              "1  4.9  3.0  1.4  0.2  Iris-setosa     0        1\n",
              "2  4.7  3.2  1.3  0.2  Iris-setosa     0        1\n",
              "3  4.6  3.1  1.5  0.2  Iris-setosa     0        1\n",
              "4  5.0  3.6  1.4  0.2  Iris-setosa     0        1"
            ]
          },
          "metadata": {
            "tags": []
          },
          "execution_count": 30
        }
      ]
    },
    {
      "cell_type": "code",
      "metadata": {
        "colab": {
          "base_uri": "https://localhost:8080/"
        },
        "id": "bYUM6HYu_xNq",
        "outputId": "2ebb3a3c-95ce-490c-ae6a-241a2b0d8170"
      },
      "source": [
        "\r\n",
        "km.cluster_centers_"
      ],
      "execution_count": 5,
      "outputs": [
        {
          "output_type": "execute_result",
          "data": {
            "text/plain": [
              "array([[6.83902439, 5.67804878],\n",
              "       [5.00784314, 1.49411765],\n",
              "       [5.87413793, 4.39310345]])"
            ]
          },
          "metadata": {
            "tags": []
          },
          "execution_count": 5
        }
      ]
    },
    {
      "cell_type": "code",
      "metadata": {
        "colab": {
          "base_uri": "https://localhost:8080/",
          "height": 281
        },
        "id": "MgT0GNEh_xR3",
        "outputId": "66268a7f-f744-4103-a1e9-22bc14260325"
      },
      "source": [
        "df1 = df[df.cluster==0]\r\n",
        "df2 = df[df.cluster==1]\r\n",
        "df3 = df[df.cluster==2]\r\n",
        "plt.scatter(df1.sl,df1.pl,color='green')\r\n",
        "plt.scatter(df2.sl,df2.pl,color='red')\r\n",
        "plt.scatter(df3.sl,df3.pl, color='black')\r\n",
        "plt.scatter(km.cluster_centers_[:,0],km.cluster_centers_[:,1],color='purple',marker='*',label='centroid')\r\n",
        "plt.legend()"
      ],
      "execution_count": 6,
      "outputs": [
        {
          "output_type": "execute_result",
          "data": {
            "text/plain": [
              "<matplotlib.legend.Legend at 0x7f0ecce30a90>"
            ]
          },
          "metadata": {
            "tags": []
          },
          "execution_count": 6
        },
        {
          "output_type": "display_data",
          "data": {
            "image/png": "[encoded data removed]",
            "text/plain": [
              "<Figure size 432x288 with 1 Axes>"
            ]
          },
          "metadata": {
            "tags": [],
            "needs_background": "light"
          }
        }
      ]
    },
    {
      "cell_type": "code",
      "metadata": {
        "id": "LqvMPNBo_xhn"
      },
      "source": [
        "wss = []\r\n",
        "k_rng = range(1,10)\r\n",
        "for k in k_rng:\r\n",
        "    km = KMeans(n_clusters=k)\r\n",
        "    km.fit(df[['sl','pl']])\r\n",
        "    wss.append(km.inertia_)"
      ],
      "execution_count": 12,
      "outputs": []
    },
    {
      "cell_type": "code",
      "metadata": {
        "colab": {
          "base_uri": "https://localhost:8080/",
          "height": 295
        },
        "id": "K_jgbfcJ_xli",
        "outputId": "22413123-3910-4184-a70e-45d18d638528"
      },
      "source": [
        "\r\n",
        "plt.xlabel('K')\r\n",
        "plt.ylabel('WSS_Population Var')\r\n",
        "plt.plot(k_rng, wss)"
      ],
      "execution_count": 13,
      "outputs": [
        {
          "output_type": "execute_result",
          "data": {
            "text/plain": [
              "[<matplotlib.lines.Line2D at 0x7f0eccaa7b00>]"
            ]
          },
          "metadata": {
            "tags": []
          },
          "execution_count": 13
        },
        {
          "output_type": "display_data",
          "data": {
            "image/png": "[encoded data removed]",
            "text/plain": [
              "<Figure size 432x288 with 1 Axes>"
            ]
          },
          "metadata": {
            "tags": [],
            "needs_background": "light"
          }
        }
      ]
    },
    {
      "cell_type": "code",
      "metadata": {
        "colab": {
          "base_uri": "https://localhost:8080/"
        },
        "id": "O2OqjgU3_xp1",
        "outputId": "b9bb8554-20c5-4a5b-c063-ebca6d662fe9"
      },
      "source": [
        "wss"
      ],
      "execution_count": 14,
      "outputs": [
        {
          "output_type": "execute_result",
          "data": {
            "text/plain": [
              "[566.0320666666667,\n",
              " 112.96262731481481,\n",
              " 53.801351193126536,\n",
              " 34.31442077922078,\n",
              " 25.63146450956451,\n",
              " 21.83897885604408,\n",
              " 18.449512673317024,\n",
              " 15.083906926406929,\n",
              " 13.39118197925263]"
            ]
          },
          "metadata": {
            "tags": []
          },
          "execution_count": 14
        }
      ]
    },
    {
      "cell_type": "markdown",
      "metadata": {
        "id": "0ZqMbiThiOU1"
      },
      "source": [
        "## The best way to cluster these data points seemed to be k=3.  since we knew from the beginning that there are three kinds of iris. this fits well with the initial assumption"
      ]
    },
    {
      "cell_type": "code",
      "metadata": {
        "id": "vVLkG3f8oJ4R"
      },
      "source": [
        "df"
      ],
      "execution_count": null,
      "outputs": []
    },
    {
      "cell_type": "code",
      "metadata": {
        "id": "YnPZmt5PpaNa"
      },
      "source": [
        "df6 = df['sl']"
      ],
      "execution_count": 35,
      "outputs": []
    },
    {
      "cell_type": "code",
      "metadata": {
        "id": "KvWfkkEyqrcL"
      },
      "source": [
        "df7 =df['pl']"
      ],
      "execution_count": 36,
      "outputs": []
    },
    {
      "cell_type": "code",
      "metadata": {
        "id": "eGdnd9rZqL3a"
      },
      "source": [
        "df8=df6 +df7"
      ],
      "execution_count": 39,
      "outputs": []
    },
    {
      "cell_type": "code",
      "metadata": {
        "id": "XiWla2_grWEW"
      },
      "source": [
        "df_Short=pd.concat([df6, df7], axis=1 )"
      ],
      "execution_count": 46,
      "outputs": []
    },
    {
      "cell_type": "code",
      "metadata": {
        "id": "B3oD261D_xt_",
        "colab": {
          "base_uri": "https://localhost:8080/"
        },
        "outputId": "c2a80095-8f1c-4bd9-9b48-4eb07b4c6305"
      },
      "source": [
        "import sklearn.metrics as metrics\r\n",
        "import sklearn.cluster as cluster\r\n",
        "for i in range(2,10):\r\n",
        "    labels=cluster.KMeans(n_clusters=i).fit(df_Short).labels_\r\n",
        "    print (metrics.silhouette_score(df_Short,labels, metric=\"euclidean\"))"
      ],
      "execution_count": 73,
      "outputs": [
        {
          "output_type": "stream",
          "text": [
            "0.7096825580716465\n",
            "0.5890612473759282\n",
            "0.5645625259696128\n",
            "0.5577964978244648\n",
            "0.42743705985528424\n",
            "0.39925213656313946\n",
            "0.42503952890756175\n",
            "0.436780303194279\n"
          ],
          "name": "stdout"
        }
      ]
    },
    {
      "cell_type": "code",
      "metadata": {
        "id": "GkM9bSNUxTcz",
        "outputId": "8661c875-495f-4235-9a7c-de139d2efc0e",
        "colab": {
          "base_uri": "https://localhost:8080/"
        }
      },
      "source": [
        "labels"
      ],
      "execution_count": 74,
      "outputs": [
        {
          "output_type": "execute_result",
          "data": {
            "text/plain": [
              "array([6, 6, 4, 4, 6, 1, 4, 6, 4, 6, 1, 6, 4, 4, 1, 1, 1, 6, 1, 6, 1, 6,\n",
              "       4, 6, 6, 6, 6, 6, 6, 4, 6, 1, 6, 1, 6, 6, 1, 6, 4, 6, 6, 4, 4, 6,\n",
              "       6, 4, 6, 4, 1, 6, 8, 8, 8, 2, 8, 2, 5, 7, 8, 2, 7, 2, 2, 5, 2, 8,\n",
              "       2, 2, 5, 2, 5, 2, 5, 5, 8, 8, 8, 8, 5, 2, 2, 2, 2, 5, 2, 5, 8, 8,\n",
              "       2, 2, 2, 5, 2, 7, 2, 2, 2, 5, 7, 2, 3, 5, 0, 3, 3, 0, 2, 0, 3, 0,\n",
              "       8, 3, 3, 5, 5, 3, 3, 0, 0, 5, 3, 5, 0, 5, 3, 0, 5, 5, 3, 0, 0, 0,\n",
              "       3, 5, 3, 0, 3, 3, 5, 3, 3, 8, 5, 3, 3, 3, 5, 3, 3, 5], dtype=int32)"
            ]
          },
          "metadata": {
            "tags": []
          },
          "execution_count": 74
        }
      ]
    },
    {
      "cell_type": "markdown",
      "metadata": {
        "id": "3PHDtkENtaJo"
      },
      "source": [
        "# The silhoute method seems not to agree with the analysis.  the graph seems to support this analysis as well.\r\n"
      ]
    },
    {
      "cell_type": "code",
      "metadata": {
        "id": "7QKBxu_-sE1g"
      },
      "source": [
        ""
      ],
      "execution_count": null,
      "outputs": []
    }
  ]
}