{
  "nbformat": 4,
  "nbformat_minor": 0,
  "metadata": {
    "kernelspec": {
      "display_name": "Python 3",
      "language": "python",
      "name": "python3"
    },
    "language_info": {
      "codemirror_mode": {
        "name": "ipython",
        "version": 3
      },
      "file_extension": ".py",
      "mimetype": "text/x-python",
      "name": "python",
      "nbconvert_exporter": "python",
      "pygments_lexer": "ipython3",
      "version": "3.8.5"
    },
    "colab": {
      "name": "02-insurance-linear.ipynb",
      "provenance": [],
      "include_colab_link": true
    },
    "widgets": {
      "application/vnd.jupyter.widget-state+json": {
        "64f6cae4963d45ab989b71b96832d971": {
          "model_module": "@jupyter-widgets/controls",
          "model_name": "HBoxModel",
          "state": {
            "_view_name": "HBoxView",
            "_dom_classes": [],
            "_model_name": "HBoxModel",
            "_view_module": "@jupyter-widgets/controls",
            "_model_module_version": "1.5.0",
            "_view_count": null,
            "_view_module_version": "1.5.0",
            "box_style": "",
            "layout": "IPY_MODEL_809e4b680cb447acbd9a13894c63071c",
            "_model_module": "@jupyter-widgets/controls",
            "children": [
              "IPY_MODEL_7b2aac50a369472bb920b49dc9eb184b",
              "IPY_MODEL_3be63127c1a04283886c7170a857364b"
            ]
          }
        },
        "809e4b680cb447acbd9a13894c63071c": {
          "model_module": "@jupyter-widgets/base",
          "model_name": "LayoutModel",
          "state": {
            "_view_name": "LayoutView",
            "grid_template_rows": null,
            "right": null,
            "justify_content": null,
            "_view_module": "@jupyter-widgets/base",
            "overflow": null,
            "_model_module_version": "1.2.0",
            "_view_count": null,
            "flex_flow": null,
            "width": null,
            "min_width": null,
            "border": null,
            "align_items": null,
            "bottom": null,
            "_model_module": "@jupyter-widgets/base",
            "top": null,
            "grid_column": null,
            "overflow_y": null,
            "overflow_x": null,
            "grid_auto_flow": null,
            "grid_area": null,
            "grid_template_columns": null,
            "flex": null,
            "_model_name": "LayoutModel",
            "justify_items": null,
            "grid_row": null,
            "max_height": null,
            "align_content": null,
            "visibility": null,
            "align_self": null,
            "height": null,
            "min_height": null,
            "padding": null,
            "grid_auto_rows": null,
            "grid_gap": null,
            "max_width": null,
            "order": null,
            "_view_module_version": "1.2.0",
            "grid_template_areas": null,
            "object_position": null,
            "object_fit": null,
            "grid_auto_columns": null,
            "margin": null,
            "display": null,
            "left": null
          }
        },
        "7b2aac50a369472bb920b49dc9eb184b": {
          "model_module": "@jupyter-widgets/controls",
          "model_name": "FloatProgressModel",
          "state": {
            "_view_name": "ProgressView",
            "style": "IPY_MODEL_68d67551657941dbade016cdada3a61a",
            "_dom_classes": [],
            "description": "",
            "_model_name": "FloatProgressModel",
            "bar_style": "info",
            "max": 1,
            "_view_module": "@jupyter-widgets/controls",
            "_model_module_version": "1.5.0",
            "value": 1,
            "_view_count": null,
            "_view_module_version": "1.5.0",
            "orientation": "horizontal",
            "min": 0,
            "description_tooltip": null,
            "_model_module": "@jupyter-widgets/controls",
            "layout": "IPY_MODEL_bc8c5f2fa9a04258b94c09ce679d06d6"
          }
        },
        "3be63127c1a04283886c7170a857364b": {
          "model_module": "@jupyter-widgets/controls",
          "model_name": "HTMLModel",
          "state": {
            "_view_name": "HTMLView",
            "style": "IPY_MODEL_126ad25874354431b0089a11cc7e9550",
            "_dom_classes": [],
            "description": "",
            "_model_name": "HTMLModel",
            "placeholder": "​",
            "_view_module": "@jupyter-widgets/controls",
            "_model_module_version": "1.5.0",
            "value": " 57344/? [00:20&lt;00:00, 134616.58it/s]",
            "_view_count": null,
            "_view_module_version": "1.5.0",
            "description_tooltip": null,
            "_model_module": "@jupyter-widgets/controls",
            "layout": "IPY_MODEL_73b995641df0457a827550c8983ede43"
          }
        },
        "68d67551657941dbade016cdada3a61a": {
          "model_module": "@jupyter-widgets/controls",
          "model_name": "ProgressStyleModel",
          "state": {
            "_view_name": "StyleView",
            "_model_name": "ProgressStyleModel",
            "description_width": "initial",
            "_view_module": "@jupyter-widgets/base",
            "_model_module_version": "1.5.0",
            "_view_count": null,
            "_view_module_version": "1.2.0",
            "bar_color": null,
            "_model_module": "@jupyter-widgets/controls"
          }
        },
        "bc8c5f2fa9a04258b94c09ce679d06d6": {
          "model_module": "@jupyter-widgets/base",
          "model_name": "LayoutModel",
          "state": {
            "_view_name": "LayoutView",
            "grid_template_rows": null,
            "right": null,
            "justify_content": null,
            "_view_module": "@jupyter-widgets/base",
            "overflow": null,
            "_model_module_version": "1.2.0",
            "_view_count": null,
            "flex_flow": null,
            "width": null,
            "min_width": null,
            "border": null,
            "align_items": null,
            "bottom": null,
            "_model_module": "@jupyter-widgets/base",
            "top": null,
            "grid_column": null,
            "overflow_y": null,
            "overflow_x": null,
            "grid_auto_flow": null,
            "grid_area": null,
            "grid_template_columns": null,
            "flex": null,
            "_model_name": "LayoutModel",
            "justify_items": null,
            "grid_row": null,
            "max_height": null,
            "align_content": null,
            "visibility": null,
            "align_self": null,
            "height": null,
            "min_height": null,
            "padding": null,
            "grid_auto_rows": null,
            "grid_gap": null,
            "max_width": null,
            "order": null,
            "_view_module_version": "1.2.0",
            "grid_template_areas": null,
            "object_position": null,
            "object_fit": null,
            "grid_auto_columns": null,
            "margin": null,
            "display": null,
            "left": null
          }
        },
        "126ad25874354431b0089a11cc7e9550": {
          "model_module": "@jupyter-widgets/controls",
          "model_name": "DescriptionStyleModel",
          "state": {
            "_view_name": "StyleView",
            "_model_name": "DescriptionStyleModel",
            "description_width": "",
            "_view_module": "@jupyter-widgets/base",
            "_model_module_version": "1.5.0",
            "_view_count": null,
            "_view_module_version": "1.2.0",
            "_model_module": "@jupyter-widgets/controls"
          }
        },
        "73b995641df0457a827550c8983ede43": {
          "model_module": "@jupyter-widgets/base",
          "model_name": "LayoutModel",
          "state": {
            "_view_name": "LayoutView",
            "grid_template_rows": null,
            "right": null,
            "justify_content": null,
            "_view_module": "@jupyter-widgets/base",
            "overflow": null,
            "_model_module_version": "1.2.0",
            "_view_count": null,
            "flex_flow": null,
            "width": null,
            "min_width": null,
            "border": null,
            "align_items": null,
            "bottom": null,
            "_model_module": "@jupyter-widgets/base",
            "top": null,
            "grid_column": null,
            "overflow_y": null,
            "overflow_x": null,
            "grid_auto_flow": null,
            "grid_area": null,
            "grid_template_columns": null,
            "flex": null,
            "_model_name": "LayoutModel",
            "justify_items": null,
            "grid_row": null,
            "max_height": null,
            "align_content": null,
            "visibility": null,
            "align_self": null,
            "height": null,
            "min_height": null,
            "padding": null,
            "grid_auto_rows": null,
            "grid_gap": null,
            "max_width": null,
            "order": null,
            "_view_module_version": "1.2.0",
            "grid_template_areas": null,
            "object_position": null,
            "object_fit": null,
            "grid_auto_columns": null,
            "margin": null,
            "display": null,
            "left": null
          }
        }
      }
    }
  },
  "cells": [
    {
      "cell_type": "markdown",
      "metadata": {
        "id": "view-in-github",
        "colab_type": "text"
      },
      "source": [
        "<a href=\"https://colab.research.google.com/github/bsong75/brendensong.github.io/blob/main/9.a.Neural_LR_Insurance_cost%20estimate.ipynb\" target=\"_parent\"><img src=\"https://colab.research.google.com/assets/colab-badge.svg\" alt=\"Open In Colab\"/></a>"
      ]
    },
    {
      "cell_type": "code",
      "metadata": {
        "colab": {
          "base_uri": "https://localhost:8080/"
        },
        "id": "zgJqfBcz85NG",
        "outputId": "fcf9d87e-ac47-447a-be22-ab32c927c2e0"
      },
      "source": [
        "# Jovian Commit Essentials\n",
        "# Please retain and execute this cell without modifying the contents for `jovian.commit` to work\n",
        "!pip install jovian --upgrade -q\n",
        "import jovian\n",
        "jovian.utils.colab.set_colab_file_id('1PiHR7yXPE1FnrF4qWvdfLb5I62AZCS2M')"
      ],
      "execution_count": 1,
      "outputs": [
        {
          "output_type": "stream",
          "text": [
            "\u001b[?25l\r\u001b[K     |█████                           | 10kB 21.7MB/s eta 0:00:01\r\u001b[K     |██████████                      | 20kB 27.8MB/s eta 0:00:01\r\u001b[K     |██████████████▉                 | 30kB 21.4MB/s eta 0:00:01\r\u001b[K     |███████████████████▉            | 40kB 21.5MB/s eta 0:00:01\r\u001b[K     |████████████████████████▉       | 51kB 17.6MB/s eta 0:00:01\r\u001b[K     |█████████████████████████████▊  | 61kB 19.6MB/s eta 0:00:01\r\u001b[K     |████████████████████████████████| 71kB 6.4MB/s \n",
            "\u001b[?25h  Building wheel for uuid (setup.py) ... \u001b[?25l\u001b[?25hdone\n"
          ],
          "name": "stdout"
        }
      ]
    },
    {
      "cell_type": "markdown",
      "metadata": {
        "_cell_guid": "b1076dfc-b9ad-4769-8c92-a6c4dae69d19",
        "_uuid": "8f2839f25d086af736a60e9eeb907d3b93b6e0e5",
        "id": "qEZZ8c8E85NL"
      },
      "source": [
        "# Insurance cost prediction using linear regression\n",
        "\n",
        "Make a submisson here: https://jovian.ai/learn/deep-learning-with-pytorch-zero-to-gans/assignment/assignment-2-train-your-first-model\n",
        "\n",
        "In this assignment we're going to use information like a person's age, sex, BMI, no. of children and smoking habit to predict the price of yearly medical bills. This kind of model is useful for insurance companies to determine the yearly insurance premium for a person. The dataset for this problem is taken from [Kaggle](https://www.kaggle.com/mirichoi0218/insurance).\n",
        "\n",
        "\n",
        "We will create a model with the following steps:\n",
        "1. Download and explore the dataset\n",
        "2. Prepare the dataset for training\n",
        "3. Create a linear regression model\n",
        "4. Train the model to fit the data\n",
        "5. Make predictions using the trained model\n",
        "\n",
        "\n",
        "This assignment builds upon the concepts from the first 2 lessons. It will help to review these Jupyter notebooks:\n",
        "- PyTorch basics: https://jovian.ai/aakashns/01-pytorch-basics\n",
        "- Linear Regression: https://jovian.ai/aakashns/02-linear-regression\n",
        "- Logistic Regression: https://jovian.ai/aakashns/03-logistic-regression\n",
        "- Linear regression (minimal): https://jovian.ai/aakashns/housing-linear-minimal\n",
        "- Logistic regression (minimal): https://jovian.ai/aakashns/mnist-logistic-minimal\n",
        "\n",
        "As you go through this notebook, you will find a **???** in certain places. Your job is to replace the **???** with appropriate code or values, to ensure that the notebook runs properly end-to-end . In some cases, you'll be required to choose some hyperparameters (learning rate, batch size etc.). Try to experiment with the hypeparameters to get the lowest loss.\n"
      ]
    },
    {
      "cell_type": "code",
      "metadata": {
        "id": "BIxKgg3T85NL"
      },
      "source": [
        "# Uncomment and run the appropriate command for your operating system, if required\n",
        "\n",
        "# Linux / Binder\n",
        "# !pip install numpy matplotlib pandas torch==1.7.0+cpu torchvision==0.8.1+cpu torchaudio==0.7.0 -f https://download.pytorch.org/whl/torch_stable.html\n",
        "\n",
        "# Windows\n",
        "# !pip install numpy matplotlib pandas torch==1.7.0+cpu torchvision==0.8.1+cpu torchaudio==0.7.0 -f https://download.pytorch.org/whl/torch_stable.html\n",
        "\n",
        "# MacOS\n",
        "# !pip install numpy matplotlib pandas torch torchvision torchaudio"
      ],
      "execution_count": null,
      "outputs": []
    },
    {
      "cell_type": "code",
      "metadata": {
        "id": "rUvpsmu-85NL"
      },
      "source": [
        "import torch\n",
        "import jovian\n",
        "import torchvision\n",
        "import torch.nn as nn\n",
        "import pandas as pd\n",
        "import matplotlib.pyplot as plt\n",
        "import torch.nn.functional as F\n",
        "from torchvision.datasets.utils import download_url\n",
        "from torch.utils.data import DataLoader, TensorDataset, random_split"
      ],
      "execution_count": 2,
      "outputs": []
    },
    {
      "cell_type": "code",
      "metadata": {
        "id": "QKsVbX2k85NL"
      },
      "source": [
        "project_name='02-insurance-linear-regression' # will be used by jovian.commit"
      ],
      "execution_count": 3,
      "outputs": []
    },
    {
      "cell_type": "markdown",
      "metadata": {
        "id": "ghAKN8gi85NM"
      },
      "source": [
        "## Step 1: Download and explore the data\n",
        "\n",
        "Let us begin by downloading the data. We'll use the `download_url` function from PyTorch to get the data as a CSV (comma-separated values) file. "
      ]
    },
    {
      "cell_type": "code",
      "metadata": {
        "_cell_guid": "79c7e3d0-c299-4dcb-8224-4455121ee9b0",
        "_uuid": "d629ff2d2480ee46fbb7e2d37f6b5fab8052498a",
        "colab": {
          "base_uri": "https://localhost:8080/",
          "height": 65,
          "referenced_widgets": [
            "64f6cae4963d45ab989b71b96832d971",
            "809e4b680cb447acbd9a13894c63071c",
            "7b2aac50a369472bb920b49dc9eb184b",
            "3be63127c1a04283886c7170a857364b",
            "68d67551657941dbade016cdada3a61a",
            "bc8c5f2fa9a04258b94c09ce679d06d6",
            "126ad25874354431b0089a11cc7e9550",
            "73b995641df0457a827550c8983ede43"
          ]
        },
        "id": "82aye70F85NM",
        "outputId": "51b9cef0-222d-4a6d-a011-e5a905ebf0a7"
      },
      "source": [
        "DATASET_URL = \"https://hub.jovian.ml/wp-content/uploads/2020/05/insurance.csv\"\n",
        "DATA_FILENAME = \"insurance.csv\"\n",
        "download_url(DATASET_URL, '.')"
      ],
      "execution_count": 4,
      "outputs": [
        {
          "output_type": "stream",
          "text": [
            "Downloading https://hub.jovian.ml/wp-content/uploads/2020/05/insurance.csv to ./insurance.csv\n"
          ],
          "name": "stdout"
        },
        {
          "output_type": "display_data",
          "data": {
            "application/vnd.jupyter.widget-view+json": {
              "model_id": "64f6cae4963d45ab989b71b96832d971",
              "version_minor": 0,
              "version_major": 2
            },
            "text/plain": [
              "HBox(children=(FloatProgress(value=1.0, bar_style='info', max=1.0), HTML(value='')))"
            ]
          },
          "metadata": {
            "tags": []
          }
        }
      ]
    },
    {
      "cell_type": "markdown",
      "metadata": {
        "id": "EJS-Rjju85NQ"
      },
      "source": [
        "To load the dataset into memory, we'll use the `read_csv` function from the `pandas` library. The data will be loaded as a Pandas dataframe. See this short tutorial to learn more: https://data36.com/pandas-tutorial-1-basics-reading-data-files-dataframes-data-selection/"
      ]
    },
    {
      "cell_type": "code",
      "metadata": {
        "id": "4vioNZnb85NQ"
      },
      "source": [
        "dataframe_raw = pd.read_csv(DATA_FILENAME)\n",
        "dataframe_raw.describe()"
      ],
      "execution_count": null,
      "outputs": []
    },
    {
      "cell_type": "markdown",
      "metadata": {
        "id": "qUDemlqd85NR"
      },
      "source": [
        "We're going to do a slight customization of the data, so that you every participant receives a slightly different version of the dataset. Fill in your name below as a string (enter at least 5 characters)"
      ]
    },
    {
      "cell_type": "code",
      "metadata": {
        "id": "v6ZePHRX85NR"
      },
      "source": [
        "your_name = \"Brenden\" # at least 5 characters"
      ],
      "execution_count": 8,
      "outputs": []
    },
    {
      "cell_type": "markdown",
      "metadata": {
        "id": "ncin9CCZ85NS"
      },
      "source": [
        "The `customize_dataset` function will customize the dataset slightly using your name as a source of random numbers."
      ]
    },
    {
      "cell_type": "code",
      "metadata": {
        "id": "haCfSWYR85NS"
      },
      "source": [
        "def customize_dataset(dataframe_raw, rand_str):\n",
        "    dataframe = dataframe_raw.copy(deep=True)\n",
        "    # drop some rows\n",
        "    dataframe = dataframe.sample(int(0.95*len(dataframe)), random_state=int(ord(rand_str[0])))\n",
        "    # scale input\n",
        "    dataframe.bmi = dataframe.bmi * ord(rand_str[1])/100.\n",
        "    # scale target\n",
        "    dataframe.charges = dataframe.charges * ord(rand_str[2])/100.\n",
        "    # drop column\n",
        "    if ord(rand_str[3]) % 2 == 1:\n",
        "        dataframe = dataframe.drop(['region'], axis=1)\n",
        "    return dataframe"
      ],
      "execution_count": 9,
      "outputs": []
    },
    {
      "cell_type": "code",
      "metadata": {
        "colab": {
          "base_uri": "https://localhost:8080/"
        },
        "id": "weYmDO9G85NS",
        "outputId": "cec9ca81-1c29-403c-c012-882392bf5cd2"
      },
      "source": [
        "dataframe = customize_dataset(dataframe_raw, your_name)\n",
        "dataframe.columns"
      ],
      "execution_count": 13,
      "outputs": [
        {
          "output_type": "execute_result",
          "data": {
            "text/plain": [
              "Index(['age', 'sex', 'bmi', 'children', 'smoker', 'region', 'charges'], dtype='object')"
            ]
          },
          "metadata": {
            "tags": []
          },
          "execution_count": 13
        }
      ]
    },
    {
      "cell_type": "code",
      "metadata": {
        "colab": {
          "base_uri": "https://localhost:8080/"
        },
        "id": "1KLGV0LF-F6E",
        "outputId": "22b6c7a5-4fe8-414c-f681-e2d753f2bbb7"
      },
      "source": [
        "dataframe.shape"
      ],
      "execution_count": 15,
      "outputs": [
        {
          "output_type": "execute_result",
          "data": {
            "text/plain": [
              "(1271, 7)"
            ]
          },
          "metadata": {
            "tags": []
          },
          "execution_count": 15
        }
      ]
    },
    {
      "cell_type": "markdown",
      "metadata": {
        "id": "FxQhe3km85NS"
      },
      "source": [
        "Let us answer some basic questions about the dataset. \n",
        "\n",
        "\n",
        "**Q: How many rows does the dataset have?**"
      ]
    },
    {
      "cell_type": "code",
      "metadata": {
        "colab": {
          "base_uri": "https://localhost:8080/"
        },
        "id": "p5U2J9Lh85NS",
        "outputId": "c02965f4-2b09-4fb8-afec-f85df69199ab"
      },
      "source": [
        "num_rows = 1271\n",
        "print(num_rows)"
      ],
      "execution_count": 18,
      "outputs": [
        {
          "output_type": "stream",
          "text": [
            "1271\n"
          ],
          "name": "stdout"
        }
      ]
    },
    {
      "cell_type": "markdown",
      "metadata": {
        "id": "Oa9Zc-Zm85NS"
      },
      "source": [
        "**Q: How many columns doe the dataset have**"
      ]
    },
    {
      "cell_type": "code",
      "metadata": {
        "colab": {
          "base_uri": "https://localhost:8080/"
        },
        "id": "cD5A48Qm85NT",
        "outputId": "5b8f6d6e-dd00-4269-8b1e-76dda816e6af"
      },
      "source": [
        "num_cols = 7\n",
        "print(num_cols)"
      ],
      "execution_count": 19,
      "outputs": [
        {
          "output_type": "stream",
          "text": [
            "7\n"
          ],
          "name": "stdout"
        }
      ]
    },
    {
      "cell_type": "markdown",
      "metadata": {
        "id": "eWPcrboB85NT"
      },
      "source": [
        "**Q: What are the column titles of the input variables?**"
      ]
    },
    {
      "cell_type": "code",
      "metadata": {
        "colab": {
          "base_uri": "https://localhost:8080/",
          "height": 193
        },
        "id": "bLG9dX1E-mf2",
        "outputId": "91682218-5544-4f48-c3c0-0197503b4ec5"
      },
      "source": [
        "dataframe.head()"
      ],
      "execution_count": 23,
      "outputs": [
        {
          "output_type": "execute_result",
          "data": {
            "text/html": [
              "<div>\n",
              "<style scoped>\n",
              "    .dataframe tbody tr th:only-of-type {\n",
              "        vertical-align: middle;\n",
              "    }\n",
              "\n",
              "    .dataframe tbody tr th {\n",
              "        vertical-align: top;\n",
              "    }\n",
              "\n",
              "    .dataframe thead th {\n",
              "        text-align: right;\n",
              "    }\n",
              "</style>\n",
              "<table border=\"1\" class=\"dataframe\">\n",
              "  <thead>\n",
              "    <tr style=\"text-align: right;\">\n",
              "      <th></th>\n",
              "      <th>age</th>\n",
              "      <th>sex</th>\n",
              "      <th>bmi</th>\n",
              "      <th>children</th>\n",
              "      <th>smoker</th>\n",
              "      <th>region</th>\n",
              "      <th>charges</th>\n",
              "    </tr>\n",
              "  </thead>\n",
              "  <tbody>\n",
              "    <tr>\n",
              "      <th>397</th>\n",
              "      <td>21</td>\n",
              "      <td>male</td>\n",
              "      <td>35.3628</td>\n",
              "      <td>0</td>\n",
              "      <td>no</td>\n",
              "      <td>southeast</td>\n",
              "      <td>16752.362687</td>\n",
              "    </tr>\n",
              "    <tr>\n",
              "      <th>211</th>\n",
              "      <td>40</td>\n",
              "      <td>male</td>\n",
              "      <td>35.1975</td>\n",
              "      <td>4</td>\n",
              "      <td>no</td>\n",
              "      <td>northwest</td>\n",
              "      <td>8244.343413</td>\n",
              "    </tr>\n",
              "    <tr>\n",
              "      <th>304</th>\n",
              "      <td>57</td>\n",
              "      <td>female</td>\n",
              "      <td>43.3200</td>\n",
              "      <td>2</td>\n",
              "      <td>no</td>\n",
              "      <td>southwest</td>\n",
              "      <td>12772.669070</td>\n",
              "    </tr>\n",
              "    <tr>\n",
              "      <th>349</th>\n",
              "      <td>19</td>\n",
              "      <td>male</td>\n",
              "      <td>31.7319</td>\n",
              "      <td>0</td>\n",
              "      <td>no</td>\n",
              "      <td>northwest</td>\n",
              "      <td>1652.090987</td>\n",
              "    </tr>\n",
              "    <tr>\n",
              "      <th>733</th>\n",
              "      <td>48</td>\n",
              "      <td>female</td>\n",
              "      <td>31.0821</td>\n",
              "      <td>1</td>\n",
              "      <td>no</td>\n",
              "      <td>northeast</td>\n",
              "      <td>9541.722853</td>\n",
              "    </tr>\n",
              "  </tbody>\n",
              "</table>\n",
              "</div>"
            ],
            "text/plain": [
              "     age     sex      bmi  children smoker     region       charges\n",
              "397   21    male  35.3628         0     no  southeast  16752.362687\n",
              "211   40    male  35.1975         4     no  northwest   8244.343413\n",
              "304   57  female  43.3200         2     no  southwest  12772.669070\n",
              "349   19    male  31.7319         0     no  northwest   1652.090987\n",
              "733   48  female  31.0821         1     no  northeast   9541.722853"
            ]
          },
          "metadata": {
            "tags": []
          },
          "execution_count": 23
        }
      ]
    },
    {
      "cell_type": "code",
      "metadata": {
        "id": "bAOI7qgt85NT"
      },
      "source": [
        "dataframe_temp = dataframe.drop([\"charges\"], axis=1) \n",
        "\n"
      ],
      "execution_count": 239,
      "outputs": []
    },
    {
      "cell_type": "code",
      "metadata": {
        "colab": {
          "base_uri": "https://localhost:8080/"
        },
        "id": "gHN9ZD3rgn2N",
        "outputId": "4a48e072-6926-4aaf-ae5d-5f971f6f71cf"
      },
      "source": [
        "input_cols = dataframe_temp.columns\n",
        "input_cols\n"
      ],
      "execution_count": 240,
      "outputs": [
        {
          "output_type": "execute_result",
          "data": {
            "text/plain": [
              "Index(['age', 'sex', 'bmi', 'children', 'smoker', 'region'], dtype='object')"
            ]
          },
          "metadata": {
            "tags": []
          },
          "execution_count": 240
        }
      ]
    },
    {
      "cell_type": "markdown",
      "metadata": {
        "id": "a0rmK-il85NT"
      },
      "source": [
        "**Q: Which of the input columns are non-numeric or categorial variables ?**\n",
        "\n",
        "Hint: `sex` is one of them. List the columns that are not numbers."
      ]
    },
    {
      "cell_type": "code",
      "metadata": {
        "id": "YQUPa3lD85NT"
      },
      "source": [
        "categorical_cols = ['sex', 'smoker', 'region']"
      ],
      "execution_count": 241,
      "outputs": []
    },
    {
      "cell_type": "markdown",
      "metadata": {
        "id": "Z2Zpwco285NT"
      },
      "source": [
        "**Q: What are the column titles of output/target variable(s)?**"
      ]
    },
    {
      "cell_type": "code",
      "metadata": {
        "id": "yZPsKxKi85NT"
      },
      "source": [
        "output_cols = [\"charges\"]"
      ],
      "execution_count": 243,
      "outputs": []
    },
    {
      "cell_type": "code",
      "metadata": {
        "colab": {
          "base_uri": "https://localhost:8080/"
        },
        "id": "yUrKUPXT_4Y2",
        "outputId": "f77a8518-f5bc-4065-e8f7-df3a5b66729e"
      },
      "source": [
        "print(dataframe.charges.max())\n",
        "print(dataframe.charges.min())\n",
        "print(dataframe.charges.mean())\n",
        "dataframe.charges.describe()\n",
        "#, dataframe.charges.max(). dataframe.charges.average())\n",
        "# import numpy as np\n",
        "# max_val = np.max(output_cols)\n",
        "# min_val = np.min(output_cols)\n",
        "# average= np.ave(output_cols)"
      ],
      "execution_count": 244,
      "outputs": [
        {
          "output_type": "stream",
          "text": [
            "64408.1322901\n",
            "1133.092639\n",
            "13382.321537417465\n"
          ],
          "name": "stdout"
        },
        {
          "output_type": "execute_result",
          "data": {
            "text/plain": [
              "count     1271.000000\n",
              "mean     13382.321537\n",
              "std      12243.449474\n",
              "min       1133.092639\n",
              "25%       4776.292399\n",
              "50%       9397.748919\n",
              "75%      16747.959991\n",
              "max      64408.132290\n",
              "Name: charges, dtype: float64"
            ]
          },
          "metadata": {
            "tags": []
          },
          "execution_count": 244
        }
      ]
    },
    {
      "cell_type": "markdown",
      "metadata": {
        "id": "aQYJD93o85NT"
      },
      "source": [
        "**Q: (Optional) What is the minimum, maximum and average value of the `charges` column? Can you show the distribution of values in a graph?**\n",
        "Use this data visualization cheatsheet for referece: https://jovian.ml/aakashns/dataviz-cheatsheet"
      ]
    },
    {
      "cell_type": "code",
      "metadata": {
        "id": "dFbs6a9C85NT"
      },
      "source": [
        "# minimum: 1133.09   maximum: 64408   average: 13382"
      ],
      "execution_count": null,
      "outputs": []
    },
    {
      "cell_type": "markdown",
      "metadata": {
        "id": "WHSqR9WY85NT"
      },
      "source": [
        "Remember to commit your notebook to Jovian after every step, so that you don't lose your work."
      ]
    },
    {
      "cell_type": "code",
      "metadata": {
        "id": "snhrbs_O85NT"
      },
      "source": [
        "!pip install jovian --upgrade -q"
      ],
      "execution_count": 245,
      "outputs": []
    },
    {
      "cell_type": "code",
      "metadata": {
        "id": "IqOhPclD85NU"
      },
      "source": [
        "import jovian"
      ],
      "execution_count": 246,
      "outputs": []
    },
    {
      "cell_type": "code",
      "metadata": {
        "colab": {
          "base_uri": "https://localhost:8080/",
          "height": 104
        },
        "id": "Ana-QoMn85NU",
        "outputId": "28109b75-652e-44d5-8950-3d239fa6d5a3"
      },
      "source": [
        "jovian.commit(project='my_project')"
      ],
      "execution_count": 247,
      "outputs": [
        {
          "output_type": "stream",
          "text": [
            "[jovian] Detected Colab notebook...\u001b[0m\n",
            "[jovian] Uploading colab notebook to Jovian...\u001b[0m\n",
            "[jovian] Capturing environment..\u001b[0m\n",
            "[jovian] Committed successfully! https://jovian.ai/bsong75/my-project\u001b[0m\n"
          ],
          "name": "stdout"
        },
        {
          "output_type": "execute_result",
          "data": {
            "application/vnd.google.colaboratory.intrinsic+json": {
              "type": "string"
            },
            "text/plain": [
              "'https://jovian.ai/bsong75/my-project'"
            ]
          },
          "metadata": {
            "tags": []
          },
          "execution_count": 247
        }
      ]
    },
    {
      "cell_type": "markdown",
      "metadata": {
        "id": "mzAE5juW85NV"
      },
      "source": [
        "## Step 2: Prepare the dataset for training\n",
        "\n",
        "We need to convert the data from the Pandas dataframe into a PyTorch tensors for training. To do this, the first step is to convert it numpy arrays. If you've filled out `input_cols`, `categorial_cols` and `output_cols` correctly, this following function will perform the conversion to numpy arrays."
      ]
    },
    {
      "cell_type": "code",
      "metadata": {
        "id": "2W2GhVot85NV"
      },
      "source": [
        "def dataframe_to_arrays(dataframe):\n",
        "    # Make a copy of the original dataframe\n",
        "    dataframe1 = dataframe.copy(deep=True)\n",
        "    # Convert non-numeric categorical columns to numbers\n",
        "    for col in categorical_cols:\n",
        "        dataframe1[col] = dataframe1[col].astype('category').cat.codes\n",
        "    # Extract input & outupts as numpy arrays\n",
        "    inputs_array = dataframe1[input_cols].to_numpy()\n",
        "    targets_array = dataframe1[output_cols].to_numpy()\n",
        "    return inputs_array, targets_array"
      ],
      "execution_count": 248,
      "outputs": []
    },
    {
      "cell_type": "markdown",
      "metadata": {
        "id": "8jMhJbdC85NV"
      },
      "source": [
        "Read through the [Pandas documentation](https://pandas.pydata.org/pandas-docs/stable/user_guide/categorical.html) to understand how we're converting categorical variables into numbers."
      ]
    },
    {
      "cell_type": "code",
      "metadata": {
        "colab": {
          "base_uri": "https://localhost:8080/"
        },
        "id": "ZWT0fmyR85NV",
        "outputId": "d63cebcb-5278-4687-9330-6944d963cae4"
      },
      "source": [
        "inputs_array, targets_array = dataframe_to_arrays(dataframe)\n",
        "inputs_array, targets_array"
      ],
      "execution_count": 249,
      "outputs": [
        {
          "output_type": "execute_result",
          "data": {
            "text/plain": [
              "(array([[21.    ,  1.    , 35.3628,  0.    ,  0.    ,  2.    ],\n",
              "        [40.    ,  1.    , 35.1975,  4.    ,  0.    ,  1.    ],\n",
              "        [57.    ,  0.    , 43.32  ,  2.    ,  0.    ,  3.    ],\n",
              "        ...,\n",
              "        [19.    ,  0.    , 29.3493,  1.    ,  0.    ,  1.    ],\n",
              "        [62.    ,  0.    , 28.5   ,  0.    ,  0.    ,  3.    ],\n",
              "        [46.    ,  1.    , 50.0346,  3.    ,  0.    ,  2.    ]]),\n",
              " array([[16752.3626871],\n",
              "        [ 8244.3434125],\n",
              "        [12772.66907  ],\n",
              "        ...,\n",
              "        [ 2737.9368355],\n",
              "        [13585.63322  ],\n",
              "        [ 9033.556251 ]]))"
            ]
          },
          "metadata": {
            "tags": []
          },
          "execution_count": 249
        }
      ]
    },
    {
      "cell_type": "markdown",
      "metadata": {
        "id": "yk2vmtuU85NV"
      },
      "source": [
        "**Q: Convert the numpy arrays `inputs_array` and `targets_array` into PyTorch tensors. Make sure that the data type is `torch.float32`.**"
      ]
    },
    {
      "cell_type": "code",
      "metadata": {
        "colab": {
          "base_uri": "https://localhost:8080/"
        },
        "id": "5muzsWRN85NV",
        "outputId": "a226874a-f880-45b0-89df-619f25144acc"
      },
      "source": [
        "inputs = torch.tensor(inputs_array, dtype=torch.float32)\n",
        "targets = torch.tensor(targets_array, dtype=torch.float32)\n",
        "inputs[0:1]"
      ],
      "execution_count": 250,
      "outputs": [
        {
          "output_type": "execute_result",
          "data": {
            "text/plain": [
              "tensor([[21.0000,  1.0000, 35.3628,  0.0000,  0.0000,  2.0000]])"
            ]
          },
          "metadata": {
            "tags": []
          },
          "execution_count": 250
        }
      ]
    },
    {
      "cell_type": "code",
      "metadata": {
        "colab": {
          "base_uri": "https://localhost:8080/"
        },
        "id": "NeQkas7P85NV",
        "outputId": "de88a066-6a9c-4b0f-f618-353e0bf22d7c"
      },
      "source": [
        "inputs.dtype, targets.dtype"
      ],
      "execution_count": 251,
      "outputs": [
        {
          "output_type": "execute_result",
          "data": {
            "text/plain": [
              "(torch.float32, torch.float32)"
            ]
          },
          "metadata": {
            "tags": []
          },
          "execution_count": 251
        }
      ]
    },
    {
      "cell_type": "markdown",
      "metadata": {
        "id": "eTSXcEB985NV"
      },
      "source": [
        "Next, we need to create PyTorch datasets & data loaders for training & validation. We'll start by creating a `TensorDataset`."
      ]
    },
    {
      "cell_type": "code",
      "metadata": {
        "id": "Tur0CZDB85NV"
      },
      "source": [
        "dataset = TensorDataset(inputs, targets)"
      ],
      "execution_count": 252,
      "outputs": []
    },
    {
      "cell_type": "markdown",
      "metadata": {
        "id": "6h6DeUBo85NW"
      },
      "source": [
        "**Q: Pick a number between `0.1` and `0.2` to determine the fraction of data that will be used for creating the validation set. Then use `random_split` to create training & validation datasets.**"
      ]
    },
    {
      "cell_type": "code",
      "metadata": {
        "id": "2OJWy9oE85NW"
      },
      "source": [
        "val_percent = 0.15 # between 0.1 and 0.2\n",
        "val_size = int(num_rows * val_percent)\n",
        "train_size = num_rows - val_size\n",
        "\n",
        "\n",
        "train_ds, val_ds = random_split (dataset, [train_size, val_size]) # Use the random_split function to split dataset into 2 parts of the desired length"
      ],
      "execution_count": 256,
      "outputs": []
    },
    {
      "cell_type": "markdown",
      "metadata": {
        "id": "x7KoTJ2g85NW"
      },
      "source": [
        "Finally, we can create data loaders for training & validation.\n",
        "\n",
        "**Q: Pick a batch size for the data loader.**"
      ]
    },
    {
      "cell_type": "code",
      "metadata": {
        "id": "wAKq65H185NW"
      },
      "source": [
        "batch_size = 50"
      ],
      "execution_count": 257,
      "outputs": []
    },
    {
      "cell_type": "code",
      "metadata": {
        "id": "rRc5Swx_85NW"
      },
      "source": [
        "train_loader = DataLoader(train_ds, batch_size, shuffle=True)\n",
        "val_loader = DataLoader(val_ds, batch_size)"
      ],
      "execution_count": 258,
      "outputs": []
    },
    {
      "cell_type": "markdown",
      "metadata": {
        "id": "WOxHBird85NW"
      },
      "source": [
        "Let's look at a batch of data to verify everything is working fine so far."
      ]
    },
    {
      "cell_type": "code",
      "metadata": {
        "colab": {
          "base_uri": "https://localhost:8080/"
        },
        "id": "JCUHlQg-85NW",
        "outputId": "50804591-837b-48e4-d304-8daf8d09ef19"
      },
      "source": [
        "for xb, yb in train_loader:\n",
        "    print(\"inputs:\", xb)\n",
        "    print(\"targets:\", yb)\n",
        "    break"
      ],
      "execution_count": 259,
      "outputs": [
        {
          "output_type": "stream",
          "text": [
            "inputs: tensor([[42.0000,  1.0000, 32.2734,  3.0000,  1.0000,  1.0000],\n",
            "        [23.0000,  0.0000, 27.6165,  2.0000,  0.0000,  0.0000],\n",
            "        [32.0000,  0.0000, 33.7326,  1.0000,  0.0000,  2.0000],\n",
            "        [35.0000,  0.0000, 31.9485,  0.0000,  1.0000,  1.0000],\n",
            "        [39.0000,  0.0000, 47.6520,  0.0000,  0.0000,  2.0000],\n",
            "        [60.0000,  0.0000, 29.4576,  0.0000,  0.0000,  1.0000],\n",
            "        [30.0000,  0.0000, 35.2260,  3.0000,  0.0000,  3.0000],\n",
            "        [51.0000,  1.0000, 42.1800,  0.0000,  0.0000,  3.0000],\n",
            "        [64.0000,  1.0000, 29.1840,  2.0000,  0.0000,  3.0000],\n",
            "        [62.0000,  0.0000, 37.5801,  3.0000,  0.0000,  1.0000],\n",
            "        [46.0000,  1.0000, 22.6347,  0.0000,  0.0000,  1.0000],\n",
            "        [31.0000,  0.0000, 35.4141,  0.0000,  0.0000,  0.0000],\n",
            "        [58.0000,  0.0000, 37.5801,  0.0000,  0.0000,  0.0000],\n",
            "        [31.0000,  1.0000, 32.5983,  1.0000,  0.0000,  1.0000],\n",
            "        [47.0000,  0.0000, 38.0133,  0.0000,  0.0000,  0.0000],\n",
            "        [42.0000,  1.0000, 34.2000,  0.0000,  1.0000,  3.0000],\n",
            "        [61.0000,  1.0000, 38.2299,  0.0000,  0.0000,  0.0000],\n",
            "        [55.0000,  1.0000, 43.6392,  0.0000,  0.0000,  2.0000],\n",
            "        [18.0000,  1.0000, 38.4978,  1.0000,  0.0000,  2.0000],\n",
            "        [18.0000,  0.0000, 44.6424,  0.0000,  0.0000,  2.0000],\n",
            "        [18.0000,  0.0000, 40.6125,  0.0000,  0.0000,  0.0000],\n",
            "        [42.0000,  0.0000, 47.1105,  1.0000,  0.0000,  0.0000],\n",
            "        [23.0000,  1.0000, 21.3351,  0.0000,  0.0000,  1.0000],\n",
            "        [52.0000,  0.0000, 50.9580,  3.0000,  0.0000,  3.0000],\n",
            "        [35.0000,  1.0000, 31.6236,  2.0000,  1.0000,  0.0000],\n",
            "        [38.0000,  1.0000, 32.2278,  1.0000,  0.0000,  2.0000],\n",
            "        [24.0000,  0.0000, 28.8078,  0.0000,  0.0000,  0.0000],\n",
            "        [19.0000,  1.0000, 29.6742,  1.0000,  1.0000,  1.0000],\n",
            "        [36.0000,  1.0000, 39.2502,  0.0000,  1.0000,  2.0000],\n",
            "        [31.0000,  0.0000, 29.3436,  0.0000,  0.0000,  2.0000],\n",
            "        [24.0000,  1.0000, 26.9667,  0.0000,  0.0000,  1.0000],\n",
            "        [45.0000,  0.0000, 43.6449,  0.0000,  0.0000,  0.0000],\n",
            "        [18.0000,  1.0000, 42.5106,  0.0000,  0.0000,  2.0000],\n",
            "        [19.0000,  1.0000, 39.7860,  0.0000,  1.0000,  3.0000],\n",
            "        [63.0000,  0.0000, 41.3820,  0.0000,  0.0000,  2.0000],\n",
            "        [39.0000,  1.0000, 38.8740,  2.0000,  0.0000,  2.0000],\n",
            "        [19.0000,  0.0000, 32.3760,  1.0000,  0.0000,  3.0000],\n",
            "        [51.0000,  0.0000, 38.6631,  0.0000,  0.0000,  0.0000],\n",
            "        [49.0000,  0.0000, 27.1833,  3.0000,  1.0000,  0.0000],\n",
            "        [56.0000,  0.0000, 28.8420,  0.0000,  0.0000,  3.0000],\n",
            "        [25.0000,  1.0000, 29.3436,  0.0000,  0.0000,  2.0000],\n",
            "        [44.0000,  0.0000, 44.4030,  0.0000,  1.0000,  1.0000],\n",
            "        [63.0000,  0.0000, 28.5912,  0.0000,  0.0000,  1.0000],\n",
            "        [42.0000,  1.0000, 28.0896,  0.0000,  1.0000,  2.0000],\n",
            "        [21.0000,  1.0000, 29.6742,  0.0000,  0.0000,  0.0000],\n",
            "        [33.0000,  1.0000, 25.8837,  0.0000,  0.0000,  1.0000],\n",
            "        [54.0000,  0.0000, 24.4758,  3.0000,  0.0000,  1.0000],\n",
            "        [32.0000,  0.0000, 33.8979,  0.0000,  0.0000,  1.0000],\n",
            "        [50.0000,  1.0000, 42.2598,  1.0000,  0.0000,  2.0000],\n",
            "        [43.0000,  1.0000, 34.3311,  3.0000,  0.0000,  1.0000]])\n",
            "targets: tensor([[33115.3320],\n",
            "        [22619.7012],\n",
            "        [ 4608.4707],\n",
            "        [20437.2031],\n",
            "        [ 5718.8472],\n",
            "        [29212.3691],\n",
            "        [ 5378.9077],\n",
            "        [ 8886.5791],\n",
            "        [15138.3164],\n",
            "        [15768.3154],\n",
            "        [ 7601.9736],\n",
            "        [ 4390.4937],\n",
            "        [12555.2627],\n",
            "        [ 4286.0259],\n",
            "        [21087.5723],\n",
            "        [22365.4727],\n",
            "        [13274.7695],\n",
            "        [10328.5469],\n",
            "        [ 1742.8079],\n",
            "        [ 1649.3749],\n",
            "        [ 2233.2419],\n",
            "        [ 7727.2812],\n",
            "        [21811.3359],\n",
            "        [11525.8018],\n",
            "        [21193.9336],\n",
            "        [ 5539.3120],\n",
            "        [ 3074.6555],\n",
            "        [16615.4043],\n",
            "        [38120.0000],\n",
            "        [ 3794.1877],\n",
            "        [ 2376.4980],\n",
            "        [ 8014.6440],\n",
            "        [ 1152.8595],\n",
            "        [35176.9414],\n",
            "        [14026.0762],\n",
            "        [23798.6465],\n",
            "        [ 2354.8342],\n",
            "        [ 9964.9678],\n",
            "        [24347.9824],\n",
            "        [11181.2402],\n",
            "        [ 2159.0300],\n",
            "        [43413.2930],\n",
            "        [14397.1543],\n",
            "        [19710.6973],\n",
            "        [ 2123.2874],\n",
            "        [22204.3145],\n",
            "        [12600.1045],\n",
            "        [ 4400.6143],\n",
            "        [ 9138.5078],\n",
            "        [ 8494.1475]])\n"
          ],
          "name": "stdout"
        }
      ]
    },
    {
      "cell_type": "markdown",
      "metadata": {
        "id": "AiNYdhw985NX"
      },
      "source": [
        "Let's save our work by committing to Jovian."
      ]
    },
    {
      "cell_type": "code",
      "metadata": {
        "colab": {
          "base_uri": "https://localhost:8080/",
          "height": 86
        },
        "id": "i4aMDcRk85NX",
        "outputId": "54b2d63f-6df7-426f-b563-606815805442"
      },
      "source": [
        "jovian.commit(project=project_name, environment=None)"
      ],
      "execution_count": 150,
      "outputs": [
        {
          "output_type": "stream",
          "text": [
            "[jovian] Detected Colab notebook...\u001b[0m\n",
            "[jovian] Uploading colab notebook to Jovian...\u001b[0m\n",
            "[jovian] Committed successfully! https://jovian.ai/bsong75/02-insurance-linear-regression\u001b[0m\n"
          ],
          "name": "stdout"
        },
        {
          "output_type": "execute_result",
          "data": {
            "application/vnd.google.colaboratory.intrinsic+json": {
              "type": "string"
            },
            "text/plain": [
              "'https://jovian.ai/bsong75/02-insurance-linear-regression'"
            ]
          },
          "metadata": {
            "tags": []
          },
          "execution_count": 150
        }
      ]
    },
    {
      "cell_type": "markdown",
      "metadata": {
        "id": "HHRmReQF85NX"
      },
      "source": [
        "## Step 3: Create a Linear Regression Model\n",
        "\n",
        "Our model itself is a fairly straightforward linear regression (we'll build more complex models in the next assignment). \n"
      ]
    },
    {
      "cell_type": "code",
      "metadata": {
        "colab": {
          "base_uri": "https://localhost:8080/"
        },
        "id": "JP9k5Yuc85NX",
        "outputId": "cd59ef2b-2618-4c06-e1b2-138904182fd2"
      },
      "source": [
        "input_size = len(input_cols)\n",
        "output_size = len(output_cols)\n",
        "print(input_size, output_size)"
      ],
      "execution_count": 260,
      "outputs": [
        {
          "output_type": "stream",
          "text": [
            "6 1\n"
          ],
          "name": "stdout"
        }
      ]
    },
    {
      "cell_type": "code",
      "metadata": {
        "id": "KFb9Q58dOY48"
      },
      "source": [
        "import torch.nn.functional as F"
      ],
      "execution_count": 261,
      "outputs": []
    },
    {
      "cell_type": "markdown",
      "metadata": {
        "id": "m98qs-9V85NX"
      },
      "source": [
        "**Q: Complete the class definition below by filling out the constructor (`__init__`), `forward`, `training_step` and `validation_step` methods.**\n",
        "\n",
        "Hint: Think carefully about picking a good loss fuction (it's not cross entropy). Maybe try 2-3 of them and see which one works best. See https://pytorch.org/docs/stable/nn.functional.html#loss-functions"
      ]
    },
    {
      "cell_type": "code",
      "metadata": {
        "id": "js2l8UJ285NX"
      },
      "source": [
        "class InsuranceModel(nn.Module):\n",
        "    def __init__(self):\n",
        "        super().__init__()\n",
        "        self.linear = nn.Linear(input_size, output_size)                  # fill this (hint: use input_size & output_size defined above)\n",
        "        \n",
        "    def forward(self, xb):\n",
        "        out = self.linear(xb)                          # fill this\n",
        "        return out\n",
        "    \n",
        "    def training_step(self, batch):\n",
        "        inputs, targets = batch \n",
        "        # Generate predictions\n",
        "        out = self(inputs)          \n",
        "        # Calcuate loss\n",
        "        loss = F.mse_loss(out, targets)                          # fill this\n",
        "        return loss\n",
        "    \n",
        "    def validation_step(self, batch):\n",
        "        inputs, targets = batch\n",
        "        # Generate predictions\n",
        "        out = self(inputs)\n",
        "        # Calculate loss\n",
        "        loss = F.mse_loss(out,targets)                          # fill this    \n",
        "        return {'val_loss': loss.detach()}\n",
        "        \n",
        "    def validation_epoch_end(self, outputs):\n",
        "        batch_losses = [x['val_loss'] for x in outputs]\n",
        "        epoch_loss = torch.stack(batch_losses).mean()   # Combine losses\n",
        "        return {'val_loss': epoch_loss.item()}\n",
        "    \n",
        "    def epoch_end(self, epoch, result, num_epochs):\n",
        "        # Print result every 20th epoch\n",
        "        if (epoch+1) % 20 == 0 or epoch == num_epochs-1:\n",
        "            print(\"Epoch [{}], val_loss: {:.4f}\".format(epoch+1, result['val_loss']))"
      ],
      "execution_count": 333,
      "outputs": []
    },
    {
      "cell_type": "markdown",
      "metadata": {
        "id": "nWwhW56Q85NX"
      },
      "source": [
        "Let us create a model using the `InsuranceModel` class. You may need to come back later and re-run the next cell to reinitialize the model, in case the loss becomes `nan` or `infinity`."
      ]
    },
    {
      "cell_type": "code",
      "metadata": {
        "id": "TuDFdGkv85NY"
      },
      "source": [
        "model = InsuranceModel()"
      ],
      "execution_count": 334,
      "outputs": []
    },
    {
      "cell_type": "markdown",
      "metadata": {
        "id": "Th2KsmVo85NZ"
      },
      "source": [
        "Let's check out the weights and biases of the model using `model.parameters`."
      ]
    },
    {
      "cell_type": "code",
      "metadata": {
        "colab": {
          "base_uri": "https://localhost:8080/"
        },
        "id": "BBsgCOPg85Na",
        "outputId": "e9f00ff5-3349-460b-8cd1-71b6a62956d7"
      },
      "source": [
        "list(model.parameters())"
      ],
      "execution_count": 335,
      "outputs": [
        {
          "output_type": "execute_result",
          "data": {
            "text/plain": [
              "[Parameter containing:\n",
              " tensor([[-0.1047, -0.0213, -0.3862,  0.3312,  0.0623,  0.2677]],\n",
              "        requires_grad=True), Parameter containing:\n",
              " tensor([0.3019], requires_grad=True)]"
            ]
          },
          "metadata": {
            "tags": []
          },
          "execution_count": 335
        }
      ]
    },
    {
      "cell_type": "markdown",
      "metadata": {
        "id": "VubPRxuX85Na"
      },
      "source": [
        "One final commit before we train the model."
      ]
    },
    {
      "cell_type": "code",
      "metadata": {
        "colab": {
          "base_uri": "https://localhost:8080/",
          "height": 104
        },
        "id": "_MrqMeLE85Na",
        "outputId": "69ccc30e-8f62-4249-9652-a539b0971f9b"
      },
      "source": [
        "jovian.commit(project=project_name, environment=None)"
      ],
      "execution_count": 318,
      "outputs": [
        {
          "output_type": "stream",
          "text": [
            "[jovian] Detected Colab notebook...\u001b[0m\n",
            "[jovian] Uploading colab notebook to Jovian...\u001b[0m\n",
            "[jovian] Attaching records (metrics, hyperparameters, dataset etc.)\u001b[0m\n",
            "[jovian] Committed successfully! https://jovian.ai/bsong75/02-insurance-linear-regression\u001b[0m\n"
          ],
          "name": "stdout"
        },
        {
          "output_type": "execute_result",
          "data": {
            "application/vnd.google.colaboratory.intrinsic+json": {
              "type": "string"
            },
            "text/plain": [
              "'https://jovian.ai/bsong75/02-insurance-linear-regression'"
            ]
          },
          "metadata": {
            "tags": []
          },
          "execution_count": 318
        }
      ]
    },
    {
      "cell_type": "markdown",
      "metadata": {
        "id": "_admoCh585Na"
      },
      "source": [
        "## Step 4: Train the model to fit the data\n",
        "\n",
        "To train our model, we'll use the same `fit` function explained in the lecture. That's the benefit of defining a generic training loop - you can use it for any problem."
      ]
    },
    {
      "cell_type": "code",
      "metadata": {
        "id": "V8AAibXY85Na"
      },
      "source": [
        "def evaluate(model, val_loader):\n",
        "    outputs = [model.validation_step(batch) for batch in val_loader]\n",
        "    return model.validation_epoch_end(outputs)\n",
        "\n",
        "def fit(epochs, lr, model, train_loader, val_loader, opt_func=torch.optim.SGD):\n",
        "    history = []\n",
        "    optimizer = opt_func(model.parameters(), lr)\n",
        "    for epoch in range(epochs):\n",
        "        # Training Phase \n",
        "        for batch in train_loader:\n",
        "            loss = model.training_step(batch)\n",
        "            loss.backward()\n",
        "            optimizer.step()\n",
        "            optimizer.zero_grad()\n",
        "        # Validation phase\n",
        "        result = evaluate(model, val_loader)\n",
        "        model.epoch_end(epoch, result, epochs)\n",
        "        history.append(result)\n",
        "    return history"
      ],
      "execution_count": 336,
      "outputs": []
    },
    {
      "cell_type": "markdown",
      "metadata": {
        "id": "pgW6wwua85Na"
      },
      "source": [
        "**Q: Use the `evaluate` function to calculate the loss on the validation set before training.**"
      ]
    },
    {
      "cell_type": "code",
      "metadata": {
        "colab": {
          "base_uri": "https://localhost:8080/"
        },
        "id": "hmg_pmPH85Na",
        "outputId": "7ce6109f-59ef-4448-f6e7-f1375b82d012"
      },
      "source": [
        "result = evaluate(model, val_loader) # Use the the evaluate function\n",
        "print(result)"
      ],
      "execution_count": 337,
      "outputs": [
        {
          "output_type": "stream",
          "text": [
            "{'val_loss': 330586336.0}\n"
          ],
          "name": "stdout"
        }
      ]
    },
    {
      "cell_type": "markdown",
      "metadata": {
        "id": "1ZFo9c7N85Na"
      },
      "source": [
        "\n",
        "We are now ready to train the model. You may need to run the training loop many times, for different number of epochs and with different learning rates, to get a good result. Also, if your loss becomes too large (or `nan`), you may have to re-initialize the model by running the cell `model = InsuranceModel()`. Experiment with this for a while, and try to get to as low a loss as possible."
      ]
    },
    {
      "cell_type": "markdown",
      "metadata": {
        "id": "xb-T22U085Na"
      },
      "source": [
        "**Q: Train the model 4-5 times with different learning rates & for different number of epochs.**\n",
        "\n",
        "Hint: Vary learning rates by orders of 10 (e.g. `1e-2`, `1e-3`, `1e-4`, `1e-5`, `1e-6`) to figure out what works."
      ]
    },
    {
      "cell_type": "code",
      "metadata": {
        "colab": {
          "base_uri": "https://localhost:8080/"
        },
        "id": "QVsAY3WP85Na",
        "outputId": "1b9f8a35-e9a8-4671-b0b3-a837d58f0226"
      },
      "source": [
        "epochs = 100\n",
        "lr = 1e-50000\n",
        "history1 = fit(epochs, lr, model, train_loader, val_loader)"
      ],
      "execution_count": 338,
      "outputs": [
        {
          "output_type": "stream",
          "text": [
            "Epoch [20], val_loss: 330586336.0000\n",
            "Epoch [40], val_loss: 330586336.0000\n",
            "Epoch [60], val_loss: 330586336.0000\n",
            "Epoch [80], val_loss: 330586336.0000\n",
            "Epoch [100], val_loss: 330586336.0000\n"
          ],
          "name": "stdout"
        }
      ]
    },
    {
      "cell_type": "code",
      "metadata": {
        "colab": {
          "base_uri": "https://localhost:8080/"
        },
        "id": "O57ioVGC85Na",
        "outputId": "90f68dca-5970-4a11-d994-211c6080415d"
      },
      "source": [
        "epochs = 100\n",
        "lr = 1e-500000\n",
        "history2 = fit(epochs, lr, model, train_loader, val_loader)"
      ],
      "execution_count": 339,
      "outputs": [
        {
          "output_type": "stream",
          "text": [
            "Epoch [20], val_loss: 330586336.0000\n",
            "Epoch [40], val_loss: 330586336.0000\n",
            "Epoch [60], val_loss: 330586336.0000\n",
            "Epoch [80], val_loss: 330586336.0000\n",
            "Epoch [100], val_loss: 330586336.0000\n"
          ],
          "name": "stdout"
        }
      ]
    },
    {
      "cell_type": "code",
      "metadata": {
        "colab": {
          "base_uri": "https://localhost:8080/"
        },
        "id": "Y5Gl7DQA85Nb",
        "outputId": "55555e22-41c2-48c7-9655-0f60ddb31377"
      },
      "source": [
        "epochs = 100\n",
        "lr = 1e-4\n",
        "history3 = fit(epochs, lr, model, train_loader, val_loader)"
      ],
      "execution_count": 340,
      "outputs": [
        {
          "output_type": "stream",
          "text": [
            "Epoch [20], val_loss: 142152736.0000\n",
            "Epoch [40], val_loss: 141338496.0000\n",
            "Epoch [60], val_loss: 139822688.0000\n",
            "Epoch [80], val_loss: 131832696.0000\n",
            "Epoch [100], val_loss: 130413088.0000\n"
          ],
          "name": "stdout"
        }
      ]
    },
    {
      "cell_type": "code",
      "metadata": {
        "colab": {
          "base_uri": "https://localhost:8080/"
        },
        "id": "RmbcyoIX85Nb",
        "outputId": "7337ca4c-5027-4f91-d532-5a2fcdf4c2d9"
      },
      "source": [
        "epochs = 100\n",
        "lr = 1e-5\n",
        "history4 = fit(epochs, lr, model, train_loader, val_loader)"
      ],
      "execution_count": 341,
      "outputs": [
        {
          "output_type": "stream",
          "text": [
            "Epoch [20], val_loss: 129162088.0000\n",
            "Epoch [40], val_loss: 128950848.0000\n",
            "Epoch [60], val_loss: 128725984.0000\n",
            "Epoch [80], val_loss: 128574184.0000\n",
            "Epoch [100], val_loss: 128241712.0000\n"
          ],
          "name": "stdout"
        }
      ]
    },
    {
      "cell_type": "code",
      "metadata": {
        "colab": {
          "base_uri": "https://localhost:8080/"
        },
        "id": "SbsASajK85Nb",
        "outputId": "4f3b7541-bbb9-4508-ba9a-3c82908e769e"
      },
      "source": [
        "epochs = 1000\n",
        "lr = 1e-6\n",
        "history5 = fit(epochs, lr, model, train_loader, val_loader)"
      ],
      "execution_count": 342,
      "outputs": [
        {
          "output_type": "stream",
          "text": [
            "Epoch [20], val_loss: 128242728.0000\n",
            "Epoch [40], val_loss: 128221544.0000\n",
            "Epoch [60], val_loss: 128195744.0000\n",
            "Epoch [80], val_loss: 128175184.0000\n",
            "Epoch [100], val_loss: 128149872.0000\n",
            "Epoch [120], val_loss: 128121728.0000\n",
            "Epoch [140], val_loss: 128106696.0000\n",
            "Epoch [160], val_loss: 128076208.0000\n",
            "Epoch [180], val_loss: 128060656.0000\n",
            "Epoch [200], val_loss: 128031688.0000\n",
            "Epoch [220], val_loss: 128011288.0000\n",
            "Epoch [240], val_loss: 127983264.0000\n",
            "Epoch [260], val_loss: 127963016.0000\n",
            "Epoch [280], val_loss: 127936696.0000\n",
            "Epoch [300], val_loss: 127919808.0000\n",
            "Epoch [320], val_loss: 127899832.0000\n",
            "Epoch [340], val_loss: 127869984.0000\n",
            "Epoch [360], val_loss: 127843408.0000\n",
            "Epoch [380], val_loss: 127825088.0000\n",
            "Epoch [400], val_loss: 127795712.0000\n",
            "Epoch [420], val_loss: 127774664.0000\n",
            "Epoch [440], val_loss: 127749632.0000\n",
            "Epoch [460], val_loss: 127728944.0000\n",
            "Epoch [480], val_loss: 127705896.0000\n",
            "Epoch [500], val_loss: 127682040.0000\n",
            "Epoch [520], val_loss: 127659312.0000\n",
            "Epoch [540], val_loss: 127645296.0000\n",
            "Epoch [560], val_loss: 127618032.0000\n",
            "Epoch [580], val_loss: 127595872.0000\n",
            "Epoch [600], val_loss: 127563872.0000\n",
            "Epoch [620], val_loss: 127541392.0000\n",
            "Epoch [640], val_loss: 127519848.0000\n",
            "Epoch [660], val_loss: 127501256.0000\n",
            "Epoch [680], val_loss: 127489968.0000\n",
            "Epoch [700], val_loss: 127450776.0000\n",
            "Epoch [720], val_loss: 127432864.0000\n",
            "Epoch [740], val_loss: 127407488.0000\n",
            "Epoch [760], val_loss: 127389952.0000\n",
            "Epoch [780], val_loss: 127357712.0000\n",
            "Epoch [800], val_loss: 127343408.0000\n",
            "Epoch [820], val_loss: 127315712.0000\n",
            "Epoch [840], val_loss: 127289704.0000\n",
            "Epoch [860], val_loss: 127273120.0000\n",
            "Epoch [880], val_loss: 127246176.0000\n",
            "Epoch [900], val_loss: 127220008.0000\n",
            "Epoch [920], val_loss: 127196888.0000\n",
            "Epoch [940], val_loss: 127178176.0000\n",
            "Epoch [960], val_loss: 127155064.0000\n",
            "Epoch [980], val_loss: 127127936.0000\n",
            "Epoch [1000], val_loss: 127105360.0000\n"
          ],
          "name": "stdout"
        }
      ]
    },
    {
      "cell_type": "markdown",
      "metadata": {
        "id": "kIoiuyJw85Nb"
      },
      "source": [
        "**Q: What is the final validation loss of your model?**"
      ]
    },
    {
      "cell_type": "code",
      "metadata": {
        "id": "WuF80Uh485Nb"
      },
      "source": [
        "val_loss = 127105360"
      ],
      "execution_count": 343,
      "outputs": []
    },
    {
      "cell_type": "markdown",
      "metadata": {
        "id": "UJzAjcFV85Nb"
      },
      "source": [
        "Let's log the final validation loss to Jovian and commit the notebook"
      ]
    },
    {
      "cell_type": "code",
      "metadata": {
        "colab": {
          "base_uri": "https://localhost:8080/"
        },
        "id": "1Yu4uuzv85Nb",
        "outputId": "ebcb44ca-cb90-41aa-93b5-e776c0c7a863"
      },
      "source": [
        "jovian.log_metrics(val_loss=val_loss)"
      ],
      "execution_count": 345,
      "outputs": [
        {
          "output_type": "stream",
          "text": [
            "[jovian] Metrics logged.\u001b[0m\n"
          ],
          "name": "stdout"
        }
      ]
    },
    {
      "cell_type": "code",
      "metadata": {
        "colab": {
          "base_uri": "https://localhost:8080/",
          "height": 104
        },
        "id": "jvusGriQ85Nb",
        "outputId": "97a54019-86e9-4c2a-efd6-bc1eab2a247c"
      },
      "source": [
        "jovian.commit(project=project_name, environment=None)"
      ],
      "execution_count": 346,
      "outputs": [
        {
          "output_type": "stream",
          "text": [
            "[jovian] Detected Colab notebook...\u001b[0m\n",
            "[jovian] Uploading colab notebook to Jovian...\u001b[0m\n",
            "[jovian] Attaching records (metrics, hyperparameters, dataset etc.)\u001b[0m\n",
            "[jovian] Committed successfully! https://jovian.ai/bsong75/02-insurance-linear-regression\u001b[0m\n"
          ],
          "name": "stdout"
        },
        {
          "output_type": "execute_result",
          "data": {
            "application/vnd.google.colaboratory.intrinsic+json": {
              "type": "string"
            },
            "text/plain": [
              "'https://jovian.ai/bsong75/02-insurance-linear-regression'"
            ]
          },
          "metadata": {
            "tags": []
          },
          "execution_count": 346
        }
      ]
    },
    {
      "cell_type": "markdown",
      "metadata": {
        "id": "szn-6V7085Nb"
      },
      "source": [
        "Now scroll back up, re-initialize the model, and try different set of values for batch size, number of epochs, learning rate etc. Commit each experiment and use the \"Compare\" and \"View Diff\" options on Jovian to compare the different results."
      ]
    },
    {
      "cell_type": "markdown",
      "metadata": {
        "id": "YnHqIsj185Nb"
      },
      "source": [
        "## Step 5: Make predictions using the trained model\n",
        "\n",
        "**Q: Complete the following function definition to make predictions on a single input**"
      ]
    },
    {
      "cell_type": "code",
      "metadata": {
        "id": "GNCLB6-R85Nb"
      },
      "source": [
        "def predict_single(input, target, model):\n",
        "    inputs = input.unsqueeze(0)\n",
        "    predictions =  model(input)               # fill this\n",
        "    prediction = predictions[0].detach()\n",
        "    print(\"Input:\", input)\n",
        "    print(\"Target:\", target)\n",
        "    print(\"Prediction:\", prediction)"
      ],
      "execution_count": 347,
      "outputs": []
    },
    {
      "cell_type": "code",
      "metadata": {
        "colab": {
          "base_uri": "https://localhost:8080/"
        },
        "id": "aRySrhvO85Nc",
        "outputId": "97538077-131d-4f6b-ce9f-b4b2fe043d21"
      },
      "source": [
        "input, target = val_ds[0]\n",
        "predict_single(input, target, model)"
      ],
      "execution_count": 348,
      "outputs": [
        {
          "output_type": "stream",
          "text": [
            "Input: tensor([19.0000,  1.0000, 34.4850,  0.0000,  1.0000,  2.0000])\n",
            "Target: tensor([32873.8242])\n",
            "Prediction: tensor(10631.0127)\n"
          ],
          "name": "stdout"
        }
      ]
    },
    {
      "cell_type": "code",
      "metadata": {
        "colab": {
          "base_uri": "https://localhost:8080/"
        },
        "id": "JldOYOq685Nc",
        "outputId": "76b15c47-6148-4aa5-8597-c8574eff7902"
      },
      "source": [
        "input, target = val_ds[10]\n",
        "predict_single(input, target, model)"
      ],
      "execution_count": 349,
      "outputs": [
        {
          "output_type": "stream",
          "text": [
            "Input: tensor([53.0000,  1.0000, 27.7248,  0.0000,  0.0000,  1.0000])\n",
            "Target: tensor([9962.1064])\n",
            "Prediction: tensor(14822.4131)\n"
          ],
          "name": "stdout"
        }
      ]
    },
    {
      "cell_type": "code",
      "metadata": {
        "colab": {
          "base_uri": "https://localhost:8080/"
        },
        "id": "aiI39-DF85Nc",
        "outputId": "8bffb284-7397-4139-a49f-ce7568b46987"
      },
      "source": [
        "input, target = val_ds[23]\n",
        "predict_single(input, target, model)"
      ],
      "execution_count": 350,
      "outputs": [
        {
          "output_type": "stream",
          "text": [
            "Input: tensor([20.0000,  1.0000, 33.8979,  0.0000,  0.0000,  1.0000])\n",
            "Target: tensor([1787.2269])\n",
            "Prediction: tensor(8958.5527)\n"
          ],
          "name": "stdout"
        }
      ]
    },
    {
      "cell_type": "markdown",
      "metadata": {
        "id": "5zZjZhNz85Nc"
      },
      "source": [
        "Are you happy with your model's predictions? Try to improve them further."
      ]
    },
    {
      "cell_type": "markdown",
      "metadata": {
        "id": "YJSqz_jA85Nc"
      },
      "source": [
        "## (Optional) Step 6: Try another dataset & blog about it\n",
        "\n",
        "While this last step is optional for the submission of your assignment, we highly recommend that you do it. Try to replicate this notebook for a different linear regression or logistic regression problem. This will help solidify your understanding, and give you a chance to differentiate the generic patterns in machine learning from problem-specific details.You can use one of these starer notebooks (just change the dataset):\n",
        "\n",
        "- Linear regression (minimal): https://jovian.ai/aakashns/housing-linear-minimal\n",
        "- Logistic regression (minimal): https://jovian.ai/aakashns/mnist-logistic-minimal\n",
        "\n",
        "Here are some sources to find good datasets:\n",
        "\n",
        "- https://lionbridge.ai/datasets/10-open-datasets-for-linear-regression/\n",
        "- https://www.kaggle.com/rtatman/datasets-for-regression-analysis\n",
        "- https://archive.ics.uci.edu/ml/datasets.php?format=&task=reg&att=&area=&numAtt=&numIns=&type=&sort=nameUp&view=table\n",
        "- https://people.sc.fsu.edu/~jburkardt/datasets/regression/regression.html\n",
        "- https://archive.ics.uci.edu/ml/datasets/wine+quality\n",
        "- https://pytorch.org/docs/stable/torchvision/datasets.html\n",
        "\n",
        "We also recommend that you write a blog about your approach to the problem. Here is a suggested structure for your post (feel free to experiment with it):\n",
        "\n",
        "- Interesting title & subtitle\n",
        "- Overview of what the blog covers (which dataset, linear regression or logistic regression, intro to PyTorch)\n",
        "- Downloading & exploring the data\n",
        "- Preparing the data for training\n",
        "- Creating a model using PyTorch\n",
        "- Training the model to fit the data\n",
        "- Your thoughts on how to experiment with different hyperparmeters to reduce loss\n",
        "- Making predictions using the model\n",
        "\n",
        "As with the previous assignment, you can [embed Juptyer notebook cells & outputs from Jovian](https://medium.com/jovianml/share-and-embed-jupyter-notebooks-online-with-jovian-ml-df709a03064e) into your blog. \n",
        "\n",
        "Don't forget to share your work on the forum: https://jovian.ai/forum/t/linear-regression-and-logistic-regression-notebooks-and-blog-posts/14039"
      ]
    },
    {
      "cell_type": "code",
      "metadata": {
        "colab": {
          "base_uri": "https://localhost:8080/",
          "height": 172
        },
        "id": "iF9mL-wF85Nc",
        "outputId": "24ee98db-3c17-422a-b0ec-c5029ad43d20"
      },
      "source": [
        "jovian.commit(project=project_name, environment=None)\n",
        "jovian.commit(project=project_name, environment=None) # try again, kaggle fails sometimes"
      ],
      "execution_count": 351,
      "outputs": [
        {
          "output_type": "stream",
          "text": [
            "[jovian] Detected Colab notebook...\u001b[0m\n",
            "[jovian] Uploading colab notebook to Jovian...\u001b[0m\n",
            "[jovian] Attaching records (metrics, hyperparameters, dataset etc.)\u001b[0m\n",
            "[jovian] Committed successfully! https://jovian.ai/bsong75/02-insurance-linear-regression\u001b[0m\n",
            "[jovian] Detected Colab notebook...\u001b[0m\n",
            "[jovian] Uploading colab notebook to Jovian...\u001b[0m\n",
            "[jovian] Attaching records (metrics, hyperparameters, dataset etc.)\u001b[0m\n",
            "[jovian] Committed successfully! https://jovian.ai/bsong75/02-insurance-linear-regression\u001b[0m\n"
          ],
          "name": "stdout"
        },
        {
          "output_type": "execute_result",
          "data": {
            "application/vnd.google.colaboratory.intrinsic+json": {
              "type": "string"
            },
            "text/plain": [
              "'https://jovian.ai/bsong75/02-insurance-linear-regression'"
            ]
          },
          "metadata": {
            "tags": []
          },
          "execution_count": 351
        }
      ]
    },
    {
      "cell_type": "code",
      "metadata": {
        "id": "Z34f_3hW85Nd"
      },
      "source": [
        ""
      ],
      "execution_count": null,
      "outputs": []
    }
  ]
}