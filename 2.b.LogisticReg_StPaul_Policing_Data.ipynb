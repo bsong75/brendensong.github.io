{
  "nbformat": 4,
  "nbformat_minor": 0,
  "metadata": {
    "colab": {
      "name": "2.b.LR_StPaul_Policing Data.ipynb",
      "provenance": [],
      "collapsed_sections": [],
      "authorship_tag": "ABX9TyP0ltMglRc0ddaXB64Q0kvy",
      "include_colab_link": true
    },
    "kernelspec": {
      "name": "python3",
      "display_name": "Python 3"
    }
  },
  "cells": [
    {
      "cell_type": "markdown",
      "metadata": {
        "id": "view-in-github",
        "colab_type": "text"
      },
      "source": [
        "<a href=\"https://colab.research.google.com/github/bsong75/brendensong.github.io/blob/main/2_b_LR_StPaul_Policing_Data.ipynb\" target=\"_parent\"><img src=\"https://colab.research.google.com/assets/colab-badge.svg\" alt=\"Open In Colab\"/></a>"
      ]
    },
    {
      "cell_type": "code",
      "metadata": {
        "id": "lef8KFysywiL"
      },
      "source": [
        "import pandas as pd\n",
        "import numpy as np\n",
        "import matplotlib.pyplot as plt"
      ],
      "execution_count": 1,
      "outputs": []
    },
    {
      "cell_type": "code",
      "metadata": {
        "colab": {
          "base_uri": "https://localhost:8080/"
        },
        "id": "lzn6mZNSzLu_",
        "outputId": "7ce14fda-c28d-40e8-bc66-fe3d4b7a909f"
      },
      "source": [
        "paul=pd.read_csv('/content/stpaul.csv')"
      ],
      "execution_count": 2,
      "outputs": [
        {
          "output_type": "stream",
          "text": [
            "/usr/local/lib/python3.6/dist-packages/IPython/core/interactiveshell.py:2718: DtypeWarning: Columns (10,14) have mixed types.Specify dtype option on import or set low_memory=False.\n",
            "  interactivity=interactivity, compiler=compiler, result=result)\n"
          ],
          "name": "stderr"
        }
      ]
    },
    {
      "cell_type": "code",
      "metadata": {
        "colab": {
          "base_uri": "https://localhost:8080/"
        },
        "id": "pLWv5GlfzQwF",
        "outputId": "25c1dc43-d02b-488f-bf97-8d04db055614"
      },
      "source": [
        "paul.dtypes"
      ],
      "execution_count": 3,
      "outputs": [
        {
          "output_type": "execute_result",
          "data": {
            "text/plain": [
              "raw_row_number         object\n",
              "date                   object\n",
              "time                   object\n",
              "lat                   float64\n",
              "lng                   float64\n",
              "police_grid_number      int64\n",
              "subject_age           float64\n",
              "subject_race           object\n",
              "subject_sex            object\n",
              "type                   object\n",
              "citation_issued        object\n",
              "outcome                object\n",
              "frisk_performed          bool\n",
              "search_conducted         bool\n",
              "search_vehicle         object\n",
              "raw_race_of_driver     object\n",
              "dtype: object"
            ]
          },
          "metadata": {
            "tags": []
          },
          "execution_count": 3
        }
      ]
    },
    {
      "cell_type": "code",
      "metadata": {
        "colab": {
          "base_uri": "https://localhost:8080/"
        },
        "id": "p1OruHCszUzk",
        "outputId": "0822b494-544e-4269-ae9e-7284db6ee1f3"
      },
      "source": [
        "paul.isnull().sum()"
      ],
      "execution_count": 4,
      "outputs": [
        {
          "output_type": "execute_result",
          "data": {
            "text/plain": [
              "raw_row_number             0\n",
              "date                       0\n",
              "time                       0\n",
              "lat                       44\n",
              "lng                       44\n",
              "police_grid_number         0\n",
              "subject_age           184117\n",
              "subject_race           35126\n",
              "subject_sex            31972\n",
              "type                       0\n",
              "citation_issued            2\n",
              "outcome               182567\n",
              "frisk_performed            0\n",
              "search_conducted           0\n",
              "search_vehicle             0\n",
              "raw_race_of_driver         1\n",
              "dtype: int64"
            ]
          },
          "metadata": {
            "tags": []
          },
          "execution_count": 4
        }
      ]
    },
    {
      "cell_type": "code",
      "metadata": {
        "colab": {
          "base_uri": "https://localhost:8080/",
          "height": 281
        },
        "id": "dXzo9qiWzW9h",
        "outputId": "47793403-0caf-49be-d7b5-ad7d9db69b21"
      },
      "source": [
        "paul.describe()"
      ],
      "execution_count": 5,
      "outputs": [
        {
          "output_type": "execute_result",
          "data": {
            "text/html": [
              "<div>\n",
              "<style scoped>\n",
              "    .dataframe tbody tr th:only-of-type {\n",
              "        vertical-align: middle;\n",
              "    }\n",
              "\n",
              "    .dataframe tbody tr th {\n",
              "        vertical-align: top;\n",
              "    }\n",
              "\n",
              "    .dataframe thead th {\n",
              "        text-align: right;\n",
              "    }\n",
              "</style>\n",
              "<table border=\"1\" class=\"dataframe\">\n",
              "  <thead>\n",
              "    <tr style=\"text-align: right;\">\n",
              "      <th></th>\n",
              "      <th>lat</th>\n",
              "      <th>lng</th>\n",
              "      <th>police_grid_number</th>\n",
              "      <th>subject_age</th>\n",
              "    </tr>\n",
              "  </thead>\n",
              "  <tbody>\n",
              "    <tr>\n",
              "      <th>count</th>\n",
              "      <td>211937.000000</td>\n",
              "      <td>211937.000000</td>\n",
              "      <td>211981.000000</td>\n",
              "      <td>27864.000000</td>\n",
              "    </tr>\n",
              "    <tr>\n",
              "      <th>mean</th>\n",
              "      <td>44.958006</td>\n",
              "      <td>-93.102808</td>\n",
              "      <td>99.193107</td>\n",
              "      <td>32.407838</td>\n",
              "    </tr>\n",
              "    <tr>\n",
              "      <th>std</th>\n",
              "      <td>0.018447</td>\n",
              "      <td>0.044684</td>\n",
              "      <td>56.131500</td>\n",
              "      <td>12.057744</td>\n",
              "    </tr>\n",
              "    <tr>\n",
              "      <th>min</th>\n",
              "      <td>44.896841</td>\n",
              "      <td>-93.204229</td>\n",
              "      <td>1.000000</td>\n",
              "      <td>10.000000</td>\n",
              "    </tr>\n",
              "    <tr>\n",
              "      <th>25%</th>\n",
              "      <td>44.950851</td>\n",
              "      <td>-93.131400</td>\n",
              "      <td>58.000000</td>\n",
              "      <td>23.000000</td>\n",
              "    </tr>\n",
              "    <tr>\n",
              "      <th>50%</th>\n",
              "      <td>44.959361</td>\n",
              "      <td>-93.102077</td>\n",
              "      <td>89.000000</td>\n",
              "      <td>29.000000</td>\n",
              "    </tr>\n",
              "    <tr>\n",
              "      <th>75%</th>\n",
              "      <td>44.973116</td>\n",
              "      <td>-93.071036</td>\n",
              "      <td>126.000000</td>\n",
              "      <td>39.000000</td>\n",
              "    </tr>\n",
              "    <tr>\n",
              "      <th>max</th>\n",
              "      <td>44.988419</td>\n",
              "      <td>-93.006650</td>\n",
              "      <td>280.000000</td>\n",
              "      <td>90.000000</td>\n",
              "    </tr>\n",
              "  </tbody>\n",
              "</table>\n",
              "</div>"
            ],
            "text/plain": [
              "                 lat            lng  police_grid_number   subject_age\n",
              "count  211937.000000  211937.000000       211981.000000  27864.000000\n",
              "mean       44.958006     -93.102808           99.193107     32.407838\n",
              "std         0.018447       0.044684           56.131500     12.057744\n",
              "min        44.896841     -93.204229            1.000000     10.000000\n",
              "25%        44.950851     -93.131400           58.000000     23.000000\n",
              "50%        44.959361     -93.102077           89.000000     29.000000\n",
              "75%        44.973116     -93.071036          126.000000     39.000000\n",
              "max        44.988419     -93.006650          280.000000     90.000000"
            ]
          },
          "metadata": {
            "tags": []
          },
          "execution_count": 5
        }
      ]
    },
    {
      "cell_type": "code",
      "metadata": {
        "colab": {
          "base_uri": "https://localhost:8080/"
        },
        "id": "ardbEDCRzZOc",
        "outputId": "b3f94947-65c9-402e-d543-14b6b3783718"
      },
      "source": [
        "paul.subject_race.value_counts(normalize=True)"
      ],
      "execution_count": 6,
      "outputs": [
        {
          "output_type": "execute_result",
          "data": {
            "text/plain": [
              "white                     0.466947\n",
              "black                     0.346860\n",
              "asian/pacific islander    0.098035\n",
              "hispanic                  0.078245\n",
              "other                     0.009912\n",
              "Name: subject_race, dtype: float64"
            ]
          },
          "metadata": {
            "tags": []
          },
          "execution_count": 6
        }
      ]
    },
    {
      "cell_type": "code",
      "metadata": {
        "colab": {
          "base_uri": "https://localhost:8080/"
        },
        "id": "sC6ypI2gzbYA",
        "outputId": "9df8a36b-d20d-41bf-e4cd-642abd252e8b"
      },
      "source": [
        "paul.groupby('subject_sex').citation_issued.value_counts(normalize=True)"
      ],
      "execution_count": 7,
      "outputs": [
        {
          "output_type": "execute_result",
          "data": {
            "text/plain": [
              "subject_sex  citation_issued\n",
              "female       False              0.871042\n",
              "             True               0.128958\n",
              "male         False              0.863046\n",
              "             True               0.136954\n",
              "Name: citation_issued, dtype: float64"
            ]
          },
          "metadata": {
            "tags": []
          },
          "execution_count": 7
        }
      ]
    },
    {
      "cell_type": "code",
      "metadata": {
        "colab": {
          "base_uri": "https://localhost:8080/"
        },
        "id": "MUjg1MxdzkVl",
        "outputId": "7026398d-30a3-4b2f-b23d-4d8ddc174871"
      },
      "source": [
        "paul.groupby('subject_sex').frisk_performed.value_counts(normalize=True)"
      ],
      "execution_count": 9,
      "outputs": [
        {
          "output_type": "execute_result",
          "data": {
            "text/plain": [
              "subject_sex  frisk_performed\n",
              "female       False              0.960947\n",
              "             True               0.039053\n",
              "male         False              0.865044\n",
              "             True               0.134956\n",
              "Name: frisk_performed, dtype: float64"
            ]
          },
          "metadata": {
            "tags": []
          },
          "execution_count": 9
        }
      ]
    },
    {
      "cell_type": "code",
      "metadata": {
        "colab": {
          "base_uri": "https://localhost:8080/"
        },
        "id": "flkJZJknzdc8",
        "outputId": "ec2274a0-30cb-4396-b7d8-a8f8cfdadb6a"
      },
      "source": [
        "paul.groupby('subject_race').citation_issued.value_counts(normalize=True)"
      ],
      "execution_count": 8,
      "outputs": [
        {
          "output_type": "execute_result",
          "data": {
            "text/plain": [
              "subject_race            citation_issued\n",
              "asian/pacific islander  False              0.861460\n",
              "                        True               0.138540\n",
              "black                   False              0.819102\n",
              "                        True               0.180898\n",
              "hispanic                False              0.838994\n",
              "                        True               0.161006\n",
              "other                   False              0.820878\n",
              "                        True               0.179122\n",
              "white                   False              0.903902\n",
              "                        True               0.096098\n",
              "Name: citation_issued, dtype: float64"
            ]
          },
          "metadata": {
            "tags": []
          },
          "execution_count": 8
        }
      ]
    },
    {
      "cell_type": "code",
      "metadata": {
        "colab": {
          "base_uri": "https://localhost:8080/"
        },
        "id": "naTwWgoazf5o",
        "outputId": "e176a7e5-80f3-4184-d366-8a03fbcf4ff5"
      },
      "source": [
        "paul.groupby('subject_race').frisk_performed.value_counts(normalize=True)"
      ],
      "execution_count": 10,
      "outputs": [
        {
          "output_type": "execute_result",
          "data": {
            "text/plain": [
              "subject_race            frisk_performed\n",
              "asian/pacific islander  False              0.927500\n",
              "                        True               0.072500\n",
              "black                   False              0.849635\n",
              "                        True               0.150365\n",
              "hispanic                False              0.862047\n",
              "                        True               0.137953\n",
              "other                   False              0.908728\n",
              "                        True               0.091272\n",
              "white                   False              0.925165\n",
              "                        True               0.074835\n",
              "Name: frisk_performed, dtype: float64"
            ]
          },
          "metadata": {
            "tags": []
          },
          "execution_count": 10
        }
      ]
    },
    {
      "cell_type": "code",
      "metadata": {
        "colab": {
          "base_uri": "https://localhost:8080/"
        },
        "id": "sv2v5b41zpWV",
        "outputId": "1631b9f7-56b6-457c-d98b-ace36cad9b46"
      },
      "source": [
        "paul.groupby('subject_race').search_conducted.value_counts(normalize=True)"
      ],
      "execution_count": 11,
      "outputs": [
        {
          "output_type": "execute_result",
          "data": {
            "text/plain": [
              "subject_race            search_conducted\n",
              "asian/pacific islander  False               0.947399\n",
              "                        True                0.052601\n",
              "black                   False               0.887731\n",
              "                        True                0.112269\n",
              "hispanic                False               0.905622\n",
              "                        True                0.094378\n",
              "other                   False               0.936110\n",
              "                        True                0.063890\n",
              "white                   False               0.945606\n",
              "                        True                0.054394\n",
              "Name: search_conducted, dtype: float64"
            ]
          },
          "metadata": {
            "tags": []
          },
          "execution_count": 11
        }
      ]
    },
    {
      "cell_type": "code",
      "metadata": {
        "colab": {
          "base_uri": "https://localhost:8080/"
        },
        "id": "fp1SYbYbzrb0",
        "outputId": "7d12f550-6982-415f-fcde-87fe6dfcdebf"
      },
      "source": [
        "paul.groupby('subject_race').search_vehicle.value_counts(normalize=True)"
      ],
      "execution_count": 12,
      "outputs": [
        {
          "output_type": "execute_result",
          "data": {
            "text/plain": [
              "subject_race            search_vehicle                                                            \n",
              "asian/pacific islander  False                                                                         0.731053\n",
              "                        FALSE                                                                         0.216346\n",
              "                        True                                                                          0.039336\n",
              "                        TRUE                                                                          0.013266\n",
              "black                   False                                                                         0.690760\n",
              "                        FALSE                                                                         0.196955\n",
              "                        True                                                                          0.087327\n",
              "                        TRUE                                                                          0.024941\n",
              "                        FA                                                                            0.000016\n",
              "hispanic                False                                                                         0.702269\n",
              "                        FALSE                                                                         0.203353\n",
              "                        True                                                                          0.071759\n",
              "                        TRUE                                                                          0.022619\n",
              "other                   False                                                                         0.727325\n",
              "                        FALSE                                                                         0.208785\n",
              "                        True                                                                          0.045066\n",
              "                        TRUE                                                                          0.018825\n",
              "white                   False                                                                         0.721259\n",
              "                        FALSE                                                                         0.224347\n",
              "                        True                                                                          0.041752\n",
              "                        TRUE                                                                          0.012630\n",
              "                        paul.groupby('subject_race').search_conducted.value_counts(normalize=True)    0.000012\n",
              "Name: search_vehicle, dtype: float64"
            ]
          },
          "metadata": {
            "tags": []
          },
          "execution_count": 12
        }
      ]
    },
    {
      "cell_type": "code",
      "metadata": {
        "colab": {
          "base_uri": "https://localhost:8080/"
        },
        "id": "bcItaoqLzuZm",
        "outputId": "706fc3b7-d287-4cc6-931c-ec90f0aa63f9"
      },
      "source": [
        "paul.groupby('subject_race').outcome.value_counts(normalize=True)"
      ],
      "execution_count": 13,
      "outputs": [
        {
          "output_type": "execute_result",
          "data": {
            "text/plain": [
              "subject_race            outcome \n",
              "asian/pacific islander  citation    1.0\n",
              "black                   citation    1.0\n",
              "hispanic                citation    1.0\n",
              "other                   citation    1.0\n",
              "white                   citation    1.0\n",
              "Name: outcome, dtype: float64"
            ]
          },
          "metadata": {
            "tags": []
          },
          "execution_count": 13
        }
      ]
    },
    {
      "cell_type": "code",
      "metadata": {
        "colab": {
          "base_uri": "https://localhost:8080/"
        },
        "id": "d45IQ0GqzxIW",
        "outputId": "0d029a30-9ee0-4187-c989-79be20bb9e28"
      },
      "source": [
        "paul.outcome.value_counts(normalize=True)"
      ],
      "execution_count": 14,
      "outputs": [
        {
          "output_type": "execute_result",
          "data": {
            "text/plain": [
              "citation    1.0\n",
              "Name: outcome, dtype: float64"
            ]
          },
          "metadata": {
            "tags": []
          },
          "execution_count": 14
        }
      ]
    },
    {
      "cell_type": "code",
      "metadata": {
        "colab": {
          "base_uri": "https://localhost:8080/"
        },
        "id": "nUqKfZQIzzGY",
        "outputId": "e3b8942d-6503-4498-c482-1a463c374012"
      },
      "source": [
        "#time of day impact\n",
        "combined=paul.date.str.cat(paul.time, sep= ' ')\n",
        "combined"
      ],
      "execution_count": 16,
      "outputs": [
        {
          "output_type": "execute_result",
          "data": {
            "text/plain": [
              "0           1/1/2001 1:13:00\n",
              "1           1/1/2001 1:14:00\n",
              "2           1/1/2001 1:47:00\n",
              "3           1/1/2001 2:22:00\n",
              "4          1/1/2001 15:01:00\n",
              "                 ...        \n",
              "211976    4/14/2007 23:31:00\n",
              "211977    4/14/2007 23:32:00\n",
              "211978    4/14/2007 23:37:00\n",
              "211979    4/14/2007 23:42:00\n",
              "211980    4/14/2007 23:45:00\n",
              "Name: date, Length: 211981, dtype: object"
            ]
          },
          "metadata": {
            "tags": []
          },
          "execution_count": 16
        }
      ]
    },
    {
      "cell_type": "code",
      "metadata": {
        "colab": {
          "base_uri": "https://localhost:8080/"
        },
        "id": "1ZlCinH3z2FF",
        "outputId": "a3a6343a-fe95-4422-e8f9-9f84cee50be5"
      },
      "source": [
        "paul['stop_datetime']= pd.to_datetime(combined)\n",
        "paul.stop_datetime.dt.year.value_counts()"
      ],
      "execution_count": 17,
      "outputs": [
        {
          "output_type": "execute_result",
          "data": {
            "text/plain": [
              "2004    18421\n",
              "2012    17137\n",
              "2003    16307\n",
              "2001    15803\n",
              "2002    15758\n",
              "2005    14541\n",
              "2010    14191\n",
              "2006    12468\n",
              "2011    12236\n",
              "2009    11999\n",
              "2013    11944\n",
              "2015    11047\n",
              "2008    10708\n",
              "2016    10252\n",
              "2014     9952\n",
              "2007     9217\n",
              "Name: stop_datetime, dtype: int64"
            ]
          },
          "metadata": {
            "tags": []
          },
          "execution_count": 17
        }
      ]
    },
    {
      "cell_type": "code",
      "metadata": {
        "colab": {
          "base_uri": "https://localhost:8080/",
          "height": 281
        },
        "id": "fJ85XL9Yz-Sd",
        "outputId": "2bc90249-cbd7-4828-81a5-ceb8dfabd50f"
      },
      "source": [
        "paul.stop_datetime.dt.year.value_counts().sort_index().plot()"
      ],
      "execution_count": 18,
      "outputs": [
        {
          "output_type": "execute_result",
          "data": {
            "text/plain": [
              "<matplotlib.axes._subplots.AxesSubplot at 0x7fcec1302630>"
            ]
          },
          "metadata": {
            "tags": []
          },
          "execution_count": 18
        },
        {
          "output_type": "display_data",
          "data": {
            "image/png": "[encoded data removed]",
            "text/plain": [
              "<Figure size 432x288 with 1 Axes>"
            ]
          },
          "metadata": {
            "tags": [],
            "needs_background": "light"
          }
        }
      ]
    },
    {
      "cell_type": "code",
      "metadata": {
        "colab": {
          "base_uri": "https://localhost:8080/",
          "height": 295
        },
        "id": "FT5HFVaR0B6G",
        "outputId": "675da344-3e56-4a33-bf01-2e50a1454796"
      },
      "source": [
        "paul.stop_datetime.dt.time.value_counts(normalize=True).plot()"
      ],
      "execution_count": 19,
      "outputs": [
        {
          "output_type": "execute_result",
          "data": {
            "text/plain": [
              "<matplotlib.axes._subplots.AxesSubplot at 0x7fcec3d4ecf8>"
            ]
          },
          "metadata": {
            "tags": []
          },
          "execution_count": 19
        },
        {
          "output_type": "display_data",
          "data": {
            "image/png": "[encoded data removed]",
            "text/plain": [
              "<Figure size 432x288 with 1 Axes>"
            ]
          },
          "metadata": {
            "tags": [],
            "needs_background": "light"
          }
        }
      ]
    },
    {
      "cell_type": "code",
      "metadata": {
        "colab": {
          "base_uri": "https://localhost:8080/",
          "height": 427
        },
        "id": "hyeoSKGL0FgM",
        "outputId": "974df875-ffb4-43df-c653-6f8febaa421a"
      },
      "source": [
        "paul.hist('subject_race', by='citation_issued')"
      ],
      "execution_count": 20,
      "outputs": [
        {
          "output_type": "execute_result",
          "data": {
            "text/plain": [
              "array([<matplotlib.axes._subplots.AxesSubplot object at 0x7fcec3d4e4a8>,\n",
              "       <matplotlib.axes._subplots.AxesSubplot object at 0x7fcec379b208>],\n",
              "      dtype=object)"
            ]
          },
          "metadata": {
            "tags": []
          },
          "execution_count": 20
        },
        {
          "output_type": "display_data",
          "data": {
            "image/png": "[encoded data removed]",
            "text/plain": [
              "<Figure size 432x288 with 2 Axes>"
            ]
          },
          "metadata": {
            "tags": [],
            "needs_background": "light"
          }
        }
      ]
    },
    {
      "cell_type": "code",
      "metadata": {
        "id": "fe-JhqPj0HqP"
      },
      "source": [
        ""
      ],
      "execution_count": null,
      "outputs": []
    }
  ]
}
