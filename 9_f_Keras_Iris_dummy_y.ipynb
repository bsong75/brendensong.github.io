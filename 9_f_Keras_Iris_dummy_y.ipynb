{
  "nbformat": 4,
  "nbformat_minor": 0,
  "metadata": {
    "colab": {
      "name": "9.f. Keras Iris Dataset.ipynb",
      "provenance": [],
      "mount_file_id": "https://github.com/bsong75/10-2020-cohort-course/blob/main/9_f_Keras_Iris_dummy_y.ipynb",
      "authorship_tag": "ABX9TyPRgaxQijZ5fKGNSsK4BZHS",
      "include_colab_link": true
    },
    "kernelspec": {
      "name": "python3",
      "display_name": "Python 3"
    }
  },
  "cells": [
    {
      "cell_type": "markdown",
      "metadata": {
        "id": "view-in-github",
        "colab_type": "text"
      },
      "source": [
        "<a href=\"https://colab.research.google.com/github/bsong75/brendensong.github.io/blob/main/9_f_Keras_Iris_dummy_y.ipynb\" target=\"_parent\"><img src=\"https://colab.research.google.com/assets/colab-badge.svg\" alt=\"Open In Colab\"/></a>"
      ]
    },
    {
      "cell_type": "code",
      "metadata": {
        "id": "Nfo98UPOfyf-"
      },
      "source": [
        "import pandas\r\n",
        "from keras.models import Sequential\r\n",
        "from keras.layers import Dense\r\n",
        "from keras.wrappers.scikit_learn import KerasClassifier\r\n",
        "from keras.utils import np_utils\r\n",
        "from sklearn.model_selection import cross_val_score\r\n",
        "from sklearn.preprocessing import LabelEncoder\r\n",
        "from sklearn.pipeline import Pipeline\r\n"
      ],
      "execution_count": 28,
      "outputs": []
    },
    {
      "cell_type": "code",
      "metadata": {
        "id": "bYmS21kff4ga"
      },
      "source": [
        "# load dataset\r\n",
        "dataframe = pandas.read_csv(\"/content/drive/MyDrive/csv/iris.csv\", header=None)\r\n",
        "dataset = dataframe.values\r\n",
        "X = dataset[:,0:4].astype(float)\r\n",
        "Y = dataset[:,4]"
      ],
      "execution_count": 29,
      "outputs": []
    },
    {
      "cell_type": "code",
      "metadata": {
        "id": "hdZHez-Tf4r2"
      },
      "source": [
        "# encode class values as integers\r\n",
        "encoder = LabelEncoder()\r\n",
        "encoder.fit(Y)\r\n",
        "encoded_Y = encoder.transform(Y)\r\n",
        "\r\n",
        "# convert integers to dummy variables (i.e. one hot encoded)\r\n",
        "dummy_y = np_utils.to_categorical(encoded_Y)\r\n",
        " "
      ],
      "execution_count": 33,
      "outputs": []
    },
    {
      "cell_type": "code",
      "metadata": {
        "id": "6zoCHPa4kICs"
      },
      "source": [
        "import tensorflow as tf\r\n",
        "from tensorflow import keras\r\n",
        "from tensorflow.keras.models import Sequential\r\n",
        "from tensorflow.keras.layers import Activation, Dense\r\n",
        "from tensorflow.keras.optimizers import Adam\r\n",
        "from tensorflow.keras.metrics import categorical_crossentropy"
      ],
      "execution_count": 34,
      "outputs": []
    },
    {
      "cell_type": "code",
      "metadata": {
        "id": "UGVfvVNaf42g"
      },
      "source": [
        "# define the keras model\r\n",
        "model = Sequential()\r\n",
        "model.add(Dense(12, input_dim=4, activation='relu'))\r\n",
        "model.add(Dense(8, activation='relu'))\r\n",
        "model.add(Dense(3, activation='softmax'))\r\n",
        "# compile the keras model\r\n",
        "model.compile(loss='categorical_crossentropy', optimizer='SGD', metrics=['accuracy'])"
      ],
      "execution_count": 43,
      "outputs": []
    },
    {
      "cell_type": "code",
      "metadata": {
        "colab": {
          "base_uri": "https://localhost:8080/"
        },
        "id": "CYJRCdNdf47d",
        "outputId": "f04704ef-c1c5-4e39-f1d6-5ff811722df0"
      },
      "source": [
        "# fit the keras model on the dataset\r\n",
        "model.fit(X, dummy_y, epochs=23, batch_size=10, verbose=2)"
      ],
      "execution_count": 46,
      "outputs": [
        {
          "output_type": "stream",
          "text": [
            "Epoch 1/23\n",
            "15/15 - 0s - loss: 0.5813 - accuracy: 0.8267\n",
            "Epoch 2/23\n",
            "15/15 - 0s - loss: 0.5650 - accuracy: 0.8133\n",
            "Epoch 3/23\n",
            "15/15 - 0s - loss: 0.5595 - accuracy: 0.8533\n",
            "Epoch 4/23\n",
            "15/15 - 0s - loss: 0.5518 - accuracy: 0.8933\n",
            "Epoch 5/23\n",
            "15/15 - 0s - loss: 0.5415 - accuracy: 0.8533\n",
            "Epoch 6/23\n",
            "15/15 - 0s - loss: 0.5334 - accuracy: 0.9000\n",
            "Epoch 7/23\n",
            "15/15 - 0s - loss: 0.5247 - accuracy: 0.8933\n",
            "Epoch 8/23\n",
            "15/15 - 0s - loss: 0.5202 - accuracy: 0.8600\n",
            "Epoch 9/23\n",
            "15/15 - 0s - loss: 0.5060 - accuracy: 0.8867\n",
            "Epoch 10/23\n",
            "15/15 - 0s - loss: 0.5040 - accuracy: 0.9333\n",
            "Epoch 11/23\n",
            "15/15 - 0s - loss: 0.4944 - accuracy: 0.8933\n",
            "Epoch 12/23\n",
            "15/15 - 0s - loss: 0.4776 - accuracy: 0.9467\n",
            "Epoch 13/23\n",
            "15/15 - 0s - loss: 0.4591 - accuracy: 0.8800\n",
            "Epoch 14/23\n",
            "15/15 - 0s - loss: 0.4603 - accuracy: 0.9200\n",
            "Epoch 15/23\n",
            "15/15 - 0s - loss: 0.4527 - accuracy: 0.9400\n",
            "Epoch 16/23\n",
            "15/15 - 0s - loss: 0.4398 - accuracy: 0.9267\n",
            "Epoch 17/23\n",
            "15/15 - 0s - loss: 0.4280 - accuracy: 0.9533\n",
            "Epoch 18/23\n",
            "15/15 - 0s - loss: 0.4129 - accuracy: 0.9600\n",
            "Epoch 19/23\n",
            "15/15 - 0s - loss: 0.4056 - accuracy: 0.9200\n",
            "Epoch 20/23\n",
            "15/15 - 0s - loss: 0.3919 - accuracy: 0.9533\n",
            "Epoch 21/23\n",
            "15/15 - 0s - loss: 0.3878 - accuracy: 0.9333\n",
            "Epoch 22/23\n",
            "15/15 - 0s - loss: 0.3653 - accuracy: 0.9533\n",
            "Epoch 23/23\n",
            "15/15 - 0s - loss: 0.3451 - accuracy: 0.9467\n"
          ],
          "name": "stdout"
        },
        {
          "output_type": "execute_result",
          "data": {
            "text/plain": [
              "<tensorflow.python.keras.callbacks.History at 0x7f2d3bb08f28>"
            ]
          },
          "metadata": {
            "tags": []
          },
          "execution_count": 46
        }
      ]
    },
    {
      "cell_type": "code",
      "metadata": {
        "colab": {
          "base_uri": "https://localhost:8080/"
        },
        "id": "NjCz9LE5hgXS",
        "outputId": "c36386bd-9624-42be-8e43-3d42d061aef7"
      },
      "source": [
        "model.summary()"
      ],
      "execution_count": 47,
      "outputs": [
        {
          "output_type": "stream",
          "text": [
            "Model: \"sequential_9\"\n",
            "_________________________________________________________________\n",
            "Layer (type)                 Output Shape              Param #   \n",
            "=================================================================\n",
            "dense_27 (Dense)             (None, 12)                60        \n",
            "_________________________________________________________________\n",
            "dense_28 (Dense)             (None, 8)                 104       \n",
            "_________________________________________________________________\n",
            "dense_29 (Dense)             (None, 3)                 27        \n",
            "=================================================================\n",
            "Total params: 191\n",
            "Trainable params: 191\n",
            "Non-trainable params: 0\n",
            "_________________________________________________________________\n"
          ],
          "name": "stdout"
        }
      ]
    },
    {
      "cell_type": "code",
      "metadata": {
        "id": "1Q_8IHUNkjS8"
      },
      "source": [
        "# make class predictions with the model\r\n",
        "\r\n",
        "predictions = model.predict_classes(X)"
      ],
      "execution_count": 48,
      "outputs": []
    },
    {
      "cell_type": "code",
      "metadata": {
        "colab": {
          "base_uri": "https://localhost:8080/"
        },
        "id": "TvXuRRHrkjYg",
        "outputId": "fd644294-f6b0-4ace-81f6-57d5d097b0f3"
      },
      "source": [
        "# summarize the first 100 cases\r\n",
        "for i in range(100):\r\n",
        "\tprint('%s => %d (expected %d)' % (X[i].tolist(), predictions[i], encoded_Y[i]))"
      ],
      "execution_count": 49,
      "outputs": [
        {
          "output_type": "stream",
          "text": [
            "[5.1, 3.5, 1.4, 0.2] => 0 (expected 0)\n",
            "[4.9, 3.0, 1.4, 0.2] => 0 (expected 0)\n",
            "[4.7, 3.2, 1.3, 0.2] => 0 (expected 0)\n",
            "[4.6, 3.1, 1.5, 0.2] => 0 (expected 0)\n",
            "[5.0, 3.6, 1.4, 0.2] => 0 (expected 0)\n",
            "[5.4, 3.9, 1.7, 0.4] => 0 (expected 0)\n",
            "[4.6, 3.4, 1.4, 0.3] => 0 (expected 0)\n",
            "[5.0, 3.4, 1.5, 0.2] => 0 (expected 0)\n",
            "[4.4, 2.9, 1.4, 0.2] => 0 (expected 0)\n",
            "[4.9, 3.1, 1.5, 0.1] => 0 (expected 0)\n",
            "[5.4, 3.7, 1.5, 0.2] => 0 (expected 0)\n",
            "[4.8, 3.4, 1.6, 0.2] => 0 (expected 0)\n",
            "[4.8, 3.0, 1.4, 0.1] => 0 (expected 0)\n",
            "[4.3, 3.0, 1.1, 0.1] => 0 (expected 0)\n",
            "[5.8, 4.0, 1.2, 0.2] => 0 (expected 0)\n",
            "[5.7, 4.4, 1.5, 0.4] => 0 (expected 0)\n",
            "[5.4, 3.9, 1.3, 0.4] => 0 (expected 0)\n",
            "[5.1, 3.5, 1.4, 0.3] => 0 (expected 0)\n",
            "[5.7, 3.8, 1.7, 0.3] => 0 (expected 0)\n",
            "[5.1, 3.8, 1.5, 0.3] => 0 (expected 0)\n",
            "[5.4, 3.4, 1.7, 0.2] => 0 (expected 0)\n",
            "[5.1, 3.7, 1.5, 0.4] => 0 (expected 0)\n",
            "[4.6, 3.6, 1.0, 0.2] => 0 (expected 0)\n",
            "[5.1, 3.3, 1.7, 0.5] => 0 (expected 0)\n",
            "[4.8, 3.4, 1.9, 0.2] => 0 (expected 0)\n",
            "[5.0, 3.0, 1.6, 0.2] => 0 (expected 0)\n",
            "[5.0, 3.4, 1.6, 0.4] => 0 (expected 0)\n",
            "[5.2, 3.5, 1.5, 0.2] => 0 (expected 0)\n",
            "[5.2, 3.4, 1.4, 0.2] => 0 (expected 0)\n",
            "[4.7, 3.2, 1.6, 0.2] => 0 (expected 0)\n",
            "[4.8, 3.1, 1.6, 0.2] => 0 (expected 0)\n",
            "[5.4, 3.4, 1.5, 0.4] => 0 (expected 0)\n",
            "[5.2, 4.1, 1.5, 0.1] => 0 (expected 0)\n",
            "[5.5, 4.2, 1.4, 0.2] => 0 (expected 0)\n",
            "[4.9, 3.1, 1.5, 0.1] => 0 (expected 0)\n",
            "[5.0, 3.2, 1.2, 0.2] => 0 (expected 0)\n",
            "[5.5, 3.5, 1.3, 0.2] => 0 (expected 0)\n",
            "[4.9, 3.1, 1.5, 0.1] => 0 (expected 0)\n",
            "[4.4, 3.0, 1.3, 0.2] => 0 (expected 0)\n",
            "[5.1, 3.4, 1.5, 0.2] => 0 (expected 0)\n",
            "[5.0, 3.5, 1.3, 0.3] => 0 (expected 0)\n",
            "[4.5, 2.3, 1.3, 0.3] => 0 (expected 0)\n",
            "[4.4, 3.2, 1.3, 0.2] => 0 (expected 0)\n",
            "[5.0, 3.5, 1.6, 0.6] => 0 (expected 0)\n",
            "[5.1, 3.8, 1.9, 0.4] => 0 (expected 0)\n",
            "[4.8, 3.0, 1.4, 0.3] => 0 (expected 0)\n",
            "[5.1, 3.8, 1.6, 0.2] => 0 (expected 0)\n",
            "[4.6, 3.2, 1.4, 0.2] => 0 (expected 0)\n",
            "[5.3, 3.7, 1.5, 0.2] => 0 (expected 0)\n",
            "[5.0, 3.3, 1.4, 0.2] => 0 (expected 0)\n",
            "[7.0, 3.2, 4.7, 1.4] => 1 (expected 1)\n",
            "[6.4, 3.2, 4.5, 1.5] => 1 (expected 1)\n",
            "[6.9, 3.1, 4.9, 1.5] => 1 (expected 1)\n",
            "[5.5, 2.3, 4.0, 1.3] => 1 (expected 1)\n",
            "[6.5, 2.8, 4.6, 1.5] => 1 (expected 1)\n",
            "[5.7, 2.8, 4.5, 1.3] => 1 (expected 1)\n",
            "[6.3, 3.3, 4.7, 1.6] => 1 (expected 1)\n",
            "[4.9, 2.4, 3.3, 1.0] => 1 (expected 1)\n",
            "[6.6, 2.9, 4.6, 1.3] => 1 (expected 1)\n",
            "[5.2, 2.7, 3.9, 1.4] => 1 (expected 1)\n",
            "[5.0, 2.0, 3.5, 1.0] => 1 (expected 1)\n",
            "[5.9, 3.0, 4.2, 1.5] => 1 (expected 1)\n",
            "[6.0, 2.2, 4.0, 1.0] => 1 (expected 1)\n",
            "[6.1, 2.9, 4.7, 1.4] => 1 (expected 1)\n",
            "[5.6, 2.9, 3.6, 1.3] => 1 (expected 1)\n",
            "[6.7, 3.1, 4.4, 1.4] => 1 (expected 1)\n",
            "[5.6, 3.0, 4.5, 1.5] => 2 (expected 1)\n",
            "[5.8, 2.7, 4.1, 1.0] => 1 (expected 1)\n",
            "[6.2, 2.2, 4.5, 1.5] => 2 (expected 1)\n",
            "[5.6, 2.5, 3.9, 1.1] => 1 (expected 1)\n",
            "[5.9, 3.2, 4.8, 1.8] => 2 (expected 1)\n",
            "[6.1, 2.8, 4.0, 1.3] => 1 (expected 1)\n",
            "[6.3, 2.5, 4.9, 1.5] => 2 (expected 1)\n",
            "[6.1, 2.8, 4.7, 1.2] => 1 (expected 1)\n",
            "[6.4, 2.9, 4.3, 1.3] => 1 (expected 1)\n",
            "[6.6, 3.0, 4.4, 1.4] => 1 (expected 1)\n",
            "[6.8, 2.8, 4.8, 1.4] => 1 (expected 1)\n",
            "[6.7, 3.0, 5.0, 1.7] => 2 (expected 1)\n",
            "[6.0, 2.9, 4.5, 1.5] => 1 (expected 1)\n",
            "[5.7, 2.6, 3.5, 1.0] => 1 (expected 1)\n",
            "[5.5, 2.4, 3.8, 1.1] => 1 (expected 1)\n",
            "[5.5, 2.4, 3.7, 1.0] => 1 (expected 1)\n",
            "[5.8, 2.7, 3.9, 1.2] => 1 (expected 1)\n",
            "[6.0, 2.7, 5.1, 1.6] => 2 (expected 1)\n",
            "[5.4, 3.0, 4.5, 1.5] => 2 (expected 1)\n",
            "[6.0, 3.4, 4.5, 1.6] => 1 (expected 1)\n",
            "[6.7, 3.1, 4.7, 1.5] => 1 (expected 1)\n",
            "[6.3, 2.3, 4.4, 1.3] => 1 (expected 1)\n",
            "[5.6, 3.0, 4.1, 1.3] => 1 (expected 1)\n",
            "[5.5, 2.5, 4.0, 1.3] => 1 (expected 1)\n",
            "[5.5, 2.6, 4.4, 1.2] => 1 (expected 1)\n",
            "[6.1, 3.0, 4.6, 1.4] => 1 (expected 1)\n",
            "[5.8, 2.6, 4.0, 1.2] => 1 (expected 1)\n",
            "[5.0, 2.3, 3.3, 1.0] => 1 (expected 1)\n",
            "[5.6, 2.7, 4.2, 1.3] => 1 (expected 1)\n",
            "[5.7, 3.0, 4.2, 1.2] => 1 (expected 1)\n",
            "[5.7, 2.9, 4.2, 1.3] => 1 (expected 1)\n",
            "[6.2, 2.9, 4.3, 1.3] => 1 (expected 1)\n",
            "[5.1, 2.5, 3.0, 1.1] => 1 (expected 1)\n",
            "[5.7, 2.8, 4.1, 1.3] => 1 (expected 1)\n"
          ],
          "name": "stdout"
        }
      ]
    },
    {
      "cell_type": "code",
      "metadata": {
        "id": "rRCtUZvck_Pl"
      },
      "source": [
        ""
      ],
      "execution_count": null,
      "outputs": []
    }
  ]
}