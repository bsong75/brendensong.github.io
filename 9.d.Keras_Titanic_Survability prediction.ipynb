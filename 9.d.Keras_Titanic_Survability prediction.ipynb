{
  "nbformat": 4,
  "nbformat_minor": 0,
  "metadata": {
    "colab": {
      "name": "Keras test.ipynb",
      "provenance": [],
      "mount_file_id": "https://github.com/bsong75/brendensong-portfolio/blob/master/Keras_test.ipynb",
      "authorship_tag": "ABX9TyOBr4EdsNowm0JSKe+n54a8",
      "include_colab_link": true
    },
    "kernelspec": {
      "name": "python3",
      "display_name": "Python 3"
    },
    "accelerator": "GPU"
  },
  "cells": [
    {
      "cell_type": "markdown",
      "metadata": {
        "id": "view-in-github",
        "colab_type": "text"
      },
      "source": [
        "<a href=\"https://colab.research.google.com/github/bsong75/brendensong.github.io/blob/main/9.d.Keras_Titanic_Survability%20prediction.ipynb\" target=\"_parent\"><img src=\"https://colab.research.google.com/assets/colab-badge.svg\" alt=\"Open In Colab\"/></a>"
      ]
    },
    {
      "cell_type": "code",
      "metadata": {
        "id": "MxQJPjY8tGJR"
      },
      "source": [
        "import pandas as pd\r\n",
        "import numpy as np\r\n",
        "from random import randint\r\n",
        "from sklearn.utils import shuffle\r\n",
        "from sklearn.preprocessing import MinMaxScaler"
      ],
      "execution_count": 1,
      "outputs": []
    },
    {
      "cell_type": "code",
      "metadata": {
        "id": "FKRvUuNRKyYY"
      },
      "source": [
        "df=pd.read_csv('/content/drive/MyDrive/csv/train.csv')"
      ],
      "execution_count": 2,
      "outputs": []
    },
    {
      "cell_type": "code",
      "metadata": {
        "colab": {
          "base_uri": "https://localhost:8080/"
        },
        "id": "Mc-VSbLEMn4I",
        "outputId": "72ea3578-55fd-43f8-9147-a09219017f91"
      },
      "source": [
        "df.isna().sum()"
      ],
      "execution_count": 3,
      "outputs": [
        {
          "output_type": "execute_result",
          "data": {
            "text/plain": [
              "PassengerId      0\n",
              "Survived         0\n",
              "Pclass           0\n",
              "Name             0\n",
              "Sex              0\n",
              "Age            177\n",
              "SibSp            0\n",
              "Parch            0\n",
              "Ticket           0\n",
              "Fare             0\n",
              "Cabin          687\n",
              "Embarked         2\n",
              "dtype: int64"
            ]
          },
          "metadata": {
            "tags": []
          },
          "execution_count": 3
        }
      ]
    },
    {
      "cell_type": "code",
      "metadata": {
        "colab": {
          "base_uri": "https://localhost:8080/"
        },
        "id": "P3dQBeN1NJf1",
        "outputId": "7e88acfe-93aa-4a91-fb5c-11e89c4d98b7"
      },
      "source": [
        "df.Pclass.value_counts()"
      ],
      "execution_count": 4,
      "outputs": [
        {
          "output_type": "execute_result",
          "data": {
            "text/plain": [
              "3    491\n",
              "1    216\n",
              "2    184\n",
              "Name: Pclass, dtype: int64"
            ]
          },
          "metadata": {
            "tags": []
          },
          "execution_count": 4
        }
      ]
    },
    {
      "cell_type": "code",
      "metadata": {
        "colab": {
          "base_uri": "https://localhost:8080/"
        },
        "id": "jFSbAPJbNQ3o",
        "outputId": "151c77ca-eb27-4301-be33-1e1f97c93ce8"
      },
      "source": [
        "df.dtypes"
      ],
      "execution_count": 5,
      "outputs": [
        {
          "output_type": "execute_result",
          "data": {
            "text/plain": [
              "PassengerId      int64\n",
              "Survived         int64\n",
              "Pclass           int64\n",
              "Name            object\n",
              "Sex             object\n",
              "Age            float64\n",
              "SibSp            int64\n",
              "Parch            int64\n",
              "Ticket          object\n",
              "Fare           float64\n",
              "Cabin           object\n",
              "Embarked        object\n",
              "dtype: object"
            ]
          },
          "metadata": {
            "tags": []
          },
          "execution_count": 5
        }
      ]
    },
    {
      "cell_type": "code",
      "metadata": {
        "colab": {
          "base_uri": "https://localhost:8080/"
        },
        "id": "-x6el2nNM3a-",
        "outputId": "578ee3fb-0617-4052-8468-b29d992c3ce0"
      },
      "source": [
        "df.duplicated().sum()"
      ],
      "execution_count": 6,
      "outputs": [
        {
          "output_type": "execute_result",
          "data": {
            "text/plain": [
              "0"
            ]
          },
          "metadata": {
            "tags": []
          },
          "execution_count": 6
        }
      ]
    },
    {
      "cell_type": "code",
      "metadata": {
        "id": "tL6YPi2tM320"
      },
      "source": [
        "#General obesrvation and Plan to prepare the dataset for Deep Learning\r\n",
        "#1. Drop columns that will not be helpful for predicting surviabilty.PassengerID, Name, Parch, Cabin, Ticket\r\n",
        "#2. Convert the object into categorical values--Sex, Embarked\r\n",
        "#3. Checked for duplicated values and check for null\r\n",
        "#4. impute the values to KNNImputer  \r\n",
        "#4. Change to numpy arrays and then normalize\r\n"
      ],
      "execution_count": null,
      "outputs": []
    },
    {
      "cell_type": "code",
      "metadata": {
        "id": "7AIzO7x0PKUx"
      },
      "source": [
        "df.drop(['PassengerId', 'Name', 'Parch', 'Ticket'], axis=1, inplace=True)"
      ],
      "execution_count": 7,
      "outputs": []
    },
    {
      "cell_type": "code",
      "metadata": {
        "id": "aBPVufvgRzSJ"
      },
      "source": [
        "df.drop(['Cabin', 'Age'], axis=1, inplace=True)"
      ],
      "execution_count": 8,
      "outputs": []
    },
    {
      "cell_type": "code",
      "metadata": {
        "colab": {
          "base_uri": "https://localhost:8080/"
        },
        "id": "A4ZI1wa_PJ7K",
        "outputId": "42064063-0ac4-4d7b-9aec-06f0860f70b3"
      },
      "source": [
        "df.shape"
      ],
      "execution_count": 9,
      "outputs": [
        {
          "output_type": "execute_result",
          "data": {
            "text/plain": [
              "(891, 6)"
            ]
          },
          "metadata": {
            "tags": []
          },
          "execution_count": 9
        }
      ]
    },
    {
      "cell_type": "code",
      "metadata": {
        "id": "RGmuxjXXP71J",
        "outputId": "37cf68bf-cbe4-4517-8423-bd6b5e0ccaf5",
        "colab": {
          "base_uri": "https://localhost:8080/",
          "height": 135
        }
      },
      "source": [
        "df.head(3)"
      ],
      "execution_count": 10,
      "outputs": [
        {
          "output_type": "execute_result",
          "data": {
            "text/html": [
              "<div>\n",
              "<style scoped>\n",
              "    .dataframe tbody tr th:only-of-type {\n",
              "        vertical-align: middle;\n",
              "    }\n",
              "\n",
              "    .dataframe tbody tr th {\n",
              "        vertical-align: top;\n",
              "    }\n",
              "\n",
              "    .dataframe thead th {\n",
              "        text-align: right;\n",
              "    }\n",
              "</style>\n",
              "<table border=\"1\" class=\"dataframe\">\n",
              "  <thead>\n",
              "    <tr style=\"text-align: right;\">\n",
              "      <th></th>\n",
              "      <th>Survived</th>\n",
              "      <th>Pclass</th>\n",
              "      <th>Sex</th>\n",
              "      <th>SibSp</th>\n",
              "      <th>Fare</th>\n",
              "      <th>Embarked</th>\n",
              "    </tr>\n",
              "  </thead>\n",
              "  <tbody>\n",
              "    <tr>\n",
              "      <th>0</th>\n",
              "      <td>0</td>\n",
              "      <td>3</td>\n",
              "      <td>male</td>\n",
              "      <td>1</td>\n",
              "      <td>7.2500</td>\n",
              "      <td>S</td>\n",
              "    </tr>\n",
              "    <tr>\n",
              "      <th>1</th>\n",
              "      <td>1</td>\n",
              "      <td>1</td>\n",
              "      <td>female</td>\n",
              "      <td>1</td>\n",
              "      <td>71.2833</td>\n",
              "      <td>C</td>\n",
              "    </tr>\n",
              "    <tr>\n",
              "      <th>2</th>\n",
              "      <td>1</td>\n",
              "      <td>3</td>\n",
              "      <td>female</td>\n",
              "      <td>0</td>\n",
              "      <td>7.9250</td>\n",
              "      <td>S</td>\n",
              "    </tr>\n",
              "  </tbody>\n",
              "</table>\n",
              "</div>"
            ],
            "text/plain": [
              "   Survived  Pclass     Sex  SibSp     Fare Embarked\n",
              "0         0       3    male      1   7.2500        S\n",
              "1         1       1  female      1  71.2833        C\n",
              "2         1       3  female      0   7.9250        S"
            ]
          },
          "metadata": {
            "tags": []
          },
          "execution_count": 10
        }
      ]
    },
    {
      "cell_type": "code",
      "metadata": {
        "id": "Q_EydK3lP8Ip"
      },
      "source": [
        "df2=pd.get_dummies(df, columns=['Sex', 'Embarked'], drop_first=True)"
      ],
      "execution_count": 11,
      "outputs": []
    },
    {
      "cell_type": "code",
      "metadata": {
        "colab": {
          "base_uri": "https://localhost:8080/"
        },
        "id": "9dq7vn0fRaFt",
        "outputId": "c1bcf6bd-f572-45f6-9594-7ae6eb87ba2b"
      },
      "source": [
        "df2.shape"
      ],
      "execution_count": 12,
      "outputs": [
        {
          "output_type": "execute_result",
          "data": {
            "text/plain": [
              "(891, 7)"
            ]
          },
          "metadata": {
            "tags": []
          },
          "execution_count": 12
        }
      ]
    },
    {
      "cell_type": "code",
      "metadata": {
        "colab": {
          "base_uri": "https://localhost:8080/",
          "height": 135
        },
        "id": "n0v6XCJJSFZb",
        "outputId": "f57ce532-53eb-42b9-d57e-3e01c7d6f5e2"
      },
      "source": [
        "df2.head(3)"
      ],
      "execution_count": 13,
      "outputs": [
        {
          "output_type": "execute_result",
          "data": {
            "text/html": [
              "<div>\n",
              "<style scoped>\n",
              "    .dataframe tbody tr th:only-of-type {\n",
              "        vertical-align: middle;\n",
              "    }\n",
              "\n",
              "    .dataframe tbody tr th {\n",
              "        vertical-align: top;\n",
              "    }\n",
              "\n",
              "    .dataframe thead th {\n",
              "        text-align: right;\n",
              "    }\n",
              "</style>\n",
              "<table border=\"1\" class=\"dataframe\">\n",
              "  <thead>\n",
              "    <tr style=\"text-align: right;\">\n",
              "      <th></th>\n",
              "      <th>Survived</th>\n",
              "      <th>Pclass</th>\n",
              "      <th>SibSp</th>\n",
              "      <th>Fare</th>\n",
              "      <th>Sex_male</th>\n",
              "      <th>Embarked_Q</th>\n",
              "      <th>Embarked_S</th>\n",
              "    </tr>\n",
              "  </thead>\n",
              "  <tbody>\n",
              "    <tr>\n",
              "      <th>0</th>\n",
              "      <td>0</td>\n",
              "      <td>3</td>\n",
              "      <td>1</td>\n",
              "      <td>7.2500</td>\n",
              "      <td>1</td>\n",
              "      <td>0</td>\n",
              "      <td>1</td>\n",
              "    </tr>\n",
              "    <tr>\n",
              "      <th>1</th>\n",
              "      <td>1</td>\n",
              "      <td>1</td>\n",
              "      <td>1</td>\n",
              "      <td>71.2833</td>\n",
              "      <td>0</td>\n",
              "      <td>0</td>\n",
              "      <td>0</td>\n",
              "    </tr>\n",
              "    <tr>\n",
              "      <th>2</th>\n",
              "      <td>1</td>\n",
              "      <td>3</td>\n",
              "      <td>0</td>\n",
              "      <td>7.9250</td>\n",
              "      <td>0</td>\n",
              "      <td>0</td>\n",
              "      <td>1</td>\n",
              "    </tr>\n",
              "  </tbody>\n",
              "</table>\n",
              "</div>"
            ],
            "text/plain": [
              "   Survived  Pclass  SibSp     Fare  Sex_male  Embarked_Q  Embarked_S\n",
              "0         0       3      1   7.2500         1           0           1\n",
              "1         1       1      1  71.2833         0           0           0\n",
              "2         1       3      0   7.9250         0           0           1"
            ]
          },
          "metadata": {
            "tags": []
          },
          "execution_count": 13
        }
      ]
    },
    {
      "cell_type": "code",
      "metadata": {
        "id": "RvLiKThVSF0o"
      },
      "source": [
        "#I need to divide it y and X\r\n",
        "#change it to np.array"
      ],
      "execution_count": null,
      "outputs": []
    },
    {
      "cell_type": "code",
      "metadata": {
        "id": "U2FthLIzSPEF"
      },
      "source": [
        "y=df2['Survived']"
      ],
      "execution_count": 14,
      "outputs": []
    },
    {
      "cell_type": "code",
      "metadata": {
        "id": "Pb9tIJK7ScgQ"
      },
      "source": [
        "X=df2.drop(['Survived'], axis=1)"
      ],
      "execution_count": 15,
      "outputs": []
    },
    {
      "cell_type": "code",
      "metadata": {
        "colab": {
          "base_uri": "https://localhost:8080/"
        },
        "id": "5OcvMHl4ScnN",
        "outputId": "b4103ae5-79f4-49ce-a781-be9bab9ac436"
      },
      "source": [
        "type(X)"
      ],
      "execution_count": 16,
      "outputs": [
        {
          "output_type": "execute_result",
          "data": {
            "text/plain": [
              "pandas.core.frame.DataFrame"
            ]
          },
          "metadata": {
            "tags": []
          },
          "execution_count": 16
        }
      ]
    },
    {
      "cell_type": "code",
      "metadata": {
        "id": "kNZVq9nnSctv"
      },
      "source": [
        "y_array=np.array(y)\r\n",
        "X_array=np.array(X)"
      ],
      "execution_count": 17,
      "outputs": []
    },
    {
      "cell_type": "code",
      "metadata": {
        "id": "daeMTjAIeThJ"
      },
      "source": [
        ""
      ],
      "execution_count": null,
      "outputs": []
    },
    {
      "cell_type": "code",
      "metadata": {
        "id": "EkokAl-SKyio"
      },
      "source": [
        "#2. Build the model\r\n",
        "import tensorflow as tf\r\n",
        "from tensorflow import keras\r\n",
        "from tensorflow.keras.models import Sequential\r\n",
        "from tensorflow.keras.layers import Activation, Dense\r\n",
        "from tensorflow.keras.optimizers import Adam\r\n",
        "from tensorflow.keras.metrics import categorical_crossentropy"
      ],
      "execution_count": 18,
      "outputs": []
    },
    {
      "cell_type": "code",
      "metadata": {
        "id": "wD_gZgMBTGjp"
      },
      "source": [
        "# define the keras model\r\n",
        "model = Sequential()\r\n",
        "model.add(Dense(12, input_dim=6, activation='relu'))\r\n",
        "model.add(Dense(8, activation='relu'))\r\n",
        "model.add(Dense(1, activation='sigmoid'))\r\n",
        "# compile the keras model\r\n",
        "model.compile(loss='binary_crossentropy', optimizer='adam', metrics=['accuracy'])"
      ],
      "execution_count": 19,
      "outputs": []
    },
    {
      "cell_type": "code",
      "metadata": {
        "colab": {
          "base_uri": "https://localhost:8080/"
        },
        "id": "nEnXWAjHThcT",
        "outputId": "ddf71cb0-020d-4ff3-c3dc-6dc8fef648a6"
      },
      "source": [
        "# fit the keras model on the dataset\r\n",
        "model.fit(X_array, y, epochs=30, batch_size=10, validation_split=0.2, verbose=2)"
      ],
      "execution_count": 26,
      "outputs": [
        {
          "output_type": "stream",
          "text": [
            "Epoch 1/30\n",
            "72/72 - 0s - loss: 0.4914 - accuracy: 0.7879 - val_loss: 0.4563 - val_accuracy: 0.8156\n",
            "Epoch 2/30\n",
            "72/72 - 0s - loss: 0.4941 - accuracy: 0.7865 - val_loss: 0.4382 - val_accuracy: 0.8212\n",
            "Epoch 3/30\n",
            "72/72 - 0s - loss: 0.4922 - accuracy: 0.7795 - val_loss: 0.4247 - val_accuracy: 0.8045\n",
            "Epoch 4/30\n",
            "72/72 - 0s - loss: 0.4972 - accuracy: 0.7739 - val_loss: 0.4359 - val_accuracy: 0.8156\n",
            "Epoch 5/30\n",
            "72/72 - 0s - loss: 0.4869 - accuracy: 0.7865 - val_loss: 0.4402 - val_accuracy: 0.8156\n",
            "Epoch 6/30\n",
            "72/72 - 0s - loss: 0.4926 - accuracy: 0.7781 - val_loss: 0.4486 - val_accuracy: 0.8101\n",
            "Epoch 7/30\n",
            "72/72 - 0s - loss: 0.5007 - accuracy: 0.7654 - val_loss: 0.4273 - val_accuracy: 0.8268\n",
            "Epoch 8/30\n",
            "72/72 - 0s - loss: 0.4932 - accuracy: 0.7781 - val_loss: 0.4317 - val_accuracy: 0.7989\n",
            "Epoch 9/30\n",
            "72/72 - 0s - loss: 0.4989 - accuracy: 0.7739 - val_loss: 0.4224 - val_accuracy: 0.8156\n",
            "Epoch 10/30\n",
            "72/72 - 0s - loss: 0.4963 - accuracy: 0.7865 - val_loss: 0.4291 - val_accuracy: 0.8212\n",
            "Epoch 11/30\n",
            "72/72 - 0s - loss: 0.4942 - accuracy: 0.7809 - val_loss: 0.4246 - val_accuracy: 0.8101\n",
            "Epoch 12/30\n",
            "72/72 - 0s - loss: 0.4993 - accuracy: 0.7725 - val_loss: 0.4768 - val_accuracy: 0.8045\n",
            "Epoch 13/30\n",
            "72/72 - 0s - loss: 0.4975 - accuracy: 0.7767 - val_loss: 0.4267 - val_accuracy: 0.8156\n",
            "Epoch 14/30\n",
            "72/72 - 0s - loss: 0.4876 - accuracy: 0.7851 - val_loss: 0.4309 - val_accuracy: 0.8212\n",
            "Epoch 15/30\n",
            "72/72 - 0s - loss: 0.4843 - accuracy: 0.7795 - val_loss: 0.4319 - val_accuracy: 0.7989\n",
            "Epoch 16/30\n",
            "72/72 - 0s - loss: 0.4839 - accuracy: 0.7767 - val_loss: 0.4812 - val_accuracy: 0.8045\n",
            "Epoch 17/30\n",
            "72/72 - 0s - loss: 0.4826 - accuracy: 0.7795 - val_loss: 0.4756 - val_accuracy: 0.8045\n",
            "Epoch 18/30\n",
            "72/72 - 0s - loss: 0.4764 - accuracy: 0.7907 - val_loss: 0.4203 - val_accuracy: 0.8045\n",
            "Epoch 19/30\n",
            "72/72 - 0s - loss: 0.4853 - accuracy: 0.7865 - val_loss: 0.4213 - val_accuracy: 0.8212\n",
            "Epoch 20/30\n",
            "72/72 - 0s - loss: 0.4872 - accuracy: 0.7823 - val_loss: 0.4267 - val_accuracy: 0.8212\n",
            "Epoch 21/30\n",
            "72/72 - 0s - loss: 0.4893 - accuracy: 0.7809 - val_loss: 0.4419 - val_accuracy: 0.8101\n",
            "Epoch 22/30\n",
            "72/72 - 0s - loss: 0.4921 - accuracy: 0.7879 - val_loss: 0.4263 - val_accuracy: 0.8156\n",
            "Epoch 23/30\n",
            "72/72 - 0s - loss: 0.4764 - accuracy: 0.7865 - val_loss: 0.4583 - val_accuracy: 0.8101\n",
            "Epoch 24/30\n",
            "72/72 - 0s - loss: 0.5084 - accuracy: 0.7725 - val_loss: 0.4333 - val_accuracy: 0.8101\n",
            "Epoch 25/30\n",
            "72/72 - 0s - loss: 0.5238 - accuracy: 0.7528 - val_loss: 0.4172 - val_accuracy: 0.8045\n",
            "Epoch 26/30\n",
            "72/72 - 0s - loss: 0.4989 - accuracy: 0.7795 - val_loss: 0.4199 - val_accuracy: 0.8045\n",
            "Epoch 27/30\n",
            "72/72 - 0s - loss: 0.5047 - accuracy: 0.7683 - val_loss: 0.4143 - val_accuracy: 0.8212\n",
            "Epoch 28/30\n",
            "72/72 - 0s - loss: 0.4833 - accuracy: 0.7823 - val_loss: 0.4189 - val_accuracy: 0.8045\n",
            "Epoch 29/30\n",
            "72/72 - 0s - loss: 0.5033 - accuracy: 0.7753 - val_loss: 0.4309 - val_accuracy: 0.8045\n",
            "Epoch 30/30\n",
            "72/72 - 0s - loss: 0.4854 - accuracy: 0.7767 - val_loss: 0.4205 - val_accuracy: 0.8156\n"
          ],
          "name": "stdout"
        },
        {
          "output_type": "execute_result",
          "data": {
            "text/plain": [
              "<tensorflow.python.keras.callbacks.History at 0x7fab8ef45d30>"
            ]
          },
          "metadata": {
            "tags": []
          },
          "execution_count": 26
        }
      ]
    },
    {
      "cell_type": "code",
      "metadata": {
        "id": "NgM3MCdQWNNT",
        "outputId": "56bf468b-9f56-4b9c-dad8-7c0b8ee6ad6a",
        "colab": {
          "base_uri": "https://localhost:8080/"
        }
      },
      "source": [
        "model.summary()"
      ],
      "execution_count": 21,
      "outputs": [
        {
          "output_type": "stream",
          "text": [
            "Model: \"sequential\"\n",
            "_________________________________________________________________\n",
            "Layer (type)                 Output Shape              Param #   \n",
            "=================================================================\n",
            "dense (Dense)                (None, 12)                84        \n",
            "_________________________________________________________________\n",
            "dense_1 (Dense)              (None, 8)                 104       \n",
            "_________________________________________________________________\n",
            "dense_2 (Dense)              (None, 1)                 9         \n",
            "=================================================================\n",
            "Total params: 197\n",
            "Trainable params: 197\n",
            "Non-trainable params: 0\n",
            "_________________________________________________________________\n"
          ],
          "name": "stdout"
        }
      ]
    },
    {
      "cell_type": "code",
      "metadata": {
        "id": "wfI6XboJdkpY"
      },
      "source": [
        "# make class predictions with the model\r\n",
        "import numpy as np\r\n",
        "predictions = model.predict_classes(X_array)"
      ],
      "execution_count": 28,
      "outputs": []
    },
    {
      "cell_type": "code",
      "metadata": {
        "id": "zwPsusGMLRYA",
        "outputId": "2add2313-478e-4a04-9289-c73c7ef729b5",
        "colab": {
          "base_uri": "https://localhost:8080/"
        }
      },
      "source": [
        "# summarize the first 5 cases\r\n",
        "for i in range(5):\r\n",
        "\tprint('%s => %d (expected %d)' % (X_array[i].tolist(), predictions[i], y[i]))"
      ],
      "execution_count": 29,
      "outputs": [
        {
          "output_type": "stream",
          "text": [
            "[3.0, 1.0, 7.25, 1.0, 0.0, 1.0] => 0 (expected 0)\n",
            "[1.0, 1.0, 71.2833, 0.0, 0.0, 0.0] => 1 (expected 1)\n",
            "[3.0, 0.0, 7.925, 0.0, 0.0, 1.0] => 1 (expected 1)\n",
            "[1.0, 1.0, 53.1, 0.0, 0.0, 1.0] => 1 (expected 1)\n",
            "[3.0, 0.0, 8.05, 1.0, 0.0, 1.0] => 0 (expected 0)\n"
          ],
          "name": "stdout"
        }
      ]
    },
    {
      "cell_type": "code",
      "metadata": {
        "id": "5mNS2HkSLRrE"
      },
      "source": [
        ""
      ],
      "execution_count": null,
      "outputs": []
    }
  ]
}