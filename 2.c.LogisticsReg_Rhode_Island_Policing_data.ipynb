{
  "nbformat": 4,
  "nbformat_minor": 0,
  "metadata": {
    "colab": {
      "name": "2. LR_Rhode Island Policing data.ipynb",
      "provenance": [],
      "collapsed_sections": [],
      "authorship_tag": "ABX9TyOfOM3Jq2eQBXO3wIZS9rQx",
      "include_colab_link": true
    },
    "kernelspec": {
      "name": "python3",
      "display_name": "Python 3"
    }
  },
  "cells": [
    {
      "cell_type": "markdown",
      "metadata": {
        "id": "view-in-github",
        "colab_type": "text"
      },
      "source": [
        "<a href=\"https://colab.research.google.com/github/bsong75/brendensong.github.io/blob/main/2_LR_Rhode_Island_Policing_data.ipynb\" target=\"_parent\"><img src=\"https://colab.research.google.com/assets/colab-badge.svg\" alt=\"Open In Colab\"/></a>"
      ]
    },
    {
      "cell_type": "code",
      "metadata": {
        "id": "duaAHbx5v85C"
      },
      "source": [
        "import pandas as pd\n",
        "import numpy as np\n",
        "import matplotlib.pyplot as plt"
      ],
      "execution_count": 1,
      "outputs": []
    },
    {
      "cell_type": "code",
      "metadata": {
        "id": "9szGmGaOwrBD"
      },
      "source": [
        "ri=pd.read_csv('/content/police.csv')"
      ],
      "execution_count": 2,
      "outputs": []
    },
    {
      "cell_type": "code",
      "metadata": {
        "colab": {
          "base_uri": "https://localhost:8080/",
          "height": 213
        },
        "id": "8nmu-Q-pwyec",
        "outputId": "1463ebac-9e40-4558-ca00-af7741af5058"
      },
      "source": [
        "ri.head()"
      ],
      "execution_count": 3,
      "outputs": [
        {
          "output_type": "execute_result",
          "data": {
            "text/html": [
              "<div>\n",
              "<style scoped>\n",
              "    .dataframe tbody tr th:only-of-type {\n",
              "        vertical-align: middle;\n",
              "    }\n",
              "\n",
              "    .dataframe tbody tr th {\n",
              "        vertical-align: top;\n",
              "    }\n",
              "\n",
              "    .dataframe thead th {\n",
              "        text-align: right;\n",
              "    }\n",
              "</style>\n",
              "<table border=\"1\" class=\"dataframe\">\n",
              "  <thead>\n",
              "    <tr style=\"text-align: right;\">\n",
              "      <th></th>\n",
              "      <th>stop_date</th>\n",
              "      <th>stop_time</th>\n",
              "      <th>county_name</th>\n",
              "      <th>driver_gender</th>\n",
              "      <th>driver_age_raw</th>\n",
              "      <th>driver_age</th>\n",
              "      <th>driver_race</th>\n",
              "      <th>violation_raw</th>\n",
              "      <th>violation</th>\n",
              "      <th>search_conducted</th>\n",
              "      <th>search_type</th>\n",
              "      <th>stop_outcome</th>\n",
              "      <th>is_arrested</th>\n",
              "      <th>stop_duration</th>\n",
              "      <th>drugs_related_stop</th>\n",
              "    </tr>\n",
              "  </thead>\n",
              "  <tbody>\n",
              "    <tr>\n",
              "      <th>0</th>\n",
              "      <td>1/2/2005</td>\n",
              "      <td>1:55</td>\n",
              "      <td>NaN</td>\n",
              "      <td>M</td>\n",
              "      <td>1985.0</td>\n",
              "      <td>20.0</td>\n",
              "      <td>White</td>\n",
              "      <td>Speeding</td>\n",
              "      <td>Speeding</td>\n",
              "      <td>False</td>\n",
              "      <td>NaN</td>\n",
              "      <td>Citation</td>\n",
              "      <td>False</td>\n",
              "      <td>0-15 Min</td>\n",
              "      <td>False</td>\n",
              "    </tr>\n",
              "    <tr>\n",
              "      <th>1</th>\n",
              "      <td>1/18/2005</td>\n",
              "      <td>8:15</td>\n",
              "      <td>NaN</td>\n",
              "      <td>M</td>\n",
              "      <td>1965.0</td>\n",
              "      <td>40.0</td>\n",
              "      <td>White</td>\n",
              "      <td>Speeding</td>\n",
              "      <td>Speeding</td>\n",
              "      <td>False</td>\n",
              "      <td>NaN</td>\n",
              "      <td>Citation</td>\n",
              "      <td>False</td>\n",
              "      <td>0-15 Min</td>\n",
              "      <td>False</td>\n",
              "    </tr>\n",
              "    <tr>\n",
              "      <th>2</th>\n",
              "      <td>1/23/2005</td>\n",
              "      <td>23:15</td>\n",
              "      <td>NaN</td>\n",
              "      <td>M</td>\n",
              "      <td>1972.0</td>\n",
              "      <td>33.0</td>\n",
              "      <td>White</td>\n",
              "      <td>Speeding</td>\n",
              "      <td>Speeding</td>\n",
              "      <td>False</td>\n",
              "      <td>NaN</td>\n",
              "      <td>Citation</td>\n",
              "      <td>False</td>\n",
              "      <td>0-15 Min</td>\n",
              "      <td>False</td>\n",
              "    </tr>\n",
              "    <tr>\n",
              "      <th>3</th>\n",
              "      <td>2/20/2005</td>\n",
              "      <td>17:15</td>\n",
              "      <td>NaN</td>\n",
              "      <td>M</td>\n",
              "      <td>1986.0</td>\n",
              "      <td>19.0</td>\n",
              "      <td>White</td>\n",
              "      <td>Call for Service</td>\n",
              "      <td>Other</td>\n",
              "      <td>False</td>\n",
              "      <td>NaN</td>\n",
              "      <td>Arrest Driver</td>\n",
              "      <td>True</td>\n",
              "      <td>16-30 Min</td>\n",
              "      <td>False</td>\n",
              "    </tr>\n",
              "    <tr>\n",
              "      <th>4</th>\n",
              "      <td>3/14/2005</td>\n",
              "      <td>10:00</td>\n",
              "      <td>NaN</td>\n",
              "      <td>F</td>\n",
              "      <td>1984.0</td>\n",
              "      <td>21.0</td>\n",
              "      <td>White</td>\n",
              "      <td>Speeding</td>\n",
              "      <td>Speeding</td>\n",
              "      <td>False</td>\n",
              "      <td>NaN</td>\n",
              "      <td>Citation</td>\n",
              "      <td>False</td>\n",
              "      <td>0-15 Min</td>\n",
              "      <td>False</td>\n",
              "    </tr>\n",
              "  </tbody>\n",
              "</table>\n",
              "</div>"
            ],
            "text/plain": [
              "   stop_date stop_time  ...  stop_duration drugs_related_stop\n",
              "0   1/2/2005      1:55  ...       0-15 Min              False\n",
              "1  1/18/2005      8:15  ...       0-15 Min              False\n",
              "2  1/23/2005     23:15  ...       0-15 Min              False\n",
              "3  2/20/2005     17:15  ...      16-30 Min              False\n",
              "4  3/14/2005     10:00  ...       0-15 Min              False\n",
              "\n",
              "[5 rows x 15 columns]"
            ]
          },
          "metadata": {
            "tags": []
          },
          "execution_count": 3
        }
      ]
    },
    {
      "cell_type": "code",
      "metadata": {
        "colab": {
          "base_uri": "https://localhost:8080/"
        },
        "id": "ShO419ZMw1Cs",
        "outputId": "68422d7e-da7d-4dd5-9ef6-e740fc4a336b"
      },
      "source": [
        "ri.columns"
      ],
      "execution_count": 4,
      "outputs": [
        {
          "output_type": "execute_result",
          "data": {
            "text/plain": [
              "Index(['stop_date', 'stop_time', 'county_name', 'driver_gender',\n",
              "       'driver_age_raw', 'driver_age', 'driver_race', 'violation_raw',\n",
              "       'violation', 'search_conducted', 'search_type', 'stop_outcome',\n",
              "       'is_arrested', 'stop_duration', 'drugs_related_stop'],\n",
              "      dtype='object')"
            ]
          },
          "metadata": {
            "tags": []
          },
          "execution_count": 4
        }
      ]
    },
    {
      "cell_type": "code",
      "metadata": {
        "id": "yBMylr8Yw2ce"
      },
      "source": [
        "ri.dtypes"
      ],
      "execution_count": null,
      "outputs": []
    },
    {
      "cell_type": "code",
      "metadata": {
        "id": "uno2pPFew5wT"
      },
      "source": [
        "ri.isnull().sum()"
      ],
      "execution_count": null,
      "outputs": []
    },
    {
      "cell_type": "code",
      "metadata": {
        "id": "EVuIglKEw7vU"
      },
      "source": [
        "ri.drop('county_name', axis='columns', inplace=True)"
      ],
      "execution_count": 8,
      "outputs": []
    },
    {
      "cell_type": "code",
      "metadata": {
        "colab": {
          "base_uri": "https://localhost:8080/"
        },
        "id": "a_HzK6gMxDPN",
        "outputId": "ad2d36a4-83a1-4e89-b57f-53bac0e20f3e"
      },
      "source": [
        "ri.driver_gender.value_counts(normalize=True)"
      ],
      "execution_count": 9,
      "outputs": [
        {
          "output_type": "execute_result",
          "data": {
            "text/plain": [
              "M    0.727901\n",
              "F    0.272099\n",
              "Name: driver_gender, dtype: float64"
            ]
          },
          "metadata": {
            "tags": []
          },
          "execution_count": 9
        }
      ]
    },
    {
      "cell_type": "code",
      "metadata": {
        "colab": {
          "base_uri": "https://localhost:8080/"
        },
        "id": "yQ1L9WQVxGP9",
        "outputId": "8324d00c-3afe-4299-fc18-2fe616b5c014"
      },
      "source": [
        "ri[ri.violation=='Speeding'].driver_gender.value_counts(normalize=True)"
      ],
      "execution_count": 10,
      "outputs": [
        {
          "output_type": "execute_result",
          "data": {
            "text/plain": [
              "M    0.680527\n",
              "F    0.319473\n",
              "Name: driver_gender, dtype: float64"
            ]
          },
          "metadata": {
            "tags": []
          },
          "execution_count": 10
        }
      ]
    },
    {
      "cell_type": "code",
      "metadata": {
        "colab": {
          "base_uri": "https://localhost:8080/"
        },
        "id": "OGba0ehuxJM7",
        "outputId": "aaef9171-ed57-4b2c-c7e5-051dad7601d7"
      },
      "source": [
        "ri.loc[ri.violation=='Speeding', 'driver_gender'].value_counts(normalize=True)"
      ],
      "execution_count": 11,
      "outputs": [
        {
          "output_type": "execute_result",
          "data": {
            "text/plain": [
              "M    0.680527\n",
              "F    0.319473\n",
              "Name: driver_gender, dtype: float64"
            ]
          },
          "metadata": {
            "tags": []
          },
          "execution_count": 11
        }
      ]
    },
    {
      "cell_type": "code",
      "metadata": {
        "colab": {
          "base_uri": "https://localhost:8080/"
        },
        "id": "AvoOR8uuxLGj",
        "outputId": "0cd59a20-986a-4fa5-ed1c-7ccbebbfd2a5"
      },
      "source": [
        "ri.loc[ri.driver_gender=='M', 'violation'].value_counts(normalize=True)"
      ],
      "execution_count": 12,
      "outputs": [
        {
          "output_type": "execute_result",
          "data": {
            "text/plain": [
              "Speeding               0.524350\n",
              "Moving violation       0.207012\n",
              "Equipment              0.135671\n",
              "Other                  0.057668\n",
              "Registration/plates    0.038461\n",
              "Seat belt              0.036839\n",
              "Name: violation, dtype: float64"
            ]
          },
          "metadata": {
            "tags": []
          },
          "execution_count": 12
        }
      ]
    },
    {
      "cell_type": "code",
      "metadata": {
        "colab": {
          "base_uri": "https://localhost:8080/"
        },
        "id": "pjSAyS0PxNYb",
        "outputId": "754579af-7c2c-47ef-83b4-39b6b3abe9e3"
      },
      "source": [
        "ri.groupby('driver_gender').violation.value_counts(normalize=True)"
      ],
      "execution_count": 13,
      "outputs": [
        {
          "output_type": "execute_result",
          "data": {
            "text/plain": [
              "driver_gender  violation          \n",
              "F              Speeding               0.658500\n",
              "               Moving violation       0.136277\n",
              "               Equipment              0.105780\n",
              "               Registration/plates    0.043086\n",
              "               Other                  0.029348\n",
              "               Seat belt              0.027009\n",
              "M              Speeding               0.524350\n",
              "               Moving violation       0.207012\n",
              "               Equipment              0.135671\n",
              "               Other                  0.057668\n",
              "               Registration/plates    0.038461\n",
              "               Seat belt              0.036839\n",
              "Name: violation, dtype: float64"
            ]
          },
          "metadata": {
            "tags": []
          },
          "execution_count": 13
        }
      ]
    },
    {
      "cell_type": "code",
      "metadata": {
        "colab": {
          "base_uri": "https://localhost:8080/"
        },
        "id": "-wDIwwy5xPer",
        "outputId": "b7d35ff9-d43d-4fa7-a8a0-d4ca2b9fcb68"
      },
      "source": [
        "#Does gender affects who gets searched during a stop?\n",
        "ri.groupby('driver_gender').search_conducted.value_counts(normalize=True)"
      ],
      "execution_count": 14,
      "outputs": [
        {
          "output_type": "execute_result",
          "data": {
            "text/plain": [
              "driver_gender  search_conducted\n",
              "F              False               0.979967\n",
              "               True                0.020033\n",
              "M              False               0.956674\n",
              "               True                0.043326\n",
              "Name: search_conducted, dtype: float64"
            ]
          },
          "metadata": {
            "tags": []
          },
          "execution_count": 14
        }
      ]
    },
    {
      "cell_type": "code",
      "metadata": {
        "colab": {
          "base_uri": "https://localhost:8080/"
        },
        "id": "3Tbh35iKxRu8",
        "outputId": "48cbbbc0-edaa-4d11-b119-f2ef6f1bd0da"
      },
      "source": [
        "ri.search_conducted.value_counts(normalize=True)"
      ],
      "execution_count": 15,
      "outputs": [
        {
          "output_type": "execute_result",
          "data": {
            "text/plain": [
              "False    0.965163\n",
              "True     0.034837\n",
              "Name: search_conducted, dtype: float64"
            ]
          },
          "metadata": {
            "tags": []
          },
          "execution_count": 15
        }
      ]
    },
    {
      "cell_type": "code",
      "metadata": {
        "colab": {
          "base_uri": "https://localhost:8080/"
        },
        "id": "v_6svrUOxTot",
        "outputId": "9bc4865f-b8e8-4ce9-8953-da845e26c557"
      },
      "source": [
        "ri.search_conducted.mean()"
      ],
      "execution_count": 16,
      "outputs": [
        {
          "output_type": "execute_result",
          "data": {
            "text/plain": [
              "0.03483720473942948"
            ]
          },
          "metadata": {
            "tags": []
          },
          "execution_count": 16
        }
      ]
    },
    {
      "cell_type": "code",
      "metadata": {
        "colab": {
          "base_uri": "https://localhost:8080/"
        },
        "id": "7M8MxGAAxVjl",
        "outputId": "db622ed6-2fce-4029-b124-06b3507ed1c3"
      },
      "source": [
        "ri.groupby('driver_gender').search_conducted.mean()"
      ],
      "execution_count": 17,
      "outputs": [
        {
          "output_type": "execute_result",
          "data": {
            "text/plain": [
              "driver_gender\n",
              "F    0.020033\n",
              "M    0.043326\n",
              "Name: search_conducted, dtype: float64"
            ]
          },
          "metadata": {
            "tags": []
          },
          "execution_count": 17
        }
      ]
    },
    {
      "cell_type": "code",
      "metadata": {
        "colab": {
          "base_uri": "https://localhost:8080/"
        },
        "id": "r4fx64gnxXg9",
        "outputId": "b0565b54-fcff-4bb1-e475-c6dba8401d0e"
      },
      "source": [
        "ri.groupby(['violation', 'driver_gender']).search_conducted.mean()"
      ],
      "execution_count": 18,
      "outputs": [
        {
          "output_type": "execute_result",
          "data": {
            "text/plain": [
              "violation            driver_gender\n",
              "Equipment            F                0.042622\n",
              "                     M                0.070081\n",
              "Moving violation     F                0.036205\n",
              "                     M                0.059831\n",
              "Other                F                0.056522\n",
              "                     M                0.047146\n",
              "Registration/plates  F                0.066140\n",
              "                     M                0.110376\n",
              "Seat belt            F                0.012598\n",
              "                     M                0.037980\n",
              "Speeding             F                0.008720\n",
              "                     M                0.024925\n",
              "Name: search_conducted, dtype: float64"
            ]
          },
          "metadata": {
            "tags": []
          },
          "execution_count": 18
        }
      ]
    },
    {
      "cell_type": "code",
      "metadata": {
        "colab": {
          "base_uri": "https://localhost:8080/"
        },
        "id": "mCHpEe7oxZn9",
        "outputId": "83662b52-e4b8-421a-a1f9-804d2ac1c703"
      },
      "source": [
        "#why is search_type missing so often?\n",
        "ri.search_conducted.value_counts()"
      ],
      "execution_count": 19,
      "outputs": [
        {
          "output_type": "execute_result",
          "data": {
            "text/plain": [
              "False    88545\n",
              "True      3196\n",
              "Name: search_conducted, dtype: int64"
            ]
          },
          "metadata": {
            "tags": []
          },
          "execution_count": 19
        }
      ]
    },
    {
      "cell_type": "code",
      "metadata": {
        "colab": {
          "base_uri": "https://localhost:8080/"
        },
        "id": "WbFrayBnxb0_",
        "outputId": "3d30dadf-1521-40ea-9121-e8e7fe39bea6"
      },
      "source": [
        "ri[ri.search_conducted==False].search_type.value_counts(dropna=False)"
      ],
      "execution_count": 20,
      "outputs": [
        {
          "output_type": "execute_result",
          "data": {
            "text/plain": [
              "NaN    88545\n",
              "Name: search_type, dtype: int64"
            ]
          },
          "metadata": {
            "tags": []
          },
          "execution_count": 20
        }
      ]
    },
    {
      "cell_type": "code",
      "metadata": {
        "colab": {
          "base_uri": "https://localhost:8080/"
        },
        "id": "12iV3BvNxg_t",
        "outputId": "b5def816-db2e-4045-bed0-8b1345c35b4f"
      },
      "source": [
        "ri[ri.search_conducted==True].search_type.value_counts(normalize=True)"
      ],
      "execution_count": 21,
      "outputs": [
        {
          "output_type": "execute_result",
          "data": {
            "text/plain": [
              "Incident to Arrest                                          0.381414\n",
              "Probable Cause                                              0.278786\n",
              "Inventory                                                   0.068836\n",
              "Reasonable Suspicion                                        0.061640\n",
              "Protective Frisk                                            0.050375\n",
              "Incident to Arrest,Inventory                                0.040363\n",
              "Incident to Arrest,Probable Cause                           0.033166\n",
              "Probable Cause,Reasonable Suspicion                         0.023467\n",
              "Incident to Arrest,Inventory,Probable Cause                 0.010638\n",
              "Incident to Arrest,Protective Frisk                         0.010325\n",
              "Probable Cause,Protective Frisk                             0.010325\n",
              "Inventory,Probable Cause                                    0.006884\n",
              "Incident to Arrest,Reasonable Suspicion                     0.004068\n",
              "Inventory,Protective Frisk                                  0.003442\n",
              "Incident to Arrest,Inventory,Protective Frisk               0.003442\n",
              "Protective Frisk,Reasonable Suspicion                       0.003442\n",
              "Incident to Arrest,Probable Cause,Protective Frisk          0.003129\n",
              "Incident to Arrest,Probable Cause,Reasonable Suspicion      0.001877\n",
              "Inventory,Reasonable Suspicion                              0.001252\n",
              "Incident to Arrest,Inventory,Reasonable Suspicion           0.001252\n",
              "Inventory,Probable Cause,Reasonable Suspicion               0.000626\n",
              "Inventory,Probable Cause,Protective Frisk                   0.000626\n",
              "Incident to Arrest,Protective Frisk,Reasonable Suspicion    0.000313\n",
              "Probable Cause,Protective Frisk,Reasonable Suspicion        0.000313\n",
              "Name: search_type, dtype: float64"
            ]
          },
          "metadata": {
            "tags": []
          },
          "execution_count": 21
        }
      ]
    },
    {
      "cell_type": "code",
      "metadata": {
        "colab": {
          "base_uri": "https://localhost:8080/"
        },
        "id": "nDF2ybwrxjLl",
        "outputId": "883af556-be97-4807-9c9f-e8c76f17c273"
      },
      "source": [
        "combined=ri.stop_date.str.cat(ri.stop_time, sep=' ')\n",
        "ri['stop_datetime']= pd.to_datetime(combined)\n",
        "ri.stop_datetime.dt.year.value_counts()"
      ],
      "execution_count": 26,
      "outputs": [
        {
          "output_type": "execute_result",
          "data": {
            "text/plain": [
              "2012    10970\n",
              "2006    10639\n",
              "2007     9476\n",
              "2014     9228\n",
              "2008     8752\n",
              "2015     8599\n",
              "2011     8126\n",
              "2013     7924\n",
              "2009     7908\n",
              "2010     7561\n",
              "2005     2558\n",
              "Name: stop_datetime, dtype: int64"
            ]
          },
          "metadata": {
            "tags": []
          },
          "execution_count": 26
        }
      ]
    },
    {
      "cell_type": "code",
      "metadata": {
        "colab": {
          "base_uri": "https://localhost:8080/"
        },
        "id": "nLsVWdfGxmvF",
        "outputId": "cba2602a-59ee-451d-bd55-a5463b2618a8"
      },
      "source": [
        "ri.stop_datetime.dt.year"
      ],
      "execution_count": 27,
      "outputs": [
        {
          "output_type": "execute_result",
          "data": {
            "text/plain": [
              "0        2005\n",
              "1        2005\n",
              "2        2005\n",
              "3        2005\n",
              "4        2005\n",
              "         ... \n",
              "91736    2015\n",
              "91737    2015\n",
              "91738    2015\n",
              "91739    2015\n",
              "91740    2015\n",
              "Name: stop_datetime, Length: 91741, dtype: int64"
            ]
          },
          "metadata": {
            "tags": []
          },
          "execution_count": 27
        }
      ]
    },
    {
      "cell_type": "code",
      "metadata": {
        "colab": {
          "base_uri": "https://localhost:8080/"
        },
        "id": "VUQkkfIpxyh3",
        "outputId": "349ce9cc-6d0b-4eb3-8e54-0460b925fbfa"
      },
      "source": [
        "ri.drugs_related_stop.mean()"
      ],
      "execution_count": 28,
      "outputs": [
        {
          "output_type": "execute_result",
          "data": {
            "text/plain": [
              "0.008883705213590434"
            ]
          },
          "metadata": {
            "tags": []
          },
          "execution_count": 28
        }
      ]
    },
    {
      "cell_type": "code",
      "metadata": {
        "colab": {
          "base_uri": "https://localhost:8080/",
          "height": 296
        },
        "id": "7CSENinpyG2o",
        "outputId": "5d791124-9e8c-4fa7-84c1-72005707e61e"
      },
      "source": [
        "ri.groupby(ri.stop_datetime.dt.hour).drugs_related_stop.mean().plot()"
      ],
      "execution_count": 29,
      "outputs": [
        {
          "output_type": "execute_result",
          "data": {
            "text/plain": [
              "<matplotlib.axes._subplots.AxesSubplot at 0x7fe69c6a5518>"
            ]
          },
          "metadata": {
            "tags": []
          },
          "execution_count": 29
        },
        {
          "output_type": "display_data",
          "data": {
            "image/png": "[encoded data removed]",
            "text/plain": [
              "<Figure size 432x288 with 1 Axes>"
            ]
          },
          "metadata": {
            "tags": [],
            "needs_background": "light"
          }
        }
      ]
    },
    {
      "cell_type": "code",
      "metadata": {
        "colab": {
          "base_uri": "https://localhost:8080/",
          "height": 296
        },
        "id": "nOXP45BqyJ-H",
        "outputId": "5997f7cc-2efa-478a-eea0-b69ec3b9f357"
      },
      "source": [
        "ri.groupby(ri.stop_datetime.dt.hour).drugs_related_stop.sum().plot()"
      ],
      "execution_count": 30,
      "outputs": [
        {
          "output_type": "execute_result",
          "data": {
            "text/plain": [
              "<matplotlib.axes._subplots.AxesSubplot at 0x7fe69d2160f0>"
            ]
          },
          "metadata": {
            "tags": []
          },
          "execution_count": 30
        },
        {
          "output_type": "display_data",
          "data": {
            "image/png": "[encoded data removed]",
            "text/plain": [
              "<Figure size 432x288 with 1 Axes>"
            ]
          },
          "metadata": {
            "tags": [],
            "needs_background": "light"
          }
        }
      ]
    },
    {
      "cell_type": "code",
      "metadata": {
        "colab": {
          "base_uri": "https://localhost:8080/",
          "height": 281
        },
        "id": "kKLSIqjUyMCq",
        "outputId": "08dcdf83-4417-4c75-da87-9be48cf8873e"
      },
      "source": [
        "ri.stop_datetime.dt.hour.value_counts().sort_index().plot()"
      ],
      "execution_count": 31,
      "outputs": [
        {
          "output_type": "execute_result",
          "data": {
            "text/plain": [
              "<matplotlib.axes._subplots.AxesSubplot at 0x7fe69cce4358>"
            ]
          },
          "metadata": {
            "tags": []
          },
          "execution_count": 31
        },
        {
          "output_type": "display_data",
          "data": {
            "image/png": "[encoded data removed]",
            "text/plain": [
              "<Figure size 432x288 with 1 Axes>"
            ]
          },
          "metadata": {
            "tags": [],
            "needs_background": "light"
          }
        }
      ]
    },
    {
      "cell_type": "code",
      "metadata": {
        "colab": {
          "base_uri": "https://localhost:8080/",
          "height": 403
        },
        "id": "Ry2g7a15yOdi",
        "outputId": "bf30d63b-c14b-46dd-e400-24a5eb801667"
      },
      "source": [
        "ri.hist('driver_age', by='violation')"
      ],
      "execution_count": 33,
      "outputs": [
        {
          "output_type": "execute_result",
          "data": {
            "text/plain": [
              "array([[<matplotlib.axes._subplots.AxesSubplot object at 0x7fe69c613b00>,\n",
              "        <matplotlib.axes._subplots.AxesSubplot object at 0x7fe69c5adac8>],\n",
              "       [<matplotlib.axes._subplots.AxesSubplot object at 0x7fe69c55ed30>,\n",
              "        <matplotlib.axes._subplots.AxesSubplot object at 0x7fe69c50ef98>],\n",
              "       [<matplotlib.axes._subplots.AxesSubplot object at 0x7fe69c4ca240>,\n",
              "        <matplotlib.axes._subplots.AxesSubplot object at 0x7fe69c47b4a8>]],\n",
              "      dtype=object)"
            ]
          },
          "metadata": {
            "tags": []
          },
          "execution_count": 33
        },
        {
          "output_type": "display_data",
          "data": {
            "image/png": "[encoded data removed]",
            "text/plain": [
              "<Figure size 432x288 with 6 Axes>"
            ]
          },
          "metadata": {
            "tags": [],
            "needs_background": "light"
          }
        }
      ]
    },
    {
      "cell_type": "code",
      "metadata": {
        "colab": {
          "base_uri": "https://localhost:8080/",
          "height": 409
        },
        "id": "mrFRN2bpyUo5",
        "outputId": "7a8dd007-f51e-489a-ed3b-caf8a6fd73ad"
      },
      "source": [
        "\n",
        "ri.hist('driver_age', by='violation', sharex=True, sharey=True)"
      ],
      "execution_count": 34,
      "outputs": [
        {
          "output_type": "execute_result",
          "data": {
            "text/plain": [
              "array([[<matplotlib.axes._subplots.AxesSubplot object at 0x7fe69c371630>,\n",
              "        <matplotlib.axes._subplots.AxesSubplot object at 0x7fe69c2fec18>],\n",
              "       [<matplotlib.axes._subplots.AxesSubplot object at 0x7fe69c32c9b0>,\n",
              "        <matplotlib.axes._subplots.AxesSubplot object at 0x7fe69c2e1748>],\n",
              "       [<matplotlib.axes._subplots.AxesSubplot object at 0x7fe69c2984e0>,\n",
              "        <matplotlib.axes._subplots.AxesSubplot object at 0x7fe69c250278>]],\n",
              "      dtype=object)"
            ]
          },
          "metadata": {
            "tags": []
          },
          "execution_count": 34
        },
        {
          "output_type": "display_data",
          "data": {
            "image/png": "[encoded data removed]",
            "text/plain": [
              "<Figure size 432x288 with 6 Axes>"
            ]
          },
          "metadata": {
            "tags": [],
            "needs_background": "light"
          }
        }
      ]
    },
    {
      "cell_type": "code",
      "metadata": {
        "id": "zr_Jf9oGydHB"
      },
      "source": [
        ""
      ],
      "execution_count": null,
      "outputs": []
    }
  ]
}
