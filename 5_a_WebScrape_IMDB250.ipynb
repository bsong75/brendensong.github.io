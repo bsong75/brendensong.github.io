{
  "nbformat": 4,
  "nbformat_minor": 0,
  "metadata": {
    "colab": {
      "name": "5.a.WebScrape_IMDB250.ipynb",
      "provenance": [],
      "collapsed_sections": [],
      "toc_visible": true,
      "authorship_tag": "ABX9TyN2i20Fi/AN5lf64E9iSSGB",
      "include_colab_link": true
    },
    "kernelspec": {
      "name": "python3",
      "display_name": "Python 3"
    }
  },
  "cells": [
    {
      "cell_type": "markdown",
      "metadata": {
        "id": "view-in-github",
        "colab_type": "text"
      },
      "source": [
        "<a href=\"https://colab.research.google.com/github/bsong75/brendensong.github.io/blob/main/5_a_WebScrape_IMDB250.ipynb\" target=\"_parent\"><img src=\"https://colab.research.google.com/assets/colab-badge.svg\" alt=\"Open In Colab\"/></a>"
      ]
    },
    {
      "cell_type": "code",
      "metadata": {
        "id": "xkfDW1eJhEOT"
      },
      "source": [
        "import requests  \n",
        "r = requests.get('https://www.imdb.com/chart/top/?ref_=nv_mv_250')"
      ],
      "execution_count": 42,
      "outputs": []
    },
    {
      "cell_type": "code",
      "metadata": {
        "id": "ANQeD_WnhTwo"
      },
      "source": [
        "from bs4 import BeautifulSoup  \n",
        "soup = BeautifulSoup(r.text, 'html.parser')\n"
      ],
      "execution_count": 43,
      "outputs": []
    },
    {
      "cell_type": "code",
      "metadata": {
        "id": "agnK7nMmi6KH"
      },
      "source": [
        "results = soup.find_all('tr')"
      ],
      "execution_count": 58,
      "outputs": []
    },
    {
      "cell_type": "code",
      "metadata": {
        "colab": {
          "base_uri": "https://localhost:8080/"
        },
        "id": "i61uLXE4jCu_",
        "outputId": "291e95b0-20c2-4fef-ea9c-c3872058dfaf"
      },
      "source": [
        "len(results)"
      ],
      "execution_count": 59,
      "outputs": [
        {
          "output_type": "execute_result",
          "data": {
            "text/plain": [
              "251"
            ]
          },
          "metadata": {
            "tags": []
          },
          "execution_count": 59
        }
      ]
    },
    {
      "cell_type": "code",
      "metadata": {
        "id": "Zc6c59ltjFBS"
      },
      "source": [
        ""
      ],
      "execution_count": null,
      "outputs": []
    },
    {
      "cell_type": "code",
      "metadata": {
        "id": "gREpgMPvjM-V"
      },
      "source": [
        ""
      ],
      "execution_count": null,
      "outputs": []
    },
    {
      "cell_type": "code",
      "metadata": {
        "colab": {
          "base_uri": "https://localhost:8080/"
        },
        "id": "ljLha-iejR7Q",
        "outputId": "047f35c0-6ee5-41e3-957e-c165c5ff8d3b"
      },
      "source": [
        "first_result=results[1]\n",
        "first_result"
      ],
      "execution_count": 63,
      "outputs": [
        {
          "output_type": "execute_result",
          "data": {
            "text/plain": [
              "<tr>\n",
              "<td class=\"posterColumn\">\n",
              "<span data-value=\"1\" name=\"rk\"></span>\n",
              "<span data-value=\"9.222888944091787\" name=\"ir\"></span>\n",
              "<span data-value=\"7.791552E11\" name=\"us\"></span>\n",
              "<span data-value=\"2314321\" name=\"nv\"></span>\n",
              "<span data-value=\"-1.7771110559082128\" name=\"ur\"></span>\n",
              "<a href=\"/title/tt0111161/\"> <img alt=\"The Shawshank Redemption\" height=\"67\" src=\"https://m.media-amazon.com/images/M/MV5BMDFkYTc0MGEtZmNhMC00ZDIzLWFmNTEtODM1ZmRlYWMwMWFmXkEyXkFqcGdeQXVyMTMxODk2OTU@._V1_UY67_CR0,0,45,67_AL_.jpg\" width=\"45\"/>\n",
              "</a> </td>\n",
              "<td class=\"titleColumn\">\n",
              "      1.\n",
              "      <a href=\"/title/tt0111161/\" title=\"Frank Darabont (dir.), Tim Robbins, Morgan Freeman\">The Shawshank Redemption</a>\n",
              "<span class=\"secondaryInfo\">(1994)</span>\n",
              "</td>\n",
              "<td class=\"ratingColumn imdbRating\">\n",
              "<strong title=\"9.2 based on 2,314,321 user ratings\">9.2</strong>\n",
              "</td>\n",
              "<td class=\"ratingColumn\">\n",
              "<div class=\"seen-widget seen-widget-tt0111161 pending\" data-titleid=\"tt0111161\">\n",
              "<div class=\"boundary\">\n",
              "<div class=\"popover\">\n",
              "<span class=\"delete\"> </span><ol><li>1<li>2<li>3<li>4<li>5<li>6<li>7<li>8<li>9<li>10</li></li></li></li></li></li></li></li></li></li></ol> </div>\n",
              "</div>\n",
              "<div class=\"inline\">\n",
              "<div class=\"pending\"></div>\n",
              "<div class=\"unseeable\">NOT YET RELEASED</div>\n",
              "<div class=\"unseen\"> </div>\n",
              "<div class=\"rating\"></div>\n",
              "<div class=\"seen\">Seen</div>\n",
              "</div>\n",
              "</div>\n",
              "</td>\n",
              "<td class=\"watchlistColumn\">\n",
              "<div class=\"wlb_ribbon\" data-recordmetrics=\"true\" data-tconst=\"tt0111161\"></div>\n",
              "</td>\n",
              "</tr>"
            ]
          },
          "metadata": {
            "tags": []
          },
          "execution_count": 63
        }
      ]
    },
    {
      "cell_type": "code",
      "metadata": {
        "colab": {
          "base_uri": "https://localhost:8080/",
          "height": 35
        },
        "id": "HkKCHEixjpug",
        "outputId": "4a1ecb24-a7bd-47ec-8407-84e8d256049a"
      },
      "source": [
        "first_result.find_all('a')[1].text"
      ],
      "execution_count": 74,
      "outputs": [
        {
          "output_type": "execute_result",
          "data": {
            "application/vnd.google.colaboratory.intrinsic+json": {
              "type": "string"
            },
            "text/plain": [
              "'The Shawshank Redemption'"
            ]
          },
          "metadata": {
            "tags": []
          },
          "execution_count": 74
        }
      ]
    },
    {
      "cell_type": "code",
      "metadata": {
        "colab": {
          "base_uri": "https://localhost:8080/",
          "height": 35
        },
        "id": "7UJiaJ2djpmz",
        "outputId": "42b5f8a5-6b6b-4a0f-eb5f-5c81c53e04fa"
      },
      "source": [
        "first_result.find_all('strong')[0].text"
      ],
      "execution_count": 77,
      "outputs": [
        {
          "output_type": "execute_result",
          "data": {
            "application/vnd.google.colaboratory.intrinsic+json": {
              "type": "string"
            },
            "text/plain": [
              "'9.2'"
            ]
          },
          "metadata": {
            "tags": []
          },
          "execution_count": 77
        }
      ]
    },
    {
      "cell_type": "code",
      "metadata": {
        "colab": {
          "base_uri": "https://localhost:8080/",
          "height": 35
        },
        "id": "fTKGmsLejpb8",
        "outputId": "49388964-ecb7-45f1-fe88-388938dccf5d"
      },
      "source": [
        "first_result.find_all('span')[5].text[1:-1]"
      ],
      "execution_count": 82,
      "outputs": [
        {
          "output_type": "execute_result",
          "data": {
            "application/vnd.google.colaboratory.intrinsic+json": {
              "type": "string"
            },
            "text/plain": [
              "'1994'"
            ]
          },
          "metadata": {
            "tags": []
          },
          "execution_count": 82
        }
      ]
    },
    {
      "cell_type": "code",
      "metadata": {
        "colab": {
          "base_uri": "https://localhost:8080/",
          "height": 35
        },
        "id": "uKuZI-x2m0OY",
        "outputId": "2db1331d-afc9-401d-a840-4f08d6ccb4fe"
      },
      "source": [
        "first_result.find('a')['href']"
      ],
      "execution_count": 131,
      "outputs": [
        {
          "output_type": "execute_result",
          "data": {
            "application/vnd.google.colaboratory.intrinsic+json": {
              "type": "string"
            },
            "text/plain": [
              "'/title/tt0111161/'"
            ]
          },
          "metadata": {
            "tags": []
          },
          "execution_count": 131
        }
      ]
    },
    {
      "cell_type": "code",
      "metadata": {
        "colab": {
          "base_uri": "https://localhost:8080/",
          "height": 35
        },
        "id": "kYJau-YW5FiV",
        "outputId": "d00b2c89-e966-473b-a262-247ff39cb29c"
      },
      "source": [
        "first_result.find('span')['data-value']"
      ],
      "execution_count": 159,
      "outputs": [
        {
          "output_type": "execute_result",
          "data": {
            "application/vnd.google.colaboratory.intrinsic+json": {
              "type": "string"
            },
            "text/plain": [
              "'1'"
            ]
          },
          "metadata": {
            "tags": []
          },
          "execution_count": 159
        }
      ]
    },
    {
      "cell_type": "code",
      "metadata": {
        "id": "CuD3YlZYmzxJ"
      },
      "source": [
        "results=results[1:251]"
      ],
      "execution_count": 135,
      "outputs": []
    },
    {
      "cell_type": "code",
      "metadata": {
        "id": "TT-EWQvDhT2T"
      },
      "source": [
        "movies = []  \n",
        "for movie in results:  \n",
        "    name = movie.find_all('a')[1].text\n",
        "    ranking = movie.find('span')['data-value']\n",
        "    rating = movie.find_all('strong')[0].text\n",
        "    year = movie.find_all('span')[5].text[1:-1]\n",
        "    url = movie.find('a')['href']\n",
        "    movies.append((name, ranking, rating, year, url))"
      ],
      "execution_count": 160,
      "outputs": []
    },
    {
      "cell_type": "code",
      "metadata": {
        "colab": {
          "base_uri": "https://localhost:8080/"
        },
        "id": "nkG35uyMnVYr",
        "outputId": "8552bef8-f6b3-428a-fbae-80364835bdc7"
      },
      "source": [
        "len(movies)"
      ],
      "execution_count": 161,
      "outputs": [
        {
          "output_type": "execute_result",
          "data": {
            "text/plain": [
              "250"
            ]
          },
          "metadata": {
            "tags": []
          },
          "execution_count": 161
        }
      ]
    },
    {
      "cell_type": "code",
      "metadata": {
        "colab": {
          "base_uri": "https://localhost:8080/"
        },
        "id": "qP3yIrjEnaDo",
        "outputId": "9b51cbfb-9145-46ba-8182-cfe7c10c031c"
      },
      "source": [
        "movies[0:3]"
      ],
      "execution_count": 162,
      "outputs": [
        {
          "output_type": "execute_result",
          "data": {
            "text/plain": [
              "[('The Shawshank Redemption', '1', '9.2', '1994', '/title/tt0111161/'),\n",
              " ('The Godfather', '2', '9.1', '1972', '/title/tt0068646/'),\n",
              " ('The Godfather: Part II', '3', '9.0', '1974', '/title/tt0071562/')]"
            ]
          },
          "metadata": {
            "tags": []
          },
          "execution_count": 162
        }
      ]
    },
    {
      "cell_type": "markdown",
      "metadata": {
        "id": "3s1fM5aDn9x-"
      },
      "source": [
        "# EXPORTING THE FILE TO CSV  (Applying a tabular data structure)\n",
        "\n"
      ]
    },
    {
      "cell_type": "code",
      "metadata": {
        "id": "Ays9ejqKnZ62"
      },
      "source": [
        "import pandas as pd  \n",
        "df = pd.DataFrame(movies, columns=['Movie_Name', 'Movie_Rating', 'IMDB_Rating', 'Year', 'url'])  "
      ],
      "execution_count": 164,
      "outputs": []
    },
    {
      "cell_type": "code",
      "metadata": {
        "colab": {
          "base_uri": "https://localhost:8080/",
          "height": 193
        },
        "id": "SkE2rLwKnZsP",
        "outputId": "505cb198-be87-4784-9e49-90acffa4ff78"
      },
      "source": [
        "df.head()"
      ],
      "execution_count": 165,
      "outputs": [
        {
          "output_type": "execute_result",
          "data": {
            "text/html": [
              "<div>\n",
              "<style scoped>\n",
              "    .dataframe tbody tr th:only-of-type {\n",
              "        vertical-align: middle;\n",
              "    }\n",
              "\n",
              "    .dataframe tbody tr th {\n",
              "        vertical-align: top;\n",
              "    }\n",
              "\n",
              "    .dataframe thead th {\n",
              "        text-align: right;\n",
              "    }\n",
              "</style>\n",
              "<table border=\"1\" class=\"dataframe\">\n",
              "  <thead>\n",
              "    <tr style=\"text-align: right;\">\n",
              "      <th></th>\n",
              "      <th>Movie_Name</th>\n",
              "      <th>Movie_Rating</th>\n",
              "      <th>IMDB_Rating</th>\n",
              "      <th>Year</th>\n",
              "      <th>url</th>\n",
              "    </tr>\n",
              "  </thead>\n",
              "  <tbody>\n",
              "    <tr>\n",
              "      <th>0</th>\n",
              "      <td>The Shawshank Redemption</td>\n",
              "      <td>1</td>\n",
              "      <td>9.2</td>\n",
              "      <td>1994</td>\n",
              "      <td>/title/tt0111161/</td>\n",
              "    </tr>\n",
              "    <tr>\n",
              "      <th>1</th>\n",
              "      <td>The Godfather</td>\n",
              "      <td>2</td>\n",
              "      <td>9.1</td>\n",
              "      <td>1972</td>\n",
              "      <td>/title/tt0068646/</td>\n",
              "    </tr>\n",
              "    <tr>\n",
              "      <th>2</th>\n",
              "      <td>The Godfather: Part II</td>\n",
              "      <td>3</td>\n",
              "      <td>9.0</td>\n",
              "      <td>1974</td>\n",
              "      <td>/title/tt0071562/</td>\n",
              "    </tr>\n",
              "    <tr>\n",
              "      <th>3</th>\n",
              "      <td>The Dark Knight</td>\n",
              "      <td>4</td>\n",
              "      <td>9.0</td>\n",
              "      <td>2008</td>\n",
              "      <td>/title/tt0468569/</td>\n",
              "    </tr>\n",
              "    <tr>\n",
              "      <th>4</th>\n",
              "      <td>12 Angry Men</td>\n",
              "      <td>5</td>\n",
              "      <td>8.9</td>\n",
              "      <td>1957</td>\n",
              "      <td>/title/tt0050083/</td>\n",
              "    </tr>\n",
              "  </tbody>\n",
              "</table>\n",
              "</div>"
            ],
            "text/plain": [
              "                 Movie_Name Movie_Rating IMDB_Rating  Year                url\n",
              "0  The Shawshank Redemption            1         9.2  1994  /title/tt0111161/\n",
              "1             The Godfather            2         9.1  1972  /title/tt0068646/\n",
              "2    The Godfather: Part II            3         9.0  1974  /title/tt0071562/\n",
              "3           The Dark Knight            4         9.0  2008  /title/tt0468569/\n",
              "4              12 Angry Men            5         8.9  1957  /title/tt0050083/"
            ]
          },
          "metadata": {
            "tags": []
          },
          "execution_count": 165
        }
      ]
    },
    {
      "cell_type": "code",
      "metadata": {
        "colab": {
          "base_uri": "https://localhost:8080/",
          "height": 193
        },
        "id": "8VXVrXc4ohts",
        "outputId": "fc508e9c-1614-4e96-b6a2-ebb078270ece"
      },
      "source": [
        "df.tail()"
      ],
      "execution_count": 166,
      "outputs": [
        {
          "output_type": "execute_result",
          "data": {
            "text/html": [
              "<div>\n",
              "<style scoped>\n",
              "    .dataframe tbody tr th:only-of-type {\n",
              "        vertical-align: middle;\n",
              "    }\n",
              "\n",
              "    .dataframe tbody tr th {\n",
              "        vertical-align: top;\n",
              "    }\n",
              "\n",
              "    .dataframe thead th {\n",
              "        text-align: right;\n",
              "    }\n",
              "</style>\n",
              "<table border=\"1\" class=\"dataframe\">\n",
              "  <thead>\n",
              "    <tr style=\"text-align: right;\">\n",
              "      <th></th>\n",
              "      <th>Movie_Name</th>\n",
              "      <th>Movie_Rating</th>\n",
              "      <th>IMDB_Rating</th>\n",
              "      <th>Year</th>\n",
              "      <th>url</th>\n",
              "    </tr>\n",
              "  </thead>\n",
              "  <tbody>\n",
              "    <tr>\n",
              "      <th>245</th>\n",
              "      <td>The Battle of Algiers</td>\n",
              "      <td>246</td>\n",
              "      <td>8.0</td>\n",
              "      <td>1966</td>\n",
              "      <td>/title/tt0058946/</td>\n",
              "    </tr>\n",
              "    <tr>\n",
              "      <th>246</th>\n",
              "      <td>Tangerines</td>\n",
              "      <td>247</td>\n",
              "      <td>8.0</td>\n",
              "      <td>2013</td>\n",
              "      <td>/title/tt2991224/</td>\n",
              "    </tr>\n",
              "    <tr>\n",
              "      <th>247</th>\n",
              "      <td>The Circus</td>\n",
              "      <td>248</td>\n",
              "      <td>8.0</td>\n",
              "      <td>1928</td>\n",
              "      <td>/title/tt0018773/</td>\n",
              "    </tr>\n",
              "    <tr>\n",
              "      <th>248</th>\n",
              "      <td>The Terminator</td>\n",
              "      <td>249</td>\n",
              "      <td>8.0</td>\n",
              "      <td>1984</td>\n",
              "      <td>/title/tt0088247/</td>\n",
              "    </tr>\n",
              "    <tr>\n",
              "      <th>249</th>\n",
              "      <td>A Silent Voice: The Movie</td>\n",
              "      <td>250</td>\n",
              "      <td>8.0</td>\n",
              "      <td>2016</td>\n",
              "      <td>/title/tt5323662/</td>\n",
              "    </tr>\n",
              "  </tbody>\n",
              "</table>\n",
              "</div>"
            ],
            "text/plain": [
              "                    Movie_Name Movie_Rating  ...  Year                url\n",
              "245      The Battle of Algiers          246  ...  1966  /title/tt0058946/\n",
              "246                 Tangerines          247  ...  2013  /title/tt2991224/\n",
              "247                 The Circus          248  ...  1928  /title/tt0018773/\n",
              "248             The Terminator          249  ...  1984  /title/tt0088247/\n",
              "249  A Silent Voice: The Movie          250  ...  2016  /title/tt5323662/\n",
              "\n",
              "[5 rows x 5 columns]"
            ]
          },
          "metadata": {
            "tags": []
          },
          "execution_count": 166
        }
      ]
    },
    {
      "cell_type": "code",
      "metadata": {
        "id": "6ZowuGm2hYOn"
      },
      "source": [
        "df.to_csv('imdb.csv', index=False, encoding='utf-8')"
      ],
      "execution_count": 167,
      "outputs": []
    },
    {
      "cell_type": "code",
      "metadata": {
        "id": "14p2lc5bo3wD"
      },
      "source": [
        ""
      ],
      "execution_count": null,
      "outputs": []
    }
  ]
}