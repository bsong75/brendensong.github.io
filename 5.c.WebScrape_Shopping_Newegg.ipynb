{
  "nbformat": 4,
  "nbformat_minor": 0,
  "metadata": {
    "colab": {
      "name": "4.c.WebScrape_Shopping_website.ipynb",
      "provenance": [],
      "collapsed_sections": [],
      "authorship_tag": "ABX9TyPGmZsPi9/SM2OkHbRH8I3A",
      "include_colab_link": true
    },
    "kernelspec": {
      "name": "python3",
      "display_name": "Python 3"
    }
  },
  "cells": [
    {
      "cell_type": "markdown",
      "metadata": {
        "id": "view-in-github",
        "colab_type": "text"
      },
      "source": [
        "<a href=\"https://colab.research.google.com/github/bsong75/brendensong.github.io/blob/main/4_c_WebScrape_Shopping_Newegg.ipynb\" target=\"_parent\"><img src=\"https://colab.research.google.com/assets/colab-badge.svg\" alt=\"Open In Colab\"/></a>"
      ]
    },
    {
      "cell_type": "code",
      "metadata": {
        "id": "Urjn4Nd-7yfJ"
      },
      "source": [
        "#Beautiful Soup\n",
        "from urllib.request import urlopen as uReq\n",
        "from bs4 import BeautifulSoup as soup\n",
        "\n",
        "my_url='https://www.newegg.com/p/pl?d=graphics+card'\n",
        "\n",
        "# grabbing the webpage\n",
        "uClient = uReq(my_url)\n",
        "page_html = uClient.read()\n",
        "uClient.close()\n",
        "\n",
        "#html parsing\n",
        "page_soup=soup(page_html, \"html.parser\")\n",
        "\n",
        "# grabs each product\n",
        "containers = page_soup.findAll(\"div\", {\"class\":\"item-container\"})  \n",
        "\n",
        "filename = 'products.csv'\n",
        "f=open(filename, \"w\")\n",
        "\n",
        "headers =\"brand, product_name, shipping\\n\"\n",
        "f.write(headers)\n",
        "\n",
        "for container in containers:\n",
        "   brand = container.div.div.a.img[\"title\"]\n",
        "   \n",
        "   title_container=container.findAll(\"a\", {\"class\":\"item-title\"})\n",
        "   product_name = title_container[0].text\n",
        "\n",
        "   shipping_container=container.findAll(\"li\", {\"class\":\"price-ship\"})\n",
        "   shipping = shipping_container[0].text.strip()\n",
        "\n",
        "   print (\"Brand: \" + brand)\n",
        "   print (\"Product_name: \" + product_name)\n",
        "   print (\"Shipping: \"+ shipping)\n",
        "\n",
        "   f.write(brand + \",\" + product_name.replace(\",\",\"|\") +\",\" + shipping + \"\\n\")\n",
        "\n",
        "f.close()"
      ],
      "execution_count": null,
      "outputs": []
    },
    {
      "cell_type": "code",
      "metadata": {
        "id": "9GwIFj6w8AsG"
      },
      "source": [
        ""
      ],
      "execution_count": null,
      "outputs": []
    },
    {
      "cell_type": "code",
      "metadata": {
        "id": "PvSOf6dt8BFL"
      },
      "source": [
        ""
      ],
      "execution_count": null,
      "outputs": []
    },
    {
      "cell_type": "code",
      "metadata": {
        "id": "-9tK4AVa8BLn"
      },
      "source": [
        ""
      ],
      "execution_count": null,
      "outputs": []
    },
    {
      "cell_type": "code",
      "metadata": {
        "id": "rbM9Echi8BUm"
      },
      "source": [
        ""
      ],
      "execution_count": null,
      "outputs": []
    }
  ]
}
