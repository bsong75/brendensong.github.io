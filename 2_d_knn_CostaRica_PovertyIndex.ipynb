{
  "nbformat": 4,
  "nbformat_minor": 0,
  "metadata": {
    "colab": {
      "name": "2.d.knn_CostaRica_PovertyIndex.ipynb",
      "provenance": [],
      "mount_file_id": "1jrmVQvUGa10SMAbflKvQ-WHlz8Jl5kL8",
      "authorship_tag": "ABX9TyPFQ3bZCjGd72z36Tw4dnFG",
      "include_colab_link": true
    },
    "kernelspec": {
      "name": "python3",
      "display_name": "Python 3"
    }
  },
  "cells": [
    {
      "cell_type": "markdown",
      "metadata": {
        "id": "view-in-github",
        "colab_type": "text"
      },
      "source": [
        "<a href=\"https://colab.research.google.com/github/bsong75/brendensong.github.io/blob/main/2_d_knn_CostaRica_PovertyIndex.ipynb\" target=\"_parent\"><img src=\"https://colab.research.google.com/assets/colab-badge.svg\" alt=\"Open In Colab\"/></a>"
      ]
    },
    {
      "cell_type": "markdown",
      "metadata": {
        "id": "zewt00MeXOBL"
      },
      "source": [
        "# Coasta Rica Household Poverty Data (kNN)\r\n"
      ]
    },
    {
      "cell_type": "code",
      "metadata": {
        "id": "0kKi4iVzWtbq"
      },
      "source": [
        "import pandas as pd\r\n",
        "import numpy as np\r\n",
        "import os\r\n",
        "import matplotlib.pyplot as plt\r\n",
        "from sklearn.model_selection import train_test_split \r\n",
        "from sklearn.neighbors import KNeighborsClassifier \r\n",
        "from sklearn.preprocessing import scale \r\n",
        "from sklearn.model_selection import cross_val_score \r\n",
        "from sklearn.model_selection import GridSearchCV\r\n",
        "from sklearn.metrics import accuracy_score, classification_report,confusion_matrix \r\n",
        "from sklearn import metrics\r\n"
      ],
      "execution_count": 21,
      "outputs": []
    },
    {
      "cell_type": "code",
      "metadata": {
        "id": "HnTu4SHUXMoG"
      },
      "source": [
        "path='/content/drive/MyDrive/Skillsoft/Data/costa_rica_poverty.csv'\r\n",
        "rica=pd.read_csv(path)"
      ],
      "execution_count": 22,
      "outputs": []
    },
    {
      "cell_type": "code",
      "metadata": {
        "colab": {
          "base_uri": "https://localhost:8080/"
        },
        "id": "LE4XpEoxXiS9",
        "outputId": "7c0756a3-e5dc-400e-a4cb-8538ab1c8e5a"
      },
      "source": [
        "rica.columns"
      ],
      "execution_count": 24,
      "outputs": [
        {
          "output_type": "execute_result",
          "data": {
            "text/plain": [
              "Index(['household_id', 'ind_id', 'rooms', 'tablet', 'males_under_12',\n",
              "       'males_over_12', 'males_tot', 'females_under_12', 'females_over_12',\n",
              "       'females_tot', 'ppl_under_12', 'ppl_over_12', 'ppl_total',\n",
              "       'years_of_schooling', 'wall_block_brick', 'wall_socket',\n",
              "       'wall_prefab_cement', 'wall_wood', 'floor_mos_cer_terr', 'floor_cement',\n",
              "       'floor_wood', 'ceiling', 'electric_public', 'electric_coop',\n",
              "       'toilet_sewer', 'toilet_septic', 'cookenergy_elec', 'cookenergy_gas',\n",
              "       'trash_truck', 'trash_burn', 'wall_bad', 'wall_reg', 'wall_good',\n",
              "       'roof_bad', 'roof_reg', 'roof_good', 'floor_bad', 'floor_reg',\n",
              "       'floor_good', 'disabled_ppl', 'male', 'female', 'under10', 'free',\n",
              "       'married', 'separated', 'single', 'hh_head', 'hh_spouse', 'hh_child',\n",
              "       'num_child', 'num_adults', 'num_65plus', 'num_hh_total',\n",
              "       'dependency_rate', 'male_hh_head_educ', 'female_hh_head_educ',\n",
              "       'meaneduc', 'educ_none', 'educ_primary_inc', 'educ_primary',\n",
              "       'educ_secondary_inc', 'educ_secondary', 'educ_undergrad', 'bedrooms',\n",
              "       'ppl_per_room', 'house_owned_full', 'house_owned_paying',\n",
              "       'house_rented', 'house_other', 'computer', 'television',\n",
              "       'num_mobilephones', 'region_central', 'region_Chorotega',\n",
              "       'region_pacifico', 'region_brunca', 'region_antlantica',\n",
              "       'region_huetar', 'urban_zone', 'rural_zone', 'age', 'Target',\n",
              "       'monthly_rent'],\n",
              "      dtype='object')"
            ]
          },
          "metadata": {
            "tags": []
          },
          "execution_count": 24
        }
      ]
    },
    {
      "cell_type": "code",
      "metadata": {
        "id": "D6gblEwCXk5t"
      },
      "source": [
        "costa = rica['rooms', 'num_adults', 'Target', 'ppl_per_room', 'years_of_schooling']"
      ],
      "execution_count": null,
      "outputs": []
    },
    {
      "cell_type": "code",
      "metadata": {
        "id": "CXTHsGcIXrgt"
      },
      "source": [
        "costa=rica.loc[:, ['rooms', 'num_adults','Target', 'ppl_per_room', 'years_of_schooling']]"
      ],
      "execution_count": 42,
      "outputs": []
    },
    {
      "cell_type": "code",
      "metadata": {
        "colab": {
          "base_uri": "https://localhost:8080/",
          "height": 193
        },
        "id": "aHmCIOguXu4d",
        "outputId": "75c62ce0-ca4a-43b9-8c72-e382a50b7004"
      },
      "source": [
        "costa.head()"
      ],
      "execution_count": 43,
      "outputs": [
        {
          "output_type": "execute_result",
          "data": {
            "text/html": [
              "<div>\n",
              "<style scoped>\n",
              "    .dataframe tbody tr th:only-of-type {\n",
              "        vertical-align: middle;\n",
              "    }\n",
              "\n",
              "    .dataframe tbody tr th {\n",
              "        vertical-align: top;\n",
              "    }\n",
              "\n",
              "    .dataframe thead th {\n",
              "        text-align: right;\n",
              "    }\n",
              "</style>\n",
              "<table border=\"1\" class=\"dataframe\">\n",
              "  <thead>\n",
              "    <tr style=\"text-align: right;\">\n",
              "      <th></th>\n",
              "      <th>rooms</th>\n",
              "      <th>num_adults</th>\n",
              "      <th>Target</th>\n",
              "      <th>ppl_per_room</th>\n",
              "      <th>years_of_schooling</th>\n",
              "    </tr>\n",
              "  </thead>\n",
              "  <tbody>\n",
              "    <tr>\n",
              "      <th>0</th>\n",
              "      <td>3</td>\n",
              "      <td>1</td>\n",
              "      <td>4</td>\n",
              "      <td>1.000000</td>\n",
              "      <td>10</td>\n",
              "    </tr>\n",
              "    <tr>\n",
              "      <th>1</th>\n",
              "      <td>4</td>\n",
              "      <td>1</td>\n",
              "      <td>4</td>\n",
              "      <td>1.000000</td>\n",
              "      <td>12</td>\n",
              "    </tr>\n",
              "    <tr>\n",
              "      <th>2</th>\n",
              "      <td>8</td>\n",
              "      <td>1</td>\n",
              "      <td>4</td>\n",
              "      <td>0.500000</td>\n",
              "      <td>11</td>\n",
              "    </tr>\n",
              "    <tr>\n",
              "      <th>3</th>\n",
              "      <td>5</td>\n",
              "      <td>2</td>\n",
              "      <td>4</td>\n",
              "      <td>1.333333</td>\n",
              "      <td>9</td>\n",
              "    </tr>\n",
              "    <tr>\n",
              "      <th>4</th>\n",
              "      <td>5</td>\n",
              "      <td>2</td>\n",
              "      <td>4</td>\n",
              "      <td>1.333333</td>\n",
              "      <td>11</td>\n",
              "    </tr>\n",
              "  </tbody>\n",
              "</table>\n",
              "</div>"
            ],
            "text/plain": [
              "   rooms  num_adults  Target  ppl_per_room  years_of_schooling\n",
              "0      3           1       4      1.000000                  10\n",
              "1      4           1       4      1.000000                  12\n",
              "2      8           1       4      0.500000                  11\n",
              "3      5           2       4      1.333333                   9\n",
              "4      5           2       4      1.333333                  11"
            ]
          },
          "metadata": {
            "tags": []
          },
          "execution_count": 43
        }
      ]
    },
    {
      "cell_type": "code",
      "metadata": {
        "colab": {
          "base_uri": "https://localhost:8080/"
        },
        "id": "Cys9vslfX9dJ",
        "outputId": "432a256a-a553-41c3-a2d7-b3f7d6fd94e3"
      },
      "source": [
        "costa.Target.value_counts()"
      ],
      "execution_count": 48,
      "outputs": [
        {
          "output_type": "execute_result",
          "data": {
            "text/plain": [
              "4    5996\n",
              "2    1597\n",
              "3    1209\n",
              "1     755\n",
              "Name: Target, dtype: int64"
            ]
          },
          "metadata": {
            "tags": []
          },
          "execution_count": 48
        }
      ]
    },
    {
      "cell_type": "code",
      "metadata": {
        "colab": {
          "base_uri": "https://localhost:8080/"
        },
        "id": "iZqwjbVHYDyH",
        "outputId": "a76162d6-dd00-4dcf-b485-4cd2587c6541"
      },
      "source": [
        "costa.rooms.value_counts()"
      ],
      "execution_count": 49,
      "outputs": [
        {
          "output_type": "execute_result",
          "data": {
            "text/plain": [
              "5     2940\n",
              "4     2587\n",
              "6     1607\n",
              "3      890\n",
              "7      732\n",
              "8      298\n",
              "2      188\n",
              "9      168\n",
              "1       97\n",
              "10      43\n",
              "11       7\n",
              "Name: rooms, dtype: int64"
            ]
          },
          "metadata": {
            "tags": []
          },
          "execution_count": 49
        }
      ]
    },
    {
      "cell_type": "code",
      "metadata": {
        "colab": {
          "base_uri": "https://localhost:8080/"
        },
        "id": "nIV5hiKmeXcp",
        "outputId": "883f952e-a146-4de4-a464-490b2f5ac04c"
      },
      "source": [
        "costa.num_adults.value_counts()"
      ],
      "execution_count": 50,
      "outputs": [
        {
          "output_type": "execute_result",
          "data": {
            "text/plain": [
              "2    4462\n",
              "3    2199\n",
              "4    1247\n",
              "1    1077\n",
              "5     367\n",
              "6     107\n",
              "7      52\n",
              "9      21\n",
              "8      20\n",
              "0       5\n",
              "Name: num_adults, dtype: int64"
            ]
          },
          "metadata": {
            "tags": []
          },
          "execution_count": 50
        }
      ]
    },
    {
      "cell_type": "code",
      "metadata": {
        "id": "vtsEMwJsedEl"
      },
      "source": [
        "rica.value_counts()"
      ],
      "execution_count": null,
      "outputs": []
    },
    {
      "cell_type": "code",
      "metadata": {
        "id": "XCCi8vgFei2l"
      },
      "source": [
        "costa['vul']=np.where(costa['Target'] <=3, 'vulnerable', 'non_vulnerable')"
      ],
      "execution_count": 52,
      "outputs": []
    },
    {
      "cell_type": "code",
      "metadata": {
        "colab": {
          "base_uri": "https://localhost:8080/",
          "height": 193
        },
        "id": "TfeemN23fSEY",
        "outputId": "c7131bc3-9a87-46ea-bece-6e8ef07ec0c5"
      },
      "source": [
        "costa.head()"
      ],
      "execution_count": 53,
      "outputs": [
        {
          "output_type": "execute_result",
          "data": {
            "text/html": [
              "<div>\n",
              "<style scoped>\n",
              "    .dataframe tbody tr th:only-of-type {\n",
              "        vertical-align: middle;\n",
              "    }\n",
              "\n",
              "    .dataframe tbody tr th {\n",
              "        vertical-align: top;\n",
              "    }\n",
              "\n",
              "    .dataframe thead th {\n",
              "        text-align: right;\n",
              "    }\n",
              "</style>\n",
              "<table border=\"1\" class=\"dataframe\">\n",
              "  <thead>\n",
              "    <tr style=\"text-align: right;\">\n",
              "      <th></th>\n",
              "      <th>rooms</th>\n",
              "      <th>num_adults</th>\n",
              "      <th>Target</th>\n",
              "      <th>ppl_per_room</th>\n",
              "      <th>years_of_schooling</th>\n",
              "      <th>vul</th>\n",
              "    </tr>\n",
              "  </thead>\n",
              "  <tbody>\n",
              "    <tr>\n",
              "      <th>0</th>\n",
              "      <td>3</td>\n",
              "      <td>1</td>\n",
              "      <td>4</td>\n",
              "      <td>1.000000</td>\n",
              "      <td>10</td>\n",
              "      <td>non_vulnerable</td>\n",
              "    </tr>\n",
              "    <tr>\n",
              "      <th>1</th>\n",
              "      <td>4</td>\n",
              "      <td>1</td>\n",
              "      <td>4</td>\n",
              "      <td>1.000000</td>\n",
              "      <td>12</td>\n",
              "      <td>non_vulnerable</td>\n",
              "    </tr>\n",
              "    <tr>\n",
              "      <th>2</th>\n",
              "      <td>8</td>\n",
              "      <td>1</td>\n",
              "      <td>4</td>\n",
              "      <td>0.500000</td>\n",
              "      <td>11</td>\n",
              "      <td>non_vulnerable</td>\n",
              "    </tr>\n",
              "    <tr>\n",
              "      <th>3</th>\n",
              "      <td>5</td>\n",
              "      <td>2</td>\n",
              "      <td>4</td>\n",
              "      <td>1.333333</td>\n",
              "      <td>9</td>\n",
              "      <td>non_vulnerable</td>\n",
              "    </tr>\n",
              "    <tr>\n",
              "      <th>4</th>\n",
              "      <td>5</td>\n",
              "      <td>2</td>\n",
              "      <td>4</td>\n",
              "      <td>1.333333</td>\n",
              "      <td>11</td>\n",
              "      <td>non_vulnerable</td>\n",
              "    </tr>\n",
              "  </tbody>\n",
              "</table>\n",
              "</div>"
            ],
            "text/plain": [
              "   rooms  num_adults  Target  ppl_per_room  years_of_schooling             vul\n",
              "0      3           1       4      1.000000                  10  non_vulnerable\n",
              "1      4           1       4      1.000000                  12  non_vulnerable\n",
              "2      8           1       4      0.500000                  11  non_vulnerable\n",
              "3      5           2       4      1.333333                   9  non_vulnerable\n",
              "4      5           2       4      1.333333                  11  non_vulnerable"
            ]
          },
          "metadata": {
            "tags": []
          },
          "execution_count": 53
        }
      ]
    },
    {
      "cell_type": "code",
      "metadata": {
        "id": "Eit7wXuZfVik"
      },
      "source": [
        "costa.dtypes"
      ],
      "execution_count": null,
      "outputs": []
    },
    {
      "cell_type": "code",
      "metadata": {
        "id": "-82mD3aPfbit"
      },
      "source": [
        "costa['vul']= np.where(costa['vul']=='non_vulnerable', True, False)"
      ],
      "execution_count": 55,
      "outputs": []
    },
    {
      "cell_type": "code",
      "metadata": {
        "colab": {
          "base_uri": "https://localhost:8080/",
          "height": 193
        },
        "id": "wRZ2dpgAf3TR",
        "outputId": "63658f69-45cf-465d-a019-12bc20ef5e85"
      },
      "source": [
        "costa.head()"
      ],
      "execution_count": 56,
      "outputs": [
        {
          "output_type": "execute_result",
          "data": {
            "text/html": [
              "<div>\n",
              "<style scoped>\n",
              "    .dataframe tbody tr th:only-of-type {\n",
              "        vertical-align: middle;\n",
              "    }\n",
              "\n",
              "    .dataframe tbody tr th {\n",
              "        vertical-align: top;\n",
              "    }\n",
              "\n",
              "    .dataframe thead th {\n",
              "        text-align: right;\n",
              "    }\n",
              "</style>\n",
              "<table border=\"1\" class=\"dataframe\">\n",
              "  <thead>\n",
              "    <tr style=\"text-align: right;\">\n",
              "      <th></th>\n",
              "      <th>rooms</th>\n",
              "      <th>num_adults</th>\n",
              "      <th>Target</th>\n",
              "      <th>ppl_per_room</th>\n",
              "      <th>years_of_schooling</th>\n",
              "      <th>vul</th>\n",
              "    </tr>\n",
              "  </thead>\n",
              "  <tbody>\n",
              "    <tr>\n",
              "      <th>0</th>\n",
              "      <td>3</td>\n",
              "      <td>1</td>\n",
              "      <td>4</td>\n",
              "      <td>1.000000</td>\n",
              "      <td>10</td>\n",
              "      <td>True</td>\n",
              "    </tr>\n",
              "    <tr>\n",
              "      <th>1</th>\n",
              "      <td>4</td>\n",
              "      <td>1</td>\n",
              "      <td>4</td>\n",
              "      <td>1.000000</td>\n",
              "      <td>12</td>\n",
              "      <td>True</td>\n",
              "    </tr>\n",
              "    <tr>\n",
              "      <th>2</th>\n",
              "      <td>8</td>\n",
              "      <td>1</td>\n",
              "      <td>4</td>\n",
              "      <td>0.500000</td>\n",
              "      <td>11</td>\n",
              "      <td>True</td>\n",
              "    </tr>\n",
              "    <tr>\n",
              "      <th>3</th>\n",
              "      <td>5</td>\n",
              "      <td>2</td>\n",
              "      <td>4</td>\n",
              "      <td>1.333333</td>\n",
              "      <td>9</td>\n",
              "      <td>True</td>\n",
              "    </tr>\n",
              "    <tr>\n",
              "      <th>4</th>\n",
              "      <td>5</td>\n",
              "      <td>2</td>\n",
              "      <td>4</td>\n",
              "      <td>1.333333</td>\n",
              "      <td>11</td>\n",
              "      <td>True</td>\n",
              "    </tr>\n",
              "  </tbody>\n",
              "</table>\n",
              "</div>"
            ],
            "text/plain": [
              "   rooms  num_adults  Target  ppl_per_room  years_of_schooling   vul\n",
              "0      3           1       4      1.000000                  10  True\n",
              "1      4           1       4      1.000000                  12  True\n",
              "2      8           1       4      0.500000                  11  True\n",
              "3      5           2       4      1.333333                   9  True\n",
              "4      5           2       4      1.333333                  11  True"
            ]
          },
          "metadata": {
            "tags": []
          },
          "execution_count": 56
        }
      ]
    },
    {
      "cell_type": "code",
      "metadata": {
        "id": "M4tYqqacf7QR"
      },
      "source": [
        "X=costa[['rooms', 'num_adults', 'ppl_per_room', 'years_of_schooling']]\r\n",
        "y=np.array(costa.vul)\r\n"
      ],
      "execution_count": 58,
      "outputs": []
    },
    {
      "cell_type": "code",
      "metadata": {
        "colab": {
          "base_uri": "https://localhost:8080/"
        },
        "id": "EHd4Gu0ggbI9",
        "outputId": "61ef4d86-5259-41b8-a5af-b4b202a5ec76"
      },
      "source": [
        "X_scaled=scale(X)\r\n",
        "X_scaled"
      ],
      "execution_count": 59,
      "outputs": [
        {
          "output_type": "execute_result",
          "data": {
            "text/plain": [
              "array([[-1.33182893, -1.3657179 , -0.73835591,  0.59182995],\n",
              "       [-0.65077114, -1.3657179 , -0.73835591,  1.01460671],\n",
              "       [ 2.07346003, -1.3657179 , -1.34818436,  0.80321833],\n",
              "       ...,\n",
              "       [ 0.71134445,  1.20715141, -0.43344168, -0.46511194],\n",
              "       [ 0.71134445,  1.20715141, -0.43344168,  0.80321833],\n",
              "       [ 0.71134445,  1.20715141, -0.43344168,  0.16905319]])"
            ]
          },
          "metadata": {
            "tags": []
          },
          "execution_count": 59
        }
      ]
    },
    {
      "cell_type": "code",
      "metadata": {
        "id": "CJMBMgfVgnLa"
      },
      "source": [
        "np.random.seed(1)\r\n",
        "X_train, X_test, y_train, y_test = train_test_split(X_scaled, y, test_size=0.3)"
      ],
      "execution_count": 60,
      "outputs": []
    },
    {
      "cell_type": "code",
      "metadata": {
        "colab": {
          "base_uri": "https://localhost:8080/"
        },
        "id": "IhSDzuiBg2yj",
        "outputId": "fd5258d7-cfbc-4520-af56-e5a22955c536"
      },
      "source": [
        "#build the model\r\n",
        "knn=KNeighborsClassifier(n_neighbors=5)\r\n",
        "knn.fit(X_train, y_train)\r\n"
      ],
      "execution_count": 61,
      "outputs": [
        {
          "output_type": "execute_result",
          "data": {
            "text/plain": [
              "KNeighborsClassifier(algorithm='auto', leaf_size=30, metric='minkowski',\n",
              "                     metric_params=None, n_jobs=None, n_neighbors=5, p=2,\n",
              "                     weights='uniform')"
            ]
          },
          "metadata": {
            "tags": []
          },
          "execution_count": 61
        }
      ]
    },
    {
      "cell_type": "code",
      "metadata": {
        "id": "8sMLU8IfhBkC"
      },
      "source": [
        "predictions=knn.predict(X_test)"
      ],
      "execution_count": 63,
      "outputs": []
    },
    {
      "cell_type": "code",
      "metadata": {
        "colab": {
          "base_uri": "https://localhost:8080/"
        },
        "id": "WbZKSdcDhJuW",
        "outputId": "90e8c67f-68fa-424d-f484-8d91d83838cc"
      },
      "source": [
        "print(predictions[0:5])"
      ],
      "execution_count": 64,
      "outputs": [
        {
          "output_type": "stream",
          "text": [
            "[ True False  True False  True]\n"
          ],
          "name": "stdout"
        }
      ]
    },
    {
      "cell_type": "code",
      "metadata": {
        "colab": {
          "base_uri": "https://localhost:8080/"
        },
        "id": "nwb1oIy-hPG4",
        "outputId": "d1a381a5-26c1-44f1-b59a-1eba66f530ec"
      },
      "source": [
        "actual_predicted=np.column_stack((y_test, predictions))\r\n",
        "print(actual_predicted[0:5])"
      ],
      "execution_count": 67,
      "outputs": [
        {
          "output_type": "stream",
          "text": [
            "[[ True  True]\n",
            " [ True False]\n",
            " [ True  True]\n",
            " [ True False]\n",
            " [ True  True]]\n"
          ],
          "name": "stdout"
        }
      ]
    },
    {
      "cell_type": "code",
      "metadata": {
        "colab": {
          "base_uri": "https://localhost:8080/"
        },
        "id": "HsyHLNRZhaAm",
        "outputId": "6b94bc6b-acee-4737-bc8a-69e3e18c5546"
      },
      "source": [
        "knn5= confusion_matrix(y_test, predictions)\r\n",
        "print(knn5)"
      ],
      "execution_count": 68,
      "outputs": [
        {
          "output_type": "stream",
          "text": [
            "[[ 594  468]\n",
            " [ 412 1394]]\n"
          ],
          "name": "stdout"
        }
      ]
    },
    {
      "cell_type": "code",
      "metadata": {
        "colab": {
          "base_uri": "https://localhost:8080/"
        },
        "id": "FW7mRYw2hsWJ",
        "outputId": "f6ddf4e3-2236-4d48-afba-19761f5a8a85"
      },
      "source": [
        "round(accuracy_score(y_test, predictions), 2)"
      ],
      "execution_count": 71,
      "outputs": [
        {
          "output_type": "execute_result",
          "data": {
            "text/plain": [
              "0.69"
            ]
          },
          "metadata": {
            "tags": []
          },
          "execution_count": 71
        }
      ]
    },
    {
      "cell_type": "code",
      "metadata": {
        "colab": {
          "base_uri": "https://localhost:8080/"
        },
        "id": "blCocyL4j5sv",
        "outputId": "7366abd6-ca8e-4485-dab4-b3f5f543f358"
      },
      "source": [
        "metrics.roc_curve(y_test, predictions)"
      ],
      "execution_count": 82,
      "outputs": [
        {
          "output_type": "execute_result",
          "data": {
            "text/plain": [
              "(array([0.        , 0.44067797, 1.        ]),\n",
              " array([0.        , 0.77187154, 1.        ]),\n",
              " array([2, 1, 0]))"
            ]
          },
          "metadata": {
            "tags": []
          },
          "execution_count": 82
        }
      ]
    },
    {
      "cell_type": "code",
      "metadata": {
        "id": "HsRkzuvNiBa1"
      },
      "source": [
        "fpr, tpr, threshold = metrics.roc_curve(y_test, predictions)"
      ],
      "execution_count": 75,
      "outputs": []
    },
    {
      "cell_type": "code",
      "metadata": {
        "id": "bVoIqRP0iQMt"
      },
      "source": [
        "roc_auc=metrics.auc(fpr, tpr)"
      ],
      "execution_count": 76,
      "outputs": []
    },
    {
      "cell_type": "code",
      "metadata": {
        "colab": {
          "base_uri": "https://localhost:8080/",
          "height": 294
        },
        "id": "_ZEBo5TKik9j",
        "outputId": "f090d6cd-99a9-4965-b57b-674bb37c4a69"
      },
      "source": [
        "plt.title('Reciever Operationg Characteristric')\r\n",
        "plt.plot(fpr, tpr, label='AUC=%0.2f' %roc_auc)\r\n",
        "plt.ylabel('True Positive Rate')\r\n",
        "plt.xlabel('False Postivie Rate')\r\n",
        "plt.show()"
      ],
      "execution_count": 81,
      "outputs": [
        {
          "output_type": "display_data",
          "data": {
            "image/png": "[encoded data removed]",
            "text/plain": [
              "<Figure size 432x288 with 1 Axes>"
            ]
          },
          "metadata": {
            "tags": [],
            "needs_background": "light"
          }
        }
      ]
    },
    {
      "cell_type": "markdown",
      "metadata": {
        "id": "iTA2iD4ckZ3h"
      },
      "source": [
        "## Cross Validation Scores (k-fold)"
      ]
    },
    {
      "cell_type": "code",
      "metadata": {
        "id": "OikfcbFZiz4J"
      },
      "source": [
        "knn= KNeighborsClassifier(n_neighbors=5)\r\n",
        "valscore=cross_val_score(knn, X_scaled, y, cv=5)"
      ],
      "execution_count": 84,
      "outputs": []
    },
    {
      "cell_type": "code",
      "metadata": {
        "colab": {
          "base_uri": "https://localhost:8080/"
        },
        "id": "i2p-j1Y-k02t",
        "outputId": "eb35e3d0-6191-444a-cd61-690ac07bd3b3"
      },
      "source": [
        "valscore"
      ],
      "execution_count": 85,
      "outputs": [
        {
          "output_type": "execute_result",
          "data": {
            "text/plain": [
              "array([0.66004184, 0.66213389, 0.6881214 , 0.67399267, 0.6577708 ])"
            ]
          },
          "metadata": {
            "tags": []
          },
          "execution_count": 85
        }
      ]
    },
    {
      "cell_type": "code",
      "metadata": {
        "colab": {
          "base_uri": "https://localhost:8080/"
        },
        "id": "wIrYlGFCk6xE",
        "outputId": "0b94b799-59a2-4748-921d-4455e71796bd"
      },
      "source": [
        "valscore.mean()"
      ],
      "execution_count": 86,
      "outputs": [
        {
          "output_type": "execute_result",
          "data": {
            "text/plain": [
              "0.6684121218490615"
            ]
          },
          "metadata": {
            "tags": []
          },
          "execution_count": 86
        }
      ]
    },
    {
      "cell_type": "code",
      "metadata": {
        "colab": {
          "base_uri": "https://localhost:8080/"
        },
        "id": "EcvRPbw-k90j",
        "outputId": "336806a8-fdb4-4dd1-a002-6316cea6d70c"
      },
      "source": [
        "k_range=list(range(1, 35))\r\n",
        "param_grid=dict(n_neighbors=k_range)\r\n",
        "print(param_grid)"
      ],
      "execution_count": 87,
      "outputs": [
        {
          "output_type": "stream",
          "text": [
            "{'n_neighbors': [1, 2, 3, 4, 5, 6, 7, 8, 9, 10, 11, 12, 13, 14, 15, 16, 17, 18, 19, 20, 21, 22, 23, 24, 25, 26, 27, 28, 29, 30, 31, 32, 33, 34]}\n"
          ],
          "name": "stdout"
        }
      ]
    },
    {
      "cell_type": "code",
      "metadata": {
        "id": "C55TDaYFlWNX"
      },
      "source": [
        "grid=GridSearchCV(knn, param_grid, cv=10, scoring='accuracy')"
      ],
      "execution_count": 91,
      "outputs": []
    },
    {
      "cell_type": "code",
      "metadata": {
        "colab": {
          "base_uri": "https://localhost:8080/"
        },
        "id": "K9g9bu20ldlp",
        "outputId": "ce108a5f-06db-4305-a6d3-d2a797896fd3"
      },
      "source": [
        "grid.fit(X_scaled, y)"
      ],
      "execution_count": 92,
      "outputs": [
        {
          "output_type": "execute_result",
          "data": {
            "text/plain": [
              "GridSearchCV(cv=10, error_score=nan,\n",
              "             estimator=KNeighborsClassifier(algorithm='auto', leaf_size=30,\n",
              "                                            metric='minkowski',\n",
              "                                            metric_params=None, n_jobs=None,\n",
              "                                            n_neighbors=5, p=2,\n",
              "                                            weights='uniform'),\n",
              "             iid='deprecated', n_jobs=None,\n",
              "             param_grid={'n_neighbors': [1, 2, 3, 4, 5, 6, 7, 8, 9, 10, 11, 12,\n",
              "                                         13, 14, 15, 16, 17, 18, 19, 20, 21, 22,\n",
              "                                         23, 24, 25, 26, 27, 28, 29, 30, ...]},\n",
              "             pre_dispatch='2*n_jobs', refit=True, return_train_score=False,\n",
              "             scoring='accuracy', verbose=0)"
            ]
          },
          "metadata": {
            "tags": []
          },
          "execution_count": 92
        }
      ]
    },
    {
      "cell_type": "code",
      "metadata": {
        "colab": {
          "base_uri": "https://localhost:8080/"
        },
        "id": "NiQ_0D9plqyb",
        "outputId": "0c17263c-5c54-4dd0-db48-4be55043af66"
      },
      "source": [
        "grid.cv_results_['mean_test_score']"
      ],
      "execution_count": 94,
      "outputs": [
        {
          "output_type": "execute_result",
          "data": {
            "text/plain": [
              "array([0.62340895, 0.5929579 , 0.64726621, 0.63858025, 0.66620517,\n",
              "       0.65249885, 0.67164801, 0.66610079, 0.6761457 , 0.67384444,\n",
              "       0.68315724, 0.68221396, 0.68556398, 0.68211111, 0.68535543,\n",
              "       0.68221746, 0.68535817, 0.6824259 , 0.68734693, 0.68797356,\n",
              "       0.68849701, 0.68671701, 0.69309963, 0.69090133, 0.69027394,\n",
              "       0.68723795, 0.69173881, 0.69006429, 0.69372801, 0.69194889,\n",
              "       0.69100835, 0.69163596, 0.69153169, 0.68860063])"
            ]
          },
          "metadata": {
            "tags": []
          },
          "execution_count": 94
        }
      ]
    },
    {
      "cell_type": "code",
      "metadata": {
        "colab": {
          "base_uri": "https://localhost:8080/"
        },
        "id": "iC6A684vl2Kt",
        "outputId": "6fdf8448-8d00-4d0a-8aa5-da3e5647ba3a"
      },
      "source": [
        "grid.cv_results_['mean_test_score'].mean()"
      ],
      "execution_count": 96,
      "outputs": [
        {
          "output_type": "execute_result",
          "data": {
            "text/plain": [
              "0.6770401033203486"
            ]
          },
          "metadata": {
            "tags": []
          },
          "execution_count": 96
        }
      ]
    },
    {
      "cell_type": "code",
      "metadata": {
        "id": "XTgDpzDtmodF"
      },
      "source": [
        "grid_mean=grid.cv_results_['mean_test_score']"
      ],
      "execution_count": 98,
      "outputs": []
    },
    {
      "cell_type": "code",
      "metadata": {
        "colab": {
          "base_uri": "https://localhost:8080/",
          "height": 295
        },
        "id": "Jhhg4l09mEVQ",
        "outputId": "e63a3b72-10af-4b12-a2ac-0c1151799ff7"
      },
      "source": [
        "plt.plot(k_range, grid_mean)\r\n",
        "plt.xlabel('Value of K for KNN')\r\n",
        "plt.ylabel('Cross Validated Accuracy')"
      ],
      "execution_count": 99,
      "outputs": [
        {
          "output_type": "execute_result",
          "data": {
            "text/plain": [
              "Text(0, 0.5, 'Cross Validated Accuracy')"
            ]
          },
          "metadata": {
            "tags": []
          },
          "execution_count": 99
        },
        {
          "output_type": "display_data",
          "data": {
            "image/png": "[encoded data removed]",
            "text/plain": [
              "<Figure size 432x288 with 1 Axes>"
            ]
          },
          "metadata": {
            "tags": [],
            "needs_background": "light"
          }
        }
      ]
    },
    {
      "cell_type": "code",
      "metadata": {
        "colab": {
          "base_uri": "https://localhost:8080/"
        },
        "id": "yHNXXbPgmVgR",
        "outputId": "330808e6-30cd-40dc-f396-041f082fdffe"
      },
      "source": [
        "grid.best_score_"
      ],
      "execution_count": 100,
      "outputs": [
        {
          "output_type": "execute_result",
          "data": {
            "text/plain": [
              "0.6937280115665183"
            ]
          },
          "metadata": {
            "tags": []
          },
          "execution_count": 100
        }
      ]
    },
    {
      "cell_type": "code",
      "metadata": {
        "colab": {
          "base_uri": "https://localhost:8080/"
        },
        "id": "TtjOuOA5m320",
        "outputId": "37634d3a-46c5-4d16-a08e-264899cbf44d"
      },
      "source": [
        "grid.best_params_"
      ],
      "execution_count": 101,
      "outputs": [
        {
          "output_type": "execute_result",
          "data": {
            "text/plain": [
              "{'n_neighbors': 29}"
            ]
          },
          "metadata": {
            "tags": []
          },
          "execution_count": 101
        }
      ]
    },
    {
      "cell_type": "code",
      "metadata": {
        "colab": {
          "base_uri": "https://localhost:8080/"
        },
        "id": "rzP0q0CZm7-e",
        "outputId": "621ca927-61a0-4e43-a622-e56120ad88cd"
      },
      "source": [
        "grid.best_estimator_"
      ],
      "execution_count": 102,
      "outputs": [
        {
          "output_type": "execute_result",
          "data": {
            "text/plain": [
              "KNeighborsClassifier(algorithm='auto', leaf_size=30, metric='minkowski',\n",
              "                     metric_params=None, n_jobs=None, n_neighbors=29, p=2,\n",
              "                     weights='uniform')"
            ]
          },
          "metadata": {
            "tags": []
          },
          "execution_count": 102
        }
      ]
    },
    {
      "cell_type": "code",
      "metadata": {
        "id": "B59C4inonOsH"
      },
      "source": [
        ""
      ],
      "execution_count": null,
      "outputs": []
    }
  ]
}