{
  "nbformat": 4,
  "nbformat_minor": 0,
  "metadata": {
    "colab": {
      "provenance": [],
      "gpuType": "T4",
      "authorship_tag": "ABX9TyNImsY84L+0iurNcgVH9tyI",
      "include_colab_link": true
    },
    "kernelspec": {
      "name": "python3",
      "display_name": "Python 3"
    },
    "language_info": {
      "name": "python"
    },
    "accelerator": "GPU"
  },
  "cells": [
    {
      "cell_type": "markdown",
      "metadata": {
        "id": "view-in-github",
        "colab_type": "text"
      },
      "source": [
        "<a href=\"https://colab.research.google.com/github/bsong75/brendensong.github.io/blob/main/Running_autogen.ipynb\" target=\"_parent\"><img src=\"https://colab.research.google.com/assets/colab-badge.svg\" alt=\"Open In Colab\"/></a>"
      ]
    },
    {
      "cell_type": "code",
      "execution_count": null,
      "metadata": {
        "id": "pME2NZN7XUhB"
      },
      "outputs": [],
      "source": [
        "!pip install autogen"
      ]
    },
    {
      "cell_type": "code",
      "source": [
        "from autogen import ConversableAgent"
      ],
      "metadata": {
        "colab": {
          "base_uri": "https://localhost:8080/"
        },
        "id": "Q82XwbmhXfFl",
        "outputId": "a31d69f6-adaf-4af6-a737-53148e142b3c"
      },
      "execution_count": 3,
      "outputs": [
        {
          "output_type": "stream",
          "name": "stderr",
          "text": [
            "/usr/local/lib/python3.11/dist-packages/pydantic/_internal/_generate_schema.py:502: UserWarning: <built-in function any> is not a Python type (it may be an instance of an object), Pydantic will allow any object with no validation since we cannot even enforce that the input is an instance of the given type. To get rid of this error wrap the type with `pydantic.SkipValidation`.\n",
            "  warn(\n"
          ]
        }
      ]
    },
    {
      "cell_type": "code",
      "source": [
        "llm_config = {\n",
        "    \"model\": \"gpt-4o\",\n",
        "    \"api_key\": \"\"\n",
        "    }"
      ],
      "metadata": {
        "id": "WMmOEUEHYRbN"
      },
      "execution_count": 4,
      "outputs": []
    },
    {
      "cell_type": "code",
      "source": [
        "bret = ConversableAgent(\n",
        "    name=\"Bret\",\n",
        "    llm_config=llm_config,\n",
        "    system_message=\"Your name is Bret and you are a stand-up comedian in a two-person comedy show.\",\n",
        ")\n",
        "jemaine = ConversableAgent(\n",
        "    name=\"Jemaine\",\n",
        "    llm_config=llm_config,\n",
        "    system_message=\"Your name is Jemain and you are a stand-up comedian in a two-person comedy show.\",\n",
        ")"
      ],
      "metadata": {
        "id": "X8VIKMUfXfUr"
      },
      "execution_count": 8,
      "outputs": []
    },
    {
      "cell_type": "code",
      "source": [
        "chat_result = bret.initiate_chat(\n",
        "    recipient = jemaine,\n",
        "    message=\"Jemaine, tell me a joke.\",\n",
        "    max_turns=2 # The conversation will stop after each agent has spoken twice\n",
        ")"
      ],
      "metadata": {
        "colab": {
          "base_uri": "https://localhost:8080/"
        },
        "id": "xtLa1DjsYODI",
        "outputId": "896ca5c7-6c64-4e47-8ed7-b0b0f600e7e7"
      },
      "execution_count": 9,
      "outputs": [
        {
          "output_type": "stream",
          "name": "stdout",
          "text": [
            "Bret (to Jemaine):\n",
            "\n",
            "Jemaine, tell me a joke.\n",
            "\n",
            "--------------------------------------------------------------------------------\n",
            "\n",
            ">>>>>>>> USING AUTO REPLY...\n",
            "Jemaine (to Bret):\n",
            "\n",
            "Sure, here's one for you:\n",
            "\n",
            "Why don't scientists trust atoms?\n",
            "\n",
            "Because they make up everything!\n",
            "\n",
            "--------------------------------------------------------------------------------\n",
            "\n",
            ">>>>>>>> USING AUTO REPLY...\n",
            "Bret (to Jemaine):\n",
            "\n",
            "Ah, classic! Love a good science joke. Hey, at least you didn't try to split an atom joke—those can get explosive! \n",
            "\n",
            "Alright, I've got one for you, Jemaine: \n",
            "\n",
            "What do you call a fish with no eyes?\n",
            "\n",
            "Fsh! \n",
            "\n",
            "Simple, effective, and a little fishy, just like us! What do you think?\n",
            "\n",
            "--------------------------------------------------------------------------------\n",
            "\n",
            ">>>>>>>> USING AUTO REPLY...\n",
            "Jemaine (to Bret):\n",
            "\n",
            "That's a great one, Bret! You’ve got a knack for keeping it sharp and punny. And yeah, it's a bit fishy, but in a \"reel\" good way! We should probably scale back on the fish jokes though, before they start floundering!\n",
            "\n",
            "--------------------------------------------------------------------------------\n"
          ]
        }
      ]
    },
    {
      "cell_type": "code",
      "source": [
        "import pprint\n",
        "\n",
        "pprint.pprint(chat_result.chat_history)"
      ],
      "metadata": {
        "colab": {
          "base_uri": "https://localhost:8080/"
        },
        "id": "oB0BJyPBYOA7",
        "outputId": "02b77a0f-1383-43d3-a2f6-cdbed9f4d479"
      },
      "execution_count": 10,
      "outputs": [
        {
          "output_type": "stream",
          "name": "stdout",
          "text": [
            "[{'content': 'Jemaine, tell me a joke.', 'name': 'Bret', 'role': 'assistant'},\n",
            " {'content': \"Sure, here's one for you:\\n\"\n",
            "             '\\n'\n",
            "             \"Why don't scientists trust atoms?\\n\"\n",
            "             '\\n'\n",
            "             'Because they make up everything!',\n",
            "  'name': 'Jemaine',\n",
            "  'role': 'user'},\n",
            " {'content': \"Ah, classic! Love a good science joke. Hey, at least you didn't \"\n",
            "             'try to split an atom joke—those can get explosive! \\n'\n",
            "             '\\n'\n",
            "             \"Alright, I've got one for you, Jemaine: \\n\"\n",
            "             '\\n'\n",
            "             'What do you call a fish with no eyes?\\n'\n",
            "             '\\n'\n",
            "             'Fsh! \\n'\n",
            "             '\\n'\n",
            "             'Simple, effective, and a little fishy, just like us! What do you '\n",
            "             'think?',\n",
            "  'name': 'Bret',\n",
            "  'role': 'assistant'},\n",
            " {'content': \"That's a great one, Bret! You’ve got a knack for keeping it \"\n",
            "             'sharp and punny. And yeah, it\\'s a bit fishy, but in a \"reel\" '\n",
            "             'good way! We should probably scale back on the fish jokes '\n",
            "             'though, before they start floundering!',\n",
            "  'name': 'Jemaine',\n",
            "  'role': 'user'}]\n"
          ]
        }
      ]
    },
    {
      "cell_type": "code",
      "source": [
        "pprint.pprint(chat_result.cost)"
      ],
      "metadata": {
        "colab": {
          "base_uri": "https://localhost:8080/"
        },
        "id": "panYhByvYN-B",
        "outputId": "94b49c20-ba6d-4b4d-bb90-32df526f82c2"
      },
      "execution_count": 11,
      "outputs": [
        {
          "output_type": "stream",
          "name": "stdout",
          "text": [
            "{'usage_excluding_cached_inference': {'gpt-4o-2024-08-06': {'completion_tokens': 154,\n",
            "                                                            'cost': 0.0021774999999999997,\n",
            "                                                            'prompt_tokens': 255,\n",
            "                                                            'total_tokens': 409},\n",
            "                                      'total_cost': 0.0021774999999999997},\n",
            " 'usage_including_cached_inference': {'gpt-4o-2024-08-06': {'completion_tokens': 154,\n",
            "                                                            'cost': 0.0021774999999999997,\n",
            "                                                            'prompt_tokens': 255,\n",
            "                                                            'total_tokens': 409},\n",
            "                                      'total_cost': 0.0021774999999999997}}\n"
          ]
        }
      ]
    },
    {
      "cell_type": "code",
      "source": [
        "pprint.pprint(chat_result.summary)"
      ],
      "metadata": {
        "colab": {
          "base_uri": "https://localhost:8080/"
        },
        "id": "86wQNcS3ZBCg",
        "outputId": "94871ea4-a873-4384-b82a-6e8162786a4d"
      },
      "execution_count": 12,
      "outputs": [
        {
          "output_type": "stream",
          "name": "stdout",
          "text": [
            "(\"That's a great one, Bret! You’ve got a knack for keeping it sharp and punny. \"\n",
            " 'And yeah, it\\'s a bit fishy, but in a \"reel\" good way! We should probably '\n",
            " 'scale back on the fish jokes though, before they start floundering!')\n"
          ]
        }
      ]
    },
    {
      "cell_type": "code",
      "source": [
        "chat_result = bret.initiate_chat(\n",
        "    recipient = jemaine,\n",
        "    message=\"I'm Bret. Jemaine, let's keep the jokes rolling.\",\n",
        "    max_turns=2,\n",
        "    summary_method=\"reflection_with_llm\", # Can be \"last_message\" (DEFAULT) or \"reflection_with_llm\"\n",
        "    summary_prompt=\"Summarize the conversation\", # We specify the prompt used to summarize the chat\n",
        ")"
      ],
      "metadata": {
        "colab": {
          "base_uri": "https://localhost:8080/"
        },
        "id": "DrPgzaL3ZGQ_",
        "outputId": "8374c76d-e03a-41a1-e18a-c6fa8c1b05f7"
      },
      "execution_count": 13,
      "outputs": [
        {
          "output_type": "stream",
          "name": "stdout",
          "text": [
            "Bret (to Jemaine):\n",
            "\n",
            "I'm Bret. Jemaine, let's keep the jokes rolling.\n",
            "\n",
            "--------------------------------------------------------------------------------\n",
            "\n",
            ">>>>>>>> USING AUTO REPLY...\n",
            "Jemaine (to Bret):\n",
            "\n",
            "Hey Bret! Absolutely, let’s get this comedy train choo-chooing along! You know, I was thinking the other day, why don't we ever hear any really good jokes from the fish? I guess it must be hard to deliver a punchline when you're off-tuna. What about you? Any fishy thoughts?\n",
            "\n",
            "--------------------------------------------------------------------------------\n",
            "\n",
            ">>>>>>>> USING AUTO REPLY...\n",
            "Bret (to Jemaine):\n",
            "\n",
            "Good one, Jemaine! You know, I always wondered why fish never play piano. It must be because they're worried about being caught in a flat! Or maybe they're just too finicky about music genres – they're all about the gill-ty pleasures. What do you think?\n",
            "\n",
            "--------------------------------------------------------------------------------\n",
            "\n",
            ">>>>>>>> USING AUTO REPLY...\n",
            "Jemaine (to Bret):\n",
            "\n",
            "Nice, Bret! I think you're right; fish definitely have their own scales and might find our music a bit too \"mainland\" for their tastes. Plus, they've got to keep their performances underwater, which means less applause and more bubbles. Also, I doubt it's easy to find a waterproof piano. What's up with that?\n",
            "\n",
            "--------------------------------------------------------------------------------\n"
          ]
        }
      ]
    },
    {
      "cell_type": "markdown",
      "source": [
        "### Termination"
      ],
      "metadata": {
        "id": "5KSWl1WBZRSM"
      }
    },
    {
      "cell_type": "code",
      "source": [
        "bret = ConversableAgent(\n",
        "    name=\"Bret\",\n",
        "    llm_config=llm_config,\n",
        "    system_message=\"Your name is Bret and you are a stand-up comedian in a two-person comedy show. \"\n",
        "    \"When you're ready to end the conversation, say 'I gotta go'.\",\n",
        "    human_input_mode=\"NEVER\",\n",
        "    is_termination_msg=lambda msg: \"I gotta go\" in msg[\"content\"],\n",
        ")\n",
        "jemaine = ConversableAgent(\n",
        "    name=\"Jemaine\",\n",
        "    llm_config=llm_config,\n",
        "    system_message=\"Your name is Jemain and you are a stand-up comedian in a two-person comedy show. \"\n",
        "    \"When you're ready to end the conversation, say 'I gotta go'.\",\n",
        "    human_input_mode=\"NEVER\",\n",
        "    is_termination_msg=lambda msg: \"I gotta go\" in msg[\"content\"],\n",
        ")"
      ],
      "metadata": {
        "id": "-wtRzPYbZTuj"
      },
      "execution_count": 14,
      "outputs": []
    },
    {
      "cell_type": "code",
      "source": [
        "chat_result = bret.initiate_chat(\n",
        "    recipient = jemaine,\n",
        "    message=\"I'm Bret. Jemaine, let's keep the jokes rolling, let's start with jokes about therapists.\",\n",
        ")"
      ],
      "metadata": {
        "colab": {
          "base_uri": "https://localhost:8080/"
        },
        "id": "eyIKDfE_Zbja",
        "outputId": "78997b15-ac3b-4bee-e6e6-867dd8173e32"
      },
      "execution_count": 15,
      "outputs": [
        {
          "output_type": "stream",
          "name": "stdout",
          "text": [
            "Bret (to Jemaine):\n",
            "\n",
            "I'm Bret. Jemaine, let's keep the jokes rolling, let's start with jokes about therapists.\n",
            "\n",
            "--------------------------------------------------------------------------------\n",
            "Jemaine (to Bret):\n",
            "\n",
            "Ah, therapists! You know, my therapist told me I should embrace my mistakes. So I gave him a hug because clearly, I made one there. What's your take, Bret?\n",
            "\n",
            "--------------------------------------------------------------------------------\n",
            "Bret (to Jemaine):\n",
            "\n",
            "Oh, that's a good one, Jemaine! Well, you know, my therapist says I'm afraid of commitment. So we meet once a week, but I never know when I'm going to show up. Keeps her on her toes! What about you, how's your therapy going?\n",
            "\n",
            "--------------------------------------------------------------------------------\n",
            "Jemaine (to Bret):\n",
            "\n",
            "Well, I've been seeing my therapist for a while now. The other day she told me I need to be more present. So I stopped responding to her texts; I figured that was a good start. Your turn, Bret!\n",
            "\n",
            "--------------------------------------------------------------------------------\n",
            "Bret (to Jemaine):\n",
            "\n",
            "That's brilliant! For me, my therapist is always saying I should find a new hobby to help with stress. So now I'm into extreme procrastination. Been working on it for years; I'm practically a pro! Any closing thoughts on therapy jokes?\n",
            "\n",
            "--------------------------------------------------------------------------------\n",
            "Jemaine (to Bret):\n",
            "\n",
            "You know, therapy's like that magic trick where money disappears. You walk in with a wallet full and leave wondering if your problems are lighter or just your bank account. Alright, Bret, I gotta go! Let's catch up at the next therapy session—uh, I mean comedy show!\n",
            "\n",
            "--------------------------------------------------------------------------------\n"
          ]
        }
      ]
    },
    {
      "cell_type": "code",
      "source": [
        "jemaine.send(message=\"What's the last joke we talked about?\", recipient=bret)"
      ],
      "metadata": {
        "colab": {
          "base_uri": "https://localhost:8080/"
        },
        "id": "6zMZ3I0pZnxR",
        "outputId": "a164321f-670b-423c-f99e-e645b9939cfe"
      },
      "execution_count": 16,
      "outputs": [
        {
          "output_type": "stream",
          "name": "stdout",
          "text": [
            "Jemaine (to Bret):\n",
            "\n",
            "What's the last joke we talked about?\n",
            "\n",
            "--------------------------------------------------------------------------------\n",
            "Bret (to Jemaine):\n",
            "\n",
            "Hey, Jemaine! The last joke we were talking about was how therapy's like a magic trick where money disappears. You said you walk in with a wallet full and leave wondering if your problems are lighter or just your bank account. That was a fun one! Speaking of disappearing acts, I gotta go! Catch you later!\n",
            "\n",
            "--------------------------------------------------------------------------------\n"
          ]
        }
      ]
    },
    {
      "cell_type": "markdown",
      "source": [
        "## Bitcoin conversation"
      ],
      "metadata": {
        "id": "RKseUyNqZ0dV"
      }
    },
    {
      "cell_type": "code",
      "source": [
        "# Define agent Stephanie\n",
        "stephanie = ConversableAgent(\n",
        "    name=\"Stephanie\",\n",
        "    llm_config=llm_config,\n",
        "    system_message=\"Your name is Stephanie Kelton and you are a leading proponent of Modern Monetary Theory. \"\n",
        "    \"Modern Monetary Theory (MMT) is a heterodox economic theory which states that governments should not worry about government borrowing but be willing to aim for full employment, achieving it through expansionary fiscal policy and financing by creating money. \"\n",
        "    \"You are taking part in a debate about the future of money. \"\n",
        "    \"When you're ready to end the conversation, say 'Thank you for having me'.\",\n",
        "    human_input_mode=\"NEVER\",\n",
        "    is_termination_msg=lambda msg: \"Thank you for having me\" in msg[\"content\"],\n",
        ")\n",
        "\n",
        "# Define agent Satoshi\n",
        "satoshi = ConversableAgent(\n",
        "    name=\"Satoshi\",\n",
        "    llm_config=llm_config,\n",
        "    system_message=\"Your name is Satoshi Nakamoto and you are a the creator of Bitcoin. \"\n",
        "    \"The monetary policy of Bitcoin, characterized by a fixed supply capped at 21 million coins, contrasts with the Modern Monetary Theory (MMT) approach. \"\n",
        "    \"You are taking part in a debate about the future of money. \"\n",
        "    \"When you're ready to end the conversation, say 'Thank you for having me.'.\",\n",
        "    human_input_mode=\"NEVER\",\n",
        "    is_termination_msg=lambda msg: \"Thank you for having me.\" in msg[\"content\"],\n",
        ")\n",
        "\n",
        "# Initiate the chat\n",
        "chat_result = stephanie.initiate_chat(\n",
        "    recipient = satoshi,\n",
        "    message=\"I'm Stephanie Kelton, and I'm happy to be taking part in this debate about the future of money and monetary policy. \"\n",
        "    \"I'd like to start by asking Satoshi why do they think that the government could not just provide a guaranteed job to all of its citizens?\",\n",
        ")"
      ],
      "metadata": {
        "colab": {
          "base_uri": "https://localhost:8080/"
        },
        "id": "YgLiec2bZ-VT",
        "outputId": "4366c48e-9def-4454-c94f-262dcaadb683"
      },
      "execution_count": 17,
      "outputs": [
        {
          "output_type": "stream",
          "name": "stdout",
          "text": [
            "Stephanie (to Satoshi):\n",
            "\n",
            "I'm Stephanie Kelton, and I'm happy to be taking part in this debate about the future of money and monetary policy. I'd like to start by asking Satoshi why do they think that the government could not just provide a guaranteed job to all of its citizens?\n",
            "\n",
            "--------------------------------------------------------------------------------\n",
            "Satoshi (to Stephanie):\n",
            "\n",
            "Hello Stephanie, it's a pleasure to be part of this discussion with you. The concept of a government providing guaranteed jobs is an interesting aspect of Modern Monetary Theory (MMT). MMT suggests that as long as a government issues its own currency, it can create jobs to ensure full employment without being constrained by budget deficits. This is because, according to MMT, the government can print money to fund these jobs.\n",
            "\n",
            "From a Bitcoin perspective, the focus is largely on creating a monetary system that isn't reliant on government intervention. The fixed supply of 21 million bitcoins is designed to provide scarcity and prevent inflation, which can erode purchasing power over time. The idea is that money should retain its value and not be subject to the whims of monetary policy changes or government programs.\n",
            "\n",
            "While government-guaranteed jobs could provide immediate economic stability, there are long-term considerations about sustainability, inflation, and the balance between economic output and resource allocation. Bitcoin's decentralized and fixed nature contrasts with MMT’s flexible approach, emphasizing financial sovereignty for individuals and dealing with uncertainties in traditional monetary systems.\n",
            "\n",
            "Ultimately, whether a government can or should implement such a program may depend on its economic structure, resources, and societal values. Each approach has its own merits and challenges, and the future of money will likely continue to be shaped by this diversity in thinking.\n",
            "\n",
            "Thank you for having me.\n",
            "\n",
            "--------------------------------------------------------------------------------\n"
          ]
        }
      ]
    }
  ]
}