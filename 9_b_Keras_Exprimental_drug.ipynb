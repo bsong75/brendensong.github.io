{
  "nbformat": 4,
  "nbformat_minor": 0,
  "metadata": {
    "colab": {
      "name": "9.b.Keras_Exprimental drug.ipynb",
      "provenance": [],
      "collapsed_sections": [],
      "authorship_tag": "ABX9TyPxkTx3fNdQoWFSgXA++eSQ",
      "include_colab_link": true
    },
    "kernelspec": {
      "name": "python3",
      "display_name": "Python 3"
    }
  },
  "cells": [
    {
      "cell_type": "markdown",
      "metadata": {
        "id": "view-in-github",
        "colab_type": "text"
      },
      "source": [
        "<a href=\"https://colab.research.google.com/github/bsong75/brendensong.github.io/blob/main/9_b_Keras_Exprimental_drug.ipynb\" target=\"_parent\"><img src=\"https://colab.research.google.com/assets/colab-badge.svg\" alt=\"Open In Colab\"/></a>"
      ]
    },
    {
      "cell_type": "code",
      "metadata": {
        "id": "AeuBOTc9L4dD"
      },
      "source": [
        "import numpy as np\r\n",
        "from random import randint\r\n",
        "from sklearn.utils import shuffle\r\n",
        "from sklearn.preprocessing import MinMaxScaler"
      ],
      "execution_count": 1,
      "outputs": []
    },
    {
      "cell_type": "code",
      "metadata": {
        "id": "kF88NL0eNSgP"
      },
      "source": [
        "train_labels=[]\r\n",
        "train_samples=[]\r\n"
      ],
      "execution_count": 2,
      "outputs": []
    },
    {
      "cell_type": "code",
      "metadata": {
        "id": "j5vl84DiNXte"
      },
      "source": [
        "for i in range(50):\r\n",
        "    # The younger individuals who did experience side effects\r\n",
        "    random_younger= randint(13,64)\r\n",
        "    train_samples.append(random_younger)\r\n",
        "    train_labels.append(1)\r\n",
        "\r\n",
        "    #Old who did not expereince side effects\r\n",
        "    random_older= randint(65,100)\r\n",
        "    train_samples.append(random_older)\r\n",
        "    train_labels.append(0)\r\n",
        "\r\n",
        "for i in range(1000):\r\n",
        "    #95% of younger did not have side effects\r\n",
        "    random_younger=randint(16,64)\r\n",
        "    train_samples.append(random_younger)\r\n",
        "    train_labels.append(0)\r\n",
        "\r\n",
        "    random_older=randint(65,100)\r\n",
        "    train_samples.append(random_older)\r\n",
        "    train_labels.append(1)\r\n"
      ],
      "execution_count": 5,
      "outputs": []
    },
    {
      "cell_type": "code",
      "metadata": {
        "colab": {
          "base_uri": "https://localhost:8080/"
        },
        "id": "ob5S2E4KPHBg",
        "outputId": "be57485c-edb2-47b4-dab5-39ae4f53d319"
      },
      "source": [
        "print(len(train_labels), len(train_samples))\r\n"
      ],
      "execution_count": 7,
      "outputs": [
        {
          "output_type": "stream",
          "text": [
            "2100 2100\n"
          ],
          "name": "stdout"
        }
      ]
    },
    {
      "cell_type": "code",
      "metadata": {
        "id": "zx9cLLyxPWWP"
      },
      "source": [
        ""
      ],
      "execution_count": null,
      "outputs": []
    }
  ]
}