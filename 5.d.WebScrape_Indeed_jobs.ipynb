{
  "nbformat": 4,
  "nbformat_minor": 0,
  "metadata": {
    "colab": {
      "name": "5.d.WebScrape_Indeed_jobs.ipynb",
      "provenance": [],
      "authorship_tag": "ABX9TyP91att/3w7php6MpkEdsrP",
      "include_colab_link": true
    },
    "kernelspec": {
      "name": "python3",
      "display_name": "Python 3"
    }
  },
  "cells": [
    {
      "cell_type": "markdown",
      "metadata": {
        "id": "view-in-github",
        "colab_type": "text"
      },
      "source": [
        "<a href=\"https://colab.research.google.com/github/bsong75/brendensong.github.io/blob/main/5.d.WebScrape_Indeed_jobs.ipynb\" target=\"_parent\"><img src=\"https://colab.research.google.com/assets/colab-badge.svg\" alt=\"Open In Colab\"/></a>"
      ]
    },
    {
      "cell_type": "code",
      "metadata": {
        "id": "xD35fTC88mq7"
      },
      "source": [
        "#Beautiful Soup\n",
        "from urllib.request import urlopen as uReq\n",
        "from bs4 import BeautifulSoup as soup\n",
        "\n",
        "my_url='https://www.indeed.com/jobs?q=data%20scientist&l=washington%2C%20dc&fromage=last&sort=date&vjk=4aeafc7915c42941'\n",
        "\n",
        "# grabbing the webpage\n",
        "uClient = uReq(my_url)\n",
        "page_html = uClient.read()\n",
        "uClient.close()\n",
        "\n",
        "#html parsing\n",
        "page_soup=soup(page_html, \"html.parser\")\n",
        "\n",
        "# grabs each product\n",
        "containers = page_soup.findAll(\"h2\", {\"class\": \"title\"})\n",
        "\n",
        "filename = 'jobs.csv'\n",
        "f=open(filename, \"w\")\n",
        "\n",
        "headers =\"Job Name, Company Name\\n\"\n",
        "f.write(headers)\n",
        "\n",
        "for container in containers:\n",
        "   Job_Name= container.find_all('h2')[0].a[\"title\"]\n",
        "   \n",
        "   Company_container=container[0].findAll(\"span\", {\"class\":\"company\"})\n",
        "   Company_Name=Company_container[0].text.strip()\n",
        "\n",
        "   print (\"Job Name: \" + Job_Name)\n",
        "   print (\"Company Name: \" + Company_Name)\n",
        "\n",
        "   f.write(Job_Name + \",\" + Company_Name + \"\\n\")\n",
        "\n",
        "f.close()"
      ],
      "execution_count": null,
      "outputs": []
    }
  ]
}