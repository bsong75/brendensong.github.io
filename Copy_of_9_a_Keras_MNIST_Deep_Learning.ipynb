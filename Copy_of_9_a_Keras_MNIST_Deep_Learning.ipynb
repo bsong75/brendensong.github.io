{
  "nbformat": 4,
  "nbformat_minor": 0,
  "metadata": {
    "colab": {
      "name": "Copy of 9.a.Keras_MNIST_Deep Learning.ipynb",
      "provenance": [],
      "authorship_tag": "ABX9TyNFoKzWuKVn9KbQLY2JaZjG",
      "include_colab_link": true
    },
    "kernelspec": {
      "name": "python3",
      "display_name": "Python 3"
    }
  },
  "cells": [
    {
      "cell_type": "markdown",
      "metadata": {
        "id": "view-in-github",
        "colab_type": "text"
      },
      "source": [
        "<a href=\"https://colab.research.google.com/github/bsong75/brendensong.github.io/blob/main/Copy_of_9_a_Keras_MNIST_Deep_Learning.ipynb\" target=\"_parent\"><img src=\"https://colab.research.google.com/assets/colab-badge.svg\" alt=\"Open In Colab\"/></a>"
      ]
    },
    {
      "cell_type": "code",
      "metadata": {
        "id": "cIEZZbDhOjdA"
      },
      "source": [
        "import tensorflow as tf\r\n",
        "import matplotlib.pyplot as plt"
      ],
      "execution_count": 1,
      "outputs": []
    },
    {
      "cell_type": "code",
      "metadata": {
        "id": "fzg0pklfHcVr"
      },
      "source": [
        ""
      ],
      "execution_count": null,
      "outputs": []
    },
    {
      "cell_type": "code",
      "metadata": {
        "id": "XyPAZxAwLlhA"
      },
      "source": [
        "# 1. Load and Prepare the MNIST data\r\n",
        "\r\n",
        "mnist =tf.keras.datasets.mnist\r\n",
        "\r\n",
        "(x_train, y_train), (x_test, y_test) = mnist.load_data()\r\n",
        "\r\n",
        "x_train = tf.keras.utils.normalize(x_train, axis=1)\r\n",
        "x_test = tf.keras.utils.normalize(x_test, axis=1)\r\n"
      ],
      "execution_count": 8,
      "outputs": []
    },
    {
      "cell_type": "code",
      "metadata": {
        "id": "eUVJ7cKJG3G9"
      },
      "source": [
        "# 2. Build the model  (Sequential)\r\n",
        "\r\n",
        "model=tf.keras.models.Sequential()\r\n",
        "model.add(tf.keras.layers.Flatten())  # numpy array to tensors\r\n",
        "model.add(tf.keras.layers.Dense(128, activation=tf.nn.relu))\r\n",
        "model.add(tf.keras.layers.Dense(128, activation=tf.nn.relu))\r\n",
        "model.add(tf.keras.layers.Dense(10, activation=tf.nn.softmax))\r\n",
        "\r\n",
        "model.compile(optimizer='adam', \r\n",
        "              loss='sparse_categorical_crossentropy', \r\n",
        "              metrics=['accuracy'])"
      ],
      "execution_count": 9,
      "outputs": []
    },
    {
      "cell_type": "code",
      "metadata": {
        "id": "dgx6KRsVG1IE",
        "colab": {
          "base_uri": "https://localhost:8080/"
        },
        "outputId": "34111b6e-4849-476b-ac06-1ccbad71cfc2"
      },
      "source": [
        "# 3. Train the mdoel\r\n",
        "model.fit(x_train, y_train, epochs=3)"
      ],
      "execution_count": 10,
      "outputs": [
        {
          "output_type": "stream",
          "text": [
            "Epoch 1/3\n",
            "1875/1875 [==============================] - 4s 2ms/step - loss: 0.2600 - accuracy: 0.9243\n",
            "Epoch 2/3\n",
            "1875/1875 [==============================] - 4s 2ms/step - loss: 0.1071 - accuracy: 0.9669\n",
            "Epoch 3/3\n",
            "1875/1875 [==============================] - 4s 2ms/step - loss: 0.0739 - accuracy: 0.9764\n"
          ],
          "name": "stdout"
        },
        {
          "output_type": "execute_result",
          "data": {
            "text/plain": [
              "<tensorflow.python.keras.callbacks.History at 0x7f38f7c086a0>"
            ]
          },
          "metadata": {
            "tags": []
          },
          "execution_count": 10
        }
      ]
    },
    {
      "cell_type": "code",
      "metadata": {
        "colab": {
          "base_uri": "https://localhost:8080/"
        },
        "id": "pIBQ1hD0RlOi",
        "outputId": "6636ba1c-38f4-473a-8310-7c821c8c586f"
      },
      "source": [
        "# Evaluate the model with validation loss and accurasy\r\n",
        "val_loss, val_acc = model.evaluate(x_test, y_test)\r\n",
        "print(val_loss, val_acc)"
      ],
      "execution_count": null,
      "outputs": [
        {
          "output_type": "stream",
          "text": [
            "313/313 [==============================] - 0s 1ms/step - loss: 0.0925 - accuracy: 0.9729\n",
            "0.09248965978622437 0.9728999733924866\n"
          ],
          "name": "stdout"
        }
      ]
    },
    {
      "cell_type": "code",
      "metadata": {
        "id": "ZYUQR_RaRnae"
      },
      "source": [
        "model.save('epic_num_reader.model')"
      ],
      "execution_count": null,
      "outputs": []
    },
    {
      "cell_type": "code",
      "metadata": {
        "id": "9vdtCShpRnpv"
      },
      "source": [
        "new_model = tf.keras.models.load_model('epic_num_reader.model')"
      ],
      "execution_count": null,
      "outputs": []
    },
    {
      "cell_type": "code",
      "metadata": {
        "id": "dYiNArhJSYHk"
      },
      "source": [
        "# 4. Predict with test data.\r\n",
        "\r\n",
        "predictions = new_model.predict([x_test])"
      ],
      "execution_count": null,
      "outputs": []
    },
    {
      "cell_type": "code",
      "metadata": {
        "colab": {
          "base_uri": "https://localhost:8080/"
        },
        "id": "F9I1wenNSX4U",
        "outputId": "345a0fa4-696d-4c48-aa93-ac74f95d15e5"
      },
      "source": [
        "print(predictions)"
      ],
      "execution_count": null,
      "outputs": [
        {
          "output_type": "stream",
          "text": [
            "[[5.4580185e-09 9.7327813e-07 1.3044716e-05 ... 9.9987233e-01\n",
            "  6.7275288e-08 3.9441461e-06]\n",
            " [1.7415346e-10 1.8546614e-05 9.9997926e-01 ... 7.9992407e-10\n",
            "  2.5665928e-08 3.2645477e-11]\n",
            " [5.1050175e-10 9.9992645e-01 2.8243219e-05 ... 3.1699365e-05\n",
            "  6.4995343e-06 2.9837995e-08]\n",
            " ...\n",
            " [9.8559276e-09 1.5119299e-05 1.4060477e-07 ... 1.4413919e-04\n",
            "  1.0688157e-06 2.6566999e-03]\n",
            " [1.6592381e-06 9.1067661e-05 4.1970056e-06 ... 7.3535512e-06\n",
            "  5.7856517e-04 4.0565746e-09]\n",
            " [6.6579241e-06 7.3623724e-08 6.7903829e-07 ... 1.9098816e-09\n",
            "  9.7155566e-07 4.0595722e-08]]\n"
          ],
          "name": "stdout"
        }
      ]
    },
    {
      "cell_type": "code",
      "metadata": {
        "colab": {
          "base_uri": "https://localhost:8080/"
        },
        "id": "hS-8fFsSSjYd",
        "outputId": "5c239cd7-086f-4cd1-b6e8-396d96fad688"
      },
      "source": [
        "import numpy as np\r\n",
        "print(np.argmax(predictions[0]))"
      ],
      "execution_count": null,
      "outputs": [
        {
          "output_type": "stream",
          "text": [
            "7\n"
          ],
          "name": "stdout"
        }
      ]
    },
    {
      "cell_type": "code",
      "metadata": {
        "colab": {
          "base_uri": "https://localhost:8080/",
          "height": 282
        },
        "id": "msARSSZ9SjM-",
        "outputId": "4c892fa4-728c-4ac4-f68e-e6ec58cf0a01"
      },
      "source": [
        "plt.imshow(x_test[0], cmap='gray')"
      ],
      "execution_count": null,
      "outputs": [
        {
          "output_type": "execute_result",
          "data": {
            "text/plain": [
              "<matplotlib.image.AxesImage at 0x7fd706708cf8>"
            ]
          },
          "metadata": {
            "tags": []
          },
          "execution_count": 9
        },
        {
          "output_type": "display_data",
          "data": {
            "image/png": "[encoded data removed]",
            "text/plain": [
              "<Figure size 432x288 with 1 Axes>"
            ]
          },
          "metadata": {
            "tags": [],
            "needs_background": "light"
          }
        }
      ]
    },
    {
      "cell_type": "code",
      "metadata": {
        "id": "eeU7Oo8ZSjCB"
      },
      "source": [
        ""
      ],
      "execution_count": null,
      "outputs": []
    },
    {
      "cell_type": "code",
      "metadata": {
        "id": "84Z0_rBcSi3U"
      },
      "source": [
        ""
      ],
      "execution_count": null,
      "outputs": []
    },
    {
      "cell_type": "code",
      "metadata": {
        "colab": {
          "base_uri": "https://localhost:8080/",
          "height": 264
        },
        "id": "6j2_aenqOJLf",
        "outputId": "4999ec32-43b1-4a6a-b12b-e24cc1d71d4d"
      },
      "source": [
        "plt.imshow(x_train[0], cmap=plt.cm.binary)\r\n",
        "plt.show()\r\n",
        "\r\n",
        "\r\n"
      ],
      "execution_count": null,
      "outputs": [
        {
          "output_type": "display_data",
          "data": {
            "image/png": "[encoded data removed]",
            "text/plain": [
              "<Figure size 432x288 with 1 Axes>"
            ]
          },
          "metadata": {
            "tags": [],
            "needs_background": "light"
          }
        }
      ]
    },
    {
      "cell_type": "code",
      "metadata": {
        "id": "4iyh1mSzOJgM"
      },
      "source": [
        ""
      ],
      "execution_count": null,
      "outputs": []
    }
  ]
}