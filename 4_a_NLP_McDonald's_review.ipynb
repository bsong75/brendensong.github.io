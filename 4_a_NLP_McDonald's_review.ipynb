{
  "nbformat": 4,
  "nbformat_minor": 0,
  "metadata": {
    "colab": {
      "name": "4.a.NLP_McDonald's review.ipynb",
      "provenance": [],
      "mount_file_id": "15HgCe6LlBp0uJeKM8H-ebNH_FeCzkTt0",
      "authorship_tag": "ABX9TyP/uATbTfvlyEyV0SPbTioU",
      "include_colab_link": true
    },
    "kernelspec": {
      "name": "python3",
      "display_name": "Python 3"
    }
  },
  "cells": [
    {
      "cell_type": "markdown",
      "metadata": {
        "id": "view-in-github",
        "colab_type": "text"
      },
      "source": [
        "<a href=\"https://colab.research.google.com/github/bsong75/brendensong.github.io/blob/main/4_a_NLP_McDonald's_review.ipynb\" target=\"_parent\"><img src=\"https://colab.research.google.com/assets/colab-badge.svg\" alt=\"Open In Colab\"/></a>"
      ]
    },
    {
      "cell_type": "code",
      "metadata": {
        "id": "ooiiXU3LtD_P"
      },
      "source": [
        "import pandas as pd\r\n",
        "mcd = pd.read_excel('/content/drive/MyDrive/csv/McD.xlsx')\r\n"
      ],
      "execution_count": 11,
      "outputs": []
    },
    {
      "cell_type": "code",
      "metadata": {
        "colab": {
          "base_uri": "https://localhost:8080/",
          "height": 193
        },
        "id": "eZ7gKO9Vtkeu",
        "outputId": "dc08e66c-af93-470a-ecf5-26e5e6797116"
      },
      "source": [
        "mcd.head()"
      ],
      "execution_count": 12,
      "outputs": [
        {
          "output_type": "execute_result",
          "data": {
            "text/html": [
              "<div>\n",
              "<style scoped>\n",
              "    .dataframe tbody tr th:only-of-type {\n",
              "        vertical-align: middle;\n",
              "    }\n",
              "\n",
              "    .dataframe tbody tr th {\n",
              "        vertical-align: top;\n",
              "    }\n",
              "\n",
              "    .dataframe thead th {\n",
              "        text-align: right;\n",
              "    }\n",
              "</style>\n",
              "<table border=\"1\" class=\"dataframe\">\n",
              "  <thead>\n",
              "    <tr style=\"text-align: right;\">\n",
              "      <th></th>\n",
              "      <th>_unit_id</th>\n",
              "      <th>_golden</th>\n",
              "      <th>_unit_state</th>\n",
              "      <th>_trusted_judgments</th>\n",
              "      <th>_last_judgment_at</th>\n",
              "      <th>policies_violated</th>\n",
              "      <th>policies_violated:confidence</th>\n",
              "      <th>city</th>\n",
              "      <th>policies_violated_gold</th>\n",
              "      <th>review</th>\n",
              "    </tr>\n",
              "  </thead>\n",
              "  <tbody>\n",
              "    <tr>\n",
              "      <th>0</th>\n",
              "      <td>679455653</td>\n",
              "      <td>False</td>\n",
              "      <td>finalized</td>\n",
              "      <td>3</td>\n",
              "      <td>2015-02-21 00:36:00</td>\n",
              "      <td>RudeService\\rOrderProblem\\rFilthy</td>\n",
              "      <td>1.0\\r0.6667\\r0.6667</td>\n",
              "      <td>Atlanta</td>\n",
              "      <td>NaN</td>\n",
              "      <td>I'm not a huge mcds lover, but I've been to be...</td>\n",
              "    </tr>\n",
              "    <tr>\n",
              "      <th>1</th>\n",
              "      <td>679455654</td>\n",
              "      <td>False</td>\n",
              "      <td>finalized</td>\n",
              "      <td>3</td>\n",
              "      <td>2015-02-21 00:27:00</td>\n",
              "      <td>RudeService</td>\n",
              "      <td>1</td>\n",
              "      <td>Atlanta</td>\n",
              "      <td>NaN</td>\n",
              "      <td>Terrible customer service. Î¾I came in at 9:30...</td>\n",
              "    </tr>\n",
              "    <tr>\n",
              "      <th>2</th>\n",
              "      <td>679455655</td>\n",
              "      <td>False</td>\n",
              "      <td>finalized</td>\n",
              "      <td>3</td>\n",
              "      <td>2015-02-21 00:26:00</td>\n",
              "      <td>SlowService\\rOrderProblem</td>\n",
              "      <td>1.0\\r1.0</td>\n",
              "      <td>Atlanta</td>\n",
              "      <td>NaN</td>\n",
              "      <td>First they \"lost\" my order, actually they gave...</td>\n",
              "    </tr>\n",
              "    <tr>\n",
              "      <th>3</th>\n",
              "      <td>679455656</td>\n",
              "      <td>False</td>\n",
              "      <td>finalized</td>\n",
              "      <td>3</td>\n",
              "      <td>2015-02-21 00:27:00</td>\n",
              "      <td>na</td>\n",
              "      <td>0.6667</td>\n",
              "      <td>Atlanta</td>\n",
              "      <td>NaN</td>\n",
              "      <td>I see I'm not the only one giving 1 star. Only...</td>\n",
              "    </tr>\n",
              "    <tr>\n",
              "      <th>4</th>\n",
              "      <td>679455657</td>\n",
              "      <td>False</td>\n",
              "      <td>finalized</td>\n",
              "      <td>3</td>\n",
              "      <td>2015-02-21 00:27:00</td>\n",
              "      <td>RudeService</td>\n",
              "      <td>1</td>\n",
              "      <td>Atlanta</td>\n",
              "      <td>NaN</td>\n",
              "      <td>Well, it's McDonald's, so you know what the fo...</td>\n",
              "    </tr>\n",
              "  </tbody>\n",
              "</table>\n",
              "</div>"
            ],
            "text/plain": [
              "    _unit_id  ...                                             review\n",
              "0  679455653  ...  I'm not a huge mcds lover, but I've been to be...\n",
              "1  679455654  ...  Terrible customer service. Î¾I came in at 9:30...\n",
              "2  679455655  ...  First they \"lost\" my order, actually they gave...\n",
              "3  679455656  ...  I see I'm not the only one giving 1 star. Only...\n",
              "4  679455657  ...  Well, it's McDonald's, so you know what the fo...\n",
              "\n",
              "[5 rows x 10 columns]"
            ]
          },
          "metadata": {
            "tags": []
          },
          "execution_count": 12
        }
      ]
    },
    {
      "cell_type": "code",
      "metadata": {
        "colab": {
          "base_uri": "https://localhost:8080/",
          "height": 52
        },
        "id": "bmVLPrP3vsRp",
        "outputId": "35859316-7527-42bd-a84f-53eca0f10ce5"
      },
      "source": [
        "mcd.loc[0,'review']"
      ],
      "execution_count": 13,
      "outputs": [
        {
          "output_type": "execute_result",
          "data": {
            "application/vnd.google.colaboratory.intrinsic+json": {
              "type": "string"
            },
            "text/plain": [
              "\"I'm not a huge mcds lover, but I've been to better ones. This is by far the worst one I've ever been too! It's filthy inside and if you get drive through they completely screw up your order every time! The staff is terribly unfriendly and nobody seems to care.\""
            ]
          },
          "metadata": {
            "tags": []
          },
          "execution_count": 13
        }
      ]
    },
    {
      "cell_type": "code",
      "metadata": {
        "id": "ESmxACH0wHaP"
      },
      "source": [
        ""
      ],
      "execution_count": null,
      "outputs": []
    },
    {
      "cell_type": "code",
      "metadata": {
        "colab": {
          "base_uri": "https://localhost:8080/"
        },
        "id": "mdZOtSJGvz1k",
        "outputId": "0f34ab1e-27e1-45df-91e2-532001c6088f"
      },
      "source": [
        "# examine the shape before removing any rows\r\n",
        "mcd.shape\r\n",
        "\r\n",
        "# count the number of null values in each column\r\n",
        "mcd.isna().sum()\r\n"
      ],
      "execution_count": 14,
      "outputs": [
        {
          "output_type": "execute_result",
          "data": {
            "text/plain": [
              "_unit_id                           0\n",
              "_golden                            0\n",
              "_unit_state                        0\n",
              "_trusted_judgments                 0\n",
              "_last_judgment_at                  0\n",
              "policies_violated                 54\n",
              "policies_violated:confidence      54\n",
              "city                              87\n",
              "policies_violated_gold          1525\n",
              "review                             0\n",
              "dtype: int64"
            ]
          },
          "metadata": {
            "tags": []
          },
          "execution_count": 14
        }
      ]
    },
    {
      "cell_type": "code",
      "metadata": {
        "id": "DNwEAHrcv6DE"
      },
      "source": [
        "mcd= mcd[mcd.policies_violated.notna()]"
      ],
      "execution_count": 15,
      "outputs": []
    },
    {
      "cell_type": "code",
      "metadata": {
        "colab": {
          "base_uri": "https://localhost:8080/"
        },
        "id": "W735ZFRHwBIO",
        "outputId": "d9de7a3f-03a6-4e03-d590-0188eba88c31"
      },
      "source": [
        "mcd.shape"
      ],
      "execution_count": 16,
      "outputs": [
        {
          "output_type": "execute_result",
          "data": {
            "text/plain": [
              "(1471, 10)"
            ]
          },
          "metadata": {
            "tags": []
          },
          "execution_count": 16
        }
      ]
    },
    {
      "cell_type": "code",
      "metadata": {
        "id": "Wc3O3FYuwF0C"
      },
      "source": [
        "mcd['rude'] = mcd.policies_violated.str.contains('RudeService').astype('int')"
      ],
      "execution_count": 17,
      "outputs": []
    },
    {
      "cell_type": "code",
      "metadata": {
        "colab": {
          "base_uri": "https://localhost:8080/",
          "height": 193
        },
        "id": "97JyUYyJwMrO",
        "outputId": "a37c1e90-83b6-4554-e96c-8e8495c9a68f"
      },
      "source": [
        "mcd.loc[0:4, ['policies_violated', 'rude']]"
      ],
      "execution_count": 18,
      "outputs": [
        {
          "output_type": "execute_result",
          "data": {
            "text/html": [
              "<div>\n",
              "<style scoped>\n",
              "    .dataframe tbody tr th:only-of-type {\n",
              "        vertical-align: middle;\n",
              "    }\n",
              "\n",
              "    .dataframe tbody tr th {\n",
              "        vertical-align: top;\n",
              "    }\n",
              "\n",
              "    .dataframe thead th {\n",
              "        text-align: right;\n",
              "    }\n",
              "</style>\n",
              "<table border=\"1\" class=\"dataframe\">\n",
              "  <thead>\n",
              "    <tr style=\"text-align: right;\">\n",
              "      <th></th>\n",
              "      <th>policies_violated</th>\n",
              "      <th>rude</th>\n",
              "    </tr>\n",
              "  </thead>\n",
              "  <tbody>\n",
              "    <tr>\n",
              "      <th>0</th>\n",
              "      <td>RudeService\\rOrderProblem\\rFilthy</td>\n",
              "      <td>1</td>\n",
              "    </tr>\n",
              "    <tr>\n",
              "      <th>1</th>\n",
              "      <td>RudeService</td>\n",
              "      <td>1</td>\n",
              "    </tr>\n",
              "    <tr>\n",
              "      <th>2</th>\n",
              "      <td>SlowService\\rOrderProblem</td>\n",
              "      <td>0</td>\n",
              "    </tr>\n",
              "    <tr>\n",
              "      <th>3</th>\n",
              "      <td>na</td>\n",
              "      <td>0</td>\n",
              "    </tr>\n",
              "    <tr>\n",
              "      <th>4</th>\n",
              "      <td>RudeService</td>\n",
              "      <td>1</td>\n",
              "    </tr>\n",
              "  </tbody>\n",
              "</table>\n",
              "</div>"
            ],
            "text/plain": [
              "                   policies_violated  rude\n",
              "0  RudeService\\rOrderProblem\\rFilthy     1\n",
              "1                        RudeService     1\n",
              "2          SlowService\\rOrderProblem     0\n",
              "3                                 na     0\n",
              "4                        RudeService     1"
            ]
          },
          "metadata": {
            "tags": []
          },
          "execution_count": 18
        }
      ]
    },
    {
      "cell_type": "code",
      "metadata": {
        "colab": {
          "base_uri": "https://localhost:8080/"
        },
        "id": "yLlSmM4qwO0G",
        "outputId": "222054ff-375a-4998-bf9a-4cfd56f8dd70"
      },
      "source": [
        "mcd.rude.value_counts()"
      ],
      "execution_count": 39,
      "outputs": [
        {
          "output_type": "execute_result",
          "data": {
            "text/plain": [
              "0    968\n",
              "1    503\n",
              "Name: rude, dtype: int64"
            ]
          },
          "metadata": {
            "tags": []
          },
          "execution_count": 39
        }
      ]
    },
    {
      "cell_type": "code",
      "metadata": {
        "id": "0Y1gEUEpwSjm"
      },
      "source": [
        "X = mcd.review\r\n",
        "y = mcd.rude"
      ],
      "execution_count": 40,
      "outputs": []
    },
    {
      "cell_type": "code",
      "metadata": {
        "id": "1cE0pN3WwVtH"
      },
      "source": [
        "from sklearn.model_selection import train_test_split\r\n",
        "X_train, X_test, y_train, y_test = train_test_split(X, y, random_state=1)\r\n",
        "\r\n",
        "from sklearn.feature_extraction.text import CountVectorizer\r\n",
        "vect = CountVectorizer()\r\n"
      ],
      "execution_count": 41,
      "outputs": []
    },
    {
      "cell_type": "code",
      "metadata": {
        "colab": {
          "base_uri": "https://localhost:8080/"
        },
        "id": "RDAaaa6Pwb9X",
        "outputId": "91fd53d1-d60b-4633-f029-3d67647cbd36"
      },
      "source": [
        "# fit and transform X_train into X_train_dtm\r\n",
        "X_train_dtm = vect.fit_transform(X_train)\r\n",
        "X_train_dtm.shape\r\n",
        "\r\n"
      ],
      "execution_count": 43,
      "outputs": [
        {
          "output_type": "execute_result",
          "data": {
            "text/plain": [
              "(1103, 7301)"
            ]
          },
          "metadata": {
            "tags": []
          },
          "execution_count": 43
        }
      ]
    },
    {
      "cell_type": "code",
      "metadata": {
        "colab": {
          "base_uri": "https://localhost:8080/"
        },
        "id": "kmaaMR9a0u_7",
        "outputId": "409b2823-4cc8-41fc-f3fb-981c752c96ed"
      },
      "source": [
        "# transform X_test into X_test_dtm\r\n",
        "X_test_dtm = vect.transform(X_test)\r\n",
        "X_test_dtm.shape"
      ],
      "execution_count": 44,
      "outputs": [
        {
          "output_type": "execute_result",
          "data": {
            "text/plain": [
              "(368, 7301)"
            ]
          },
          "metadata": {
            "tags": []
          },
          "execution_count": 44
        }
      ]
    },
    {
      "cell_type": "code",
      "metadata": {
        "colab": {
          "base_uri": "https://localhost:8080/"
        },
        "id": "l_hHWFkXwnDs",
        "outputId": "d500e2b4-a68f-45d6-c226-763dae0e584c"
      },
      "source": [
        "from sklearn.naive_bayes import MultinomialNB\r\n",
        "nb = MultinomialNB()\r\n",
        "nb.fit(X_train_dtm, y_train)\r\n"
      ],
      "execution_count": 24,
      "outputs": [
        {
          "output_type": "execute_result",
          "data": {
            "text/plain": [
              "MultinomialNB(alpha=1.0, class_prior=None, fit_prior=True)"
            ]
          },
          "metadata": {
            "tags": []
          },
          "execution_count": 24
        }
      ]
    },
    {
      "cell_type": "code",
      "metadata": {
        "id": "muDdUkNmwnRG"
      },
      "source": [
        "# calculate the predicted probability of rude=1 for each testing set observation\r\n",
        "y_pred_prob = nb.predict_proba(X_test_dtm)[:, 1]"
      ],
      "execution_count": 25,
      "outputs": []
    },
    {
      "cell_type": "code",
      "metadata": {
        "colab": {
          "base_uri": "https://localhost:8080/"
        },
        "id": "iD9ahTaiwncI",
        "outputId": "0c35dd86-4118-4f16-c6c7-804f67ea9140"
      },
      "source": [
        "# calculate the AUC\r\n",
        "from sklearn import metrics\r\n",
        "metrics.roc_auc_score(y_test, y_pred_prob)"
      ],
      "execution_count": 26,
      "outputs": [
        {
          "output_type": "execute_result",
          "data": {
            "text/plain": [
              "0.8426005404546177"
            ]
          },
          "metadata": {
            "tags": []
          },
          "execution_count": 26
        }
      ]
    },
    {
      "cell_type": "code",
      "metadata": {
        "colab": {
          "base_uri": "https://localhost:8080/"
        },
        "id": "OMWV-Fn2wnlF",
        "outputId": "997d5899-361c-492a-99ca-b404889e26cd"
      },
      "source": [
        "# repeat this task using a logistic regression model\r\n",
        "from sklearn.linear_model import LogisticRegression\r\n",
        "logreg = LogisticRegression(solver='liblinear')\r\n",
        "logreg.fit(X_train_dtm, y_train)\r\n",
        "y_pred_prob = logreg.predict_proba(X_test_dtm)[:, 1]\r\n",
        "metrics.roc_auc_score(y_test, y_pred_prob)"
      ],
      "execution_count": 27,
      "outputs": [
        {
          "output_type": "execute_result",
          "data": {
            "text/plain": [
              "0.8233349229057383"
            ]
          },
          "metadata": {
            "tags": []
          },
          "execution_count": 27
        }
      ]
    },
    {
      "cell_type": "code",
      "metadata": {
        "id": "QfjQZVJywnqB"
      },
      "source": [
        "def tokenize_test(vect):\r\n",
        "        # create document-term matrices using the vectorizer\r\n",
        "    X_train_dtm = vect.fit_transform(X_train)\r\n",
        "    X_test_dtm = vect.transform(X_test)\r\n",
        "        # print the number of features that were generated\r\n",
        "    print('Features:', X_train_dtm.shape[1])\r\n",
        "    # use Multinomial Naive Bayes to calculate predicted probabilities\r\n",
        "    nb = MultinomialNB()\r\n",
        "    nb.fit(X_train_dtm, y_train)\r\n",
        "    y_pred_prob = nb.predict_proba(X_test_dtm)[:, 1]\r\n",
        "    \r\n",
        "    print('AUC:', metrics.roc_auc_score(y_test, y_pred_prob))\r\n"
      ],
      "execution_count": 29,
      "outputs": []
    },
    {
      "cell_type": "code",
      "metadata": {
        "colab": {
          "base_uri": "https://localhost:8080/"
        },
        "id": "Ait6MIPfw7GF",
        "outputId": "bc10fe93-5050-4ebc-f82a-f674911f56e1"
      },
      "source": [
        "vect = CountVectorizer()\r\n",
        "tokenize_test(vect)\r\n"
      ],
      "execution_count": 30,
      "outputs": [
        {
          "output_type": "stream",
          "text": [
            "Features: 7301\n",
            "AUC: 0.8426005404546177\n"
          ],
          "name": "stdout"
        }
      ]
    },
    {
      "cell_type": "code",
      "metadata": {
        "colab": {
          "base_uri": "https://localhost:8080/"
        },
        "id": "4kvn5__fxHUH",
        "outputId": "601ad613-fef3-47f3-fad7-b4c1babbb94c"
      },
      "source": [
        "# tune CountVectorizer to increase the AUC\r\n",
        "vect = CountVectorizer(stop_words='english', max_df=0.3, min_df=4)\r\n",
        "tokenize_test(vect)\r\n"
      ],
      "execution_count": 31,
      "outputs": [
        {
          "output_type": "stream",
          "text": [
            "Features: 1732\n",
            "AUC: 0.8621522810364012\n"
          ],
          "name": "stdout"
        }
      ]
    }
  ]
}